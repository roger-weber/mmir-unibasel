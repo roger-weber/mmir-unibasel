{
 "cells": [
  {
   "cell_type": "code",
   "execution_count": 1,
   "metadata": {},
   "outputs": [],
   "source": [
    "%load_ext autoreload\n",
    "%autoreload 2"
   ]
  },
  {
   "cell_type": "markdown",
   "metadata": {},
   "source": [
    "# Get a book"
   ]
  },
  {
   "cell_type": "code",
   "execution_count": 2,
   "metadata": {},
   "outputs": [
    {
     "data": {
      "application/vnd.jupyter.widget-view+json": {
       "model_id": "9ad639dae0f14662a887f5ce3139265d",
       "version_major": 2,
       "version_minor": 0
      },
      "text/plain": [
       "Dropdown(description='books', options=(('A Study in Scarlet (en)', 244), ('Pride and Prejudice (en)', 1342), (…"
      ]
     },
     "metadata": {},
     "output_type": "display_data"
    }
   ],
   "source": [
    "import ipywidgets as widgets\n",
    "opt_books = widgets.Dropdown(description='books', options=[\n",
    "    ('A Study in Scarlet (en)', 244), \n",
    "    ('Pride and Prejudice (en)', 1342),\n",
    "    ('Les Misérables (en)', 135),\n",
    "    ('Buddenbrooks: Verfall einer Familie (de)', 34811),\n",
    "    ('Les trois mousquetaires (fr)', 13951),\n",
    "    ('Bajki (pl)', 27729),\n",
    "    ('Buddah (zn)', 23585)\n",
    "])\n",
    "display(opt_books);"
   ]
  },
  {
   "cell_type": "code",
   "execution_count": 3,
   "metadata": {},
   "outputs": [],
   "source": [
    "import pandas as pd\n",
    "import matplotlib.pyplot as plt\n",
    "import seaborn as sns\n",
    "from pandas import DataFrame\n",
    "from utils.gutenberg import get_book\n",
    "\n",
    "book = get_book(opt_books.value)"
   ]
  },
  {
   "cell_type": "markdown",
   "metadata": {},
   "source": [
    "# Split text into smaller parts"
   ]
  },
  {
   "cell_type": "markdown",
   "metadata": {},
   "source": [
    "For longer text documents, like those found in Project Gutenberg, it's not practical to use them in their entirety for retrieval and training large language models. Therefore, it's essential to divide them into smaller pieces. However, this process should strike a balance between the size (number of tokens) and the semantic coherence of these smaller segments. Smaller splits can result in numerous fragmented but semantically related pieces, while larger splits may obscure the document's semantics. Achieving the right balance is crucial for effective document processing and understanding."
   ]
  },
  {
   "cell_type": "markdown",
   "metadata": {},
   "source": [
    "## Splitting along words"
   ]
  },
  {
   "cell_type": "code",
   "execution_count": 9,
   "metadata": {},
   "outputs": [],
   "source": [
    "from langchain.schema.document import Document\n",
    "from langchain.text_splitter import (\n",
    "    TextSplitter, CharacterTextSplitter, RecursiveCharacterTextSplitter, NLTKTextSplitter, SpacyTextSplitter,\n",
    "    Language\n",
    ")\n",
    "\n",
    "# turn off warnings\n",
    "import logging\n",
    "logging.getLogger().setLevel(logging.ERROR)\n",
    "\n",
    "import warnings\n",
    "warnings.filterwarnings(\"ignore\")\n",
    "\n",
    "# split and print results\n",
    "def split_and_print(book: Document, splitter: TextSplitter, print_parts: list[int] = None):\n",
    "    parts = splitter.split_text(book.page_content)\n",
    "    print(f'document length: {len(book.page_content)}')\n",
    "    print(f' document parts: {len(parts)}')\n",
    "    print(f'   sum of parts: {sum([len(part) for part in parts])}')\n",
    "    print(f' parts overhead: {sum([len(part) for part in parts]) / len(book.page_content)}')\n",
    "    print(f'avg part length: {sum([len(part) for part in parts]) / len(parts)}\\n')\n",
    "    df = DataFrame([len(p) for p in parts], columns = ['length'])\n",
    "    sns.displot(df, x='length', bins=50, height=3, aspect=2)\n",
    "    plt.show()\n",
    "    print(f'first 10 parts:')\n",
    "\n",
    "    for part in parts[:10]:\n",
    "        print(repr(part))\n",
    "    for part in (print_parts or []):\n",
    "        print(f'\\n\\npart {part}:\\n{parts[part]}')"
   ]
  },
  {
   "cell_type": "code",
   "execution_count": 10,
   "metadata": {},
   "outputs": [
    {
     "name": "stdout",
     "output_type": "stream",
     "text": [
      "document length: 239369\n",
      " document parts: 299\n",
      "   sum of parts: 297818\n",
      " parts overhead: 1.2441794885720374\n",
      "avg part length: 996.0468227424749\n",
      "\n"
     ]
    },
    {
     "data": {
      "image/png": "[encoded data removed]",
      "text/plain": [
       "<Figure size 600x300 with 1 Axes>"
      ]
     },
     "metadata": {},
     "output_type": "display_data"
    },
    {
     "name": "stdout",
     "output_type": "stream",
     "text": [
      "first 10 parts:\n",
      "'A STUDY IN SCARLET\\n\\nBy A. Conan Doyle\\n\\n\\n\\n\\nCONTENTS\\n\\nA STUDY IN SCARLET.\\n\\nPART I.\\nCHAPTER I. MR. SHERLOCK HOLMES.\\nCHAPTER II. THE SCIENCE OF DEDUCTION.\\nCHAPTER III. THE LAURISTON GARDENS MYSTERY\\nCHAPTER IV. WHAT JOHN RANCE HAD TO TELL.\\nCHAPTER V. OUR ADVERTISEMENT BRINGS A VISITOR.\\nCHAPTER VI. TOBIAS GREGSON SHOWS WHAT HE CAN DO.\\nCHAPTER VII. LIGHT IN THE DARKNESS.\\n\\nPART II. THE COUNTRY OF THE SAINTS\\nCHAPTER I. ON THE GREAT ALKALI PLAIN.\\nCHAPTER II. THE FLOWER OF UTAH.\\nCHAPTER III. JOHN FERRIER TALKS WITH THE PROPHET.\\nCHAPTER IV. A FLIGHT FOR LIFE.\\nCHAPTER V. THE AVENGING ANGELS.\\nCHAPTER VI. A CONTINUATION OF THE REMINISCENCES OF JOHN WATSON, M.D.\\nCHAPTER VII. THE CONCLUSION.\\n\\n\\n\\n\\nA STUDY IN SCARLET.\\n\\n\\n\\n\\nPART I.\\n\\n\\n(_Being a reprint from the Reminiscences of_ JOHN H. WATSON, M.D.,\\n_Late of the Army Medical Department._)\\n\\n\\n\\n\\nCHAPTER I.\\nMR. SHERLOCK HOLMES.\\n\\n\\nIn the year 1878 I took my degree of Doctor of Medicine of the\\nUniversity of London, and proceeded to Netley to go through the'\n",
      "'of the Army Medical Department._)\\n\\n\\n\\n\\nCHAPTER I.\\nMR. SHERLOCK HOLMES.\\n\\n\\nIn the year 1878 I took my degree of Doctor of Medicine of the\\nUniversity of London, and proceeded to Netley to go through the course\\nprescribed for surgeons in the army. Having completed my studies there,\\nI was duly attached to the Fifth Northumberland Fusiliers as Assistant\\nSurgeon. The regiment was stationed in India at the time, and before I\\ncould join it, the second Afghan war had broken out. On landing at\\nBombay, I learned that my corps had advanced through the passes, and\\nwas already deep in the enemy’s country. I followed, however, with many\\nother officers who were in the same situation as myself, and succeeded\\nin reaching Candahar in safety, where I found my regiment, and at once\\nentered upon my new duties.\\n\\nThe campaign brought honours and promotion to many, but for me it had\\nnothing but misfortune and disaster. I was removed from my brigade and\\nattached to the Berkshires, with whom I served at the fatal'\n",
      "'campaign brought honours and promotion to many, but for me it had\\nnothing but misfortune and disaster. I was removed from my brigade and\\nattached to the Berkshires, with whom I served at the fatal battle of\\nMaiwand. There I was struck on the shoulder by a Jezail bullet, which\\nshattered the bone and grazed the subclavian artery. I should have\\nfallen into the hands of the murderous Ghazis had it not been for the\\ndevotion and courage shown by Murray, my orderly, who threw me across a\\npack-horse, and succeeded in bringing me safely to the British lines.\\n\\nWorn with pain, and weak from the prolonged hardships which I had\\nundergone, I was removed, with a great train of wounded sufferers, to\\nthe base hospital at Peshawar. Here I rallied, and had already improved\\nso far as to be able to walk about the wards, and even to bask a little\\nupon the verandah, when I was struck down by enteric fever, that curse\\nof our Indian possessions. For months my life was despaired of, and\\nwhen at last I came to'\n",
      "'the wards, and even to bask a little\\nupon the verandah, when I was struck down by enteric fever, that curse\\nof our Indian possessions. For months my life was despaired of, and\\nwhen at last I came to myself and became convalescent, I was so weak\\nand emaciated that a medical board determined that not a day should be\\nlost in sending me back to England. I was dispatched, accordingly, in\\nthe troopship “Orontes,” and landed a month later on Portsmouth jetty,\\nwith my health irretrievably ruined, but with permission from a\\npaternal government to spend the next nine months in attempting to\\nimprove it.\\n\\nI had neither kith nor kin in England, and was therefore as free as\\nair—or as free as an income of eleven shillings and sixpence a day will\\npermit a man to be. Under such circumstances, I naturally gravitated to\\nLondon, that great cesspool into which all the loungers and idlers of\\nthe Empire are irresistibly drained. There I stayed for some time at a\\nprivate hotel in the Strand, leading a'\n",
      "'gravitated to\\nLondon, that great cesspool into which all the loungers and idlers of\\nthe Empire are irresistibly drained. There I stayed for some time at a\\nprivate hotel in the Strand, leading a comfortless, meaningless\\nexistence, and spending such money as I had, considerably more freely\\nthan I ought. So alarming did the state of my finances become, that I\\nsoon realized that I must either leave the metropolis and rusticate\\nsomewhere in the country, or that I must make a complete alteration in\\nmy style of living. Choosing the latter alternative, I began by making\\nup my mind to leave the hotel, and to take up my quarters in some less\\npretentious and less expensive domicile.\\n\\nOn the very day that I had come to this conclusion, I was standing at\\nthe Criterion Bar, when some one tapped me on the shoulder, and turning\\nround I recognized young Stamford, who had been a dresser under me at\\nBarts. The sight of a friendly face in the great wilderness of London\\nis a pleasant thing indeed to a'\n",
      "'on the shoulder, and turning\\nround I recognized young Stamford, who had been a dresser under me at\\nBarts. The sight of a friendly face in the great wilderness of London\\nis a pleasant thing indeed to a lonely man. In old days Stamford had\\nnever been a particular crony of mine, but now I hailed him with\\nenthusiasm, and he, in his turn, appeared to be delighted to see me. In\\nthe exuberance of my joy, I asked him to lunch with me at the Holborn,\\nand we started off together in a hansom.\\n\\n“Whatever have you been doing with yourself, Watson?” he asked in\\nundisguised wonder, as we rattled through the crowded London streets.\\n“You are as thin as a lath and as brown as a nut.”\\n\\nI gave him a short sketch of my adventures, and had hardly concluded it\\nby the time that we reached our destination.\\n\\n“Poor devil!” he said, commiseratingly, after he had listened to my\\nmisfortunes. “What are you up to now?”\\n\\n“Looking for lodgings,” I answered. “Trying to solve the problem as to\\nwhether it is possible to'\n",
      "'devil!” he said, commiseratingly, after he had listened to my\\nmisfortunes. “What are you up to now?”\\n\\n“Looking for lodgings,” I answered. “Trying to solve the problem as to\\nwhether it is possible to get comfortable rooms at a reasonable price.”\\n\\n“That’s a strange thing,” remarked my companion; “you are the second\\nman to-day that has used that expression to me.”\\n\\n“And who was the first?” I asked.\\n\\n“A fellow who is working at the chemical laboratory up at the hospital.\\nHe was bemoaning himself this morning because he could not get someone\\nto go halves with him in some nice rooms which he had found, and which\\nwere too much for his purse.”\\n\\n“By Jove!” I cried, “if he really wants someone to share the rooms and\\nthe expense, I am the very man for him. I should prefer having a\\npartner to being alone.”\\n\\nYoung Stamford looked rather strangely at me over his wine-glass. “You\\ndon’t know Sherlock Holmes yet,” he said; “perhaps you would not care\\nfor him as a constant companion.”\\n\\n“Why, what is'\n",
      "'alone.”\\n\\nYoung Stamford looked rather strangely at me over his wine-glass. “You\\ndon’t know Sherlock Holmes yet,” he said; “perhaps you would not care\\nfor him as a constant companion.”\\n\\n“Why, what is there against him?”\\n\\n“Oh, I didn’t say there was anything against him. He is a little queer\\nin his ideas—an enthusiast in some branches of science. As far as I\\nknow he is a decent fellow enough.”\\n\\n“A medical student, I suppose?” said I.\\n\\n“No—I have no idea what he intends to go in for. I believe he is well\\nup in anatomy, and he is a first-class chemist; but, as far as I know,\\nhe has never taken out any systematic medical classes. His studies are\\nvery desultory and eccentric, but he has amassed a lot of out-of-the\\nway knowledge which would astonish his professors.”\\n\\n“Did you never ask him what he was going in for?” I asked.\\n\\n“No; he is not a man that it is easy to draw out, though he can be\\ncommunicative enough when the fancy seizes him.”\\n\\n“I should like to meet him,” I said. “If I am to'\n",
      "'he was going in for?” I asked.\\n\\n“No; he is not a man that it is easy to draw out, though he can be\\ncommunicative enough when the fancy seizes him.”\\n\\n“I should like to meet him,” I said. “If I am to lodge with anyone, I\\nshould prefer a man of studious and quiet habits. I am not strong\\nenough yet to stand much noise or excitement. I had enough of both in\\nAfghanistan to last me for the remainder of my natural existence. How\\ncould I meet this friend of yours?”\\n\\n“He is sure to be at the laboratory,” returned my companion. “He either\\navoids the place for weeks, or else he works there from morning to\\nnight. If you like, we shall drive round together after luncheon.”\\n\\n“Certainly,” I answered, and the conversation drifted away into other\\nchannels.\\n\\nAs we made our way to the hospital after leaving the Holborn, Stamford\\ngave me a few more particulars about the gentleman whom I proposed to\\ntake as a fellow-lodger.\\n\\n“You mustn’t blame me if you don’t get on with him,” he said; “I know\\nnothing more'\n",
      "'the Holborn, Stamford\\ngave me a few more particulars about the gentleman whom I proposed to\\ntake as a fellow-lodger.\\n\\n“You mustn’t blame me if you don’t get on with him,” he said; “I know\\nnothing more of him than I have learned from meeting him occasionally\\nin the laboratory. You proposed this arrangement, so you must not hold\\nme responsible.”\\n\\n“If we don’t get on it will be easy to part company,” I answered. “It\\nseems to me, Stamford,” I added, looking hard at my companion, “that\\nyou have some reason for washing your hands of the matter. Is this\\nfellow’s temper so formidable, or what is it? Don’t be mealy-mouthed\\nabout it.”\\n\\n“It is not easy to express the inexpressible,” he answered with a\\nlaugh. “Holmes is a little too scientific for my tastes—it approaches\\nto cold-bloodedness. I could imagine his giving a friend a little pinch\\nof the latest vegetable alkaloid, not out of malevolence, you\\nunderstand, but simply out of a spirit of inquiry in order to have an\\naccurate idea of the'\n",
      "\n",
      "\n",
      "part 5:\n",
      "on the shoulder, and turning\n",
      "round I recognized young Stamford, who had been a dresser under me at\n",
      "Barts. The sight of a friendly face in the great wilderness of London\n",
      "is a pleasant thing indeed to a lonely man. In old days Stamford had\n",
      "never been a particular crony of mine, but now I hailed him with\n",
      "enthusiasm, and he, in his turn, appeared to be delighted to see me. In\n",
      "the exuberance of my joy, I asked him to lunch with me at the Holborn,\n",
      "and we started off together in a hansom.\n",
      "\n",
      "“Whatever have you been doing with yourself, Watson?” he asked in\n",
      "undisguised wonder, as we rattled through the crowded London streets.\n",
      "“You are as thin as a lath and as brown as a nut.”\n",
      "\n",
      "I gave him a short sketch of my adventures, and had hardly concluded it\n",
      "by the time that we reached our destination.\n",
      "\n",
      "“Poor devil!” he said, commiseratingly, after he had listened to my\n",
      "misfortunes. “What are you up to now?”\n",
      "\n",
      "“Looking for lodgings,” I answered. “Trying to solve the problem as to\n",
      "whether it is possible to\n",
      "\n",
      "\n",
      "part 6:\n",
      "devil!” he said, commiseratingly, after he had listened to my\n",
      "misfortunes. “What are you up to now?”\n",
      "\n",
      "“Looking for lodgings,” I answered. “Trying to solve the problem as to\n",
      "whether it is possible to get comfortable rooms at a reasonable price.”\n",
      "\n",
      "“That’s a strange thing,” remarked my companion; “you are the second\n",
      "man to-day that has used that expression to me.”\n",
      "\n",
      "“And who was the first?” I asked.\n",
      "\n",
      "“A fellow who is working at the chemical laboratory up at the hospital.\n",
      "He was bemoaning himself this morning because he could not get someone\n",
      "to go halves with him in some nice rooms which he had found, and which\n",
      "were too much for his purse.”\n",
      "\n",
      "“By Jove!” I cried, “if he really wants someone to share the rooms and\n",
      "the expense, I am the very man for him. I should prefer having a\n",
      "partner to being alone.”\n",
      "\n",
      "Young Stamford looked rather strangely at me over his wine-glass. “You\n",
      "don’t know Sherlock Holmes yet,” he said; “perhaps you would not care\n",
      "for him as a constant companion.”\n",
      "\n",
      "“Why, what is\n"
     ]
    }
   ],
   "source": [
    "text_splitter = CharacterTextSplitter(        \n",
    "    separator = \" \",\n",
    "    chunk_size = 1000,\n",
    "    chunk_overlap  = 200,\n",
    "    add_start_index = True\n",
    ")\n",
    "\n",
    "split_and_print(book, text_splitter, [5,6])"
   ]
  },
  {
   "cell_type": "markdown",
   "metadata": {},
   "source": [
    "## Splitting along sentences"
   ]
  },
  {
   "cell_type": "code",
   "execution_count": 12,
   "metadata": {},
   "outputs": [
    {
     "name": "stdout",
     "output_type": "stream",
     "text": [
      "He always apologized to me for putting me to this inconvenience.\n",
      "---\n",
      "“I have to use this room as a place of business,” he said, “and these people are my clients”.\n",
      "---\n",
      "Again I had an opportunity of asking him a point blank question, and again my delicacy prevented me from forcing another man to confide in me.\n",
      "---\n",
      "Dr. Watson will help you.\n",
      "---\n",
      "We go to the U.S.A., i.e., not to Italy; Mrs. Hussey is there!\n",
      "---\n",
      "\"A clam for supper?\n",
      "---\n",
      "a cold clam; is THAT what you mean, Mrs.\n",
      "---\n",
      "Hussey?\"\n",
      "---\n",
      "says I, \"but that's a rather cold and clammy reception in the winter time, ain't it, Mrs.\n",
      "---\n",
      "Hussey?\"\n",
      "---\n",
      "In old days Stamford had\n",
      "never been a particular crony of mine, but now I hailed him with\n",
      "enthusiasm, and he, in his turn, appeared to be delighted to see me.\n",
      "---\n",
      "In\n",
      "the exuberance of my joy, I asked him to lunch with me at the Holborn,\n",
      "and we started off together in a hansom.\n",
      "---\n",
      "“Whatever have you been doing with yourself, Watson?” he asked in\n",
      "undisguised wonder, as we rattled through the crowded London streets.\n",
      "---\n",
      "“You are as thin as a lath and as brown as a nut.”\n",
      "\n",
      "I gave him a short sketch of my adventures, and had hardly concluded it\n",
      "by the time that we reached our destination.\n",
      "---\n",
      "“Poor devil!” he said, commiseratingly, after he had listened to my\n",
      "misfortunes.\n",
      "---\n",
      "“What are you up to now?”\n",
      "\n",
      "“Looking for lodgings,” I answered.\n",
      "---\n",
      "“Trying to solve the problem as to\n",
      "whether it is possible to get comfo\n",
      "---\n"
     ]
    }
   ],
   "source": [
    "import nltk\n",
    "\n",
    "texts = [\n",
    "    \"He always apologized to me for putting me to this inconvenience. “I have to use this room as a place of business,” he said, “and these people are my clients”. Again I had an opportunity of asking him a point blank question, and again my delicacy prevented me from forcing another man to confide in me.\",\n",
    "    \"Dr. Watson will help you. We go to the U.S.A., i.e., not to Italy; Mrs. Hussey is there!\",\n",
    "    '''\"A clam for supper? a cold clam; is THAT what you mean, Mrs. Hussey?\" says I, \"but that's a rather cold and clammy reception in the winter time, ain't it, Mrs. Hussey?\"''',\n",
    "    book.page_content[4205:5000]\n",
    "]\n",
    "\n",
    "for text in texts:\n",
    "    for sent in nltk.sent_tokenize(text):\n",
    "        print(f'{sent.strip()}\\n---')\n"
   ]
  },
  {
   "cell_type": "code",
   "execution_count": null,
   "metadata": {},
   "outputs": [],
   "source": [
    "!python -m spacy download en_core_web_sm"
   ]
  },
  {
   "cell_type": "code",
   "execution_count": 26,
   "metadata": {},
   "outputs": [
    {
     "name": "stdout",
     "output_type": "stream",
     "text": [
      "He always apologized to me for putting me to this inconvenience.\n",
      "---\n",
      "“I have to use this room as a place of business,” he said, “and these people are my clients”.\n",
      "---\n",
      "Again I had an opportunity of asking him a point blank question, and again my delicacy prevented me from forcing another man to confide in me.\n",
      "---\n",
      "Dr. Watson will help you.\n",
      "---\n",
      "We go to the U.S.A., i.e., not to Italy; Mrs. Hussey is there!\n",
      "---\n",
      "\"A clam for supper?\n",
      "---\n",
      "a cold clam; is THAT what you mean, Mrs. Hussey?\" says I, \"but that's a rather cold and clammy reception in the winter time, ain't it, Mrs. Hussey?\"\n",
      "---\n",
      "i do not like upper case.\n",
      "---\n",
      "so i write stuff l.o.w.e.r.\n",
      "---\n",
      "case.\n",
      "---\n",
      "it can be a problem, but not for punkt.\n",
      "---\n",
      "like it.\n",
      "---\n",
      "windows is c.l.e.a.n.\n",
      "---\n",
      "In old days Stamford had\n",
      "never been a particular crony of mine, but now I hailed him with\n",
      "enthusiasm, and he, in his turn, appeared to be delighted to see me.\n",
      "---\n",
      "In\n",
      "the exuberance of my joy, I asked him to lunch with me at the Holborn,\n",
      "and we started off together in a hansom.\n",
      "---\n",
      "“Whatever have you been doing with yourself, Watson?”\n",
      "---\n",
      "he asked in\n",
      "undisguised wonder, as we rattled through the crowded London streets.\n",
      "---\n",
      "“You are as thin as a lath and as brown as a nut.”\n",
      "---\n",
      "I gave him a short sketch of my adventures, and had hardly concluded it\n",
      "by the time that we reached our destination.\n",
      "---\n",
      "“Poor devil!”\n",
      "---\n",
      "he said, commiseratingly, after he had listened to my\n",
      "misfortunes.\n",
      "---\n",
      "“What are you up to now?”\n",
      "\n",
      "“Looking for lodgings,” I answered.\n",
      "---\n",
      "“Trying to solve the problem as to\n",
      "whether it is possible to get comfo\n",
      "---\n"
     ]
    }
   ],
   "source": [
    "import spacy\n",
    "\n",
    "spacy.prefer_gpu()\n",
    "nlp = spacy.load(\"en_core_web_sm\")\n",
    "\n",
    "texts = [\n",
    "    \"He always apologized to me for putting me to this inconvenience. “I have to use this room as a place of business,” he said, “and these people are my clients”. Again I had an opportunity of asking him a point blank question, and again my delicacy prevented me from forcing another man to confide in me.\",\n",
    "    \"Dr. Watson will help you. We go to the U.S.A., i.e., not to Italy; Mrs. Hussey is there!\",\n",
    "    '''\"A clam for supper? a cold clam; is THAT what you mean, Mrs. Hussey?\" says I, \"but that's a rather cold and clammy reception in the winter time, ain't it, Mrs. Hussey?\"''',\n",
    "    'i do not like upper case. so i write stuff l.o.w.e.r. case. it can be a problem, but not for punkt. like it. windows is c.l.e.a.n.',\n",
    "    book.page_content[4205:5000]\n",
    "]\n",
    "\n",
    "for text in texts:\n",
    "    for sent in nlp(text).sents:\n",
    "        print(f'{str(sent).strip()}\\n---')"
   ]
  },
  {
   "cell_type": "code",
   "execution_count": 13,
   "metadata": {},
   "outputs": [
    {
     "name": "stdout",
     "output_type": "stream",
     "text": [
      "document length: 239369\n",
      " document parts: 300\n",
      "   sum of parts: 278973\n",
      " parts overhead: 1.1654516666736294\n",
      "avg part length: 929.91\n",
      "\n"
     ]
    },
    {
     "data": {
      "image/png": "[encoded data removed]",
      "text/plain": [
       "<Figure size 600x300 with 1 Axes>"
      ]
     },
     "metadata": {},
     "output_type": "display_data"
    },
    {
     "name": "stdout",
     "output_type": "stream",
     "text": [
      "first 10 parts:\n",
      "'A STUDY IN SCARLET\\n\\nBy A. Conan Doyle\\n\\n\\n\\n\\nCONTENTS\\n\\nA STUDY IN SCARLET.\\n\\nPART I.\\n\\nCHAPTER I. MR. SHERLOCK HOLMES.\\n\\nCHAPTER II.\\n\\nTHE SCIENCE OF DEDUCTION.\\n\\nCHAPTER III.\\n\\nTHE LAURISTON GARDENS MYSTERY\\nCHAPTER IV.\\n\\nWHAT JOHN RANCE HAD TO TELL.\\n\\nCHAPTER V. OUR ADVERTISEMENT BRINGS A VISITOR.\\n\\nCHAPTER VI.\\n\\nTOBIAS GREGSON SHOWS WHAT HE CAN DO.\\n\\nCHAPTER VII.\\n\\nLIGHT IN THE DARKNESS.\\n\\nPART II.\\n\\nTHE COUNTRY OF THE SAINTS\\nCHAPTER I.\\n\\nON THE GREAT ALKALI PLAIN.\\n\\nCHAPTER II.\\n\\nTHE FLOWER OF UTAH.\\n\\nCHAPTER III.\\n\\nJOHN FERRIER TALKS WITH THE PROPHET.\\n\\nCHAPTER IV.\\n\\nA FLIGHT FOR LIFE.\\n\\nCHAPTER V. THE AVENGING ANGELS.\\n\\nCHAPTER VI.\\n\\nA CONTINUATION OF THE REMINISCENCES OF JOHN WATSON, M.D.\\n\\nCHAPTER VII.\\n\\nTHE CONCLUSION.\\n\\nA STUDY IN SCARLET.\\n\\nPART I.\\n\\n(_Being a reprint from the Reminiscences of_ JOHN H. WATSON, M.D.,\\n_Late of the Army Medical Department._)\\n\\n\\n\\n\\nCHAPTER I.\\nMR. SHERLOCK HOLMES.'\n",
      "'THE CONCLUSION.\\n\\nA STUDY IN SCARLET.\\n\\nPART I.\\n\\n(_Being a reprint from the Reminiscences of_ JOHN H. WATSON, M.D.,\\n_Late of the Army Medical Department._)\\n\\n\\n\\n\\nCHAPTER I.\\nMR. SHERLOCK HOLMES.\\n\\nIn the year 1878 I took my degree of Doctor of Medicine of the\\nUniversity of London, and proceeded to Netley to go through the course\\nprescribed for surgeons in the army.\\n\\nHaving completed my studies there,\\nI was duly attached to the Fifth Northumberland Fusiliers as Assistant\\nSurgeon.\\n\\nThe regiment was stationed in India at the time, and before I\\ncould join it, the second Afghan war had broken out.\\n\\nOn landing at\\nBombay, I learned that my corps had advanced through the passes, and\\nwas already deep in the enemy’s country.\\n\\nI followed, however, with many\\nother officers who were in the same situation as myself, and succeeded\\nin reaching Candahar in safety, where I found my regiment, and at once\\nentered upon my new duties.'\n",
      "'I followed, however, with many\\nother officers who were in the same situation as myself, and succeeded\\nin reaching Candahar in safety, where I found my regiment, and at once\\nentered upon my new duties.\\n\\nThe campaign brought honours and promotion to many, but for me it had\\nnothing but misfortune and disaster.\\n\\nI was removed from my brigade and\\nattached to the Berkshires, with whom I served at the fatal battle of\\nMaiwand.\\n\\nThere I was struck on the shoulder by a Jezail bullet, which\\nshattered the bone and grazed the subclavian artery.\\n\\nI should have\\nfallen into the hands of the murderous Ghazis had it not been for the\\ndevotion and courage shown by Murray, my orderly, who threw me across a\\npack-horse, and succeeded in bringing me safely to the British lines.\\n\\nWorn with pain, and weak from the prolonged hardships which I had\\nundergone, I was removed, with a great train of wounded sufferers, to\\nthe base hospital at Peshawar.'\n",
      "'Worn with pain, and weak from the prolonged hardships which I had\\nundergone, I was removed, with a great train of wounded sufferers, to\\nthe base hospital at Peshawar.\\n\\nHere I rallied, and had already improved\\nso far as to be able to walk about the wards, and even to bask a little\\nupon the verandah, when I was struck down by enteric fever, that curse\\nof our Indian possessions.\\n\\nFor months my life was despaired of, and\\nwhen at last I came to myself and became convalescent, I was so weak\\nand emaciated that a medical board determined that not a day should be\\nlost in sending me back to England.\\n\\nI was dispatched, accordingly, in\\nthe troopship “Orontes,” and landed a month later on Portsmouth jetty,\\nwith my health irretrievably ruined, but with permission from a\\npaternal government to spend the next nine months in attempting to\\nimprove it.'\n",
      "'I had neither kith nor kin in England, and was therefore as free as\\nair—or as free as an income of eleven shillings and sixpence a day will\\npermit a man to be.\\n\\nUnder such circumstances, I naturally gravitated to\\nLondon, that great cesspool into which all the loungers and idlers of\\nthe Empire are irresistibly drained.\\n\\nThere I stayed for some time at a\\nprivate hotel in the Strand, leading a comfortless, meaningless\\nexistence, and spending such money as I had, considerably more freely\\nthan I ought.\\n\\nSo alarming did the state of my finances become, that I\\nsoon realized that I must either leave the metropolis and rusticate\\nsomewhere in the country, or that I must make a complete alteration in\\nmy style of living.\\n\\nChoosing the latter alternative, I began by making\\nup my mind to leave the hotel, and to take up my quarters in some less\\npretentious and less expensive domicile.'\n",
      "'Choosing the latter alternative, I began by making\\nup my mind to leave the hotel, and to take up my quarters in some less\\npretentious and less expensive domicile.\\n\\nOn the very day that I had come to this conclusion, I was standing at\\nthe Criterion Bar, when some one tapped me on the shoulder, and turning\\nround I recognized young Stamford, who had been a dresser under me at\\nBarts.\\n\\nThe sight of a friendly face in the great wilderness of London\\nis a pleasant thing indeed to a lonely man.\\n\\nIn old days Stamford had\\nnever been a particular crony of mine, but now I hailed him with\\nenthusiasm, and he, in his turn, appeared to be delighted to see me.\\n\\nIn\\nthe exuberance of my joy, I asked him to lunch with me at the Holborn,\\nand we started off together in a hansom.\\n\\n“Whatever have you been doing with yourself, Watson?” he asked in\\nundisguised wonder, as we rattled through the crowded London streets.'\n",
      "'“Whatever have you been doing with yourself, Watson?” he asked in\\nundisguised wonder, as we rattled through the crowded London streets.\\n\\n“You are as thin as a lath and as brown as a nut.”\\n\\nI gave him a short sketch of my adventures, and had hardly concluded it\\nby the time that we reached our destination.\\n\\n“Poor devil!” he said, commiseratingly, after he had listened to my\\nmisfortunes.\\n\\n“What are you up to now?”\\n\\n“Looking for lodgings,” I answered.\\n\\n“Trying to solve the problem as to\\nwhether it is possible to get comfortable rooms at a reasonable price.”\\n\\n“That’s a strange thing,” remarked my companion; “you are the second\\nman to-day that has used that expression to me.”\\n\\n“And who was the first?” I asked.\\n\\n“A fellow who is working at the chemical laboratory up at the hospital.'\n",
      "'“A fellow who is working at the chemical laboratory up at the hospital.\\n\\nHe was bemoaning himself this morning because he could not get someone\\nto go halves with him in some nice rooms which he had found, and which\\nwere too much for his purse.”\\n\\n“By Jove!” I cried, “if he really wants someone to share the rooms and\\nthe expense, I am the very man for him.\\n\\nI should prefer having a\\npartner to being alone.”\\n\\nYoung Stamford looked rather strangely at me over his wine-glass.\\n\\n“You\\ndon’t know Sherlock Holmes yet,” he said; “perhaps you would not care\\nfor him as a constant companion.”\\n\\n“Why, what is there against him?”\\n\\n“Oh, I didn’t say there was anything against him.\\n\\nHe is a little queer\\nin his ideas—an enthusiast in some branches of science.\\n\\nAs far as I\\nknow he is a decent fellow enough.”\\n\\n“A medical student, I suppose?” said I.\\n\\n“No—I have no idea what he intends to go in for.'\n",
      "'As far as I\\nknow he is a decent fellow enough.”\\n\\n“A medical student, I suppose?” said I.\\n\\n“No—I have no idea what he intends to go in for.\\n\\nI believe he is well\\nup in anatomy, and he is a first-class chemist; but, as far as I know,\\nhe has never taken out any systematic medical classes.\\n\\nHis studies are\\nvery desultory and eccentric, but he has amassed a lot of out-of-the\\nway knowledge which would astonish his professors.”\\n\\n“Did you never ask him what he was going in for?” I asked.\\n\\n“No; he is not a man that it is easy to draw out, though he can be\\ncommunicative enough when the fancy seizes him.”\\n\\n“I should like to meet him,” I said.\\n\\n“If I am to lodge with anyone, I\\nshould prefer a man of studious and quiet habits.\\n\\nI am not strong\\nenough yet to stand much noise or excitement.\\n\\nI had enough of both in\\nAfghanistan to last me for the remainder of my natural existence.\\n\\nHow\\ncould I meet this friend of yours?”\\n\\n“He is sure to be at the laboratory,” returned my companion.'\n",
      "'I had enough of both in\\nAfghanistan to last me for the remainder of my natural existence.\\n\\nHow\\ncould I meet this friend of yours?”\\n\\n“He is sure to be at the laboratory,” returned my companion.\\n\\n“He either\\navoids the place for weeks, or else he works there from morning to\\nnight.\\n\\nIf you like, we shall drive round together after luncheon.”\\n\\n“Certainly,” I answered, and the conversation drifted away into other\\nchannels.\\n\\nAs we made our way to the hospital after leaving the Holborn, Stamford\\ngave me a few more particulars about the gentleman whom I proposed to\\ntake as a fellow-lodger.\\n\\n“You mustn’t blame me if you don’t get on with him,” he said; “I know\\nnothing more of him than I have learned from meeting him occasionally\\nin the laboratory.\\n\\nYou proposed this arrangement, so you must not hold\\nme responsible.”\\n\\n“If we don’t get on it will be easy to part company,” I answered.'\n",
      "\n",
      "\n",
      "part 4:\n",
      "I had neither kith nor kin in England, and was therefore as free as\n",
      "air—or as free as an income of eleven shillings and sixpence a day will\n",
      "permit a man to be.\n",
      "\n",
      "Under such circumstances, I naturally gravitated to\n",
      "London, that great cesspool into which all the loungers and idlers of\n",
      "the Empire are irresistibly drained.\n",
      "\n",
      "There I stayed for some time at a\n",
      "private hotel in the Strand, leading a comfortless, meaningless\n",
      "existence, and spending such money as I had, considerably more freely\n",
      "than I ought.\n",
      "\n",
      "So alarming did the state of my finances become, that I\n",
      "soon realized that I must either leave the metropolis and rusticate\n",
      "somewhere in the country, or that I must make a complete alteration in\n",
      "my style of living.\n",
      "\n",
      "Choosing the latter alternative, I began by making\n",
      "up my mind to leave the hotel, and to take up my quarters in some less\n",
      "pretentious and less expensive domicile.\n",
      "\n",
      "\n",
      "part 5:\n",
      "Choosing the latter alternative, I began by making\n",
      "up my mind to leave the hotel, and to take up my quarters in some less\n",
      "pretentious and less expensive domicile.\n",
      "\n",
      "On the very day that I had come to this conclusion, I was standing at\n",
      "the Criterion Bar, when some one tapped me on the shoulder, and turning\n",
      "round I recognized young Stamford, who had been a dresser under me at\n",
      "Barts.\n",
      "\n",
      "The sight of a friendly face in the great wilderness of London\n",
      "is a pleasant thing indeed to a lonely man.\n",
      "\n",
      "In old days Stamford had\n",
      "never been a particular crony of mine, but now I hailed him with\n",
      "enthusiasm, and he, in his turn, appeared to be delighted to see me.\n",
      "\n",
      "In\n",
      "the exuberance of my joy, I asked him to lunch with me at the Holborn,\n",
      "and we started off together in a hansom.\n",
      "\n",
      "“Whatever have you been doing with yourself, Watson?” he asked in\n",
      "undisguised wonder, as we rattled through the crowded London streets.\n"
     ]
    }
   ],
   "source": [
    "text_splitter = NLTKTextSplitter(\n",
    "    separator = \"\\n\\n\",\n",
    "    chunk_size = 1000,\n",
    "    chunk_overlap  = 200,\n",
    "    add_start_index = True\n",
    ")\n",
    "\n",
    "split_and_print(book, text_splitter, [4,5])"
   ]
  },
  {
   "cell_type": "code",
   "execution_count": 27,
   "metadata": {},
   "outputs": [
    {
     "name": "stdout",
     "output_type": "stream",
     "text": [
      "document length: 239369\n",
      " document parts: 304\n",
      "   sum of parts: 284234\n",
      " parts overhead: 1.1874302854588523\n",
      "avg part length: 934.9802631578947\n",
      "\n"
     ]
    },
    {
     "data": {
      "image/png": "[encoded data removed]",
      "text/plain": [
       "<Figure size 600x300 with 1 Axes>"
      ]
     },
     "metadata": {},
     "output_type": "display_data"
    },
    {
     "name": "stdout",
     "output_type": "stream",
     "text": [
      "first 10 parts:\n",
      "'A STUDY IN SCARLET\\n\\nBy A. Conan Doyle\\n\\n\\n\\n\\nCONTENTS\\n\\nA STUDY IN SCARLET.\\n\\n\\n\\nPART I.\\nCHAPTER I. MR.\\n\\nSHERLOCK HOLMES.\\n\\n\\nCHAPTER II.\\n\\nTHE SCIENCE OF DEDUCTION.\\n\\n\\nCHAPTER III.\\n\\nTHE LAURISTON GARDENS MYSTERY\\nCHAPTER IV.\\n\\nWHAT JOHN RANCE HAD TO TELL.\\n\\n\\nCHAPTER V. OUR ADVERTISEMENT BRINGS A VISITOR.\\n\\n\\nCHAPTER VI.\\n\\nTOBIAS GREGSON SHOWS WHAT HE CAN DO.\\n\\n\\nCHAPTER VII.\\n\\nLIGHT IN THE DARKNESS.\\n\\n\\n\\nPART II.\\n\\nTHE COUNTRY OF THE SAINTS\\nCHAPTER I. ON THE GREAT ALKALI PLAIN.\\n\\n\\nCHAPTER II.\\n\\nTHE FLOWER OF UTAH.\\n\\n\\nCHAPTER III.\\n\\nJOHN FERRIER TALKS WITH THE PROPHET.\\n\\n\\nCHAPTER IV.\\n\\nA FLIGHT FOR LIFE.\\n\\n\\nCHAPTER V.\\n\\nTHE AVENGING ANGELS.\\n\\n\\nCHAPTER VI.\\n\\nA CONTINUATION OF THE REMINISCENCES OF JOHN WATSON, M.D.\\nCHAPTER VII.\\n\\nTHE CONCLUSION.\\n\\n\\n\\n\\n\\n\\nA STUDY IN SCARLET.\\n\\n\\n\\n\\n\\n\\nPART I.\\n\\n\\n(_Being a reprint from the Reminiscences of_ JOHN H. WATSON, M.D.,\\n_Late of the Army Medical Department._)\\n\\n\\n\\n\\nCHAPTER I.\\nMR.\\n\\nSHERLOCK HOLMES.'\n",
      "'A STUDY IN SCARLET.\\n\\n\\n\\n\\n\\n\\nPART I.\\n\\n\\n(_Being a reprint from the Reminiscences of_ JOHN H. WATSON, M.D.,\\n_Late of the Army Medical Department._)\\n\\n\\n\\n\\nCHAPTER I.\\nMR.\\n\\nSHERLOCK HOLMES.\\n\\n\\n\\n\\nIn the year 1878 I took my degree of Doctor of Medicine of the\\nUniversity of London, and proceeded to Netley to go through the course\\nprescribed for surgeons in the army.\\n\\nHaving completed my studies there,\\nI was duly attached to the Fifth Northumberland Fusiliers as Assistant\\nSurgeon.\\n\\nThe regiment was stationed in India at the time, and before I\\ncould join it, the second Afghan war had broken out.\\n\\nOn landing at\\nBombay, I learned that my corps had advanced through the passes, and\\nwas already deep in the enemy’s country.\\n\\nI followed, however, with many\\nother officers who were in the same situation as myself, and succeeded\\nin reaching Candahar in safety, where I found my regiment, and at once\\nentered upon my new duties.'\n",
      "'The campaign brought honours and promotion to many, but for me it had\\nnothing but misfortune and disaster.\\n\\nI was removed from my brigade and\\nattached to the Berkshires, with whom I served at the fatal battle of\\nMaiwand.\\n\\nThere I was struck on the shoulder by a Jezail bullet, which\\nshattered the bone and grazed the subclavian artery.\\n\\nI should have\\nfallen into the hands of the murderous Ghazis had it not been for the\\ndevotion and courage shown by Murray, my orderly, who threw me across a\\npack-horse, and succeeded in bringing me safely to the British lines.\\n\\n\\n\\nWorn with pain, and weak from the prolonged hardships which I had\\nundergone, I was removed, with a great train of wounded sufferers, to\\nthe base hospital at Peshawar.\\n\\nHere I rallied, and had already improved\\nso far as to be able to walk about the wards, and even to bask a little\\nupon the verandah, when I was struck down by enteric fever, that curse\\nof our Indian possessions.'\n",
      "'For months my life was despaired of, and\\nwhen at last I came to myself and became convalescent, I was so weak\\nand emaciated that a medical board determined that not a day should be\\nlost in sending me back to England.\\n\\nI was dispatched, accordingly, in\\nthe troopship “Orontes,” and landed a month later on Portsmouth jetty,\\nwith my health irretrievably ruined, but with permission from a\\npaternal government to spend the next nine months in attempting to\\nimprove it.\\n\\n\\n\\nI had neither kith nor kin in England, and was therefore as free as\\nair—or as free as an income of eleven shillings and sixpence a day will\\npermit a man to be.\\n\\nUnder such circumstances, I naturally gravitated to\\nLondon, that great cesspool into which all the loungers and idlers of\\nthe Empire are irresistibly drained.\\n\\nThere I stayed for some time at a\\nprivate hotel in the Strand, leading a comfortless, meaningless\\nexistence, and spending such money as I had, considerably more freely\\nthan I ought.'\n",
      "'There I stayed for some time at a\\nprivate hotel in the Strand, leading a comfortless, meaningless\\nexistence, and spending such money as I had, considerably more freely\\nthan I ought.\\n\\nSo alarming did the state of my finances become, that I\\nsoon realized that I must either leave the metropolis and rusticate\\nsomewhere in the country, or that I must make a complete alteration in\\nmy style of living.\\n\\nChoosing the latter alternative, I began by making\\nup my mind to leave the hotel, and to take up my quarters in some less\\npretentious and less expensive domicile.\\n\\n\\n\\nOn the very day that I had come to this conclusion, I was standing at\\nthe Criterion Bar, when some one tapped me on the shoulder, and turning\\nround I recognized young Stamford, who had been a dresser under me at\\nBarts.\\n\\nThe sight of a friendly face in the great wilderness of London\\nis a pleasant thing indeed to a lonely man.'\n",
      "'The sight of a friendly face in the great wilderness of London\\nis a pleasant thing indeed to a lonely man.\\n\\nIn old days Stamford had\\nnever been a particular crony of mine, but now I hailed him with\\nenthusiasm, and he, in his turn, appeared to be delighted to see me.\\n\\nIn\\nthe exuberance of my joy, I asked him to lunch with me at the Holborn,\\nand we started off together in a hansom.\\n\\n\\n\\n“Whatever have you been doing with yourself, Watson?”\\n\\nhe asked in\\nundisguised wonder, as we rattled through the crowded London streets.\\n\\n\\n“You are as thin as a lath and as brown as a nut.”\\n\\n\\n\\nI gave him a short sketch of my adventures, and had hardly concluded it\\nby the time that we reached our destination.\\n\\n\\n\\n“Poor devil!”\\n\\nhe said, commiseratingly, after he had listened to my\\nmisfortunes.\\n\\n“What are you up to now?”\\n\\n“Looking for lodgings,” I answered.'\n",
      "'“Poor devil!”\\n\\nhe said, commiseratingly, after he had listened to my\\nmisfortunes.\\n\\n“What are you up to now?”\\n\\n“Looking for lodgings,” I answered.\\n\\n“Trying to solve the problem as to\\nwhether it is possible to get comfortable rooms at a reasonable price.”\\n\\n“That’s a strange thing,” remarked my companion; “you are the second\\nman to-day that has used that expression to me.”\\n\\n\\n\\n“And who was the first?”\\n\\nI asked.\\n\\n\\n\\n“A fellow who is working at the chemical laboratory up at the hospital.\\n\\n\\nHe was bemoaning himself this morning because he could not get someone\\nto go halves with him in some nice rooms which he had found, and which\\nwere too much for his purse.”\\n\\n\\n\\n“By Jove!”\\n\\nI cried, “if he really wants someone to share the rooms and\\nthe expense, I am the very man for him.\\n\\nI should prefer having a\\npartner to being alone.”\\n\\n\\n\\nYoung Stamford looked rather strangely at me over his wine-glass.'\n",
      "'I should prefer having a\\npartner to being alone.”\\n\\n\\n\\nYoung Stamford looked rather strangely at me over his wine-glass.\\n\\n“You\\ndon’t know Sherlock Holmes yet,” he said; “perhaps you would not care\\nfor him as a constant companion.”\\n\\n\\n\\n“Why, what is there against him?”\\n\\n“Oh, I didn’t say there was anything against him.\\n\\nHe is a little queer\\nin his ideas—an enthusiast in some branches of science.\\n\\nAs far as I\\nknow he is a decent fellow enough.”\\n\\n\\n\\n“A medical student, I suppose?” said I.\\n\\n“No—I have no idea what he intends to go in for.\\n\\nI believe he is well\\nup in anatomy, and he is a first-class chemist; but, as far as I know,\\nhe has never taken out any systematic medical classes.\\n\\nHis studies are\\nvery desultory and eccentric, but he has amassed a lot of out-of-the\\nway knowledge which would astonish his professors.”\\n\\n“Did you never ask him what he was going in for?”\\n\\nI asked.'\n",
      "'His studies are\\nvery desultory and eccentric, but he has amassed a lot of out-of-the\\nway knowledge which would astonish his professors.”\\n\\n“Did you never ask him what he was going in for?”\\n\\nI asked.\\n\\n\\n\\n“No; he is not a man that it is easy to draw out, though he can be\\ncommunicative enough when the fancy seizes him.”\\n\\n\\n\\n“I should like to meet him,” I said.\\n\\n“If I am to lodge with anyone, I\\nshould prefer a man of studious and quiet habits.\\n\\nI am not strong\\nenough yet to stand much noise or excitement.\\n\\nI had enough of both in\\nAfghanistan to last me for the remainder of my natural existence.\\n\\nHow\\ncould I meet this friend of yours?”\\n\\n“He is sure to be at the laboratory,” returned my companion.\\n\\n“He either\\navoids the place for weeks, or else he works there from morning to\\nnight.\\n\\nIf you like, we shall drive round together after luncheon.”\\n\\n\\n\\n“Certainly,” I answered, and the conversation drifted away into other\\nchannels.'\n",
      "'If you like, we shall drive round together after luncheon.”\\n\\n\\n\\n“Certainly,” I answered, and the conversation drifted away into other\\nchannels.\\n\\n\\n\\nAs we made our way to the hospital after leaving the Holborn, Stamford\\ngave me a few more particulars about the gentleman whom I proposed to\\ntake as a fellow-lodger.\\n\\n\\n\\n“You mustn’t blame me if you don’t get on with him,” he said; “I know\\nnothing more of him than I have learned from meeting him occasionally\\nin the laboratory.\\n\\nYou proposed this arrangement, so you must not hold\\nme responsible.”\\n\\n\\n\\n“If we don’t get on it will be easy to part company,” I answered.\\n\\n“It\\nseems to me, Stamford,” I added, looking hard at my companion, “that\\nyou have some reason for washing your hands of the matter.\\n\\nIs this\\nfellow’s temper so formidable, or what is it?\\n\\nDon’t be mealy-mouthed\\nabout it.”\\n\\n\\n\\n“It is not easy to express the inexpressible,” he answered with a\\nlaugh.\\n\\n“Holmes is a little too scientific for my tastes—it approaches\\nto cold-bloodedness.'\n",
      "\n",
      "\n",
      "part 4:\n",
      "There I stayed for some time at a\n",
      "private hotel in the Strand, leading a comfortless, meaningless\n",
      "existence, and spending such money as I had, considerably more freely\n",
      "than I ought.\n",
      "\n",
      "So alarming did the state of my finances become, that I\n",
      "soon realized that I must either leave the metropolis and rusticate\n",
      "somewhere in the country, or that I must make a complete alteration in\n",
      "my style of living.\n",
      "\n",
      "Choosing the latter alternative, I began by making\n",
      "up my mind to leave the hotel, and to take up my quarters in some less\n",
      "pretentious and less expensive domicile.\n",
      "\n",
      "\n",
      "\n",
      "On the very day that I had come to this conclusion, I was standing at\n",
      "the Criterion Bar, when some one tapped me on the shoulder, and turning\n",
      "round I recognized young Stamford, who had been a dresser under me at\n",
      "Barts.\n",
      "\n",
      "The sight of a friendly face in the great wilderness of London\n",
      "is a pleasant thing indeed to a lonely man.\n",
      "\n",
      "\n",
      "part 5:\n",
      "The sight of a friendly face in the great wilderness of London\n",
      "is a pleasant thing indeed to a lonely man.\n",
      "\n",
      "In old days Stamford had\n",
      "never been a particular crony of mine, but now I hailed him with\n",
      "enthusiasm, and he, in his turn, appeared to be delighted to see me.\n",
      "\n",
      "In\n",
      "the exuberance of my joy, I asked him to lunch with me at the Holborn,\n",
      "and we started off together in a hansom.\n",
      "\n",
      "\n",
      "\n",
      "“Whatever have you been doing with yourself, Watson?”\n",
      "\n",
      "he asked in\n",
      "undisguised wonder, as we rattled through the crowded London streets.\n",
      "\n",
      "\n",
      "“You are as thin as a lath and as brown as a nut.”\n",
      "\n",
      "\n",
      "\n",
      "I gave him a short sketch of my adventures, and had hardly concluded it\n",
      "by the time that we reached our destination.\n",
      "\n",
      "\n",
      "\n",
      "“Poor devil!”\n",
      "\n",
      "he said, commiseratingly, after he had listened to my\n",
      "misfortunes.\n",
      "\n",
      "“What are you up to now?”\n",
      "\n",
      "“Looking for lodgings,” I answered.\n"
     ]
    }
   ],
   "source": [
    "text_splitter = SpacyTextSplitter(\n",
    "    separator = \"\\n\\n\",\n",
    "    chunk_size = 1000,\n",
    "    chunk_overlap  = 200,\n",
    "    add_start_index = True\n",
    ")\n",
    "\n",
    "split_and_print(book, text_splitter, [4,5])"
   ]
  },
  {
   "cell_type": "markdown",
   "metadata": {},
   "source": [
    "## Splitting along content structure\n",
    "\n",
    "The Gutenber documents have a good structure with empty lines between paragraphs, and several empty lines before chapters and parts. Let's split on chapters ignoring chunk size and overlap."
   ]
  },
  {
   "cell_type": "code",
   "execution_count": null,
   "metadata": {},
   "outputs": [],
   "source": [
    "text_splitter = CharacterTextSplitter(        \n",
    "    separator = \"\\n\\n\\n\\n\",\n",
    "    chunk_size = 100,\n",
    "    chunk_overlap  = 20,\n",
    "    add_start_index = True\n",
    ")\n",
    "\n",
    "split_and_print(book, text_splitter, [])"
   ]
  },
  {
   "cell_type": "markdown",
   "metadata": {},
   "source": [
    "But we can also split along paragraphs and merge them to bigger chunks"
   ]
  },
  {
   "cell_type": "code",
   "execution_count": null,
   "metadata": {},
   "outputs": [],
   "source": [
    "text_splitter = RecursiveCharacterTextSplitter(        \n",
    "    separators = [\"\\n\\n\\n\\n\", \"\\n\\n\"],\n",
    "    chunk_size = 100,\n",
    "    chunk_overlap  = 20,\n",
    "    add_start_index = True,\n",
    "    keep_separator = False\n",
    ")\n",
    "\n",
    "split_and_print(book, text_splitter, [11, 12, 13, 14, 15])"
   ]
  },
  {
   "cell_type": "markdown",
   "metadata": {},
   "source": [
    "If we mind the small paragraphs, we can also combine smaller paragraphs using larger chunk size"
   ]
  },
  {
   "cell_type": "code",
   "execution_count": null,
   "metadata": {},
   "outputs": [],
   "source": [
    "text_splitter = RecursiveCharacterTextSplitter(        \n",
    "    separators = [\"\\n\\n\\n\\n\", \"\\n\\n\"],\n",
    "    chunk_size = 1000,\n",
    "    chunk_overlap  = 200,\n",
    "    add_start_index = True\n",
    ")\n",
    "\n",
    "split_and_print(book, text_splitter, [5, 6])"
   ]
  },
  {
   "cell_type": "markdown",
   "metadata": {},
   "source": [
    "### Other structures\n",
    "\n",
    "This also works for other document types, like python code or markdown syntax"
   ]
  },
  {
   "cell_type": "code",
   "execution_count": null,
   "metadata": {},
   "outputs": [],
   "source": [
    "# read file ./utils/gutenberg.py\n",
    "\n",
    "def read_file(file_name):\n",
    "    with open(file_name, 'r') as f:\n",
    "        return f.read()\n",
    "\n",
    "text_splitter = RecursiveCharacterTextSplitter(        \n",
    "    separators = ['\\nclass', '\\ndef'],\n",
    "    chunk_size = 100,\n",
    "    chunk_overlap  = 0,\n",
    "    add_start_index = True,\n",
    ")\n",
    "\n",
    "code = Document(page_content=read_file('./utils/gutenberg.py'))\n",
    "split_and_print(code, text_splitter, [2])"
   ]
  },
  {
   "cell_type": "markdown",
   "metadata": {},
   "source": [
    "### Do it Yourself"
   ]
  },
  {
   "cell_type": "code",
   "execution_count": null,
   "metadata": {},
   "outputs": [],
   "source": [
    "import re\n",
    "\n",
    "class CustomSplitter:\n",
    "    def __init__(self):\n",
    "        from nltk.tokenize import sent_tokenize\n",
    "        self._tokenizer = sent_tokenize\n",
    "\n",
    "    def split_text(self, text: str):\n",
    "        SECTIONS = ['CHAPTER', 'PART']\n",
    "        def merge_small(in_splits):\n",
    "            out_splits = []\n",
    "            last_len = 0\n",
    "            for s in in_splits:\n",
    "                # s does not include one of SECTIONS, is small, or previous parts are small\n",
    "                if out_splits and (len(s) < 200 or last_len < 500) and not any(x in s for x in SECTIONS):\n",
    "                    out_splits[-1].append(s)\n",
    "                    last_len += len(s)\n",
    "                else:\n",
    "                    out_splits.append([s])\n",
    "                    last_len = len(s)\n",
    "            return out_splits\n",
    "        \n",
    "        def add_overlap(in_splits):\n",
    "            def first_sentence(index):\n",
    "                return [self._tokenizer(in_splits[index][0])[0]]\n",
    "            def last_sentence(index):\n",
    "                return [self._tokenizer(in_splits[index][-1])[-1]]        \n",
    "            out_splits = [in_splits[0] + first_sentence(1)]\n",
    "            for i in range(1, len(in_splits)-1):\n",
    "                out = []\n",
    "                if not any(x in in_splits[i][0] for x in SECTIONS):\n",
    "                    out += last_sentence(i-1)\n",
    "                out += in_splits[i]\n",
    "                if not any(x in in_splits[i+1][0] for x in SECTIONS):\n",
    "                    out += first_sentence(i+1)\n",
    "                out_splits.append(out)\n",
    "            out_splits.append(last_sentence(len(in_splits)-2) + in_splits[len(in_splits)-1])\n",
    "            return out_splits\n",
    "\n",
    "        splits = [s.strip() for s in re.split('\\n\\n', text) if s]\n",
    "        return ['\\n\\n'.join(s) for s in add_overlap(merge_small(splits))]\n",
    "\n",
    "# split_and_print(book, CustomSplitter(), [5,6])\n",
    "CustomSplitter().split_text(book.page_content)"
   ]
  },
  {
   "cell_type": "markdown",
   "metadata": {},
   "source": [
    "## Comparison\n",
    "\n",
    "Soemtimes, splitting by structure leads to too large chunks. For better size control, we can add additional separators to `RecursiveCharacterTextSplitter`. The splitter is trying all separators in order to find a good split."
   ]
  },
  {
   "cell_type": "code",
   "execution_count": null,
   "metadata": {},
   "outputs": [],
   "source": [
    "import pandas as pd\n",
    "import matplotlib.pyplot as plt\n",
    "import seaborn as sns\n",
    "from pandas import DataFrame\n",
    "\n",
    "all = DataFrame()\n",
    "params = {'chunk_size': 4000, 'chunk_overlap': 200}\n",
    "\n",
    "def run_splitter(label: str, splitter: TextSplitter):\n",
    "    global all\n",
    "    parts = splitter.split_text(book.page_content)\n",
    "    df = DataFrame([len(p) for p in parts], columns = ['length']).assign(label=label)\n",
    "    all = pd.concat([all, df])\n",
    "\n",
    "run_splitter('parts', CharacterTextSplitter(separator = \"\\n\\n\\n\\n\", **params))\n",
    "run_splitter('chapters', RecursiveCharacterTextSplitter(separators = [\"\\n\\n\\n\\n\", \"\\n\\n\\n\"], **params))\n",
    "run_splitter('paragraphs', RecursiveCharacterTextSplitter(separators = [\"\\n\\n\\n\\n\", \"\\n\\n\\n\", \"\\n\\n\"], **params))\n",
    "run_splitter('words', CharacterTextSplitter(separator = \" \", **params))\n",
    "run_splitter('sentences (nltk)', NLTKTextSplitter(separator = \" \", **params))\n",
    "# run_splitter('sentences (spacy)', SpacyTextSplitter(separator = \" \", **params))\n",
    "run_splitter('default', RecursiveCharacterTextSplitter(**params))\n",
    "run_splitter('custom', CustomSplitter())\n",
    "\n",
    "sns.displot(all, x='length', kind=\"ecdf\", hue=\"label\", height=5, aspect=3);"
   ]
  },
  {
   "cell_type": "markdown",
   "metadata": {},
   "source": [
    "## Dive deep yourself\n",
    "Let's interact with a set of different splitters. You can add your own to see the results and compare with other methods."
   ]
  },
  {
   "cell_type": "code",
   "execution_count": null,
   "metadata": {},
   "outputs": [],
   "source": [
    "import ipywidgets as widgets\n",
    "from IPython.display import display, Markdown, clear_output\n",
    "\n",
    "opt_splitter = widgets.Dropdown(description='splitter', options=['default', 'parts', 'chapters', 'paragraphs', 'sentences (nltk)', 'sentences (spacy)', 'words', 'custom'])\n",
    "opt_size = widgets.BoundedIntText(description='size', min=500, max=50000, step=500, value=2000)\n",
    "opt_overlap = widgets.BoundedIntText(description='overlap', min=0, max=2000, step=50, value=200)\n",
    "\n",
    "# remove handlers if we re-execute this cell, need to do this before we overwrite function\n",
    "try:\n",
    "    opt_books.unobserve(change_book, 'value')\n",
    "except: pass\n",
    "\n",
    "def update_split(*args):\n",
    "    global book, parts, splitter\n",
    "    parts = splitter.split_text(book.page_content)\n",
    "    if f_part.value == 0: f_part.value = 1\n",
    "    f_part.value = 0\n",
    "    f_part.max = len(parts) - 1\n",
    "    df = DataFrame([len(p) for p in parts], columns = ['length'])\n",
    "    with out_stats:\n",
    "        clear_output()\n",
    "        display(Markdown(f'**splitter {opt_splitter.value} with chunk size {opt_size.value} and overlap {opt_overlap.value}**'))\n",
    "        print(f'document length: {len(book.page_content)}')\n",
    "        print(f' document parts: {len(parts)}')\n",
    "        print(f'   sum of parts: {sum([len(part) for part in parts])}')\n",
    "        print(f' parts overhead: {sum([len(part) for part in parts]) / len(book.page_content)}')\n",
    "        print(f'avg part length: {sum([len(part) for part in parts]) / len(parts)}\\n')\n",
    "        sns.displot(df, x='length', bins=50, height=4, aspect=2)\n",
    "        plt.show()\n",
    "\n",
    "def change_splitter(*args):\n",
    "    global splitter\n",
    "    params = {'chunk_size': opt_size.value, 'chunk_overlap': opt_overlap.value}\n",
    "    match opt_splitter.value:\n",
    "        case 'default':\n",
    "            splitter = RecursiveCharacterTextSplitter(**params)\n",
    "        case 'parts':\n",
    "            splitter = CharacterTextSplitter(separator = \"\\n\\n\\n\\n\\n\", **params)\n",
    "        case 'chapters':\n",
    "            splitter = RecursiveCharacterTextSplitter(separators = [\"\\n\\n\\n\\n\", \"\\n\\n\\n\"], **params)\n",
    "        case 'paragraphs':\n",
    "            splitter = RecursiveCharacterTextSplitter(separators = [\"\\n\\n\\n\\n\", \"\\n\\n\\n\", \"\\n\\n\"], **params)\n",
    "        case 'words':\n",
    "            splitter = CharacterTextSplitter(separator = \" \", **params)\n",
    "        case 'sentences (nltk)':\n",
    "            splitter = NLTKTextSplitter(separator = \" \", **params)\n",
    "        case 'sentences (spacy)':\n",
    "            splitter = SpacyTextSplitter(separator = \" \", **params)\n",
    "        case 'custom':\n",
    "            splitter = CustomSplitter()\n",
    "    update_split()\n",
    "\n",
    "def change_book(*args):\n",
    "    global book\n",
    "    book = get_book(opt_books.value)\n",
    "    change_splitter()\n",
    "    update_split()\n",
    "\n",
    "def show_part(sort_by_len, part):\n",
    "    global parts\n",
    "    if sort_by_len:\n",
    "        # find part-th longest part in parts array\n",
    "        indexed_lengths = [(i, len(s)) for i, s in enumerate(parts)]\n",
    "        sorted_lengths = sorted(indexed_lengths, key=lambda x: x[1])\n",
    "        part = sorted_lengths[part][0]\n",
    "    before = parts[part-1][-opt_overlap.value:] if part > 0 else ''\n",
    "    after = parts[part+1][:opt_overlap.value] if part < (len(parts)-1) else ''\n",
    "    text = Markdown(f\"\"\"\n",
    "{before}\n",
    "\\n**---start of part {part} ({len(parts[part])} characters)---**\\n\n",
    "{parts[part]}   \n",
    "\\n**---end of part {part}---**\\n\n",
    "{after}\n",
    "    \"\"\")\n",
    "    display(text)\n",
    "\n",
    "# observe changes\n",
    "opt_books.observe(change_book, 'value')\n",
    "opt_splitter.observe(change_splitter, 'value')\n",
    "opt_size.observe(change_splitter, 'value')\n",
    "opt_overlap.observe(change_splitter, 'value')\n",
    "\n",
    "# display\n",
    "form_data = widgets.GridBox([opt_books, opt_splitter, opt_size, opt_overlap], layout = {'margin': '0px 0px 20px', 'grid_template_columns': 'min-content min-content'})\n",
    "out_stats = widgets.Output(layout = {'padding': '0px 50px', 'min_width': '60%'})\n",
    "f_sorted = widgets.Checkbox(description='sorted by length', value=False)\n",
    "f_part = widgets.BoundedIntText(description='part', min=0, max=50, step=1, value=0)\n",
    "form_part = widgets.interactive(show_part, sort_by_len=f_sorted, part=f_part)\n",
    "change_book()\n",
    "display(widgets.VBox([form_data, widgets.HBox([form_part, out_stats])]))\n"
   ]
  },
  {
   "cell_type": "code",
   "execution_count": null,
   "metadata": {},
   "outputs": [],
   "source": []
  }
 ],
 "metadata": {
  "kernelspec": {
   "display_name": "Python 3",
   "language": "python",
   "name": "python3"
  },
  "language_info": {
   "codemirror_mode": {
    "name": "ipython",
    "version": 3
   },
   "file_extension": ".py",
   "mimetype": "text/x-python",
   "name": "python",
   "nbconvert_exporter": "python",
   "pygments_lexer": "ipython3",
   "version": "3.10.10"
  },
  "orig_nbformat": 4
 },
 "nbformat": 4,
 "nbformat_minor": 2
}
