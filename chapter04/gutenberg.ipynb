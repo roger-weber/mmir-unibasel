{
 "cells": [
  {
   "cell_type": "code",
   "execution_count": 1,
   "metadata": {},
   "outputs": [],
   "source": [
    "%load_ext autoreload\n",
    "%autoreload 2"
   ]
  },
  {
   "cell_type": "markdown",
   "metadata": {},
   "source": [
    "# Donwload books from Project Gutenberg"
   ]
  },
  {
   "cell_type": "markdown",
   "metadata": {},
   "source": [
    "## List all books in cache"
   ]
  },
  {
   "cell_type": "code",
   "execution_count": 2,
   "metadata": {},
   "outputs": [
    {
     "data": {
      "text/markdown": [
       "|    id | language   | author                      | title                                                                   |\n",
       "|------:|:-----------|:----------------------------|:------------------------------------------------------------------------|\n",
       "| 23585 | Chinese    |                             | 佛說四十二章經                                                          |\n",
       "|   158 | English    | Austen, Jane                | Emma                                                                    |\n",
       "|   946 | English    | Austen, Jane                | Lady Susan                                                              |\n",
       "|   141 | English    | Austen, Jane                | Mansfield Park                                                          |\n",
       "|   121 | English    | Austen, Jane                | Northanger Abbey                                                        |\n",
       "|   105 | English    | Austen, Jane                | Persuasion                                                              |\n",
       "|  1342 | English    | Austen, Jane                | Pride and Prejudice                                                     |\n",
       "|   161 | English    | Austen, Jane                | Sense and Sensibility                                                   |\n",
       "|    46 | English    | Dickens, Charles            | A Christmas Carol in Prose; Being a Ghost Story of Christmas            |\n",
       "|    98 | English    | Dickens, Charles            | A Tale of Two Cities                                                    |\n",
       "|  1023 | English    | Dickens, Charles            | Bleak House                                                             |\n",
       "|   766 | English    | Dickens, Charles            | David Copperfield                                                       |\n",
       "|  1400 | English    | Dickens, Charles            | Great Expectations                                                      |\n",
       "|   786 | English    | Dickens, Charles            | Hard Times                                                              |\n",
       "|   730 | English    | Dickens, Charles            | Oliver Twist                                                            |\n",
       "|   580 | English    | Dickens, Charles            | The Pickwick Papers                                                     |\n",
       "|   244 | English    | Doyle, Arthur Conan         | A Study in Scarlet                                                      |\n",
       "|  2350 | English    | Doyle, Arthur Conan         | His Last Bow: An Epilogue of Sherlock Holmes                            |\n",
       "|  1661 | English    | Doyle, Arthur Conan         | The Adventures of Sherlock Holmes                                       |\n",
       "|  2852 | English    | Doyle, Arthur Conan         | The Hound of the Baskervilles                                           |\n",
       "|   834 | English    | Doyle, Arthur Conan         | The Memoirs of Sherlock Holmes                                          |\n",
       "|   108 | English    | Doyle, Arthur Conan         | The Return of Sherlock Holmes                                           |\n",
       "|  2097 | English    | Doyle, Arthur Conan         | The Sign of the Four                                                    |\n",
       "|  3289 | English    | Doyle, Arthur Conan         | The Valley of Fear                                                      |\n",
       "| 69700 | English    | Doyle, Arthur Conan         | The case-book of Sherlock Holmes                                        |\n",
       "|  1184 | English    | Dumas, Alexandre            | The Count of Monte Cristo                                               |\n",
       "|  2759 | English    | Dumas, Alexandre            | The Man in the Iron Mask                                                |\n",
       "|  2609 | English    | Dumas, Alexandre            | The Vicomte de Bragelonne                                               |\n",
       "|  1257 | English    | Dumas, Alexandre            | The three musketeers                                                    |\n",
       "|  1259 | English    | Dumas, Alexandre            | Twenty years after                                                      |\n",
       "|   135 | English    | Hugo, Victor                | Les Misérables                                                          |\n",
       "|  1399 | English    | Tolstoy, Leo, graf          | Anna Karenina                                                           |\n",
       "|  2600 | English    | Tolstoy, Leo, graf          | War and Peace                                                           |\n",
       "|  1910 | French     | Dumas, Alexandre            | La Tulipe Noire                                                         |\n",
       "| 17989 | French     | Dumas, Alexandre            | Le comte de Monte-Cristo, Tome I                                        |\n",
       "| 17990 | French     | Dumas, Alexandre            | Le comte de Monte-Cristo, Tome II                                       |\n",
       "| 17991 | French     | Dumas, Alexandre            | Le comte de Monte-Cristo, Tome III                                      |\n",
       "| 17992 | French     | Dumas, Alexandre            | Le comte de Monte-Cristo, Tome IV                                       |\n",
       "| 13947 | French     | Dumas, Alexandre            | Le vicomte de Bragelonne, Tome I.                                       |\n",
       "| 13948 | French     | Dumas, Alexandre            | Le vicomte de Bragelonne, Tome II.                                      |\n",
       "| 13949 | French     | Dumas, Alexandre            | Le vicomte de Bragelonne, Tome III.                                     |\n",
       "| 13950 | French     | Dumas, Alexandre            | Le vicomte de Bragelonne, Tome IV.                                      |\n",
       "| 13951 | French     | Dumas, Alexandre            | Les trois mousquetaires                                                 |\n",
       "| 13952 | French     | Dumas, Alexandre            | Vingt ans après                                                         |\n",
       "| 17489 | French     | Hugo, Victor                | Les misérables Tome I: Fantine                                          |\n",
       "| 17493 | French     | Hugo, Victor                | Les misérables Tome II: Cosette                                         |\n",
       "| 17494 | French     | Hugo, Victor                | Les misérables Tome III: Marius                                         |\n",
       "| 17518 | French     | Hugo, Victor                | Les misérables Tome IV: L'idylle rue Plumet et l'épopée rue Saint-Denis |\n",
       "| 17519 | French     | Hugo, Victor                | Les misérables Tome V: Jean Valjean                                     |\n",
       "| 19657 | French     | Hugo, Victor                | Notre-Dame de Paris                                                     |\n",
       "|  2407 | German     | Goethe, Johann Wolfgang von | Die Leiden des jungen Werther — Band 1                                  |\n",
       "|  2408 | German     | Goethe, Johann Wolfgang von | Die Leiden des jungen Werther — Band 2                                  |\n",
       "|  2229 | German     | Goethe, Johann Wolfgang von | Faust: Der Tragödie erster Teil                                         |\n",
       "|  2230 | German     | Goethe, Johann Wolfgang von | Faust: Der Tragödie zweiter Teil                                        |\n",
       "|  2228 | German     | Goethe, Johann Wolfgang von | Reineke Fuchs                                                           |\n",
       "|  2335 | German     | Goethe, Johann Wolfgang von | Wilhelm Meisters Lehrjahre — Band 1                                     |\n",
       "|  2336 | German     | Goethe, Johann Wolfgang von | Wilhelm Meisters Lehrjahre — Band 2                                     |\n",
       "|  2337 | German     | Goethe, Johann Wolfgang von | Wilhelm Meisters Lehrjahre — Band 3                                     |\n",
       "|  2338 | German     | Goethe, Johann Wolfgang von | Wilhelm Meisters Lehrjahre — Band 4                                     |\n",
       "|  2339 | German     | Goethe, Johann Wolfgang von | Wilhelm Meisters Lehrjahre — Band 5                                     |\n",
       "|  2340 | German     | Goethe, Johann Wolfgang von | Wilhelm Meisters Lehrjahre — Band 6                                     |\n",
       "|  2341 | German     | Goethe, Johann Wolfgang von | Wilhelm Meisters Lehrjahre — Band 7                                     |\n",
       "|  2342 | German     | Goethe, Johann Wolfgang von | Wilhelm Meisters Lehrjahre — Band 8                                     |\n",
       "|  2409 | German     | Goethe, Johann Wolfgang von | Wilhelm Meisters Wanderjahre — Band 1                                   |\n",
       "|  2410 | German     | Goethe, Johann Wolfgang von | Wilhelm Meisters Wanderjahre — Band 2                                   |\n",
       "|  2411 | German     | Goethe, Johann Wolfgang von | Wilhelm Meisters Wanderjahre — Band 3                                   |\n",
       "| 34811 | German     | Mann, Thomas                | Buddenbrooks: Verfall einer Familie                                     |\n",
       "|  6383 | German     | Schiller, Friedrich         | Die Jungfrau von Orleans                                                |\n",
       "| 47804 | German     | Schiller, Friedrich         | Die Räuber: Ein Schauspiel                                              |\n",
       "|  6499 | German     | Schiller, Friedrich         | Die Verschwörung des Fiesco zu Genua: Ein republikanisches Trauerspiel  |\n",
       "|  6518 | German     | Schiller, Friedrich         | Wallensteins Lager                                                      |\n",
       "|  6549 | German     | Schiller, Friedrich         | Wallensteins Tod                                                        |\n",
       "| 27729 | Polish     | Mickiewicz, Adam            | Bajki                                                                   |"
      ],
      "text/plain": [
       "<IPython.core.display.Markdown object>"
      ]
     },
     "metadata": {},
     "output_type": "display_data"
    }
   ],
   "source": [
    "from utils.gutenberg import get_book, print_books\n",
    "\n",
    "print_books()"
   ]
  },
  {
   "cell_type": "markdown",
   "metadata": {},
   "source": [
    "## Optionally: uncomment lines at end to download all books"
   ]
  },
  {
   "cell_type": "code",
   "execution_count": 3,
   "metadata": {},
   "outputs": [],
   "source": [
    "sherlock_holmes_novels = [244, 2097, 2852, 3289]\n",
    "sherlock_holmes_stories = [1661, 834, 108, 2350, 69700]\n",
    "jane_austen = [161, 1342, 141, 158, 121, 105, 946]\n",
    "leo_tolstoy = [1399, 2600]\n",
    "charles_dickens = [98, 1400, 46, 766, 730, 580, 1023, 786]\n",
    "\n",
    "jw_goethe = [2229, 2230, 2407, 2408, 2228, 2335, 2336, 2337, 2338, 2339, 2340, 2341, 2342, 2409, 2410, 2411]\n",
    "friedrich_schiller = [6383, 47804, 6499, 6518, 6549]\n",
    "thomas_mann = [34811, 12108, 23313, 65661, 65662]\n",
    "\n",
    "alexandre_dumas = [13951, 13947, 13948, 13949, 13950, 13952, 1910, 17989, 17990, 17991, 17992]\n",
    "victor_hugo = [17489, 17493, 17494, 17518, 17519, 19657]\n",
    "\n",
    "adam_mickiewicz = [27729]\n",
    "\n",
    "buddah = [23585]\n",
    "\n",
    "\n",
    "books_en = sherlock_holmes_novels + sherlock_holmes_stories + jane_austen + leo_tolstoy + charles_dickens\n",
    "books_de = jw_goethe + friedrich_schiller\n",
    "books_fr = alexandre_dumas + victor_hugo\n",
    "books_pl = adam_mickiewicz\n",
    "books_zn = buddah\n",
    "\n",
    "all_books = books_en + books_de + books_fr + books_pl + books_zn\n",
    "\n",
    "# for book_id in all_books:\n",
    "#     get_book(book_id, reload=True)"
   ]
  }
 ],
 "metadata": {
  "kernelspec": {
   "display_name": "Python 3",
   "language": "python",
   "name": "python3"
  },
  "language_info": {
   "codemirror_mode": {
    "name": "ipython",
    "version": 3
   },
   "file_extension": ".py",
   "mimetype": "text/x-python",
   "name": "python",
   "nbconvert_exporter": "python",
   "pygments_lexer": "ipython3",
   "version": "3.10.10"
  },
  "orig_nbformat": 4
 },
 "nbformat": 4,
 "nbformat_minor": 2
}
