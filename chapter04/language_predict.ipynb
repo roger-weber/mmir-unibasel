{
 "cells": [
  {
   "cell_type": "code",
   "execution_count": 45,
   "metadata": {},
   "outputs": [
    {
     "name": "stdout",
     "output_type": "stream",
     "text": [
      "Requirement already satisfied: lingua-language-detector in c:\\env\\bin\\python3\\lib\\site-packages (1.3.3)\n",
      "Collecting langdetect\n",
      "  Downloading langdetect-1.0.9.tar.gz (981 kB)\n",
      "     ---------------------------------------- 0.0/981.5 kB ? eta -:--:--\n",
      "     ---- --------------------------------- 112.6/981.5 kB 3.3 MB/s eta 0:00:01\n",
      "     -------------- ----------------------- 378.9/981.5 kB 3.9 MB/s eta 0:00:01\n",
      "     -------------------------------------  972.8/981.5 kB 7.7 MB/s eta 0:00:01\n",
      "     -------------------------------------- 981.5/981.5 kB 6.2 MB/s eta 0:00:00\n",
      "  Installing build dependencies: started\n",
      "  Installing build dependencies: finished with status 'done'\n",
      "  Getting requirements to build wheel: started\n",
      "  Getting requirements to build wheel: finished with status 'done'\n",
      "  Preparing metadata (pyproject.toml): started\n",
      "  Preparing metadata (pyproject.toml): finished with status 'done'\n",
      "Requirement already satisfied: numpy<1.25,>=1.24.4 in c:\\env\\bin\\python3\\lib\\site-packages (from lingua-language-detector) (1.24.4)\n",
      "Requirement already satisfied: regex<2024.0.0,>=2023.8.8 in c:\\env\\bin\\python3\\lib\\site-packages (from lingua-language-detector) (2023.8.8)\n",
      "Requirement already satisfied: six in c:\\env\\bin\\python3\\lib\\site-packages (from langdetect) (1.12.0)\n",
      "Building wheels for collected packages: langdetect\n",
      "  Building wheel for langdetect (pyproject.toml): started\n",
      "  Building wheel for langdetect (pyproject.toml): finished with status 'done'\n",
      "  Created wheel for langdetect: filename=langdetect-1.0.9-py3-none-any.whl size=993253 sha256=fe89ddc4effe30705bfac48cc3e54f988e4b8b390d1ecf7ed60c5446982af19b\n",
      "  Stored in directory: c:\\users\\roger\\appdata\\local\\pip\\cache\\wheels\\95\\03\\7d\\59ea870c70ce4e5a370638b5462a7711ab78fba2f655d05106\n",
      "Successfully built langdetect\n",
      "Installing collected packages: langdetect\n",
      "Successfully installed langdetect-1.0.9\n"
     ]
    }
   ],
   "source": [
    "!pip install lingua-language-detector langdetect"
   ]
  },
  {
   "cell_type": "code",
   "execution_count": 31,
   "metadata": {},
   "outputs": [
    {
     "name": "stdout",
     "output_type": "stream",
     "text": [
      "Language.ENGLISH\n",
      "Language.FRENCH\n",
      "Language.SPANISH\n",
      "Language.GERMAN\n",
      "Language.ITALIAN\n",
      "Language.THAI\n"
     ]
    }
   ],
   "source": [
    "from lingua import Language, LanguageDetectorBuilder\n",
    "# Language.ENGLISH\n",
    "detector = LanguageDetectorBuilder.from_all_languages().build()\n",
    "print(detector.detect_language_of(\"This is an example sentence\"))\n",
    "print(detector.detect_language_of(\"je suis un exemple de phrase\"))\n",
    "print(detector.detect_language_of(\"Este es un ejemplo de frase\"))\n",
    "print(detector.detect_language_of(\"Dies ist ein Beispieltext\"))\n",
    "print(detector.detect_language_of(\"Questo è un esempio di frase\"))\n",
    "print(detector.detect_language_of(\" นี่คือข้อความที่ทดสอ \"))"
   ]
  },
  {
   "cell_type": "code",
   "execution_count": 36,
   "metadata": {},
   "outputs": [
    {
     "name": "stdout",
     "output_type": "stream",
     "text": [
      "FRENCH: 0.45\n",
      "ENGLISH: 0.37\n",
      "ITALIAN: 0.18\n"
     ]
    }
   ],
   "source": [
    "languages = [Language.ENGLISH, Language.FRENCH, Language.ITALIAN]\n",
    "detector = LanguageDetectorBuilder.from_languages(*languages).build()\n",
    "\n",
    "confidence_values = detector.compute_language_confidence_values(\"Je suis à New York\")\n",
    "for language, value in confidence_values:\n",
    "    print(f\"{language.name}: {value:.2f}\")"
   ]
  },
  {
   "cell_type": "code",
   "execution_count": 43,
   "metadata": {},
   "outputs": [
    {
     "name": "stdout",
     "output_type": "stream",
     "text": [
      "GERMAN: 0.82\n",
      "ENGLISH: 0.10\n",
      "ITALIAN: 0.07\n"
     ]
    }
   ],
   "source": [
    "languages = [Language.ENGLISH, Language.GERMAN, Language.ITALIAN]\n",
    "detector = LanguageDetectorBuilder.from_languages(*languages).build()\n",
    "\n",
    "confidence_values = detector.compute_language_confidence_values(\"hau mei\")\n",
    "for language, value in confidence_values:\n",
    "    print(f\"{language.name}: {value:.2f}\")"
   ]
  },
  {
   "cell_type": "code",
   "execution_count": 27,
   "metadata": {},
   "outputs": [
    {
     "name": "stdout",
     "output_type": "stream",
     "text": [
      "THAI: 1.00\n",
      "AFRIKAANS: 0.00\n",
      "ALBANIAN: 0.00\n",
      "ARABIC: 0.00\n",
      "ARMENIAN: 0.00\n",
      "AZERBAIJANI: 0.00\n",
      "BASQUE: 0.00\n",
      "BELARUSIAN: 0.00\n",
      "BENGALI: 0.00\n",
      "BOKMAL: 0.00\n",
      "BOSNIAN: 0.00\n",
      "BULGARIAN: 0.00\n",
      "CATALAN: 0.00\n",
      "CHINESE: 0.00\n",
      "CROATIAN: 0.00\n",
      "CZECH: 0.00\n",
      "DANISH: 0.00\n",
      "DUTCH: 0.00\n",
      "ENGLISH: 0.00\n",
      "ESPERANTO: 0.00\n",
      "ESTONIAN: 0.00\n",
      "FINNISH: 0.00\n",
      "FRENCH: 0.00\n",
      "GANDA: 0.00\n",
      "GEORGIAN: 0.00\n",
      "GERMAN: 0.00\n",
      "GREEK: 0.00\n",
      "GUJARATI: 0.00\n",
      "HEBREW: 0.00\n",
      "HINDI: 0.00\n",
      "HUNGARIAN: 0.00\n",
      "ICELANDIC: 0.00\n",
      "INDONESIAN: 0.00\n",
      "IRISH: 0.00\n",
      "ITALIAN: 0.00\n",
      "JAPANESE: 0.00\n",
      "KAZAKH: 0.00\n",
      "KOREAN: 0.00\n",
      "LATIN: 0.00\n",
      "LATVIAN: 0.00\n",
      "LITHUANIAN: 0.00\n",
      "MACEDONIAN: 0.00\n",
      "MALAY: 0.00\n",
      "MAORI: 0.00\n",
      "MARATHI: 0.00\n",
      "MONGOLIAN: 0.00\n",
      "NYNORSK: 0.00\n",
      "PERSIAN: 0.00\n",
      "POLISH: 0.00\n",
      "PORTUGUESE: 0.00\n",
      "PUNJABI: 0.00\n",
      "ROMANIAN: 0.00\n",
      "RUSSIAN: 0.00\n",
      "SERBIAN: 0.00\n",
      "SHONA: 0.00\n",
      "SLOVAK: 0.00\n",
      "SLOVENE: 0.00\n",
      "SOMALI: 0.00\n",
      "SOTHO: 0.00\n",
      "SPANISH: 0.00\n",
      "SWAHILI: 0.00\n",
      "SWEDISH: 0.00\n",
      "TAGALOG: 0.00\n",
      "TAMIL: 0.00\n",
      "TELUGU: 0.00\n",
      "TSONGA: 0.00\n",
      "TSWANA: 0.00\n",
      "TURKISH: 0.00\n",
      "UKRAINIAN: 0.00\n",
      "URDU: 0.00\n",
      "VIETNAMESE: 0.00\n",
      "WELSH: 0.00\n",
      "XHOSA: 0.00\n",
      "YORUBA: 0.00\n",
      "ZULU: 0.00\n"
     ]
    }
   ],
   "source": [
    "detector = LanguageDetectorBuilder.from_all_languages().with_preloaded_language_models().build()\n",
    "confidence_values = detector.compute_language_confidence_values(\"กลับบ้าน\")\n",
    "for language, value in confidence_values:\n",
    "    print(f\"{language.name}: {value:.2f}\")"
   ]
  },
  {
   "cell_type": "code",
   "execution_count": 49,
   "metadata": {},
   "outputs": [
    {
     "name": "stdout",
     "output_type": "stream",
     "text": [
      "en\n",
      "fr\n",
      "es\n",
      "de\n",
      "it\n",
      "th\n",
      "[fr:0.8571390804746706, en:0.14285923810482648]\n",
      "[cy:0.9999967740990661]\n"
     ]
    }
   ],
   "source": [
    "from langdetect import detect, detect_langs\n",
    "\n",
    "print(detect(\"This is an example sentence\"))\n",
    "print(detect(\"je suis un exemple de phrase\"))\n",
    "print(detect(\"Este es un ejemplo de frase\"))\n",
    "print(detect(\"Dies ist ein Beispieltext\"))\n",
    "print(detect(\"Questo è un esempio di frase\"))\n",
    "print(detect(\"นี่คือข้อความที่ทดสอ\"))\n",
    "print(detect_langs(\"Je suis à New York\"))\n",
    "print(detect_langs(\"hau mei\"))"
   ]
  }
 ],
 "metadata": {
  "kernelspec": {
   "display_name": "Python 3",
   "language": "python",
   "name": "python3"
  },
  "language_info": {
   "codemirror_mode": {
    "name": "ipython",
    "version": 3
   },
   "file_extension": ".py",
   "mimetype": "text/x-python",
   "name": "python",
   "nbconvert_exporter": "python",
   "pygments_lexer": "ipython3",
   "version": "3.10.10"
  },
  "orig_nbformat": 4
 },
 "nbformat": 4,
 "nbformat_minor": 2
}
