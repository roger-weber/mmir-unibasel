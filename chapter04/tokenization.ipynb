{
 "cells": [
  {
   "cell_type": "code",
   "execution_count": 8,
   "metadata": {},
   "outputs": [],
   "source": [
    "%load_ext autoreload\n",
    "%autoreload 2"
   ]
  },
  {
   "cell_type": "markdown",
   "metadata": {},
   "source": [
    "# Getting the text examples\n",
    "\n",
    "We fetch some 'nice' chapters from various books in different languages from project Gutenberg. The diversity will demonstrate some of the challenges when tokenizing"
   ]
  },
  {
   "cell_type": "code",
   "execution_count": 9,
   "metadata": {},
   "outputs": [],
   "source": [
    "text = \"\"\"\n",
    "I buy my parents' 10% of U.K. startup for $1.4 billion. Dr. Watson's cat called Mrs. Hersley and it was w.r.o.n.g., more to come ...\n",
    "\"\"\".strip()\n",
    "\n",
    "# Project Gutenberg, 244: A Study in Scarlet (en), Arthur Conan Doyle\n",
    "text_en = \"\"\"\n",
    "This was a lofty chamber, lined and littered with countless bottles.\n",
    "Broad, low tables were scattered about, which bristled with retorts,\n",
    "test-tubes, and little Bunsen lamps, with their blue flickering flames.\n",
    "There was only one student in the room, who was bending over a distant\n",
    "table absorbed in his work. At the sound of our steps he glanced round\n",
    "and sprang to his feet with a cry of pleasure. “I’ve found it! I’ve\n",
    "found it,” he shouted to my companion, running towards us with a\n",
    "test-tube in his hand. “I have found a re-agent which is precipitated\n",
    "by hæmoglobin, and by nothing else.” Had he discovered a gold mine,\n",
    "greater delight could not have shone upon his features.\n",
    "\"\"\".strip()\n",
    "\n",
    "# Project Gutenberg, 34811: Buddenbrooks: Verfall einer Familie (de), Thomas Mann\n",
    "text_de = \"\"\"\n",
    "»Ich rechne«, sagte der Konsul trocken. Die Kerze flammte auf, und man\n",
    "sah, wie er gerade aufgerichtet und mit Augen, so kalt und aufmerksam,\n",
    "wie sie während des ganzen Nachmittags noch nicht darein geschaut\n",
    "hatten, fest in die tanzende Flamme blickte. -- »Einerseits: Sie geben\n",
    "33335 an Gotthold und 15000 an die in Frankfurt, und das macht 48335 in\n",
    "Summa. Andererseits: Sie geben nur 25000 an die in Frankfurt, und das\n",
    "bedeutet für die Firma einen Gewinn von 23335. Das ist aber nicht alles.\n",
    "Gesetzt, Sie leisten an Gotthold eine Entschädigungssumme für den Anteil\n",
    "am Hause, so ist das Prinzip durchbrochen, so ist er damals =nicht=\n",
    "endgültig abgefunden worden, so kann er nach Ihrem Tode ein gleich\n",
    "großes Erbe beanspruchen, wie meine Schwester und ich, und dann handelt\n",
    "es sich für die Firma um einen Verlust von Hunderttausenden, mit dem sie\n",
    "nicht rechnen kann, mit dem ich als künftiger alleiniger Inhaber nicht\n",
    "rechnen kann ... Nein, Papa!« beschloß er mit einer energischen\n",
    "Handbewegung und richtete sich noch höher auf. »Ich muß Ihnen abraten,\n",
    "nachzugeben!«\n",
    "\"\"\".strip()\n",
    "\n",
    "# Project Gutenberg, 13951: Les trois mousquetaires (fr), Alexandre Dumas\n",
    "text_fr = \"\"\"\n",
    "D’Artagnan, tout en marchant et en monologuant, était arrivé à quelques\n",
    "pas de l’hôtel d’Aiguillon, et devant cet hôtel il avait aperçu Aramis\n",
    "causant gaiement avec trois gentilshommes des gardes du roi. De son\n",
    "côté, Aramis aperçut d’Artagnan; mais comme il n’oubliait point que\n",
    "c’était devant ce jeune homme que M. de Tréville s’était si fort\n",
    "emporté le matin, et qu’un témoin des reproches que les mousquetaires\n",
    "avaient reçus ne lui était d’aucune façon agréable, il fit semblant de\n",
    "ne pas le voir. D’Artagnan, tout entier au contraire à ses plans de\n",
    "conciliation et de courtoisie, s’approcha des quatre jeunes gens en\n",
    "leur faisant un grand salut accompagné du plus gracieux sourire. Aramis\n",
    "inclina légèrement la tête, mais ne sourit point. Tous quatre, au\n",
    "reste, interrompirent à l’instant même leur conversation.\n",
    "\"\"\".strip()\n",
    "\n",
    "# Project Gutenberg, 27729: Bajki (pl), Adam Mickiewicz\n",
    "text_pl = \"\"\"\n",
    "Powolny bóg wszechżabstwu na króla użycza\n",
    "Małego jako Łokiet Kija Kijowicza.\n",
    "Spadł Kij i pluskiem wszemu obwieścił się błotu.\n",
    "Struchlały żaby na ten majestat łoskotu.\n",
    "Milczą, dzień i noc, ledwie śmiejąc dychać,\n",
    "Nazajutrz jedna drugiej pytają: „Co słychać?\n",
    "Czy niema co od króla?” Aż śmielsze i starsze\n",
    "Ruszają przed oblicze stawić się monarsze.\n",
    "Zrazu zdala, w bojaźni, by się nie narazić;\n",
    "Potem, przemógłszy te strachy,\n",
    "Brat za brat z królem biorą się pod pachy\n",
    "I zaczynają na kark mu włazić.\n",
    "„Toż to taki ma być król?... Najjaśniejszy Bela,\n",
    "Nie wiele z niego będziem mieć wesela;\n",
    "Król, co po karku bezkarnie go gładzim,\n",
    "Niechaj nam abdykuje zaraz, niedołęga!\n",
    "Potrzebna nam jest władza, ale władza tęga!”\n",
    "\"\"\".strip()\n",
    "\n",
    "# Project Gutenberg, 23585: 佛說四十二章經 (zh)\n",
    "text_zh=\"\"\"\n",
    "沙門夜誦迦葉佛遺教經，其聲悲緊，思悔欲退。佛問之曰：汝昔在家，曾為何業？對\n",
    "曰：愛彈琴。佛言：弦緩如何？對曰：不鳴矣！弦急如何？對曰：聲絕矣！急緩得中\n",
    "如何？對曰：諸音普矣！佛言：沙門學道亦然，心若調適，道可得矣。於道若暴，暴\n",
    "即身疲。其身若疲，意即生惱。意若生惱，行即退矣。其行既退，罪必加矣。但清淨\n",
    "安樂，道不失矣。\n",
    "\"\"\".strip()\n",
    "\n",
    "texts = {\n",
    "    'abbreviations': text,\n",
    "    'english': text_en,\n",
    "    'german': text_de,\n",
    "    'french': text_fr,\n",
    "    'polish': text_pl,\n",
    "    'chinese': text_zh\n",
    "}"
   ]
  },
  {
   "cell_type": "markdown",
   "metadata": {},
   "source": [
    "## Word based tokenization"
   ]
  },
  {
   "cell_type": "code",
   "execution_count": 10,
   "metadata": {},
   "outputs": [
    {
     "name": "stdout",
     "output_type": "stream",
     "text": [
      "Collecting en-core-web-sm==3.6.0\n",
      "  Downloading https://github.com/explosion/spacy-models/releases/download/en_core_web_sm-3.6.0/en_core_web_sm-3.6.0-py3-none-any.whl (12.8 MB)\n",
      "     ---------------------------------------- 0.0/12.8 MB ? eta -:--:--\n",
      "     ---------------------------------------- 0.1/12.8 MB 2.8 MB/s eta 0:00:05\n",
      "     - -------------------------------------- 0.5/12.8 MB 4.9 MB/s eta 0:00:03\n",
      "     -- ------------------------------------- 0.8/12.8 MB 6.1 MB/s eta 0:00:02\n",
      "     --- ------------------------------------ 1.2/12.8 MB 7.1 MB/s eta 0:00:02\n",
      "     ----- ---------------------------------- 1.6/12.8 MB 7.4 MB/s eta 0:00:02\n",
      "     ------ --------------------------------- 2.1/12.8 MB 7.8 MB/s eta 0:00:02\n",
      "     -------- ------------------------------- 2.6/12.8 MB 8.3 MB/s eta 0:00:02\n",
      "     --------- ------------------------------ 3.1/12.8 MB 8.7 MB/s eta 0:00:02\n",
      "     ----------- ---------------------------- 3.7/12.8 MB 9.2 MB/s eta 0:00:01\n",
      "     ------------- -------------------------- 4.4/12.8 MB 9.6 MB/s eta 0:00:01\n",
      "     --------------- ------------------------ 5.1/12.8 MB 10.1 MB/s eta 0:00:01\n",
      "     ----------------- ---------------------- 5.7/12.8 MB 10.5 MB/s eta 0:00:01\n",
      "     -------------------- ------------------- 6.7/12.8 MB 11.3 MB/s eta 0:00:01\n",
      "     ------------------------ --------------- 7.7/12.8 MB 12.0 MB/s eta 0:00:01\n",
      "     --------------------------- ------------ 8.7/12.8 MB 12.6 MB/s eta 0:00:01\n",
      "     ------------------------------ --------- 9.6/12.8 MB 13.1 MB/s eta 0:00:01\n",
      "     -------------------------------- ------ 10.7/12.8 MB 14.9 MB/s eta 0:00:01\n",
      "     ------------------------------------ -- 12.0/12.8 MB 17.3 MB/s eta 0:00:01\n",
      "     --------------------------------------  12.8/12.8 MB 18.7 MB/s eta 0:00:01\n",
      "     --------------------------------------  12.8/12.8 MB 18.7 MB/s eta 0:00:01\n",
      "     --------------------------------------- 12.8/12.8 MB 16.8 MB/s eta 0:00:00\n",
      "Requirement already satisfied: spacy<3.7.0,>=3.6.0 in c:\\env\\bin\\python3\\lib\\site-packages (from en-core-web-sm==3.6.0) (3.6.1)\n",
      "Requirement already satisfied: spacy-legacy<3.1.0,>=3.0.11 in c:\\env\\bin\\python3\\lib\\site-packages (from spacy<3.7.0,>=3.6.0->en-core-web-sm==3.6.0) (3.0.12)\n",
      "Requirement already satisfied: spacy-loggers<2.0.0,>=1.0.0 in c:\\env\\bin\\python3\\lib\\site-packages (from spacy<3.7.0,>=3.6.0->en-core-web-sm==3.6.0) (1.0.5)\n",
      "Requirement already satisfied: murmurhash<1.1.0,>=0.28.0 in c:\\env\\bin\\python3\\lib\\site-packages (from spacy<3.7.0,>=3.6.0->en-core-web-sm==3.6.0) (1.0.9)\n",
      "Requirement already satisfied: cymem<2.1.0,>=2.0.2 in c:\\env\\bin\\python3\\lib\\site-packages (from spacy<3.7.0,>=3.6.0->en-core-web-sm==3.6.0) (2.0.7)\n",
      "Requirement already satisfied: preshed<3.1.0,>=3.0.2 in c:\\env\\bin\\python3\\lib\\site-packages (from spacy<3.7.0,>=3.6.0->en-core-web-sm==3.6.0) (3.0.8)\n",
      "Requirement already satisfied: thinc<8.2.0,>=8.1.8 in c:\\env\\bin\\python3\\lib\\site-packages (from spacy<3.7.0,>=3.6.0->en-core-web-sm==3.6.0) (8.1.12)\n",
      "Requirement already satisfied: wasabi<1.2.0,>=0.9.1 in c:\\env\\bin\\python3\\lib\\site-packages (from spacy<3.7.0,>=3.6.0->en-core-web-sm==3.6.0) (1.1.2)\n",
      "Requirement already satisfied: srsly<3.0.0,>=2.4.3 in c:\\env\\bin\\python3\\lib\\site-packages (from spacy<3.7.0,>=3.6.0->en-core-web-sm==3.6.0) (2.4.7)\n",
      "Requirement already satisfied: catalogue<2.1.0,>=2.0.6 in c:\\env\\bin\\python3\\lib\\site-packages (from spacy<3.7.0,>=3.6.0->en-core-web-sm==3.6.0) (2.0.9)\n",
      "Requirement already satisfied: typer<0.10.0,>=0.3.0 in c:\\env\\bin\\python3\\lib\\site-packages (from spacy<3.7.0,>=3.6.0->en-core-web-sm==3.6.0) (0.9.0)\n",
      "Requirement already satisfied: pathy>=0.10.0 in c:\\env\\bin\\python3\\lib\\site-packages (from spacy<3.7.0,>=3.6.0->en-core-web-sm==3.6.0) (0.10.2)\n",
      "Requirement already satisfied: smart-open<7.0.0,>=5.2.1 in c:\\env\\bin\\python3\\lib\\site-packages (from spacy<3.7.0,>=3.6.0->en-core-web-sm==3.6.0) (6.4.0)\n",
      "Requirement already satisfied: tqdm<5.0.0,>=4.38.0 in c:\\env\\bin\\python3\\lib\\site-packages (from spacy<3.7.0,>=3.6.0->en-core-web-sm==3.6.0) (4.66.1)\n",
      "Requirement already satisfied: numpy>=1.15.0 in c:\\env\\bin\\python3\\lib\\site-packages (from spacy<3.7.0,>=3.6.0->en-core-web-sm==3.6.0) (1.24.2)\n",
      "Requirement already satisfied: requests<3.0.0,>=2.13.0 in c:\\env\\bin\\python3\\lib\\site-packages (from spacy<3.7.0,>=3.6.0->en-core-web-sm==3.6.0) (2.28.2)\n",
      "Requirement already satisfied: pydantic!=1.8,!=1.8.1,<3.0.0,>=1.7.4 in c:\\env\\bin\\python3\\lib\\site-packages (from spacy<3.7.0,>=3.6.0->en-core-web-sm==3.6.0) (2.3.0)\n",
      "Requirement already satisfied: jinja2 in c:\\env\\bin\\python3\\lib\\site-packages (from spacy<3.7.0,>=3.6.0->en-core-web-sm==3.6.0) (3.1.2)\n",
      "Requirement already satisfied: setuptools in c:\\env\\bin\\python3\\lib\\site-packages (from spacy<3.7.0,>=3.6.0->en-core-web-sm==3.6.0) (65.5.0)\n",
      "Requirement already satisfied: packaging>=20.0 in c:\\env\\bin\\python3\\lib\\site-packages (from spacy<3.7.0,>=3.6.0->en-core-web-sm==3.6.0) (23.0)\n",
      "Requirement already satisfied: langcodes<4.0.0,>=3.2.0 in c:\\env\\bin\\python3\\lib\\site-packages (from spacy<3.7.0,>=3.6.0->en-core-web-sm==3.6.0) (3.3.0)\n",
      "Requirement already satisfied: annotated-types>=0.4.0 in c:\\env\\bin\\python3\\lib\\site-packages (from pydantic!=1.8,!=1.8.1,<3.0.0,>=1.7.4->spacy<3.7.0,>=3.6.0->en-core-web-sm==3.6.0) (0.5.0)\n",
      "Requirement already satisfied: pydantic-core==2.6.3 in c:\\env\\bin\\python3\\lib\\site-packages (from pydantic!=1.8,!=1.8.1,<3.0.0,>=1.7.4->spacy<3.7.0,>=3.6.0->en-core-web-sm==3.6.0) (2.6.3)\n",
      "Requirement already satisfied: typing-extensions>=4.6.1 in c:\\env\\bin\\python3\\lib\\site-packages (from pydantic!=1.8,!=1.8.1,<3.0.0,>=1.7.4->spacy<3.7.0,>=3.6.0->en-core-web-sm==3.6.0) (4.7.1)\n",
      "Requirement already satisfied: charset-normalizer<4,>=2 in c:\\env\\bin\\python3\\lib\\site-packages (from requests<3.0.0,>=2.13.0->spacy<3.7.0,>=3.6.0->en-core-web-sm==3.6.0) (3.0.1)\n",
      "Requirement already satisfied: idna<4,>=2.5 in c:\\env\\bin\\python3\\lib\\site-packages (from requests<3.0.0,>=2.13.0->spacy<3.7.0,>=3.6.0->en-core-web-sm==3.6.0) (2.8)\n",
      "Requirement already satisfied: urllib3<1.27,>=1.21.1 in c:\\env\\bin\\python3\\lib\\site-packages (from requests<3.0.0,>=2.13.0->spacy<3.7.0,>=3.6.0->en-core-web-sm==3.6.0) (1.24.3)\n",
      "Requirement already satisfied: certifi>=2017.4.17 in c:\\env\\bin\\python3\\lib\\site-packages (from requests<3.0.0,>=2.13.0->spacy<3.7.0,>=3.6.0->en-core-web-sm==3.6.0) (2022.12.7)\n",
      "Requirement already satisfied: blis<0.8.0,>=0.7.8 in c:\\env\\bin\\python3\\lib\\site-packages (from thinc<8.2.0,>=8.1.8->spacy<3.7.0,>=3.6.0->en-core-web-sm==3.6.0) (0.7.10)\n",
      "Requirement already satisfied: confection<1.0.0,>=0.0.1 in c:\\env\\bin\\python3\\lib\\site-packages (from thinc<8.2.0,>=8.1.8->spacy<3.7.0,>=3.6.0->en-core-web-sm==3.6.0) (0.1.3)\n",
      "Requirement already satisfied: colorama in c:\\env\\bin\\python3\\lib\\site-packages (from tqdm<5.0.0,>=4.38.0->spacy<3.7.0,>=3.6.0->en-core-web-sm==3.6.0) (0.4.6)\n",
      "Requirement already satisfied: click<9.0.0,>=7.1.1 in c:\\env\\bin\\python3\\lib\\site-packages (from typer<0.10.0,>=0.3.0->spacy<3.7.0,>=3.6.0->en-core-web-sm==3.6.0) (8.1.7)\n",
      "Requirement already satisfied: MarkupSafe>=2.0 in c:\\env\\bin\\python3\\lib\\site-packages (from jinja2->spacy<3.7.0,>=3.6.0->en-core-web-sm==3.6.0) (2.1.2)\n",
      "\u001b[38;5;2m✔ Download and installation successful\u001b[0m\n",
      "You can now load the package via spacy.load('en_core_web_sm')\n"
     ]
    },
    {
     "name": "stderr",
     "output_type": "stream",
     "text": [
      "c:\\env\\bin\\python3\\lib\\site-packages\\cupy\\_environment.py:213: UserWarning: CUDA path could not be detected. Set CUDA_PATH environment variable if CuPy fails to load.\n",
      "  warnings.warn(\n",
      "c:\\env\\bin\\python3\\lib\\site-packages\\cupy\\_environment.py:213: UserWarning: CUDA path could not be detected. Set CUDA_PATH environment variable if CuPy fails to load.\n",
      "  warnings.warn(\n",
      "c:\\env\\bin\\python3\\lib\\site-packages\\cupy\\_environment.py:213: UserWarning: CUDA path could not be detected. Set CUDA_PATH environment variable if CuPy fails to load.\n",
      "  warnings.warn(\n"
     ]
    },
    {
     "name": "stdout",
     "output_type": "stream",
     "text": [
      "Collecting fr-core-news-sm==3.6.0\n",
      "  Downloading https://github.com/explosion/spacy-models/releases/download/fr_core_news_sm-3.6.0/fr_core_news_sm-3.6.0-py3-none-any.whl (16.3 MB)\n",
      "     ---------------------------------------- 0.0/16.3 MB ? eta -:--:--\n",
      "     ---------------------------------------- 0.1/16.3 MB 2.2 MB/s eta 0:00:08\n",
      "     - -------------------------------------- 0.4/16.3 MB 5.5 MB/s eta 0:00:03\n",
      "     -- ------------------------------------- 1.0/16.3 MB 7.0 MB/s eta 0:00:03\n",
      "     ---- ----------------------------------- 1.8/16.3 MB 9.5 MB/s eta 0:00:02\n",
      "     ------ --------------------------------- 2.7/16.3 MB 11.3 MB/s eta 0:00:02\n",
      "     --------- ------------------------------ 3.8/16.3 MB 13.5 MB/s eta 0:00:01\n",
      "     ----------- ---------------------------- 4.8/16.3 MB 14.5 MB/s eta 0:00:01\n",
      "     -------------- ------------------------- 5.8/16.3 MB 16.1 MB/s eta 0:00:01\n",
      "     ----------------- ---------------------- 7.0/16.3 MB 17.2 MB/s eta 0:00:01\n",
      "     ------------------- -------------------- 8.1/16.3 MB 17.9 MB/s eta 0:00:01\n",
      "     ----------------------- ---------------- 9.5/16.3 MB 19.0 MB/s eta 0:00:01\n",
      "     -------------------------- ------------ 11.1/16.3 MB 24.2 MB/s eta 0:00:01\n",
      "     ------------------------------ -------- 12.9/16.3 MB 28.5 MB/s eta 0:00:01\n",
      "     ---------------------------------- ---- 14.6/16.3 MB 29.7 MB/s eta 0:00:01\n",
      "     --------------------------------------  16.3/16.3 MB 32.7 MB/s eta 0:00:01\n",
      "     --------------------------------------  16.3/16.3 MB 32.7 MB/s eta 0:00:01\n",
      "     --------------------------------------- 16.3/16.3 MB 26.1 MB/s eta 0:00:00\n",
      "Requirement already satisfied: spacy<3.7.0,>=3.6.0 in c:\\env\\bin\\python3\\lib\\site-packages (from fr-core-news-sm==3.6.0) (3.6.1)\n",
      "Requirement already satisfied: spacy-legacy<3.1.0,>=3.0.11 in c:\\env\\bin\\python3\\lib\\site-packages (from spacy<3.7.0,>=3.6.0->fr-core-news-sm==3.6.0) (3.0.12)\n",
      "Requirement already satisfied: spacy-loggers<2.0.0,>=1.0.0 in c:\\env\\bin\\python3\\lib\\site-packages (from spacy<3.7.0,>=3.6.0->fr-core-news-sm==3.6.0) (1.0.5)\n",
      "Requirement already satisfied: murmurhash<1.1.0,>=0.28.0 in c:\\env\\bin\\python3\\lib\\site-packages (from spacy<3.7.0,>=3.6.0->fr-core-news-sm==3.6.0) (1.0.9)\n",
      "Requirement already satisfied: cymem<2.1.0,>=2.0.2 in c:\\env\\bin\\python3\\lib\\site-packages (from spacy<3.7.0,>=3.6.0->fr-core-news-sm==3.6.0) (2.0.7)\n",
      "Requirement already satisfied: preshed<3.1.0,>=3.0.2 in c:\\env\\bin\\python3\\lib\\site-packages (from spacy<3.7.0,>=3.6.0->fr-core-news-sm==3.6.0) (3.0.8)\n",
      "Requirement already satisfied: thinc<8.2.0,>=8.1.8 in c:\\env\\bin\\python3\\lib\\site-packages (from spacy<3.7.0,>=3.6.0->fr-core-news-sm==3.6.0) (8.1.12)\n",
      "Requirement already satisfied: wasabi<1.2.0,>=0.9.1 in c:\\env\\bin\\python3\\lib\\site-packages (from spacy<3.7.0,>=3.6.0->fr-core-news-sm==3.6.0) (1.1.2)\n",
      "Requirement already satisfied: srsly<3.0.0,>=2.4.3 in c:\\env\\bin\\python3\\lib\\site-packages (from spacy<3.7.0,>=3.6.0->fr-core-news-sm==3.6.0) (2.4.7)\n",
      "Requirement already satisfied: catalogue<2.1.0,>=2.0.6 in c:\\env\\bin\\python3\\lib\\site-packages (from spacy<3.7.0,>=3.6.0->fr-core-news-sm==3.6.0) (2.0.9)\n",
      "Requirement already satisfied: typer<0.10.0,>=0.3.0 in c:\\env\\bin\\python3\\lib\\site-packages (from spacy<3.7.0,>=3.6.0->fr-core-news-sm==3.6.0) (0.9.0)\n",
      "Requirement already satisfied: pathy>=0.10.0 in c:\\env\\bin\\python3\\lib\\site-packages (from spacy<3.7.0,>=3.6.0->fr-core-news-sm==3.6.0) (0.10.2)\n",
      "Requirement already satisfied: smart-open<7.0.0,>=5.2.1 in c:\\env\\bin\\python3\\lib\\site-packages (from spacy<3.7.0,>=3.6.0->fr-core-news-sm==3.6.0) (6.4.0)\n",
      "Requirement already satisfied: tqdm<5.0.0,>=4.38.0 in c:\\env\\bin\\python3\\lib\\site-packages (from spacy<3.7.0,>=3.6.0->fr-core-news-sm==3.6.0) (4.66.1)\n",
      "Requirement already satisfied: numpy>=1.15.0 in c:\\env\\bin\\python3\\lib\\site-packages (from spacy<3.7.0,>=3.6.0->fr-core-news-sm==3.6.0) (1.24.2)\n",
      "Requirement already satisfied: requests<3.0.0,>=2.13.0 in c:\\env\\bin\\python3\\lib\\site-packages (from spacy<3.7.0,>=3.6.0->fr-core-news-sm==3.6.0) (2.28.2)\n",
      "Requirement already satisfied: pydantic!=1.8,!=1.8.1,<3.0.0,>=1.7.4 in c:\\env\\bin\\python3\\lib\\site-packages (from spacy<3.7.0,>=3.6.0->fr-core-news-sm==3.6.0) (2.3.0)\n",
      "Requirement already satisfied: jinja2 in c:\\env\\bin\\python3\\lib\\site-packages (from spacy<3.7.0,>=3.6.0->fr-core-news-sm==3.6.0) (3.1.2)\n",
      "Requirement already satisfied: setuptools in c:\\env\\bin\\python3\\lib\\site-packages (from spacy<3.7.0,>=3.6.0->fr-core-news-sm==3.6.0) (65.5.0)\n",
      "Requirement already satisfied: packaging>=20.0 in c:\\env\\bin\\python3\\lib\\site-packages (from spacy<3.7.0,>=3.6.0->fr-core-news-sm==3.6.0) (23.0)\n",
      "Requirement already satisfied: langcodes<4.0.0,>=3.2.0 in c:\\env\\bin\\python3\\lib\\site-packages (from spacy<3.7.0,>=3.6.0->fr-core-news-sm==3.6.0) (3.3.0)\n",
      "Requirement already satisfied: annotated-types>=0.4.0 in c:\\env\\bin\\python3\\lib\\site-packages (from pydantic!=1.8,!=1.8.1,<3.0.0,>=1.7.4->spacy<3.7.0,>=3.6.0->fr-core-news-sm==3.6.0) (0.5.0)\n",
      "Requirement already satisfied: pydantic-core==2.6.3 in c:\\env\\bin\\python3\\lib\\site-packages (from pydantic!=1.8,!=1.8.1,<3.0.0,>=1.7.4->spacy<3.7.0,>=3.6.0->fr-core-news-sm==3.6.0) (2.6.3)\n",
      "Requirement already satisfied: typing-extensions>=4.6.1 in c:\\env\\bin\\python3\\lib\\site-packages (from pydantic!=1.8,!=1.8.1,<3.0.0,>=1.7.4->spacy<3.7.0,>=3.6.0->fr-core-news-sm==3.6.0) (4.7.1)\n",
      "Requirement already satisfied: charset-normalizer<4,>=2 in c:\\env\\bin\\python3\\lib\\site-packages (from requests<3.0.0,>=2.13.0->spacy<3.7.0,>=3.6.0->fr-core-news-sm==3.6.0) (3.0.1)\n",
      "Requirement already satisfied: idna<4,>=2.5 in c:\\env\\bin\\python3\\lib\\site-packages (from requests<3.0.0,>=2.13.0->spacy<3.7.0,>=3.6.0->fr-core-news-sm==3.6.0) (2.8)\n",
      "Requirement already satisfied: urllib3<1.27,>=1.21.1 in c:\\env\\bin\\python3\\lib\\site-packages (from requests<3.0.0,>=2.13.0->spacy<3.7.0,>=3.6.0->fr-core-news-sm==3.6.0) (1.24.3)\n",
      "Requirement already satisfied: certifi>=2017.4.17 in c:\\env\\bin\\python3\\lib\\site-packages (from requests<3.0.0,>=2.13.0->spacy<3.7.0,>=3.6.0->fr-core-news-sm==3.6.0) (2022.12.7)\n",
      "Requirement already satisfied: blis<0.8.0,>=0.7.8 in c:\\env\\bin\\python3\\lib\\site-packages (from thinc<8.2.0,>=8.1.8->spacy<3.7.0,>=3.6.0->fr-core-news-sm==3.6.0) (0.7.10)\n",
      "Requirement already satisfied: confection<1.0.0,>=0.0.1 in c:\\env\\bin\\python3\\lib\\site-packages (from thinc<8.2.0,>=8.1.8->spacy<3.7.0,>=3.6.0->fr-core-news-sm==3.6.0) (0.1.3)\n",
      "Requirement already satisfied: colorama in c:\\env\\bin\\python3\\lib\\site-packages (from tqdm<5.0.0,>=4.38.0->spacy<3.7.0,>=3.6.0->fr-core-news-sm==3.6.0) (0.4.6)\n",
      "Requirement already satisfied: click<9.0.0,>=7.1.1 in c:\\env\\bin\\python3\\lib\\site-packages (from typer<0.10.0,>=0.3.0->spacy<3.7.0,>=3.6.0->fr-core-news-sm==3.6.0) (8.1.7)\n",
      "Requirement already satisfied: MarkupSafe>=2.0 in c:\\env\\bin\\python3\\lib\\site-packages (from jinja2->spacy<3.7.0,>=3.6.0->fr-core-news-sm==3.6.0) (2.1.2)\n",
      "\u001b[38;5;2m✔ Download and installation successful\u001b[0m\n",
      "You can now load the package via spacy.load('fr_core_news_sm')\n"
     ]
    },
    {
     "name": "stderr",
     "output_type": "stream",
     "text": [
      "c:\\env\\bin\\python3\\lib\\site-packages\\cupy\\_environment.py:213: UserWarning: CUDA path could not be detected. Set CUDA_PATH environment variable if CuPy fails to load.\n",
      "  warnings.warn(\n",
      "c:\\env\\bin\\python3\\lib\\site-packages\\cupy\\_environment.py:213: UserWarning: CUDA path could not be detected. Set CUDA_PATH environment variable if CuPy fails to load.\n",
      "  warnings.warn(\n",
      "c:\\env\\bin\\python3\\lib\\site-packages\\cupy\\_environment.py:213: UserWarning: CUDA path could not be detected. Set CUDA_PATH environment variable if CuPy fails to load.\n",
      "  warnings.warn(\n"
     ]
    },
    {
     "name": "stdout",
     "output_type": "stream",
     "text": [
      "Collecting de-core-news-sm==3.6.0"
     ]
    },
    {
     "name": "stderr",
     "output_type": "stream",
     "text": [
      "c:\\env\\bin\\python3\\lib\\site-packages\\cupy\\_environment.py:213: UserWarning: CUDA path could not be detected. Set CUDA_PATH environment variable if CuPy fails to load.\n",
      "  warnings.warn(\n",
      "c:\\env\\bin\\python3\\lib\\site-packages\\cupy\\_environment.py:213: UserWarning: CUDA path could not be detected. Set CUDA_PATH environment variable if CuPy fails to load.\n",
      "  warnings.warn(\n",
      "c:\\env\\bin\\python3\\lib\\site-packages\\cupy\\_environment.py:213: UserWarning: CUDA path could not be detected. Set CUDA_PATH environment variable if CuPy fails to load.\n",
      "  warnings.warn(\n"
     ]
    },
    {
     "name": "stdout",
     "output_type": "stream",
     "text": [
      "\n",
      "  Downloading https://github.com/explosion/spacy-models/releases/download/de_core_news_sm-3.6.0/de_core_news_sm-3.6.0-py3-none-any.whl (14.6 MB)\n",
      "     ---------------------------------------- 0.0/14.6 MB ? eta -:--:--\n",
      "     ---------------------------------------- 0.1/14.6 MB 3.3 MB/s eta 0:00:05\n",
      "     - -------------------------------------- 0.5/14.6 MB 6.7 MB/s eta 0:00:03\n",
      "     ----- ---------------------------------- 1.9/14.6 MB 15.2 MB/s eta 0:00:01\n",
      "     ----------- ---------------------------- 4.2/14.6 MB 24.3 MB/s eta 0:00:01\n",
      "     ----------------- ---------------------- 6.5/14.6 MB 29.8 MB/s eta 0:00:01\n",
      "     ----------------------- ---------------- 8.6/14.6 MB 32.1 MB/s eta 0:00:01\n",
      "     ----------------------------- --------- 11.1/14.6 MB 46.7 MB/s eta 0:00:01\n",
      "     --------------------------------------  14.3/14.6 MB 54.7 MB/s eta 0:00:01\n",
      "     --------------------------------------  14.6/14.6 MB 54.7 MB/s eta 0:00:01\n",
      "     --------------------------------------- 14.6/14.6 MB 38.4 MB/s eta 0:00:00\n",
      "Requirement already satisfied: spacy<3.7.0,>=3.6.0 in c:\\env\\bin\\python3\\lib\\site-packages (from de-core-news-sm==3.6.0) (3.6.1)\n",
      "Requirement already satisfied: spacy-legacy<3.1.0,>=3.0.11 in c:\\env\\bin\\python3\\lib\\site-packages (from spacy<3.7.0,>=3.6.0->de-core-news-sm==3.6.0) (3.0.12)\n",
      "Requirement already satisfied: spacy-loggers<2.0.0,>=1.0.0 in c:\\env\\bin\\python3\\lib\\site-packages (from spacy<3.7.0,>=3.6.0->de-core-news-sm==3.6.0) (1.0.5)\n",
      "Requirement already satisfied: murmurhash<1.1.0,>=0.28.0 in c:\\env\\bin\\python3\\lib\\site-packages (from spacy<3.7.0,>=3.6.0->de-core-news-sm==3.6.0) (1.0.9)\n",
      "Requirement already satisfied: cymem<2.1.0,>=2.0.2 in c:\\env\\bin\\python3\\lib\\site-packages (from spacy<3.7.0,>=3.6.0->de-core-news-sm==3.6.0) (2.0.7)\n",
      "Requirement already satisfied: preshed<3.1.0,>=3.0.2 in c:\\env\\bin\\python3\\lib\\site-packages (from spacy<3.7.0,>=3.6.0->de-core-news-sm==3.6.0) (3.0.8)\n",
      "Requirement already satisfied: thinc<8.2.0,>=8.1.8 in c:\\env\\bin\\python3\\lib\\site-packages (from spacy<3.7.0,>=3.6.0->de-core-news-sm==3.6.0) (8.1.12)\n",
      "Requirement already satisfied: wasabi<1.2.0,>=0.9.1 in c:\\env\\bin\\python3\\lib\\site-packages (from spacy<3.7.0,>=3.6.0->de-core-news-sm==3.6.0) (1.1.2)\n",
      "Requirement already satisfied: srsly<3.0.0,>=2.4.3 in c:\\env\\bin\\python3\\lib\\site-packages (from spacy<3.7.0,>=3.6.0->de-core-news-sm==3.6.0) (2.4.7)\n",
      "Requirement already satisfied: catalogue<2.1.0,>=2.0.6 in c:\\env\\bin\\python3\\lib\\site-packages (from spacy<3.7.0,>=3.6.0->de-core-news-sm==3.6.0) (2.0.9)\n",
      "Requirement already satisfied: typer<0.10.0,>=0.3.0 in c:\\env\\bin\\python3\\lib\\site-packages (from spacy<3.7.0,>=3.6.0->de-core-news-sm==3.6.0) (0.9.0)\n",
      "Requirement already satisfied: pathy>=0.10.0 in c:\\env\\bin\\python3\\lib\\site-packages (from spacy<3.7.0,>=3.6.0->de-core-news-sm==3.6.0) (0.10.2)\n",
      "Requirement already satisfied: smart-open<7.0.0,>=5.2.1 in c:\\env\\bin\\python3\\lib\\site-packages (from spacy<3.7.0,>=3.6.0->de-core-news-sm==3.6.0) (6.4.0)\n",
      "Requirement already satisfied: tqdm<5.0.0,>=4.38.0 in c:\\env\\bin\\python3\\lib\\site-packages (from spacy<3.7.0,>=3.6.0->de-core-news-sm==3.6.0) (4.66.1)\n",
      "Requirement already satisfied: numpy>=1.15.0 in c:\\env\\bin\\python3\\lib\\site-packages (from spacy<3.7.0,>=3.6.0->de-core-news-sm==3.6.0) (1.24.2)\n",
      "Requirement already satisfied: requests<3.0.0,>=2.13.0 in c:\\env\\bin\\python3\\lib\\site-packages (from spacy<3.7.0,>=3.6.0->de-core-news-sm==3.6.0) (2.28.2)\n",
      "Requirement already satisfied: pydantic!=1.8,!=1.8.1,<3.0.0,>=1.7.4 in c:\\env\\bin\\python3\\lib\\site-packages (from spacy<3.7.0,>=3.6.0->de-core-news-sm==3.6.0) (2.3.0)\n",
      "Requirement already satisfied: jinja2 in c:\\env\\bin\\python3\\lib\\site-packages (from spacy<3.7.0,>=3.6.0->de-core-news-sm==3.6.0) (3.1.2)\n",
      "Requirement already satisfied: setuptools in c:\\env\\bin\\python3\\lib\\site-packages (from spacy<3.7.0,>=3.6.0->de-core-news-sm==3.6.0) (65.5.0)\n",
      "Requirement already satisfied: packaging>=20.0 in c:\\env\\bin\\python3\\lib\\site-packages (from spacy<3.7.0,>=3.6.0->de-core-news-sm==3.6.0) (23.0)\n",
      "Requirement already satisfied: langcodes<4.0.0,>=3.2.0 in c:\\env\\bin\\python3\\lib\\site-packages (from spacy<3.7.0,>=3.6.0->de-core-news-sm==3.6.0) (3.3.0)\n",
      "Requirement already satisfied: annotated-types>=0.4.0 in c:\\env\\bin\\python3\\lib\\site-packages (from pydantic!=1.8,!=1.8.1,<3.0.0,>=1.7.4->spacy<3.7.0,>=3.6.0->de-core-news-sm==3.6.0) (0.5.0)\n",
      "Requirement already satisfied: pydantic-core==2.6.3 in c:\\env\\bin\\python3\\lib\\site-packages (from pydantic!=1.8,!=1.8.1,<3.0.0,>=1.7.4->spacy<3.7.0,>=3.6.0->de-core-news-sm==3.6.0) (2.6.3)\n",
      "Requirement already satisfied: typing-extensions>=4.6.1 in c:\\env\\bin\\python3\\lib\\site-packages (from pydantic!=1.8,!=1.8.1,<3.0.0,>=1.7.4->spacy<3.7.0,>=3.6.0->de-core-news-sm==3.6.0) (4.7.1)\n",
      "Requirement already satisfied: charset-normalizer<4,>=2 in c:\\env\\bin\\python3\\lib\\site-packages (from requests<3.0.0,>=2.13.0->spacy<3.7.0,>=3.6.0->de-core-news-sm==3.6.0) (3.0.1)\n",
      "Requirement already satisfied: idna<4,>=2.5 in c:\\env\\bin\\python3\\lib\\site-packages (from requests<3.0.0,>=2.13.0->spacy<3.7.0,>=3.6.0->de-core-news-sm==3.6.0) (2.8)\n",
      "Requirement already satisfied: urllib3<1.27,>=1.21.1 in c:\\env\\bin\\python3\\lib\\site-packages (from requests<3.0.0,>=2.13.0->spacy<3.7.0,>=3.6.0->de-core-news-sm==3.6.0) (1.24.3)\n",
      "Requirement already satisfied: certifi>=2017.4.17 in c:\\env\\bin\\python3\\lib\\site-packages (from requests<3.0.0,>=2.13.0->spacy<3.7.0,>=3.6.0->de-core-news-sm==3.6.0) (2022.12.7)\n",
      "Requirement already satisfied: blis<0.8.0,>=0.7.8 in c:\\env\\bin\\python3\\lib\\site-packages (from thinc<8.2.0,>=8.1.8->spacy<3.7.0,>=3.6.0->de-core-news-sm==3.6.0) (0.7.10)\n",
      "Requirement already satisfied: confection<1.0.0,>=0.0.1 in c:\\env\\bin\\python3\\lib\\site-packages (from thinc<8.2.0,>=8.1.8->spacy<3.7.0,>=3.6.0->de-core-news-sm==3.6.0) (0.1.3)\n",
      "Requirement already satisfied: colorama in c:\\env\\bin\\python3\\lib\\site-packages (from tqdm<5.0.0,>=4.38.0->spacy<3.7.0,>=3.6.0->de-core-news-sm==3.6.0) (0.4.6)\n",
      "Requirement already satisfied: click<9.0.0,>=7.1.1 in c:\\env\\bin\\python3\\lib\\site-packages (from typer<0.10.0,>=0.3.0->spacy<3.7.0,>=3.6.0->de-core-news-sm==3.6.0) (8.1.7)\n",
      "Requirement already satisfied: MarkupSafe>=2.0 in c:\\env\\bin\\python3\\lib\\site-packages (from jinja2->spacy<3.7.0,>=3.6.0->de-core-news-sm==3.6.0) (2.1.2)\n",
      "\u001b[38;5;2m✔ Download and installation successful\u001b[0m\n",
      "You can now load the package via spacy.load('de_core_news_sm')\n",
      "Collecting pl-core-news-sm==3.6.0\n",
      "  Downloading https://github.com/explosion/spacy-models/releases/download/pl_core_news_sm-3.6.0/pl_core_news_sm-3.6.0-py3-none-any.whl (20.2 MB)\n",
      "     ---------------------------------------- 0.0/20.2 MB ? eta -:--:--\n",
      "     ---------------------------------------- 0.1/20.2 MB 3.3 MB/s eta 0:00:07\n",
      "      --------------------------------------- 0.5/20.2 MB 6.3 MB/s eta 0:00:04\n",
      "     -- ------------------------------------- 1.2/20.2 MB 9.6 MB/s eta 0:00:02\n",
      "     --- ------------------------------------ 1.9/20.2 MB 11.1 MB/s eta 0:00:02\n",
      "     ----- ---------------------------------- 2.8/20.2 MB 12.6 MB/s eta 0:00:02\n",
      "     ------- -------------------------------- 3.6/20.2 MB 13.5 MB/s eta 0:00:02\n",
      "     -------- ------------------------------- 4.5/20.2 MB 14.5 MB/s eta 0:00:02\n",
      "     ---------- ----------------------------- 5.4/20.2 MB 15.1 MB/s eta 0:00:01\n",
      "     ------------ --------------------------- 6.3/20.2 MB 15.6 MB/s eta 0:00:01\n",
      "     -------------- ------------------------- 7.5/20.2 MB 16.5 MB/s eta 0:00:01\n",
      "     ----------------- ---------------------- 8.8/20.2 MB 17.5 MB/s eta 0:00:01\n",
      "     ------------------- ------------------- 10.1/20.2 MB 19.1 MB/s eta 0:00:01\n",
      "     ---------------------- ---------------- 11.6/20.2 MB 23.4 MB/s eta 0:00:01\n",
      "     ------------------------- ------------- 13.4/20.2 MB 26.2 MB/s eta 0:00:01\n",
      "     ---------------------------- ---------- 14.8/20.2 MB 28.5 MB/s eta 0:00:01\n",
      "     -------------------------------- ------ 16.9/20.2 MB 32.7 MB/s eta 0:00:01\n",
      "     ------------------------------------ -- 19.0/20.2 MB 38.5 MB/s eta 0:00:01\n",
      "     --------------------------------------  20.2/20.2 MB 38.5 MB/s eta 0:00:01\n",
      "     --------------------------------------  20.2/20.2 MB 38.5 MB/s eta 0:00:01\n",
      "     --------------------------------------- 20.2/20.2 MB 27.3 MB/s eta 0:00:00\n",
      "Requirement already satisfied: spacy<3.7.0,>=3.6.0 in c:\\env\\bin\\python3\\lib\\site-packages (from pl-core-news-sm==3.6.0) (3.6.1)\n",
      "Requirement already satisfied: spacy-legacy<3.1.0,>=3.0.11 in c:\\env\\bin\\python3\\lib\\site-packages (from spacy<3.7.0,>=3.6.0->pl-core-news-sm==3.6.0) (3.0.12)\n",
      "Requirement already satisfied: spacy-loggers<2.0.0,>=1.0.0 in c:\\env\\bin\\python3\\lib\\site-packages (from spacy<3.7.0,>=3.6.0->pl-core-news-sm==3.6.0) (1.0.5)\n",
      "Requirement already satisfied: murmurhash<1.1.0,>=0.28.0 in c:\\env\\bin\\python3\\lib\\site-packages (from spacy<3.7.0,>=3.6.0->pl-core-news-sm==3.6.0) (1.0.9)\n",
      "Requirement already satisfied: cymem<2.1.0,>=2.0.2 in c:\\env\\bin\\python3\\lib\\site-packages (from spacy<3.7.0,>=3.6.0->pl-core-news-sm==3.6.0) (2.0.7)\n",
      "Requirement already satisfied: preshed<3.1.0,>=3.0.2 in c:\\env\\bin\\python3\\lib\\site-packages (from spacy<3.7.0,>=3.6.0->pl-core-news-sm==3.6.0) (3.0.8)\n",
      "Requirement already satisfied: thinc<8.2.0,>=8.1.8 in c:\\env\\bin\\python3\\lib\\site-packages (from spacy<3.7.0,>=3.6.0->pl-core-news-sm==3.6.0) (8.1.12)\n",
      "Requirement already satisfied: wasabi<1.2.0,>=0.9.1 in c:\\env\\bin\\python3\\lib\\site-packages (from spacy<3.7.0,>=3.6.0->pl-core-news-sm==3.6.0) (1.1.2)\n",
      "Requirement already satisfied: srsly<3.0.0,>=2.4.3 in c:\\env\\bin\\python3\\lib\\site-packages (from spacy<3.7.0,>=3.6.0->pl-core-news-sm==3.6.0) (2.4.7)\n",
      "Requirement already satisfied: catalogue<2.1.0,>=2.0.6 in c:\\env\\bin\\python3\\lib\\site-packages (from spacy<3.7.0,>=3.6.0->pl-core-news-sm==3.6.0) (2.0.9)\n",
      "Requirement already satisfied: typer<0.10.0,>=0.3.0 in c:\\env\\bin\\python3\\lib\\site-packages (from spacy<3.7.0,>=3.6.0->pl-core-news-sm==3.6.0) (0.9.0)\n",
      "Requirement already satisfied: pathy>=0.10.0 in c:\\env\\bin\\python3\\lib\\site-packages (from spacy<3.7.0,>=3.6.0->pl-core-news-sm==3.6.0) (0.10.2)\n",
      "Requirement already satisfied: smart-open<7.0.0,>=5.2.1 in c:\\env\\bin\\python3\\lib\\site-packages (from spacy<3.7.0,>=3.6.0->pl-core-news-sm==3.6.0) (6.4.0)\n",
      "Requirement already satisfied: tqdm<5.0.0,>=4.38.0 in c:\\env\\bin\\python3\\lib\\site-packages (from spacy<3.7.0,>=3.6.0->pl-core-news-sm==3.6.0) (4.66.1)\n",
      "Requirement already satisfied: numpy>=1.15.0 in c:\\env\\bin\\python3\\lib\\site-packages (from spacy<3.7.0,>=3.6.0->pl-core-news-sm==3.6.0) (1.24.2)\n",
      "Requirement already satisfied: requests<3.0.0,>=2.13.0 in c:\\env\\bin\\python3\\lib\\site-packages (from spacy<3.7.0,>=3.6.0->pl-core-news-sm==3.6.0) (2.28.2)\n",
      "Requirement already satisfied: pydantic!=1.8,!=1.8.1,<3.0.0,>=1.7.4 in c:\\env\\bin\\python3\\lib\\site-packages (from spacy<3.7.0,>=3.6.0->pl-core-news-sm==3.6.0) (2.3.0)\n",
      "Requirement already satisfied: jinja2 in c:\\env\\bin\\python3\\lib\\site-packages (from spacy<3.7.0,>=3.6.0->pl-core-news-sm==3.6.0) (3.1.2)\n",
      "Requirement already satisfied: setuptools in c:\\env\\bin\\python3\\lib\\site-packages (from spacy<3.7.0,>=3.6.0->pl-core-news-sm==3.6.0) (65.5.0)\n",
      "Requirement already satisfied: packaging>=20.0 in c:\\env\\bin\\python3\\lib\\site-packages (from spacy<3.7.0,>=3.6.0->pl-core-news-sm==3.6.0) (23.0)\n",
      "Requirement already satisfied: langcodes<4.0.0,>=3.2.0 in c:\\env\\bin\\python3\\lib\\site-packages (from spacy<3.7.0,>=3.6.0->pl-core-news-sm==3.6.0) (3.3.0)\n",
      "Requirement already satisfied: annotated-types>=0.4.0 in c:\\env\\bin\\python3\\lib\\site-packages (from pydantic!=1.8,!=1.8.1,<3.0.0,>=1.7.4->spacy<3.7.0,>=3.6.0->pl-core-news-sm==3.6.0) (0.5.0)\n",
      "Requirement already satisfied: pydantic-core==2.6.3 in c:\\env\\bin\\python3\\lib\\site-packages (from pydantic!=1.8,!=1.8.1,<3.0.0,>=1.7.4->spacy<3.7.0,>=3.6.0->pl-core-news-sm==3.6.0) (2.6.3)\n",
      "Requirement already satisfied: typing-extensions>=4.6.1 in c:\\env\\bin\\python3\\lib\\site-packages (from pydantic!=1.8,!=1.8.1,<3.0.0,>=1.7.4->spacy<3.7.0,>=3.6.0->pl-core-news-sm==3.6.0) (4.7.1)\n",
      "Requirement already satisfied: charset-normalizer<4,>=2 in c:\\env\\bin\\python3\\lib\\site-packages (from requests<3.0.0,>=2.13.0->spacy<3.7.0,>=3.6.0->pl-core-news-sm==3.6.0) (3.0.1)\n",
      "Requirement already satisfied: idna<4,>=2.5 in c:\\env\\bin\\python3\\lib\\site-packages (from requests<3.0.0,>=2.13.0->spacy<3.7.0,>=3.6.0->pl-core-news-sm==3.6.0) (2.8)\n",
      "Requirement already satisfied: urllib3<1.27,>=1.21.1 in c:\\env\\bin\\python3\\lib\\site-packages (from requests<3.0.0,>=2.13.0->spacy<3.7.0,>=3.6.0->pl-core-news-sm==3.6.0) (1.24.3)\n",
      "Requirement already satisfied: certifi>=2017.4.17 in c:\\env\\bin\\python3\\lib\\site-packages (from requests<3.0.0,>=2.13.0->spacy<3.7.0,>=3.6.0->pl-core-news-sm==3.6.0) (2022.12.7)\n",
      "Requirement already satisfied: blis<0.8.0,>=0.7.8 in c:\\env\\bin\\python3\\lib\\site-packages (from thinc<8.2.0,>=8.1.8->spacy<3.7.0,>=3.6.0->pl-core-news-sm==3.6.0) (0.7.10)\n",
      "Requirement already satisfied: confection<1.0.0,>=0.0.1 in c:\\env\\bin\\python3\\lib\\site-packages (from thinc<8.2.0,>=8.1.8->spacy<3.7.0,>=3.6.0->pl-core-news-sm==3.6.0) (0.1.3)\n",
      "Requirement already satisfied: colorama in c:\\env\\bin\\python3\\lib\\site-packages (from tqdm<5.0.0,>=4.38.0->spacy<3.7.0,>=3.6.0->pl-core-news-sm==3.6.0) (0.4.6)\n",
      "Requirement already satisfied: click<9.0.0,>=7.1.1 in c:\\env\\bin\\python3\\lib\\site-packages (from typer<0.10.0,>=0.3.0->spacy<3.7.0,>=3.6.0->pl-core-news-sm==3.6.0) (8.1.7)\n",
      "Requirement already satisfied: MarkupSafe>=2.0 in c:\\env\\bin\\python3\\lib\\site-packages (from jinja2->spacy<3.7.0,>=3.6.0->pl-core-news-sm==3.6.0) (2.1.2)\n",
      "\u001b[38;5;2m✔ Download and installation successful\u001b[0m\n",
      "You can now load the package via spacy.load('pl_core_news_sm')\n"
     ]
    },
    {
     "name": "stderr",
     "output_type": "stream",
     "text": [
      "c:\\env\\bin\\python3\\lib\\site-packages\\cupy\\_environment.py:213: UserWarning: CUDA path could not be detected. Set CUDA_PATH environment variable if CuPy fails to load.\n",
      "  warnings.warn(\n",
      "c:\\env\\bin\\python3\\lib\\site-packages\\cupy\\_environment.py:213: UserWarning: CUDA path could not be detected. Set CUDA_PATH environment variable if CuPy fails to load.\n",
      "  warnings.warn(\n",
      "c:\\env\\bin\\python3\\lib\\site-packages\\cupy\\_environment.py:213: UserWarning: CUDA path could not be detected. Set CUDA_PATH environment variable if CuPy fails to load.\n",
      "  warnings.warn(\n"
     ]
    },
    {
     "name": "stdout",
     "output_type": "stream",
     "text": [
      "Collecting zh-core-web-sm==3.6.0\n",
      "  Downloading https://github.com/explosion/spacy-models/releases/download/zh_core_web_sm-3.6.0/zh_core_web_sm-3.6.0-py3-none-any.whl (48.5 MB)\n",
      "     ---------------------------------------- 0.0/48.5 MB ? eta -:--:--\n",
      "     ---------------------------------------- 0.1/48.5 MB 3.3 MB/s eta 0:00:15\n",
      "     ---------------------------------------- 0.5/48.5 MB 5.8 MB/s eta 0:00:09\n",
      "     - -------------------------------------- 1.7/48.5 MB 13.3 MB/s eta 0:00:04\n",
      "     -- ------------------------------------- 2.8/48.5 MB 16.2 MB/s eta 0:00:03\n",
      "     --- ------------------------------------ 4.0/48.5 MB 18.4 MB/s eta 0:00:03\n",
      "     ---- ----------------------------------- 5.7/48.5 MB 21.2 MB/s eta 0:00:03\n",
      "     ------ --------------------------------- 7.4/48.5 MB 23.6 MB/s eta 0:00:02\n",
      "     ------- -------------------------------- 9.3/48.5 MB 25.7 MB/s eta 0:00:02\n",
      "     -------- ------------------------------ 11.1/48.5 MB 32.8 MB/s eta 0:00:02\n",
      "     ---------- ---------------------------- 13.0/48.5 MB 36.4 MB/s eta 0:00:01\n",
      "     ------------ -------------------------- 15.2/48.5 MB 40.9 MB/s eta 0:00:01\n",
      "     ------------- ------------------------- 17.4/48.5 MB 40.9 MB/s eta 0:00:01\n",
      "     --------------- ----------------------- 19.8/48.5 MB 46.7 MB/s eta 0:00:01\n",
      "     ------------------ -------------------- 23.0/48.5 MB 50.4 MB/s eta 0:00:01\n",
      "     -------------------- ------------------ 25.9/48.5 MB 59.5 MB/s eta 0:00:01\n",
      "     ----------------------- --------------- 28.9/48.5 MB 59.5 MB/s eta 0:00:01\n",
      "     -------------------------- ------------ 32.5/48.5 MB 72.6 MB/s eta 0:00:01\n",
      "     --------------------------- ----------- 34.5/48.5 MB 72.6 MB/s eta 0:00:01\n",
      "     ------------------------------ -------- 37.5/48.5 MB 65.2 MB/s eta 0:00:01\n",
      "     ------------------------------- ------- 39.0/48.5 MB 54.7 MB/s eta 0:00:01\n",
      "     --------------------------------- ----- 41.4/48.5 MB 50.4 MB/s eta 0:00:01\n",
      "     ---------------------------------- ---- 43.4/48.5 MB 46.7 MB/s eta 0:00:01\n",
      "     ------------------------------------- - 46.2/48.5 MB 50.4 MB/s eta 0:00:01\n",
      "     --------------------------------------  47.6/48.5 MB 43.7 MB/s eta 0:00:01\n",
      "     --------------------------------------  48.5/48.5 MB 43.5 MB/s eta 0:00:01\n",
      "     --------------------------------------  48.5/48.5 MB 43.5 MB/s eta 0:00:01\n",
      "     --------------------------------------  48.5/48.5 MB 43.5 MB/s eta 0:00:01\n",
      "     --------------------------------------  48.5/48.5 MB 43.5 MB/s eta 0:00:01\n",
      "     --------------------------------------  48.5/48.5 MB 43.5 MB/s eta 0:00:01\n",
      "     --------------------------------------  48.5/48.5 MB 43.5 MB/s eta 0:00:01\n",
      "     --------------------------------------  48.5/48.5 MB 43.5 MB/s eta 0:00:01\n",
      "     --------------------------------------- 48.5/48.5 MB 18.2 MB/s eta 0:00:00\n",
      "Requirement already satisfied: spacy<3.7.0,>=3.6.0 in c:\\env\\bin\\python3\\lib\\site-packages (from zh-core-web-sm==3.6.0) (3.6.1)\n",
      "Requirement already satisfied: spacy-pkuseg<0.1.0,>=0.0.27 in c:\\env\\bin\\python3\\lib\\site-packages (from zh-core-web-sm==3.6.0) (0.0.32)\n",
      "Requirement already satisfied: spacy-legacy<3.1.0,>=3.0.11 in c:\\env\\bin\\python3\\lib\\site-packages (from spacy<3.7.0,>=3.6.0->zh-core-web-sm==3.6.0) (3.0.12)\n",
      "Requirement already satisfied: spacy-loggers<2.0.0,>=1.0.0 in c:\\env\\bin\\python3\\lib\\site-packages (from spacy<3.7.0,>=3.6.0->zh-core-web-sm==3.6.0) (1.0.5)\n",
      "Requirement already satisfied: murmurhash<1.1.0,>=0.28.0 in c:\\env\\bin\\python3\\lib\\site-packages (from spacy<3.7.0,>=3.6.0->zh-core-web-sm==3.6.0) (1.0.9)\n",
      "Requirement already satisfied: cymem<2.1.0,>=2.0.2 in c:\\env\\bin\\python3\\lib\\site-packages (from spacy<3.7.0,>=3.6.0->zh-core-web-sm==3.6.0) (2.0.7)\n",
      "Requirement already satisfied: preshed<3.1.0,>=3.0.2 in c:\\env\\bin\\python3\\lib\\site-packages (from spacy<3.7.0,>=3.6.0->zh-core-web-sm==3.6.0) (3.0.8)\n",
      "Requirement already satisfied: thinc<8.2.0,>=8.1.8 in c:\\env\\bin\\python3\\lib\\site-packages (from spacy<3.7.0,>=3.6.0->zh-core-web-sm==3.6.0) (8.1.12)\n",
      "Requirement already satisfied: wasabi<1.2.0,>=0.9.1 in c:\\env\\bin\\python3\\lib\\site-packages (from spacy<3.7.0,>=3.6.0->zh-core-web-sm==3.6.0) (1.1.2)\n",
      "Requirement already satisfied: srsly<3.0.0,>=2.4.3 in c:\\env\\bin\\python3\\lib\\site-packages (from spacy<3.7.0,>=3.6.0->zh-core-web-sm==3.6.0) (2.4.7)\n",
      "Requirement already satisfied: catalogue<2.1.0,>=2.0.6 in c:\\env\\bin\\python3\\lib\\site-packages (from spacy<3.7.0,>=3.6.0->zh-core-web-sm==3.6.0) (2.0.9)\n",
      "Requirement already satisfied: typer<0.10.0,>=0.3.0 in c:\\env\\bin\\python3\\lib\\site-packages (from spacy<3.7.0,>=3.6.0->zh-core-web-sm==3.6.0) (0.9.0)\n",
      "Requirement already satisfied: pathy>=0.10.0 in c:\\env\\bin\\python3\\lib\\site-packages (from spacy<3.7.0,>=3.6.0->zh-core-web-sm==3.6.0) (0.10.2)\n",
      "Requirement already satisfied: smart-open<7.0.0,>=5.2.1 in c:\\env\\bin\\python3\\lib\\site-packages (from spacy<3.7.0,>=3.6.0->zh-core-web-sm==3.6.0) (6.4.0)\n",
      "Requirement already satisfied: tqdm<5.0.0,>=4.38.0 in c:\\env\\bin\\python3\\lib\\site-packages (from spacy<3.7.0,>=3.6.0->zh-core-web-sm==3.6.0) (4.66.1)\n",
      "Requirement already satisfied: numpy>=1.15.0 in c:\\env\\bin\\python3\\lib\\site-packages (from spacy<3.7.0,>=3.6.0->zh-core-web-sm==3.6.0) (1.24.2)\n",
      "Requirement already satisfied: requests<3.0.0,>=2.13.0 in c:\\env\\bin\\python3\\lib\\site-packages (from spacy<3.7.0,>=3.6.0->zh-core-web-sm==3.6.0) (2.28.2)\n",
      "Requirement already satisfied: pydantic!=1.8,!=1.8.1,<3.0.0,>=1.7.4 in c:\\env\\bin\\python3\\lib\\site-packages (from spacy<3.7.0,>=3.6.0->zh-core-web-sm==3.6.0) (2.3.0)\n",
      "Requirement already satisfied: jinja2 in c:\\env\\bin\\python3\\lib\\site-packages (from spacy<3.7.0,>=3.6.0->zh-core-web-sm==3.6.0) (3.1.2)\n",
      "Requirement already satisfied: setuptools in c:\\env\\bin\\python3\\lib\\site-packages (from spacy<3.7.0,>=3.6.0->zh-core-web-sm==3.6.0) (65.5.0)\n",
      "Requirement already satisfied: packaging>=20.0 in c:\\env\\bin\\python3\\lib\\site-packages (from spacy<3.7.0,>=3.6.0->zh-core-web-sm==3.6.0) (23.0)\n",
      "Requirement already satisfied: langcodes<4.0.0,>=3.2.0 in c:\\env\\bin\\python3\\lib\\site-packages (from spacy<3.7.0,>=3.6.0->zh-core-web-sm==3.6.0) (3.3.0)\n",
      "Requirement already satisfied: annotated-types>=0.4.0 in c:\\env\\bin\\python3\\lib\\site-packages (from pydantic!=1.8,!=1.8.1,<3.0.0,>=1.7.4->spacy<3.7.0,>=3.6.0->zh-core-web-sm==3.6.0) (0.5.0)\n",
      "Requirement already satisfied: pydantic-core==2.6.3 in c:\\env\\bin\\python3\\lib\\site-packages (from pydantic!=1.8,!=1.8.1,<3.0.0,>=1.7.4->spacy<3.7.0,>=3.6.0->zh-core-web-sm==3.6.0) (2.6.3)\n",
      "Requirement already satisfied: typing-extensions>=4.6.1 in c:\\env\\bin\\python3\\lib\\site-packages (from pydantic!=1.8,!=1.8.1,<3.0.0,>=1.7.4->spacy<3.7.0,>=3.6.0->zh-core-web-sm==3.6.0) (4.7.1)\n",
      "Requirement already satisfied: charset-normalizer<4,>=2 in c:\\env\\bin\\python3\\lib\\site-packages (from requests<3.0.0,>=2.13.0->spacy<3.7.0,>=3.6.0->zh-core-web-sm==3.6.0) (3.0.1)\n",
      "Requirement already satisfied: idna<4,>=2.5 in c:\\env\\bin\\python3\\lib\\site-packages (from requests<3.0.0,>=2.13.0->spacy<3.7.0,>=3.6.0->zh-core-web-sm==3.6.0) (2.8)\n",
      "Requirement already satisfied: urllib3<1.27,>=1.21.1 in c:\\env\\bin\\python3\\lib\\site-packages (from requests<3.0.0,>=2.13.0->spacy<3.7.0,>=3.6.0->zh-core-web-sm==3.6.0) (1.24.3)\n",
      "Requirement already satisfied: certifi>=2017.4.17 in c:\\env\\bin\\python3\\lib\\site-packages (from requests<3.0.0,>=2.13.0->spacy<3.7.0,>=3.6.0->zh-core-web-sm==3.6.0) (2022.12.7)\n",
      "Requirement already satisfied: blis<0.8.0,>=0.7.8 in c:\\env\\bin\\python3\\lib\\site-packages (from thinc<8.2.0,>=8.1.8->spacy<3.7.0,>=3.6.0->zh-core-web-sm==3.6.0) (0.7.10)\n",
      "Requirement already satisfied: confection<1.0.0,>=0.0.1 in c:\\env\\bin\\python3\\lib\\site-packages (from thinc<8.2.0,>=8.1.8->spacy<3.7.0,>=3.6.0->zh-core-web-sm==3.6.0) (0.1.3)\n",
      "Requirement already satisfied: colorama in c:\\env\\bin\\python3\\lib\\site-packages (from tqdm<5.0.0,>=4.38.0->spacy<3.7.0,>=3.6.0->zh-core-web-sm==3.6.0) (0.4.6)\n",
      "Requirement already satisfied: click<9.0.0,>=7.1.1 in c:\\env\\bin\\python3\\lib\\site-packages (from typer<0.10.0,>=0.3.0->spacy<3.7.0,>=3.6.0->zh-core-web-sm==3.6.0) (8.1.7)\n",
      "Requirement already satisfied: MarkupSafe>=2.0 in c:\\env\\bin\\python3\\lib\\site-packages (from jinja2->spacy<3.7.0,>=3.6.0->zh-core-web-sm==3.6.0) (2.1.2)\n",
      "\u001b[38;5;2m✔ Download and installation successful\u001b[0m\n",
      "You can now load the package via spacy.load('zh_core_web_sm')\n"
     ]
    },
    {
     "name": "stderr",
     "output_type": "stream",
     "text": [
      "c:\\env\\bin\\python3\\lib\\site-packages\\cupy\\_environment.py:213: UserWarning: CUDA path could not be detected. Set CUDA_PATH environment variable if CuPy fails to load.\n",
      "  warnings.warn(\n",
      "c:\\env\\bin\\python3\\lib\\site-packages\\cupy\\_environment.py:213: UserWarning: CUDA path could not be detected. Set CUDA_PATH environment variable if CuPy fails to load.\n",
      "  warnings.warn(\n",
      "c:\\env\\bin\\python3\\lib\\site-packages\\cupy\\_environment.py:213: UserWarning: CUDA path could not be detected. Set CUDA_PATH environment variable if CuPy fails to load.\n",
      "  warnings.warn(\n"
     ]
    }
   ],
   "source": [
    "!python -m spacy download en_core_web_sm \n",
    "!python -m spacy download fr_core_news_sm\n",
    "!python -m spacy download de_core_news_sm\n",
    "!python -m spacy download pl_core_news_sm\n",
    "!python -m spacy download zh_core_web_sm"
   ]
  },
  {
   "cell_type": "code",
   "execution_count": 11,
   "metadata": {},
   "outputs": [
    {
     "name": "stderr",
     "output_type": "stream",
     "text": [
      "c:\\env\\bin\\python3\\lib\\site-packages\\cupy\\_environment.py:213: UserWarning: CUDA path could not be detected. Set CUDA_PATH environment variable if CuPy fails to load.\n",
      "  warnings.warn(\n",
      "c:\\env\\bin\\python3\\lib\\site-packages\\cupy\\_environment.py:213: UserWarning: CUDA path could not be detected. Set CUDA_PATH environment variable if CuPy fails to load.\n",
      "  warnings.warn(\n",
      "c:\\env\\bin\\python3\\lib\\site-packages\\cupy\\_environment.py:213: UserWarning: CUDA path could not be detected. Set CUDA_PATH environment variable if CuPy fails to load.\n",
      "  warnings.warn(\n",
      "[nltk_data] Downloading package punkt to\n",
      "[nltk_data]     C:\\Users\\Roger\\AppData\\Roaming\\nltk_data...\n",
      "[nltk_data]   Package punkt is already up-to-date!\n"
     ]
    }
   ],
   "source": [
    "import re, nltk, jieba, spacy\n",
    "nltk.download('punkt')\n",
    "spacy.prefer_gpu()\n",
    "nlp = {\n",
    "    'english': spacy.load('en_core_web_sm'),\n",
    "    'french': spacy.load('fr_core_news_sm'),\n",
    "    'german': spacy.load('de_core_news_sm'),\n",
    "    'polish': spacy.load('pl_core_news_sm'),\n",
    "    'chinese': spacy.load('zh_core_web_sm'),\n",
    "}\n",
    "\n",
    "def jieba_word(text: str, language: str = 'english') -> list[str]:\n",
    "    return [t[0] for t in jieba.tokenize(text) if t[0] != ' ']\n",
    "\n",
    "def python_word(text: str, language: str = 'english') -> list[str]:\n",
    "    text = re.sub(r'[^\\w\\-]+', ' ', text)\n",
    "    return [token for token in text.split(' ') if token]\n",
    "\n",
    "def nltk_word(text: str, language: str = 'english') -> list[str]:\n",
    "    return nltk.word_tokenize(text, language == 'chinese' and 'english' or language)\n",
    "\n",
    "def spacy_word(text: str, language: str = 'english') -> list[str]:\n",
    "    global nlp\n",
    "    return [token.text for token in nlp[language](text)]"
   ]
  },
  {
   "cell_type": "code",
   "execution_count": 15,
   "metadata": {},
   "outputs": [
    {
     "data": {
      "application/vnd.jupyter.widget-view+json": {
       "model_id": "c50885eac67347968ad2465a41854e68",
       "version_major": 2,
       "version_minor": 0
      },
      "text/plain": [
       "interactive(children=(Dropdown(description='language', options=('abbreviations', 'english', 'french', 'german'…"
      ]
     },
     "metadata": {},
     "output_type": "display_data"
    },
    {
     "data": {
      "application/vnd.jupyter.widget-view+json": {
       "model_id": "da13c214b7ba43969e58c01e34f2342c",
       "version_major": 2,
       "version_minor": 0
      },
      "text/plain": [
       "Output()"
      ]
     },
     "metadata": {},
     "output_type": "display_data"
    }
   ],
   "source": [
    "import ipywidgets as widgets\n",
    "from IPython.display import display, Markdown, clear_output\n",
    "from tabulate import tabulate\n",
    "from itertools import zip_longest\n",
    "from unidecode import unidecode\n",
    "\n",
    "def show_tokens(language: str, alpha: bool, single: bool, decode: bool):\n",
    "    tokens = []\n",
    "    for tokenizer in tokenizers.values():\n",
    "        t = tokenizer(texts[language], language == \"abbreviations\" and \"english\" or language)\n",
    "        if alpha:\n",
    "            t = [token for token in t if re.match(r'^[a-zA-Z][\\w\\-\\.]*$', token)]\n",
    "        if decode:\n",
    "            t = [unidecode(token) for token in t]\n",
    "        if single:\n",
    "            t = [token for token in t if len(token) > 1]\n",
    "        tokens.append(t)\n",
    "    with (out_text := widgets.Output()):\n",
    "        display(Markdown(texts[language]))\n",
    "    with (out_tokens := widgets.Output(layout = {'padding': '0px 50px', 'min_width': '60%'})):\n",
    "        if language == 'chinsese':\n",
    "            for i in range(len(tokens)):\n",
    "                nl = '\\n  '\n",
    "                print(f'{list(tokenizers.keys())[i]}:\\n  {nl.join(tokens[i][:10])}\\n\\n')\n",
    "        else:\n",
    "            headers = tokenizers.keys()\n",
    "            rows = [[col[:16] for col in row] for row in zip_longest(*tokens, fillvalue='')]\n",
    "            display(Markdown(tabulate(rows[:40], headers, tablefmt=\"pipe\")))\n",
    "    with out_result:\n",
    "        clear_output()\n",
    "        display(widgets.HBox([out_text, out_tokens]))\n",
    "\n",
    "opt_alpha = widgets.Checkbox(description='only words')\n",
    "opt_single = widgets.Checkbox(description='no single letter words')\n",
    "opt_decode = widgets.Checkbox(description='unicode decode')\n",
    "opt_language = widgets.Dropdown(description='language', options=['abbreviations', 'english', 'french', 'german', 'polish', 'chinese'])\n",
    "opt_method = widgets.Dropdown(description='method', options=[\n",
    "    ('python (split on whitespace)', 'python-split'),\n",
    "    ('nltk (word)', 'nltk-word'),\n",
    "    ('spaCy (word)', 'spacy-word'),\n",
    "    ('jieba (chinese)', 'jieba-word'),\n",
    "])\n",
    "tokenizers = {\n",
    "    'python-word': python_word,\n",
    "    'nltk-word': nltk_word,\n",
    "    'spacy-word': spacy_word,\n",
    "    'jieba-word': jieba_word,\n",
    "}\n",
    "\n",
    "out_result = widgets.Output()\n",
    "display(widgets.interactive(show_tokens, language=opt_language, alpha=opt_alpha, single=opt_single, decode=opt_decode))\n",
    "display(out_result)"
   ]
  },
  {
   "cell_type": "markdown",
   "metadata": {},
   "source": [
    "## Sub-word tokenization"
   ]
  },
  {
   "cell_type": "code",
   "execution_count": 81,
   "metadata": {},
   "outputs": [],
   "source": [
    "def sub_words_tokenize(text: str, k: int, mark: str = '#') -> list[str]:\n",
    "    text = re.sub(r'\\W+', ' ', text)\n",
    "    tokens = []\n",
    "    for token in text.split():\n",
    "        if len(token) <= k:\n",
    "            tokens.append(token)\n",
    "            continue\n",
    "        for i in range(len(token) - k + 1):\n",
    "            tokens.append(i == 0 and mark + token[i:i + k] or token[i:i + k])\n",
    "    return tokens"
   ]
  },
  {
   "cell_type": "code",
   "execution_count": 88,
   "metadata": {},
   "outputs": [
    {
     "name": "stdout",
     "output_type": "stream",
     "text": [
      "['#tea', 'eac', 'ach', '#mul', 'ult', 'ltt', 'tti', 'tim', 'ime', 'med', 'edi', 'dia']\n"
     ]
    }
   ],
   "source": [
    "print(sub_words_tokenize(\"teach multtimedia\", 3))"
   ]
  },
  {
   "cell_type": "code",
   "execution_count": 86,
   "metadata": {},
   "outputs": [
    {
     "data": {
      "application/vnd.jupyter.widget-view+json": {
       "model_id": "f1e79eaf371c4038aa0fd8bfe52f27bb",
       "version_major": 2,
       "version_minor": 0
      },
      "text/plain": [
       "interactive(children=(Dropdown(description='language', options=('abbreviations', 'english', 'french', 'german'…"
      ]
     },
     "metadata": {},
     "output_type": "display_data"
    },
    {
     "data": {
      "application/vnd.jupyter.widget-view+json": {
       "model_id": "6045ad8f0b5e45279a923213454c4d6d",
       "version_major": 2,
       "version_minor": 0
      },
      "text/plain": [
       "Output()"
      ]
     },
     "metadata": {},
     "output_type": "display_data"
    }
   ],
   "source": [
    "MAX_K = 11\n",
    "\n",
    "def show_sub_words(language: str, mark: bool):\n",
    "    tokens = []\n",
    "    for k in range(1, MAX_K, 1):\n",
    "        tokens.append(sub_words_tokenize(texts[language], k, mark and \"#\" or \"\"))\n",
    "    with (out_text := widgets.Output()):\n",
    "        display(Markdown(texts[language]))\n",
    "    with (out_tokens := widgets.Output(layout = {'padding': '0px 50px', 'min_width': '60%'})):\n",
    "        headers = [str(i) for i in range(1, MAX_K, 1)]\n",
    "        rows = [[f'<{len(t)}>' for t in tokens]] + [row for row in zip_longest(*tokens, fillvalue='')]\n",
    "        print(tabulate(rows[:30], headers, tablefmt=\"github\"))\n",
    "    with out_result:\n",
    "        clear_output()\n",
    "        display(widgets.HBox([out_text, out_tokens]))\n",
    "\n",
    "opt_language = widgets.Dropdown(description='language', options=['abbreviations', 'english', 'french', 'german', 'polish', 'chinese'])\n",
    "opt_mark = widgets.Checkbox(description='mark start-of-word sequences')\n",
    "\n",
    "out_result = widgets.Output()\n",
    "display(widgets.interactive(show_sub_words, language=opt_language, mark=opt_mark))\n",
    "display(out_result)"
   ]
  },
  {
   "cell_type": "markdown",
   "metadata": {},
   "source": [
    "## Bi-gram extraction"
   ]
  },
  {
   "cell_type": "code",
   "execution_count": 2,
   "metadata": {},
   "outputs": [],
   "source": [
    "from utils.gutenberg import get_book\n",
    "book = get_book(244)"
   ]
  },
  {
   "cell_type": "markdown",
   "metadata": {},
   "source": [
    "Naive approach: create bi-grams, count frequencies in text, then pick top-20"
   ]
  },
  {
   "cell_type": "code",
   "execution_count": 92,
   "metadata": {},
   "outputs": [
    {
     "name": "stderr",
     "output_type": "stream",
     "text": [
      "[nltk_data] Downloading package stopwords to\n",
      "[nltk_data]     C:\\Users\\Roger\\AppData\\Roaming\\nltk_data...\n",
      "[nltk_data]   Package stopwords is already up-to-date!\n"
     ]
    }
   ],
   "source": [
    "from nltk.collocations import (\n",
    "    BigramCollocationFinder, BigramAssocMeasures,  \n",
    "    TrigramCollocationFinder, TrigramAssocMeasures,  \n",
    "    QuadgramCollocationFinder, QuadgramAssocMeasures\n",
    ")\n",
    "from nltk.corpus import stopwords\n",
    "nltk.download('stopwords')\n",
    "\n",
    "ignored_words = stopwords.words('english')\n",
    "stopword_filter = lambda w: len(w) < 3 or w.lower() in ignored_words\n",
    "\n",
    "nResults = 20\n",
    "\n",
    "def ngram_measures(n: int, metric: str):\n",
    "    measure = BigramAssocMeasures\n",
    "    if n == 3: measure = TrigramAssocMeasures\n",
    "    if n == 4: measure = QuadgramAssocMeasures\n",
    "    if metric == 'freq': return measure.raw_freq\n",
    "    if metric == 'pmi': return measure.pmi\n",
    "    return measure.likelihood_ratio\n",
    "\n",
    "def ngrams_from_words(n: int, tokens: list[str]):\n",
    "    if n == 3: return TrigramCollocationFinder.from_words(tokens)\n",
    "    if n == 4: return QuadgramCollocationFinder.from_words(tokens)\n",
    "    return BigramCollocationFinder.from_words(tokens)\n",
    "\n",
    "def ngrams_result(n: int, finder, scores, metric: str):\n",
    "    if n == 3:\n",
    "        headers = ['trigram', 'tf(w1)', 'tf(w2)', 'tf(w3)', 'tf(trigram)', f'score ({metric})']\n",
    "        rows = [[' '.join([t1,t2,t3]), finder.word_fd[t1], finder.word_fd[t2], finder.word_fd[t3], finder.ngram_fd[(t1,t2,t3)], score] for ((t1,t2,t3),score) in scores]\n",
    "        return (headers, rows)\n",
    "    if n == 4:\n",
    "        headers = ['quadgram', 'tf(w1)', 'tf(w2)', 'tf(w3)', 'tf(w4)', 'tf(quadgram)', f'score ({metric})']\n",
    "        rows = [[' '.join([t1,t2,t3,t4]), finder.word_fd[t1], finder.word_fd[t2], finder.word_fd[t3], finder.word_fd[t4], finder.ngram_fd[(t1,t2,t3,t4)], score] for ((t1,t2,t3,t4),score) in scores]\n",
    "        return (headers, rows)\n",
    "    headers = ['bigram', 'tf(w1)', 'tf(w2)', 'tf(bigram)', f'score ({metric})']\n",
    "    rows = [[' '.join([t1,t2]), finder.word_fd[t1], finder.word_fd[t2], finder.ngram_fd[(t1,t2)], score] for ((t1,t2),score) in scores]\n",
    "    return (headers, rows)\n",
    "\n",
    "def ngrams(tokens: list[str], n: int, metric: str, filters: list[str]) -> tuple[list[str],list[list[str]]]:\n",
    "    measure = ngram_measures(n, metric)\n",
    "    finder = ngrams_from_words(n, tokens)\n",
    "    for f in filters:\n",
    "        if f == 'freq3': finder.apply_freq_filter(3)\n",
    "        if f == 'freq5': finder.apply_freq_filter(5)\n",
    "        if f == 'stopwords': finder.apply_word_filter(stopword_filter)\n",
    "    scores = finder.score_ngrams(measure)[:nResults]\n",
    "    return ngrams_result(n, finder, scores, metric)"
   ]
  },
  {
   "cell_type": "code",
   "execution_count": 93,
   "metadata": {},
   "outputs": [
    {
     "data": {
      "application/vnd.jupyter.widget-view+json": {
       "model_id": "45155399792647f68cca1afc21c4883c",
       "version_major": 2,
       "version_minor": 0
      },
      "text/plain": [
       "interactive(children=(Dropdown(description='book', options=(('A Study in Scarlet (en)', 244), ('Buddenbrooks: …"
      ]
     },
     "metadata": {},
     "output_type": "display_data"
    }
   ],
   "source": [
    "import ipywidgets as widgets\n",
    "from IPython.display import display, Markdown, clear_output\n",
    "from tabulate import tabulate\n",
    "\n",
    "last_book = 0\n",
    "tokens = []\n",
    "\n",
    "def show_ngrams(book, n, metric, stopwords, freq3, freq5):\n",
    "    global last_book, tokens\n",
    "    if last_book != book:\n",
    "        tokens = [token for token in nltk.word_tokenize(get_book(book).page_content) if token.isalpha()]\n",
    "        last_book = book\n",
    "    headers, rows = ngrams(tokens, n, metric, [stopwords and 'stopwords', freq3 and 'freq3', freq5 and 'freq5'])\n",
    "    display(Markdown(tabulate(rows, headers, \"pipe\")))\n",
    "\n",
    "opt_book = widgets.Dropdown(description='book', options=[\n",
    "    ('A Study in Scarlet (en)', 244),\n",
    "    ('Buddenbrooks: Verfall einer Familie (de)', 34811),\n",
    "    ('Les trois mousquetaires (fr)', 13951),\n",
    "    ('Bajki (pl)', 27729),\n",
    "])\n",
    "opt_metric = widgets.Dropdown(description='metric', options=['freq', 'pmi', 'lhr'])\n",
    "opt_n = widgets.BoundedIntText(description='n', value=2, min=2, max=4)\n",
    "opt_stopword = widgets.Checkbox(description='no stopwords')\n",
    "opt_freq3 = widgets.Checkbox(description='freq > 3')\n",
    "opt_freq5 = widgets.Checkbox(description='freq > 5')\n",
    "\n",
    "display(widgets.interactive(show_ngrams, book=opt_book, n=opt_n ,metric=opt_metric, stopwords=opt_stopword, freq3=opt_freq3, freq5=opt_freq5))\n"
   ]
  },
  {
   "cell_type": "code",
   "execution_count": 104,
   "metadata": {},
   "outputs": [
    {
     "data": {
      "text/plain": [
       "13.070154495134162"
      ]
     },
     "execution_count": 104,
     "metadata": {},
     "output_type": "execute_result"
    }
   ],
   "source": [
    "import math\n",
    "N = len(tokens)\n",
    "tf1, tf2, tf12 = 5, 5, 5\n",
    "p1, p2, p12 = tf1/N, tf2/N, tf12/N\n",
    "math.log(p12/p1/p2, 2)"
   ]
  },
  {
   "cell_type": "code",
   "execution_count": 112,
   "metadata": {},
   "outputs": [
    {
     "data": {
      "text/plain": [
       "618.2639397345096"
      ]
     },
     "execution_count": 112,
     "metadata": {},
     "output_type": "execute_result"
    }
   ],
   "source": [
    "c1=48\n",
    "c2=94\n",
    "c12=48\n",
    "p=c2/N\n",
    "p1=c12/c1\n",
    "p2=(c2-c12)/(N-c1)\n",
    "def L(k,n,p):\n",
    "    return (p**k)*(1-p)**(n-k)\n",
    "-2*(math.log(L(c12,c1,p))+math.log(L(c2-c12,N-c1,p))-math.log(L(c12,c1,p1))-math.log(L(c2-c12,N-c1,p2)))"
   ]
  },
  {
   "cell_type": "code",
   "execution_count": 121,
   "metadata": {},
   "outputs": [
    {
     "name": "stdout",
     "output_type": "stream",
     "text": [
      "Sherlock Holmes 48 94 48 618.2639397345179\n",
      "Jefferson Hope 37 42 34 491.94785591179664\n",
      "John Ferrier 31 58 26 330.1825164533987\n",
      "Brixton Road 15 13 13 224.9205970576053\n",
      "Salt Lake 9 9 9 170.48968950333003\n",
      "Lake City 9 13 8 129.82912069112837\n",
      "Enoch Drebber 9 62 9 119.12601098633465\n",
      "Scotland Yard 8 6 6 109.52843062923058\n",
      "Baker Street 6 11 6 103.36758969662593\n",
      "Private Hotel 5 5 5 100.59482597348887\n",
      "Lucy Ferrier 29 58 10 96.68084062615571\n",
      "Lauriston Gardens 4 4 4 82.26110221688567\n",
      "Joseph Stangerson 13 43 7 79.9799404000117\n",
      "Never mind 5 37 5 71.28837734133977\n",
      "little girl 80 27 8 68.66609037830294\n",
      "young hunter 40 14 6 65.60029780468453\n",
      "Audley Court 3 3 3 63.42198886696671\n",
      "could see 96 56 9 61.56793780013763\n",
      "young man 40 154 9 59.46754617578934\n",
      "CHAPTER III 28 4 4 59.29458839273476\n"
     ]
    }
   ],
   "source": [
    "from nltk.collocations import (\n",
    "    BigramCollocationFinder, BigramAssocMeasures,  \n",
    "    TrigramCollocationFinder, TrigramAssocMeasures,  \n",
    "    QuadgramCollocationFinder, QuadgramAssocMeasures\n",
    ")\n",
    "from nltk.corpus import stopwords\n",
    "\n",
    "# choose bi-grams, tri-grams, quad-grams\n",
    "finder = QuadgramCollocationFinder.from_words(tokens)\n",
    "finder = TrigramCollocationFinder.from_words(tokens)\n",
    "finder = BigramCollocationFinder.from_words(tokens)\n",
    "\n",
    "# choose a measure (must match with the finder, here for bi-grams)\n",
    "measure = BigramAssocMeasures.raw_freq\n",
    "measure = BigramAssocMeasures.pmi\n",
    "measure = BigramAssocMeasures.likelihood_ratio\n",
    "\n",
    "\n",
    "# apply frequency filter\n",
    "finder.apply_freq_filter(3)\n",
    "\n",
    "#apply stop word filter\n",
    "ignored_words = stopwords.words('english')\n",
    "stopword_filter = lambda w: len(w) < 3 or w.lower() in ignored_words\n",
    "finder.apply_word_filter(stopword_filter)\n",
    "\n",
    "# obtain results (top-k)\n",
    "k = 20\n",
    "scores = finder.score_ngrams(measure)[:k]\n",
    "\n",
    "# output term 1, term 2, freq of term 1, freq of term 2, freq of bigram, score\n",
    "for ((t1,t2),score) in scores:\n",
    "    print(f'{t1} {t2} {finder.word_fd[t1]} {finder.word_fd[t2]} {finder.ngram_fd[(t1,t2)]} {score}')\n"
   ]
  },
  {
   "cell_type": "code",
   "execution_count": null,
   "metadata": {},
   "outputs": [],
   "source": []
  }
 ],
 "metadata": {
  "kernelspec": {
   "display_name": "Python 3",
   "language": "python",
   "name": "python3"
  },
  "language_info": {
   "codemirror_mode": {
    "name": "ipython",
    "version": 3
   },
   "file_extension": ".py",
   "mimetype": "text/x-python",
   "name": "python",
   "nbconvert_exporter": "python",
   "pygments_lexer": "ipython3",
   "version": "3.10.10"
  },
  "orig_nbformat": 4
 },
 "nbformat": 4,
 "nbformat_minor": 2
}
