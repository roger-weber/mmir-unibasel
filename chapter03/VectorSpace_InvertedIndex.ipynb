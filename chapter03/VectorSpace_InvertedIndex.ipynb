{
 "cells": [
  {
   "cell_type": "code",
   "execution_count": 1,
   "metadata": {},
   "outputs": [],
   "source": [
    "%load_ext autoreload\n",
    "%autoreload 2"
   ]
  },
  {
   "attachments": {},
   "cell_type": "markdown",
   "metadata": {},
   "source": [
    "# Vector Space retrieval with inverted files"
   ]
  },
  {
   "cell_type": "markdown",
   "metadata": {},
   "source": [
    "\n",
    "## Helper functions"
   ]
  },
  {
   "cell_type": "markdown",
   "metadata": {},
   "source": [
    "### Tokenizer & Set of Words"
   ]
  },
  {
   "cell_type": "code",
   "execution_count": 2,
   "metadata": {},
   "outputs": [
    {
     "name": "stdout",
     "output_type": "stream",
     "text": [
      "{'function': 1, 'simple': 1, 'test': 1}\n",
      "{'a': 1, 'for': 1, 'function': 1, 'is': 1, 'simple': 1, 'test': 1, 'this': 2}\n"
     ]
    }
   ],
   "source": [
    "from utils import analyzer\n",
    "\n",
    "print(analyzer.bag_of_words(\"this is a simple test for this function\", remove_stopwords = True))\n",
    "print(analyzer.bag_of_words(\"this is a simple test for this function\", remove_stopwords = False))"
   ]
  },
  {
   "attachments": {},
   "cell_type": "markdown",
   "metadata": {},
   "source": [
    "### TopKList class"
   ]
  },
  {
   "cell_type": "code",
   "execution_count": 3,
   "metadata": {},
   "outputs": [],
   "source": [
    "from heapq import heappop, heappush\n",
    "from typing import Callable\n",
    "\n",
    "class TopKList:\n",
    "    \"\"\"\n",
    "        Maintains a list of top-k documents. Initializer accepts\n",
    "        a list of tuples (term, weight) to provide information about\n",
    "        weights used by retrieval model. Implements the iter() interface.\n",
    "        Takes an optional predicate(doc_id: int) function to filter documents\n",
    "        before returning them. \n",
    "    \"\"\"\n",
    "    def __init__(self, k: int, term_weights: list[tuple[str,float]] = None, predicate: Callable[[int], bool] = None):\n",
    "        self.docs_heap = []\n",
    "        self.k = k\n",
    "        self.predicate = predicate\n",
    "        self.results = []\n",
    "        if term_weights:\n",
    "            self.term_weights = term_weights\n",
    "            self.terms = [term for term, _ in self.term_weights]\n",
    "            self.weights = dict(self.term_weights)\n",
    "    \n",
    "    def add(self, doc_id: int, score: float):\n",
    "        heappush(self.docs_heap, (-score, doc_id, {'id': doc_id, 'score': score}))\n",
    "        # optional (infrequent) pruning if heap grows too large\n",
    "\n",
    "    def __iter__(self):\n",
    "        # do we already have the results?\n",
    "        for entry in self.results:\n",
    "            yield entry\n",
    "        # produce more results (if necessary and available)\n",
    "        rank = len(self.results)\n",
    "        while rank < self.k and len(self.docs_heap) > 0:\n",
    "            entry = heappop(self.docs_heap)[2]\n",
    "            if self.predicate == None or self.predicate(entry['id']):\n",
    "                rank += 1\n",
    "                entry['rank'] = rank\n",
    "                self.results.append(entry)\n",
    "                yield entry"
   ]
  },
  {
   "cell_type": "markdown",
   "metadata": {},
   "source": [
    "### IDF implementations and BM25 parameters\n",
    "BM25 parameters are typically `k=1.2` and `b=0.75`, while `adl` must be set from the collection. If we leave `adl=None`, the term normalization does not take document length into account (which is ok if documents in the collection have about equal length)"
   ]
  },
  {
   "cell_type": "code",
   "execution_count": 4,
   "metadata": {},
   "outputs": [],
   "source": [
    "import math\n",
    "BM25 = { 'k': 1.2, 'b': 0.75, 'adl': None }\n",
    "\n",
    "def idf(doc_freq: int, num_docs: int) -> float:\n",
    "    return math.log((num_docs + 1) / (doc_freq + 1))\n",
    "\n",
    "def idf_bm25(doc_freq: int, num_docs: int) -> float:\n",
    "    return math.log((num_docs - doc_freq + 0.5) / (doc_freq + 0.5))\n",
    "    \n",
    "def idf_bm25_pos(doc_freq: int, num_docs: int) -> float:\n",
    "    return math.log((num_docs + 1) / (doc_freq + 0.5))"
   ]
  },
  {
   "cell_type": "markdown",
   "metadata": {},
   "source": [
    "### TF normalization functions\n",
    "We apply document normalization at index building time. We also use normalized query vectors so that similarity becomes a simple dot product between document and query vector. The function below performs term normalization for documents given a bag-of-word and a vocabulary. The vocabulary maps a term to a dictionary that holds the idf values for the dot-product and cosine measure. "
   ]
  },
  {
   "cell_type": "code",
   "execution_count": 5,
   "metadata": {},
   "outputs": [],
   "source": [
    "import math\n",
    "\n",
    "def normalize_doc_vector(vector: dict[str, int], vocabulary: dict[str, dict], measure: str) -> dict[str, float]:\n",
    "    # dot-product: multiply each term's tf by its idf\n",
    "    if measure == 'dot':\n",
    "        return {term: tf * vocabulary[term]['idf'] for term,tf in vector.items()}\n",
    "\n",
    "    # cosine-measure: multiply each term's tf by its idf and divide by total vector length\n",
    "    if measure == 'cosine':\n",
    "        norm = sum([(tf * vocabulary[term]['idf']) ** 2 for term, tf in vector.items()]) ** 0.5\n",
    "        return {term: tf * vocabulary[term]['idf'] / norm for term, tf in vector.items()}\n",
    "\n",
    "    # bm25: normalize with bm25 formula with document length\n",
    "    if measure == 'bm25' and BM25['adl']:\n",
    "        doc_len = sum(vector.values())\n",
    "        return {term: tf * (BM25['k'] + 1) / (tf + BM25['k'] * (1 - BM25['b'] + BM25['b'] * doc_len / BM25['adl']))  for term, tf in vector.items()}\n",
    "\n",
    "    # bm25: normalize with bm25 formula without document length\n",
    "    if measure in ['bm25', 'bm25-nolen', 'bm25-pos']:\n",
    "        return {term: tf * (BM25['k'] + 1) / (tf + BM25['k'])  for term, tf in vector.items()}\n",
    "\n",
    "    raise ValueError('Unknown normalization measure')"
   ]
  },
  {
   "attachments": {},
   "cell_type": "markdown",
   "metadata": {},
   "source": [
    "## Vector Space Model Implementation"
   ]
  },
  {
   "cell_type": "markdown",
   "metadata": {},
   "source": [
    "### The Base Retriever Class\n",
    "* `n_docs: int`: number of documents added to index\n",
    "* `documents dict[int, dict{'id', 'vector', 'norm-vector'}]`: collection of documents as dictionary with doc_id as key. Each document is a dictionary with the properties from the dataset and additional properties for the retrieval\n",
    "  - `id` hold the document id as generated when loading the document; corresponds to the key in documents\n",
    "  - `vector` holds the term freqeuncies as dictionary (key=term, value=term frequency)\n",
    "  - `norm-vector` normalized vector for the selected measure\n",
    "* `vocabulary: dict[term, dict{df, idf}]`: vocabulary with all terms. Values contain objects with document frequency and idf for selected measure\n",
    "* `index: dict[term, list[tuple[int, int]]]`: inverted index mapping terms to postings. Postings contain doc_id and term frequency sorted by doc_id\n",
    "  \n",
    "The vector space model support 5 measures: `dot`, `cosine`, `bm25`, `bm25-nolen`, `bm25-pos`. The index needs to be rebuilt if the measure is changed (we normalize all documents and the measure imapcts normalization)"
   ]
  },
  {
   "cell_type": "code",
   "execution_count": 6,
   "metadata": {},
   "outputs": [],
   "source": [
    "import math\n",
    "class VSModel:\n",
    "    \"\"\"\n",
    "        Generic class for the evaluation of the vector space model, inherited by the document-at-a-time (DAAT) and \n",
    "        term-at-a-time (TAAT) models. \n",
    "    \"\"\"\n",
    "    def __init__(self, collection: list[dict] = None, measure: str = 'dot', remove_stopwords: bool = True):\n",
    "        self.build_index(collection or [], measure, remove_stopwords)\n",
    "    \n",
    "    def _add_document(self, doc: dict):\n",
    "        self.n_docs += 1\n",
    "        doc_id = doc['id'] = self.n_docs\n",
    "        self.documents[doc_id] = doc\n",
    "        # create vector from str-properties\n",
    "        text = ' '.join([value for key, value in doc.items() if type(value) == str])\n",
    "        doc['vector'] = analyzer.bag_of_words(text, remove_stopwords = self.remove_stopwords)\n",
    "        doc['len'] = sum(doc['vector'].values())\n",
    "        # add to vocabulary and count document frequency\n",
    "        for term, tf in doc['vector'].items():\n",
    "            self.vocabulary[term] = self.vocabulary.get(term, 0) + 1\n",
    "    \n",
    "    def _build_vocabulary(self):\n",
    "        idf_func = self.measure in ['bm25', 'bm25-nolen', 'bm25-pos'] and idf_bm25 or idf\n",
    "        self.vocabulary = dict([(term, {'df': df, 'idf': idf_func(df, self.n_docs)}) for term, df in self.vocabulary.items()])\n",
    "\n",
    "    def _normalize_vectors(self):\n",
    "        BM25['adl'] = sum([doc['len'] for doc in self.documents.values()]) / self.n_docs\n",
    "        for doc_id, doc in self.documents.items():\n",
    "            doc['norm-vector'] = normalize_doc_vector(doc['vector'], self.vocabulary, self.measure)\n",
    "\n",
    "    def _build_postings(self):\n",
    "        for doc_id, doc in self.documents.items():\n",
    "            for term, tf_norm in doc['norm-vector'].items():\n",
    "                self.index.setdefault(term, []).append((doc_id, tf_norm))\n",
    "\n",
    "    def build_index(self, collection: list[dict], measure: str = 'dot', remove_stopwords: bool = True):\n",
    "        self.remove_stopwords = remove_stopwords\n",
    "        self.measure = measure\n",
    "        self.n_docs = 0\n",
    "        self.doc_len_sum = 0\n",
    "        self.documents = {}\n",
    "        self.index = {}\n",
    "        self.vocabulary = {}\n",
    "        # load all documents\n",
    "        for doc in collection:\n",
    "            self._add_document(doc)\n",
    "        # finalize the index with idf, normalization, and the postings\n",
    "        if self.n_docs:\n",
    "            self._build_vocabulary()\n",
    "            self._normalize_vectors()\n",
    "            self._build_postings()"
   ]
  },
  {
   "cell_type": "code",
   "execution_count": 7,
   "metadata": {},
   "outputs": [],
   "source": [
    "class VSModel(VSModel):\n",
    "    \"\"\"\n",
    "        Generic class for the evaluation of the Vector Space model, inherited by the document-at-a-time (DAAT) and \n",
    "        term-at-a-time (TAAT) implementation. This superclass defines the idf-weights including filtering the most\n",
    "        important terms.\n",
    "    \"\"\"\n",
    "    def query_weights(self, vector: dict[str, int], measure: str) -> list[tuple[str,float]]:\n",
    "        # remove terms not in vocabulary\n",
    "        terms = list(filter(lambda t: t in self.vocabulary, vector.keys()))\n",
    "        # dot product: multiply tf with idf\n",
    "        if measure == 'dot':\n",
    "            return list(map(lambda t: (t, vector[t] * self.vocabulary[t]['idf']), terms))\n",
    "        # cosine measure: multiply tf with idf and take the cosine of the sum  \n",
    "        if measure == 'cosine':\n",
    "            norm = sum([(tf * self.vocabulary[term]['idf']) ** 2 for term, tf in vector.items()]) ** 0.5\n",
    "            return list(map(lambda t: (t, vector[t] * self.vocabulary[t]['idf'] / norm), terms))\n",
    "        # bm25: ignore tf and just use idf of term as weight\n",
    "        if measure in ['bm25', 'bm25-nolen', 'bm25-pos']:\n",
    "            return list(map(lambda t: (t, self.vocabulary[t]['idf']), terms))\n",
    "     \n",
    "        raise ValueError('Unknown normalization measure')"
   ]
  },
  {
   "attachments": {},
   "cell_type": "markdown",
   "metadata": {},
   "source": [
    "### Document-at-a-time for Vector Space Model"
   ]
  },
  {
   "cell_type": "code",
   "execution_count": 8,
   "metadata": {},
   "outputs": [],
   "source": [
    "class VSModel_DAAT(VSModel):\n",
    "    \"\"\"\n",
    "        Implements the DAAT model for the Vector Space model using inverted index method.\n",
    "    \"\"\"\n",
    "    def search(self, query: str, k: int, measure: str = 'dot', predicate: Callable[[int], bool] = None, selected_docs: set[int] = None):\n",
    "        query_vector = analyzer.bag_of_words(query)\n",
    "\n",
    "        # filter terms and obtain c_j-weights for terms in order of their importance \n",
    "        term_weights = self.query_weights(query_vector, measure)\n",
    "\n",
    "        # get iterators for each term and fetch first posting; postings have form (term, tf)\n",
    "        iters = [iter(self.index[term]) for (term, _) in term_weights]\n",
    "        nexts = [next(iter, None) for iter in iters]\n",
    "\n",
    "        # keep track of all retrieved documents and their score; stored as tuples (doc_id, score)\n",
    "        topk = TopKList(k, term_weights, predicate)\n",
    "\n",
    "        # iterate through all streams and calculate score for smallest doc id\n",
    "        while not all(e is None for e in nexts):\n",
    "            # get smallest value from nexts, ignoring None values\n",
    "            smallest = min(nexts, key = lambda x: x and x[0] or math.inf)[0]\n",
    "            # if selected_docs is given and smallest is not in selected_docs, skip this document\n",
    "            if selected_docs == None or smallest in selected_docs:\n",
    "                # if so, add it to topk\n",
    "                score = sum([nexts[i][1] * term_weights[i][1] for i in range(len(nexts)) if nexts[i] and nexts[i][0] == smallest])\n",
    "                topk.add(smallest, score)\n",
    "            # for each entry in nexts, fetch next item if entry equals smallest\n",
    "            for i, e in enumerate(nexts):\n",
    "                if e and e[0] == smallest:\n",
    "                    nexts[i] = next(iters[i], None)\n",
    "        \n",
    "        # finsihed, return topk for result iteration\n",
    "        return topk"
   ]
  },
  {
   "attachments": {},
   "cell_type": "markdown",
   "metadata": {},
   "source": [
    "### Term-at-a-time for Vector Space Model"
   ]
  },
  {
   "cell_type": "code",
   "execution_count": null,
   "metadata": {},
   "outputs": [],
   "source": []
  },
  {
   "cell_type": "markdown",
   "metadata": {},
   "source": [
    "## Running some examples"
   ]
  },
  {
   "cell_type": "markdown",
   "metadata": {},
   "source": [
    "### Loading the data"
   ]
  },
  {
   "cell_type": "code",
   "execution_count": 9,
   "metadata": {},
   "outputs": [
    {
     "data": {
      "application/vnd.jupyter.widget-view+json": {
       "model_id": "79b7fc0e033a4be2b9fb16d1e10e9a5d",
       "version_major": 2,
       "version_minor": 0
      },
      "text/plain": [
       "HBox(children=(Dropdown(options=('document-at-a-time', 'term-at-a-time'), value='document-at-a-time'), Dropdow…"
      ]
     },
     "metadata": {},
     "output_type": "display_data"
    }
   ],
   "source": [
    "import ipywidgets as widgets\n",
    "opt_strategy = widgets.Dropdown(options=['document-at-a-time', 'term-at-a-time'])\n",
    "opt_dataset = widgets.Dropdown(options=['random', 'imdb movies'])\n",
    "opt_measure = widgets.Dropdown(options=['dot', 'cosine', 'bm25', 'bm25-pos', 'bm25-nolen'])\n",
    "display(widgets.HBox([opt_strategy, opt_dataset, opt_measure]))"
   ]
  },
  {
   "cell_type": "code",
   "execution_count": 10,
   "metadata": {},
   "outputs": [],
   "source": [
    "from utils import table\n",
    "from datasets import random as random_docs, imdb as imdb_docs\n",
    "import random\n",
    "\n",
    "# select the strategy of the retrieval model\n",
    "if opt_strategy.value == 'document-at-a-time':\n",
    "    retriever = VSModel_DAAT()\n",
    "else:\n",
    "    retriever = VSModel_TAAT()\n",
    "\n",
    "# select the dataset and define feedback function, queries, predicates, and selections\n",
    "if opt_dataset.value == 'random':\n",
    "    collection = random_docs\n",
    "    assessments = {\n",
    "        'random': lambda id: random.random() < 0.8,\n",
    "        'id < 20': lambda id: id < 20,\n",
    "    }\n",
    "    queries = [\n",
    "        'cat dog',\n",
    "        'horse bird',\n",
    "        'cat dog horse bird'\n",
    "    ]\n",
    "    predicates = {\n",
    "        'even doc ids': lambda id: id % 2 == 0,\n",
    "        'odd doc ids': lambda id: id % 2 == 1,\n",
    "    }\n",
    "    selections = {\n",
    "        'doc<10': list(range(10)),\n",
    "    }\n",
    "elif opt_dataset.value == 'imdb movies':\n",
    "    collection = imdb_docs\n",
    "    assessments = {\n",
    "        'top-100': lambda id: id < 100,\n",
    "        'star in title': lambda id: 'star' in retriever.documents[id]['title'].lower(),\n",
    "        'morgan in actor': lambda id: 'morgan' in retriever.documents[id]['actors'].lower(),\n",
    "        'comedy in genre': lambda id: 'comedy' in retriever.documents[id]['genre'].lower(),\n",
    "    }\n",
    "    queries = [\n",
    "        'star wars', \n",
    "        'drama morgan freeman', \n",
    "        'comedy'\n",
    "    ]\n",
    "    predicates = {\n",
    "        'year < 1990': lambda id: retriever.documents[id]['year'] < 1990,\n",
    "        'year >= 1990': lambda id: retriever.documents[id]['year'] >= 1990,\n",
    "    }\n",
    "    selections = {\n",
    "        'top-100': list(range(100)),\n",
    "        'top-250': list(range(250)),\n",
    "    }\n",
    "else:\n",
    "    raise ValueError(\"to be implemented\")\n",
    "\n",
    "# build index\n",
    "retriever.build_index(collection.load(), opt_measure.value)"
   ]
  },
  {
   "cell_type": "markdown",
   "metadata": {},
   "source": [
    "### Inspecting the data"
   ]
  },
  {
   "cell_type": "code",
   "execution_count": 11,
   "metadata": {},
   "outputs": [
    {
     "name": "stdout",
     "output_type": "stream",
     "text": [
      "|   id | text                                                                                                     |\n",
      "|------|----------------------------------------------------------------------------------------------------------|\n",
      "|    1 | horse bear tiger fly fly fly fly                                                                         |\n",
      "|    2 | dog dog dog dog ostrich ostrich ostrich ant                                                              |\n",
      "|    3 | dog dog dog dog dog bird bird bird donkey donkey donkey donkey donkey                                    |\n",
      "|    4 | dog dog dog cat                                                                                          |\n",
      "|    5 | horse horse horse horse rabit rabit lion lion lion lion lion bee bee bee bee fly fly fly fly snake snake |\n",
      "|    6 | ostrich ostrich fly                                                                                      |\n",
      "|    7 | bird bird bird snake snake snake snake                                                                   |\n",
      "|    8 | bear bear ant ant fly fly fly fly                                                                        |\n",
      "|    9 | horse horse horse                                                                                        |\n",
      "|   10 | horse horse horse horse horse                                                                            |\n",
      "\n",
      "| term    |   df |   idf | posting                                                                                                                                                                                                                                                                                                                               |\n",
      "|---------|------|-------|---------------------------------------------------------------------------------------------------------------------------------------------------------------------------------------------------------------------------------------------------------------------------------------------------------------------------------------|\n",
      "| dog     |   30 |  1.18 | 2 (4.72), 3 (5.91), 4 (3.54), 17 (2.36), 18 (4.72), 21 (1.18), 23 (1.18), 24 (1.18), 26 (1.18), 27 (1.18), 28 (3.54), 30 (2.36), 36 (4.72), 38 (2.36), 44 (4.72), 49 (2.36), 54 (5.91), 55 (5.91), 64 (3.54), 66 (5.91), 67 (5.91), 71 (4.72), 72 (1.18), 76 (4.72), 84 (3.54), 86 (3.54), 89 (2.36), 90 (5.91), 93 (5.91), 94 (1.18) |\n",
      "| cat     |   25 |  1.36 | 4 (1.36), 16 (6.79), 17 (1.36), 22 (6.79), 24 (1.36), 28 (6.79), 34 (4.07), 42 (4.07), 43 (6.79), 45 (5.43), 50 (2.71), 51 (5.43), 52 (5.43), 53 (4.07), 59 (1.36), 60 (1.36), 61 (2.71), 63 (1.36), 64 (2.71), 68 (6.79), 78 (4.07), 79 (1.36), 84 (1.36), 94 (2.71), 97 (1.36)                                                      |\n",
      "| horse   |   22 |  1.48 | 1 (1.48), 5 (5.92), 9 (4.44), 10 (7.4), 22 (5.92), 23 (2.96), 36 (1.48), 40 (5.92), 46 (4.44), 49 (2.96), 54 (7.4), 58 (4.44), 67 (2.96), 69 (4.44), 70 (7.4), 81 (4.44), 86 (7.4), 87 (2.96), 88 (2.96), 91 (5.92), 92 (1.48), 94 (4.44)                                                                                             |\n",
      "| rabit   |   20 |  1.57 | 5 (3.14), 16 (3.14), 17 (1.57), 21 (6.28), 32 (7.85), 34 (6.28), 43 (3.14), 53 (1.57), 54 (6.28), 57 (6.28), 58 (4.71), 60 (4.71), 70 (1.57), 77 (4.71), 78 (7.85), 85 (6.28), 91 (7.85), 95 (6.28), 96 (6.28), 97 (6.28)                                                                                                             |\n",
      "| ostrich |   18 |  1.67 | 2 (5.01), 6 (3.34), 14 (5.01), 15 (5.01), 18 (5.01), 38 (8.35), 44 (1.67), 48 (8.35), 53 (5.01), 54 (8.35), 55 (1.67), 56 (6.68), 58 (3.34), 61 (8.35), 80 (3.34), 94 (3.34), 95 (5.01), 99 (5.01)                                                                                                                                    |\n",
      "| bear    |   17 |  1.72 | 1 (1.72), 8 (3.45), 14 (5.17), 23 (1.72), 29 (3.45), 37 (5.17), 49 (3.45), 57 (1.72), 64 (8.62), 65 (3.45), 66 (1.72), 67 (1.72), 72 (5.17), 82 (6.9), 83 (6.9), 89 (5.17), 93 (5.17)                                                                                                                                                 |\n",
      "| tiger   |   15 |  1.84 | 1 (1.84), 14 (1.84), 15 (9.21), 30 (3.69), 40 (7.37), 51 (7.37), 55 (3.69), 60 (5.53), 65 (5.53), 79 (3.69), 85 (9.21), 94 (3.69), 98 (1.84), 99 (3.69), 100 (1.84)                                                                                                                                                                   |\n",
      "| bird    |   14 |  1.91 | 3 (5.72), 7 (5.72), 14 (3.81), 20 (1.91), 24 (5.72), 25 (5.72), 41 (1.91), 43 (5.72), 46 (1.91), 50 (9.54), 56 (9.54), 61 (1.91), 77 (5.72), 87 (3.81)                                                                                                                                                                                |\n",
      "| lion    |   14 |  1.91 | 5 (9.54), 24 (7.63), 26 (9.54), 28 (7.63), 29 (5.72), 52 (9.54), 62 (3.81), 76 (1.91), 81 (3.81), 84 (7.63), 86 (5.72), 87 (1.91), 94 (7.63), 100 (9.54)                                                                                                                                                                              |\n",
      "| donkey  |   13 |  1.98 | 3 (9.88), 14 (3.95), 27 (5.93), 53 (7.9), 58 (5.93), 63 (7.9), 65 (7.9), 67 (9.88), 70 (1.98), 78 (7.9), 79 (1.98), 80 (3.95), 92 (3.95)                                                                                                                                                                                              |\n",
      "| ant     |   12 |  2.05 | 2 (2.05), 8 (4.1), 27 (6.15), 32 (4.1), 61 (4.1), 66 (4.1), 75 (2.05), 76 (2.05), 81 (6.15), 89 (8.2), 91 (2.05), 93 (2.05)                                                                                                                                                                                                           |\n",
      "| bee     |   12 |  2.05 | 5 (8.2), 11 (10.25), 20 (4.1), 35 (4.1), 41 (2.05), 43 (4.1), 50 (10.25), 60 (2.05), 62 (10.25), 74 (4.1), 79 (4.1), 90 (4.1)                                                                                                                                                                                                         |\n",
      "| fly     |   11 |  2.13 | 1 (8.52), 5 (8.52), 6 (2.13), 8 (8.52), 22 (6.39), 31 (6.39), 38 (6.39), 45 (10.65), 64 (8.52), 78 (10.65), 97 (4.26)                                                                                                                                                                                                                 |\n",
      "| wale    |   11 |  2.13 | 12 (6.39), 13 (4.26), 15 (8.52), 20 (6.39), 30 (8.52), 44 (6.39), 47 (6.39), 66 (10.65), 67 (6.39), 82 (4.26), 86 (10.65)                                                                                                                                                                                                             |\n",
      "| snake   |   10 |  2.22 | 5 (4.43), 7 (8.87), 22 (8.87), 30 (6.65), 33 (8.87), 57 (2.22), 61 (11.09), 91 (4.43), 95 (2.22), 99 (6.65)                                                                                                                                                                                                                           |\n",
      "| fish    |    3 |  3.23 | 19 (3.23), 39 (3.23), 73 (3.23)                                                                                                                                                                                                                                                                                                       |\n",
      "\n",
      "100 documents in collection\n",
      "16 distinct terms in collection\n",
      "247 postings\n"
     ]
    }
   ],
   "source": [
    "table.print([collection.format(doc) for doc in retriever.documents.values()], collection.headers(), max_rows = 10)\n",
    "table.print(sorted([[term, term_data['df'], round(term_data['idf'], 2), ', '.join([f'{doc_id} ({round(w, 2)})' for doc_id, w in retriever.index[term]])] for term, term_data in retriever.vocabulary.items()], key=lambda x: -x[1]), ['term', 'df', 'idf', 'posting'], max_rows=20)\n",
    "\n",
    "print(f'{len(retriever.documents)} documents in collection')\n",
    "print(f'{len(retriever.vocabulary)} distinct terms in collection')\n",
    "print('{count} postings'.format(count=sum([len(postings) for postings in retriever.index.values()])))"
   ]
  },
  {
   "cell_type": "markdown",
   "metadata": {},
   "source": [
    "### Pretty printing functions"
   ]
  },
  {
   "cell_type": "code",
   "execution_count": 12,
   "metadata": {},
   "outputs": [],
   "source": [
    "def print_topk(topk: TopKList):\n",
    "    list = []\n",
    "    for entry in topk:\n",
    "        list.append(collection.format(retriever.documents[entry['id']], [\n",
    "            entry['rank'],\n",
    "            round(entry['score'], 2)\n",
    "        ]))\n",
    "    table.print(list, collection.headers('rel', 'score'), max_rows=len(list))"
   ]
  },
  {
   "cell_type": "markdown",
   "metadata": {},
   "source": [
    "### Searching with selected data set and similarity measure"
   ]
  },
  {
   "cell_type": "code",
   "execution_count": 13,
   "metadata": {},
   "outputs": [
    {
     "data": {
      "application/vnd.jupyter.widget-view+json": {
       "model_id": "05c5c2e9bd6041e0a46ae56eb98826e6",
       "version_major": 2,
       "version_minor": 0
      },
      "text/plain": [
       "interactive(children=(Dropdown(description='query', options=('cat dog', 'horse bird', 'cat dog horse bird'), v…"
      ]
     },
     "metadata": {},
     "output_type": "display_data"
    }
   ],
   "source": [
    "from IPython.display import clear_output\n",
    "from functools import reduce\n",
    "\n",
    "def run_query(query: str, k:int, predicate: str, selection: str):\n",
    "    topk = retriever.search(query, k, measure=opt_measure.value, predicate=predicates.get(predicate, None), selected_docs=selections.get(selection, None))\n",
    "    print_topk(topk)\n",
    "    for term in sorted(topk.weights.keys(), key = lambda term: -topk.weights[term]):\n",
    "        print(term.rjust(16), topk.weights[term])\n",
    "\n",
    "# display query form\n",
    "widgets.interact(run_query,\n",
    "    query=widgets.Dropdown(description='query', options=list(queries)),\n",
    "    k=widgets.IntSlider(min=5, max=50, step=5, value=20),\n",
    "    predicate=widgets.Dropdown(description='predicate',options=['<none>'] + list(predicates.keys())),\n",
    "    selection=widgets.Dropdown(description='selection',options=['<none>'] + list(selections.keys())),\n",
    ");"
   ]
  },
  {
   "cell_type": "code",
   "execution_count": 14,
   "metadata": {},
   "outputs": [
    {
     "ename": "KeyError",
     "evalue": "235",
     "output_type": "error",
     "traceback": [
      "\u001b[1;31m---------------------------------------------------------------------------\u001b[0m",
      "\u001b[1;31mKeyError\u001b[0m                                  Traceback (most recent call last)",
      "Cell \u001b[1;32mIn[14], line 1\u001b[0m\n\u001b[1;32m----> 1\u001b[0m retriever\u001b[39m.\u001b[39;49mdocuments[\u001b[39m235\u001b[39;49m]\n",
      "\u001b[1;31mKeyError\u001b[0m: 235"
     ]
    }
   ],
   "source": [
    "retriever.documents[235]"
   ]
  },
  {
   "cell_type": "markdown",
   "metadata": {},
   "source": [
    "## What's next?"
   ]
  },
  {
   "cell_type": "markdown",
   "metadata": {},
   "source": []
  },
  {
   "attachments": {},
   "cell_type": "markdown",
   "metadata": {},
   "source": [
    "## Building the index from document collection"
   ]
  },
  {
   "cell_type": "code",
   "execution_count": null,
   "metadata": {},
   "outputs": [],
   "source": [
    "from utils import stopwords\n",
    "from itertools import groupby\n",
    "import re\n",
    "\n",
    "def tokenize(text: str) -> list[str]:\n",
    "    text = re.sub(r'[,\\.\\-\\?!\\(\\)\\s:;_\\'\"\\+\\*\\&\\$]', ' ', text.lower())\n",
    "    text = re.sub(r'\\s+', ' ', text).strip()\n",
    "    return filter(lambda t: t not in stopwords.english, text.split(' '))\n",
    "\n",
    "def bag_of_words(tokens: list[str]) -> dict[str, int]:\n",
    "    return dict([(token, len(list(group))) for token, group in groupby(sorted(tokens))])\n",
    "\n",
    "def add_document(doc: dict):\n",
    "    global nDocs, index, documents, vocabulary\n",
    "    nDocs += 1\n",
    "    # add document to documents dict, with id as key and all properties\n",
    "    doc_id = doc['id'] = nDocs\n",
    "    documents[doc_id] = doc\n",
    "    # get terms from all string properties of doc\n",
    "    text = ' '.join([value for key, value in doc.items() if type(value) == str])\n",
    "    doc['vector'] = bag_of_words(tokenize(text))\n",
    "    doc['len'] = sum([tf for _, tf in doc['vector'].items()])\n",
    "    # update vocabulary (holding df values during this loop) and index (term -> postings)\n",
    "    for term, tf in doc['vector'].items():\n",
    "        vocabulary[term] = vocabulary.get(term, 0) + 1\n",
    "        index[term] = index.get(term, []) + [(doc_id, tf)]\n",
    "\n",
    "def build_index(collection: list[dict]):\n",
    "    global nDocs, index, documents, vocabulary\n",
    "    nDocs = 0\n",
    "    index = {}\n",
    "    documents = {}\n",
    "    vocabulary = {}\n",
    "    for doc in collection:\n",
    "        add_document(doc)\n",
    "    # update vocabulary -> create dict with df, idf, and idf_bm25 values\n",
    "    vocabulary = dict([(term, {'df': df, 'idf': idf(df, nDocs), 'idf_bm25': idf_bm25(df, nDocs)}) for term, df in vocabulary.items()])\n",
    "    # calculate norm of vector for cosine measure\n",
    "    for doc in documents.values():\n",
    "        doc['norm'] = sum([(tf * vocabulary[term]['idf']) ** 2 for term, tf in doc['vector'].items()]) ** 0.5      "
   ]
  },
  {
   "attachments": {},
   "cell_type": "markdown",
   "metadata": {},
   "source": [
    "## IMDB Search Example\n",
    "### Load the data set"
   ]
  },
  {
   "cell_type": "code",
   "execution_count": null,
   "metadata": {},
   "outputs": [],
   "source": [
    "# loading the imdb data set (1000 movies)\n",
    "from datasets.docs import imdb\n",
    "from utils import stopwords\n",
    "\n",
    "data = imdb.load()\n",
    "def doc_format_imdb(doc: dict) -> str:\n",
    "    trim = lambda s,n: len(s) > n and s[:n] + \"\\u2026\" or s\n",
    "    title_ex = '{title_short} ({year}, {runtime}m, {rating})'.format(title_short=trim(doc['title'], 30), **doc)\n",
    "    return '{title_ex:<50} {genre_short:<20} {summary} [{actors}]'.format(title_ex=title_ex, genre_short=trim(doc['genre'], 18), **doc)\n",
    "\n",
    "for item in data[:5]:\n",
    "    print(doc_format_imdb(item))\n",
    "\n",
    "data[0]"
   ]
  },
  {
   "cell_type": "code",
   "execution_count": null,
   "metadata": {},
   "outputs": [],
   "source": [
    "build_index(data)\n",
    "print('{count} documents in collection'.format(count=nDocs))\n",
    "print('{count} distinct terms in collection'.format(count=len(vocabulary)))\n",
    "print('{count} postings'.format(count=sum([len(postings) for postings in index.values()])))"
   ]
  },
  {
   "cell_type": "markdown",
   "metadata": {},
   "source": [
    "### Looking at top (and some random) terms in the vocabulary including postings from the index"
   ]
  },
  {
   "cell_type": "code",
   "execution_count": null,
   "metadata": {},
   "outputs": [],
   "source": [
    "# print vocabulary with df and idf\n",
    "print('term               df     idf idf_bm25    postings')\n",
    "print('-' * 100)\n",
    "for term, item in sorted(vocabulary.items(), key=lambda t: -t[1]['df'])[:10]:\n",
    "    print(\"{term:16} {df:>4d} {idf:>7.2f} {idf_bm25:>8.2f}    {postings}\".format(term=term.ljust(10), df=item['df'], idf=item['idf'], idf_bm25=item['idf_bm25'], postings=index[term]))\n",
    "print()\n",
    "for term, item in random.sample(list(vocabulary.items()), 15):\n",
    "    print(\"{term:16} {df:>4d} {idf:>7.2f} {idf_bm25:>8.2f}    {postings}\".format(term=term.ljust(10), df=item['df'], idf=item['idf'], idf_bm25=item['idf_bm25'], postings=index[term]))"
   ]
  },
  {
   "cell_type": "markdown",
   "metadata": {},
   "source": [
    "### Looking at some random documents"
   ]
  },
  {
   "cell_type": "code",
   "execution_count": null,
   "metadata": {},
   "outputs": [],
   "source": [
    "# print a few documents\n",
    "print('  id |  len     norm   vector')\n",
    "print('-' * 100)\n",
    "for doc_id in random.sample(range(1, len(documents) + 1), 25):\n",
    "    print(\"{id:>4} | {len:>4d} {norm:>8.2f}   {vector}\".format(id=doc_id, len=documents[doc_id]['len'], norm=documents[doc_id]['norm'], vector=str(documents[doc_id]['vector'])))"
   ]
  },
  {
   "attachments": {},
   "cell_type": "markdown",
   "metadata": {},
   "source": [
    "### Queries"
   ]
  },
  {
   "cell_type": "code",
   "execution_count": null,
   "metadata": {},
   "outputs": [],
   "source": [
    "from typing import Callable\n",
    "def search(query: str, k: int, measure: str, predicate: str, algorithm: str) -> TopKList:\n",
    "    query_vector = bag_of_words(tokenize(query))\n",
    "    vsmodel = {'ddat': VSModel_DAAT}.get(algorithm.lower(), VSModel_DAAT)\n",
    "    predicate_func = {\n",
    "        'year > 1990 (predicate)': lambda doc_id: documents[doc_id]['year'] > 1990, \n",
    "        'year <= 1990 (predicate)': lambda doc_id: documents[doc_id]['year'] <= 1990, \n",
    "    }.get(predicate, None)\n",
    "    selected_docs = {\n",
    "        'top-100 (selection)': set(range(1,101))\n",
    "    }.get(predicate, None)\n",
    "    topk = vsmodel.search(query_vector, k, measure, predicate=predicate_func, selected_docs=selected_docs)\n",
    "    print_topk(topk, doc_format_imdb)\n",
    "\n",
    "# options for the dialog\n",
    "queries = ['star wars', 'drama morgan freeman', 'comedy']\n",
    "measures = ['cosine', 'dot', 'bm25']\n",
    "predicates = ['<none>', 'year > 1990 (predicate)', 'year <= 1990 (predicate)', 'top-100 (selection)']\n",
    "algorithm = ['ddat', 'taat']\n",
    "\n",
    "# interactive selection of scenario\n",
    "widgets.interact(search, \n",
    "    query=widgets.Dropdown(options=queries), \n",
    "    k=widgets.IntSlider(min=5, max=50, step=5, value=20),\n",
    "    measure=widgets.Dropdown(options=measures),\n",
    "    predicate=widgets.Dropdown(options=predicates),\n",
    "    algorithm=widgets.Dropdown(options=algorithm),\n",
    ");\n"
   ]
  },
  {
   "cell_type": "code",
   "execution_count": null,
   "metadata": {},
   "outputs": [],
   "source": [
    "queries = ['star wars', 'drama morgan freeman', 'comedy']\n",
    "print(list(enumerate(queries)))\n",
    "q_dropdown = widgets.Dropdown(\n",
    "    options=[('One', 1), ('Two', 2), ('Three', 3)],\n",
    "    value=2,\n",
    "    description='Number:',\n",
    ")"
   ]
  },
  {
   "cell_type": "code",
   "execution_count": null,
   "metadata": {},
   "outputs": [],
   "source": [
    "DEBUG = False\n",
    "\n",
    "# initial step for \"bird(2) horse\"\n",
    "query = {'bird': 2, 'horse':1}\n",
    "k = 10\n",
    "print(query)\n",
    "\n",
    "# (optional) enable a predicate for the filtering step\n",
    "predicate = None\n",
    "# predicate = lambda doc_id: doc_id % 2 == 0\n",
    "# predicate = lambda doc_id: doc_id % 2 == 1\n",
    "selected_docs = None\n",
    "# selected_docs = list(range(10))\n",
    "\n",
    "# run query, display result, and get feedback\n",
    "topk = VSModel_DAAT.query(query, k, 'cosine', predicate)\n",
    "print_topk(topk)"
   ]
  },
  {
   "cell_type": "code",
   "execution_count": null,
   "metadata": {},
   "outputs": [],
   "source": []
  }
 ],
 "metadata": {
  "kernelspec": {
   "display_name": "Python 3",
   "language": "python",
   "name": "python3"
  },
  "language_info": {
   "codemirror_mode": {
    "name": "ipython",
    "version": 3
   },
   "file_extension": ".py",
   "mimetype": "text/x-python",
   "name": "python",
   "nbconvert_exporter": "python",
   "pygments_lexer": "ipython3",
   "version": "3.10.7"
  },
  "orig_nbformat": 4
 },
 "nbformat": 4,
 "nbformat_minor": 2
}
