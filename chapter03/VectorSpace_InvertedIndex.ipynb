{
 "cells": [
  {
   "cell_type": "code",
   "execution_count": 1,
   "metadata": {},
   "outputs": [],
   "source": [
    "%load_ext autoreload\n",
    "%autoreload 2"
   ]
  },
  {
   "attachments": {},
   "cell_type": "markdown",
   "metadata": {},
   "source": [
    "# Vector Space retrieval with inverted files"
   ]
  },
  {
   "cell_type": "markdown",
   "metadata": {},
   "source": [
    "\n",
    "## Helper functions"
   ]
  },
  {
   "cell_type": "markdown",
   "metadata": {},
   "source": [
    "### Tokenizer & Set of Words"
   ]
  },
  {
   "cell_type": "code",
   "execution_count": 2,
   "metadata": {},
   "outputs": [
    {
     "name": "stdout",
     "output_type": "stream",
     "text": [
      "{'simple': 1, 'test': 1, 'function': 1}\n",
      "{'this': 2, 'is': 1, 'a': 1, 'simple': 1, 'test': 1, 'for': 1, 'function': 1}\n"
     ]
    }
   ],
   "source": [
    "from utils import analyzer\n",
    "\n",
    "print(analyzer.bag_of_words(\"this is a simple test for this function\", remove_stopwords = True))\n",
    "print(analyzer.bag_of_words(\"this is a simple test for this function\", remove_stopwords = False))"
   ]
  },
  {
   "attachments": {},
   "cell_type": "markdown",
   "metadata": {},
   "source": [
    "### TopKList class"
   ]
  },
  {
   "cell_type": "code",
   "execution_count": 3,
   "metadata": {},
   "outputs": [],
   "source": [
    "from heapq import heappop, heappush\n",
    "from typing import Callable\n",
    "\n",
    "class TopKList:\n",
    "    \"\"\"\n",
    "        Maintains a list of top-k documents. Initializer accepts\n",
    "        a list of tuples (term, weight) to provide information about\n",
    "        weights used by retrieval model. Implements the iter() interface.\n",
    "        Takes an optional predicate(doc_id: int) function to filter documents\n",
    "        before returning them. \n",
    "    \"\"\"\n",
    "    def __init__(self, k: int, term_weights: list[tuple[str,float]] = None, predicate: Callable[[int], bool] = None):\n",
    "        self.docs_heap = []\n",
    "        self.k = k\n",
    "        self.predicate = predicate\n",
    "        self.results = []\n",
    "        if term_weights:\n",
    "            self.term_weights = term_weights\n",
    "            self.terms = [term for term, _ in self.term_weights]\n",
    "            self.weights = dict(self.term_weights)\n",
    "    \n",
    "    def add(self, doc_id: int, score: float):\n",
    "        heappush(self.docs_heap, (-score, doc_id, {'id': doc_id, 'score': score}))\n",
    "        # optional (infrequent) pruning if heap grows too large\n",
    "\n",
    "    def __iter__(self):\n",
    "        # do we already have the results?\n",
    "        for entry in self.results:\n",
    "            yield entry\n",
    "        # produce more results (if necessary and available)\n",
    "        rank = len(self.results)\n",
    "        while rank < self.k and len(self.docs_heap) > 0:\n",
    "            entry = heappop(self.docs_heap)[2]\n",
    "            if self.predicate == None or self.predicate(entry['id']):\n",
    "                rank += 1\n",
    "                entry['rank'] = rank\n",
    "                self.results.append(entry)\n",
    "                yield entry"
   ]
  },
  {
   "cell_type": "markdown",
   "metadata": {},
   "source": [
    "### IDF implementations and BM25 parameters\n",
    "BM25 parameters are typically `k=1.2` and `b=0.75`, while `adl` must be set from the collection. If we leave `adl=None`, the term normalization does not take document length into account (which is ok if documents in the collection have about equal length)"
   ]
  },
  {
   "cell_type": "code",
   "execution_count": 4,
   "metadata": {},
   "outputs": [],
   "source": [
    "import math\n",
    "BM25 = { 'k': 1.2, 'b': 0.75, 'adl': None }\n",
    "\n",
    "def idf(doc_freq: int, num_docs: int) -> float:\n",
    "    return math.log((num_docs + 1) / (doc_freq + 1))\n",
    "\n",
    "def idf_bm25(doc_freq: int, num_docs: int) -> float:\n",
    "    return math.log((num_docs - doc_freq + 0.5) / (doc_freq + 0.5))\n",
    "    \n",
    "def idf_bm25_pos(doc_freq: int, num_docs: int) -> float:\n",
    "    return math.log((num_docs + 1) / (doc_freq + 0.5))"
   ]
  },
  {
   "cell_type": "markdown",
   "metadata": {},
   "source": [
    "### TF normalization functions\n",
    "We apply document normalization at index building time. We also use normalized query vectors so that similarity becomes a simple dot product between document and query vector. The function below performs term normalization for documents given a bag-of-word and a vocabulary. The vocabulary maps a term to a dictionary that holds the idf values for the dot-product and cosine measure. "
   ]
  },
  {
   "cell_type": "code",
   "execution_count": 5,
   "metadata": {},
   "outputs": [],
   "source": [
    "import math\n",
    "\n",
    "def normalize_doc_vector(vector: dict[str, int], vocabulary: dict[str, dict], measure: str) -> dict[str, float]:\n",
    "    # dot-product: multiply each term's tf by its idf\n",
    "    if measure == 'dot':\n",
    "        return {term: tf * vocabulary[term]['idf'] for term,tf in vector.items()}\n",
    "\n",
    "    # cosine-measure: multiply each term's tf by its idf and divide by total vector length\n",
    "    if measure == 'cosine':\n",
    "        norm = sum([(tf * vocabulary[term]['idf']) ** 2 for term, tf in vector.items()]) ** 0.5\n",
    "        return {term: tf * vocabulary[term]['idf'] / norm for term, tf in vector.items()}\n",
    "\n",
    "    # bm25: normalize with bm25 formula with document length\n",
    "    if measure in ['bm25', 'bm25-pos'] and BM25['adl']:\n",
    "        doc_len = sum(vector.values())\n",
    "        return {term: tf * (BM25['k'] + 1) / (tf + BM25['k'] * (1 - BM25['b'] + BM25['b'] * doc_len / BM25['adl']))  for term, tf in vector.items()}\n",
    "\n",
    "    # bm25: normalize with bm25 formula without document length\n",
    "    if measure in ['bm25', 'bm25-nolen', 'bm25-pos']:\n",
    "        return {term: tf * (BM25['k'] + 1) / (tf + BM25['k'])  for term, tf in vector.items()}\n",
    "\n",
    "    raise ValueError('Unknown normalization measure')"
   ]
  },
  {
   "attachments": {},
   "cell_type": "markdown",
   "metadata": {},
   "source": [
    "## Vector Space Model Implementation"
   ]
  },
  {
   "cell_type": "markdown",
   "metadata": {},
   "source": [
    "### The Base Retriever Class\n",
    "* `n_docs: int`: number of documents added to index\n",
    "* `documents dict[int, dict{'id', 'vector', 'norm-vector'}]`: collection of documents as dictionary with doc_id as key. Each document is a dictionary with the properties from the dataset and additional properties for the retrieval\n",
    "  - `id` hold the document id as generated when loading the document; corresponds to the key in documents\n",
    "  - `vector` holds the term freqeuncies as dictionary (key=term, value=term frequency)\n",
    "  - `norm-vector` normalized vector for the selected measure\n",
    "* `vocabulary: dict[term, dict{df, idf}]`: vocabulary with all terms. Values contain objects with document frequency and idf for selected measure\n",
    "* `index: dict[term, list[tuple[int, int]]]`: inverted index mapping terms to postings. Postings contain doc_id and term frequency sorted by doc_id\n",
    "  \n",
    "The vector space model support 5 measures: `dot`, `cosine`, `bm25`, `bm25-nolen`, `bm25-pos`. The index needs to be rebuilt if the measure is changed (we normalize all documents and the measure imapcts normalization)"
   ]
  },
  {
   "cell_type": "code",
   "execution_count": 6,
   "metadata": {},
   "outputs": [],
   "source": [
    "import math\n",
    "from collections import defaultdict\n",
    "\n",
    "class VSModel:\n",
    "    \"\"\"\n",
    "        Generic class for the evaluation of the vector space model, inherited by the document-at-a-time (DAAT) and \n",
    "        term-at-a-time (TAAT) models. \n",
    "    \"\"\"\n",
    "    def __init__(self, collection: list[dict] = None, measure: str = 'dot', remove_stopwords: bool = True):\n",
    "        self.build_index(collection or [], measure, remove_stopwords)\n",
    "    \n",
    "    def _add_document(self, doc: dict):\n",
    "        self.n_docs += 1\n",
    "        doc_id = doc['id'] = self.n_docs\n",
    "        self.documents[doc_id] = doc\n",
    "        # create vector from str-properties\n",
    "        text = ' '.join([value for key, value in doc.items() if type(value) == str])\n",
    "        doc['vector'] = analyzer.bag_of_words(text, remove_stopwords = self.remove_stopwords)\n",
    "        doc['len'] = sum(doc['vector'].values())\n",
    "        # add to vocabulary and count document frequency\n",
    "        for term, tf in doc['vector'].items():\n",
    "            self.vocabulary[term] += 1\n",
    "    \n",
    "    def _build_vocabulary(self):\n",
    "        idf_func = {'bm25': idf_bm25, 'bm25-nolen': idf_bm25, 'bm25-pos': idf_bm25_pos}.get(self.measure, idf)\n",
    "        self.vocabulary = {\n",
    "            term: {'df': df, 'idf': idf_func(df, self.n_docs)}\n",
    "            for term, df in self.vocabulary.items()\n",
    "        }\n",
    "\n",
    "    def _normalize_vectors(self):\n",
    "        BM25['adl'] = sum([doc['len'] for doc in self.documents.values()]) / self.n_docs\n",
    "        for doc_id, doc in self.documents.items():\n",
    "            doc['norm-vector'] = normalize_doc_vector(doc['vector'], self.vocabulary, self.measure)\n",
    "\n",
    "    def _build_postings(self):\n",
    "        for doc_id, doc in self.documents.items():\n",
    "            for term, tf_norm in doc['norm-vector'].items():\n",
    "                self.index[term].append((doc_id, tf_norm))\n",
    "\n",
    "    def build_index(self, collection: list[dict], measure: str = 'dot', remove_stopwords: bool = True):\n",
    "        self.remove_stopwords = remove_stopwords\n",
    "        self.measure = measure\n",
    "        self.n_docs = 0\n",
    "        self.doc_len_sum = 0\n",
    "        self.documents = {}\n",
    "        self.index = defaultdict(list)\n",
    "        self.vocabulary = defaultdict(int)\n",
    "        # load all documents\n",
    "        for doc in collection:\n",
    "            self._add_document(doc)\n",
    "        # finalize the index with idf, normalization, and the postings\n",
    "        if self.n_docs:\n",
    "            self._build_vocabulary()\n",
    "            self._normalize_vectors()\n",
    "            self._build_postings()"
   ]
  },
  {
   "cell_type": "code",
   "execution_count": 7,
   "metadata": {},
   "outputs": [],
   "source": [
    "class VSModel(VSModel):\n",
    "    \"\"\"\n",
    "        Generic class for the evaluation of the Vector Space model, inherited by the document-at-a-time (DAAT) and \n",
    "        term-at-a-time (TAAT) implementation. This superclass defines the idf-weights including filtering the most\n",
    "        important terms.\n",
    "    \"\"\"\n",
    "    def query_weights(self, vector: dict[str, int], measure: str) -> list[tuple[str,float]]:\n",
    "        # remove terms not in vocabulary\n",
    "        terms = list(filter(lambda t: t in self.vocabulary, vector.keys()))\n",
    "        # dot product: multiply tf with idf\n",
    "        if measure == 'dot':\n",
    "            return list(map(lambda t: (t, vector[t] * self.vocabulary[t]['idf']), terms))\n",
    "        # cosine measure: multiply tf with idf and take the cosine of the sum  \n",
    "        if measure == 'cosine':\n",
    "            norm = sum([(tf * self.vocabulary[term]['idf']) ** 2 for term, tf in vector.items()]) ** 0.5\n",
    "            return list(map(lambda t: (t, vector[t] * self.vocabulary[t]['idf'] / norm), terms))\n",
    "        # bm25: ignore tf and just use idf of term as weight\n",
    "        if measure in ['bm25', 'bm25-nolen', 'bm25-pos']:\n",
    "            return list(map(lambda t: (t, self.vocabulary[t]['idf']), terms))\n",
    "     \n",
    "        raise ValueError('Unknown normalization measure')"
   ]
  },
  {
   "attachments": {},
   "cell_type": "markdown",
   "metadata": {},
   "source": [
    "### Document-at-a-time for Vector Space Model"
   ]
  },
  {
   "cell_type": "code",
   "execution_count": 8,
   "metadata": {},
   "outputs": [],
   "source": [
    "class VSModel_DAAT(VSModel):\n",
    "    \"\"\"\n",
    "        Implements the DAAT model for the Vector Space model using inverted index method.\n",
    "    \"\"\"\n",
    "    def search(self, query: str, k: int, measure: str = 'dot', predicate: Callable[[int], bool] = None, selected_docs: set[int] = None):\n",
    "        query_vector = analyzer.bag_of_words(query)\n",
    "\n",
    "        # filter terms and obtain c_j-weights for terms in order of their importance \n",
    "        term_weights = self.query_weights(query_vector, measure)\n",
    "\n",
    "        # get iterators for each term and fetch first posting; postings have form (term, tf)\n",
    "        iters = [iter(self.index[term]) for (term, _) in term_weights]\n",
    "        nexts = [next(iter, None) for iter in iters]\n",
    "\n",
    "        # keep track of all retrieved documents and their score; stored as tuples (doc_id, score)\n",
    "        topk = TopKList(k, term_weights, predicate)\n",
    "\n",
    "        # iterate through all streams and calculate score for smallest doc id\n",
    "        while not all(e is None for e in nexts):\n",
    "            # get smallest value from nexts, ignoring None values\n",
    "            smallest = min(nexts, key = lambda x: x and x[0] or math.inf)[0]\n",
    "            # if selected_docs is given and smallest is not in selected_docs, skip this document\n",
    "            if selected_docs == None or smallest in selected_docs:\n",
    "                # if so, add it to topk\n",
    "                score = sum([nexts[i][1] * term_weights[i][1] for i in range(len(nexts)) if nexts[i] and nexts[i][0] == smallest])\n",
    "                topk.add(smallest, score)\n",
    "            # for each entry in nexts, fetch next item if entry equals smallest\n",
    "            for i, e in enumerate(nexts):\n",
    "                if e and e[0] == smallest:\n",
    "                    nexts[i] = next(iters[i], None)\n",
    "        \n",
    "        # finsihed, return topk for result iteration\n",
    "        return topk"
   ]
  },
  {
   "attachments": {},
   "cell_type": "markdown",
   "metadata": {},
   "source": [
    "### Term-at-a-time for Vector Space Model"
   ]
  },
  {
   "cell_type": "code",
   "execution_count": 9,
   "metadata": {},
   "outputs": [],
   "source": [
    "class VSModel_TAAT(VSModel):\n",
    "    \"\"\"\n",
    "        Implements the TAAT model for the Vector Space model using inverted index method.\n",
    "    \"\"\"\n",
    "    def search(self, query: str, k: int, measure: str = 'dot', predicate: Callable[[int], bool] = None, selected_docs: set[int] = None):\n",
    "        query_vector = analyzer.bag_of_words(query)\n",
    "\n",
    "        # filter terms and obtain c_j-weights for terms in order of their importance \n",
    "        term_weights = self.query_weights(query_vector, measure)\n",
    "        doc_scores = defaultdict(float)\n",
    "\n",
    "        # iterate over terms and fetch postings\n",
    "        for (term, weight) in term_weights:\n",
    "            for (doc_id, tfidf) in self.index[term]:\n",
    "                # check if doc_id is selected_docs (if given)\n",
    "                if selected_docs == None or doc_id in selected_docs:\n",
    "                    doc_scores[doc_id] += weight * tfidf\n",
    "\n",
    "        # we do not need a full sort of doc_scores, but can use the heap in TopKList\n",
    "        topk = TopKList(k, term_weights, predicate)\n",
    "        for doc_id, score in doc_scores.items():\n",
    "                topk.add(doc_id, score)\n",
    "        \n",
    "        # finisheds, return topk for result iteration\n",
    "        return topk"
   ]
  },
  {
   "cell_type": "markdown",
   "metadata": {},
   "source": [
    "## Running some examples"
   ]
  },
  {
   "cell_type": "markdown",
   "metadata": {},
   "source": [
    "### Loading the data"
   ]
  },
  {
   "cell_type": "code",
   "execution_count": 10,
   "metadata": {},
   "outputs": [
    {
     "data": {
      "application/vnd.jupyter.widget-view+json": {
       "model_id": "c318f1f9c23446f982ca2371e8689d69",
       "version_major": 2,
       "version_minor": 0
      },
      "text/plain": [
       "HBox(children=(Dropdown(options=('animals', 'imdb movies'), value='animals'), Dropdown(options=('dot', 'cosine…"
      ]
     },
     "metadata": {},
     "output_type": "display_data"
    }
   ],
   "source": [
    "import ipywidgets as widgets\n",
    "opt_dataset = widgets.Dropdown(options=['animals', 'imdb movies'])\n",
    "opt_measure = widgets.Dropdown(options=['dot', 'cosine', 'bm25', 'bm25-pos', 'bm25-nolen'])\n",
    "opt_strategy = widgets.Dropdown(options=['document-at-a-time', 'term-at-a-time'])\n",
    "display(widgets.HBox([opt_dataset, opt_measure, opt_strategy, ]))"
   ]
  },
  {
   "cell_type": "code",
   "execution_count": 11,
   "metadata": {},
   "outputs": [],
   "source": [
    "from utils import table\n",
    "from datasets import animals as animals_docs, imdb as imdb_docs\n",
    "import random\n",
    "\n",
    "def build_index_for_selection(dataset, measure, strategy):\n",
    "    global retriever, collection, queries, predicates, selections\n",
    "    # select the strategy of the retrieval model\n",
    "    if strategy == 'document-at-a-time':\n",
    "        retriever = VSModel_DAAT()\n",
    "    else:\n",
    "        retriever = VSModel_TAAT()\n",
    "\n",
    "    # select the dataset and define feedback function, queries, predicates, and selections\n",
    "    if dataset == 'animals':\n",
    "        collection = animals_docs\n",
    "        assessments = {\n",
    "            'random': lambda id: random.random() < 0.8,\n",
    "            'id < 20': lambda id: id < 20,\n",
    "        }\n",
    "        queries = [\n",
    "            'cat dog',\n",
    "            'horse bird',\n",
    "            'cat dog horse bird'\n",
    "        ]\n",
    "        predicates = {\n",
    "            'even doc ids': lambda id: id % 2 == 0,\n",
    "            'odd doc ids': lambda id: id % 2 == 1,\n",
    "        }\n",
    "        selections = {\n",
    "            'doc<10': list(range(10)),\n",
    "        }\n",
    "    elif dataset == 'imdb movies':\n",
    "        collection = imdb_docs\n",
    "        assessments = {\n",
    "            'top-100': lambda id: id < 100,\n",
    "            'star in title': lambda id: 'star' in retriever.documents[id]['title'].lower(),\n",
    "            'morgan in actor': lambda id: 'morgan' in retriever.documents[id]['actors'].lower(),\n",
    "            'comedy in genre': lambda id: 'comedy' in retriever.documents[id]['genre'].lower(),\n",
    "        }\n",
    "        queries = [\n",
    "            'star wars', \n",
    "            'drama morgan freeman', \n",
    "            'comedy'\n",
    "        ]\n",
    "        predicates = {\n",
    "            'year < 1990': lambda id: retriever.documents[id]['year'] < 1990,\n",
    "            'year >= 1990': lambda id: retriever.documents[id]['year'] >= 1990,\n",
    "        }\n",
    "        selections = {\n",
    "            'top-100': list(range(100)),\n",
    "            'top-250': list(range(250)),\n",
    "        }\n",
    "    else:\n",
    "        raise ValueError(\"to be implemented\")\n",
    "\n",
    "    # build index\n",
    "    retriever.build_index(collection.load(), opt_measure.value)\n",
    "\n",
    "build_index_for_selection(opt_dataset.value, opt_measure.value, opt_strategy.value)"
   ]
  },
  {
   "cell_type": "markdown",
   "metadata": {},
   "source": [
    "### Inspecting the data"
   ]
  },
  {
   "cell_type": "code",
   "execution_count": 12,
   "metadata": {},
   "outputs": [
    {
     "name": "stdout",
     "output_type": "stream",
     "text": [
      "|   id | text                                                                                  |\n",
      "|------|---------------------------------------------------------------------------------------|\n",
      "|    1 | cat cat cat rabit rabit rabit                                                         |\n",
      "|    2 | fly fly fly fly wale wale wale wale                                                   |\n",
      "|    3 | horse horse bird                                                                      |\n",
      "|    4 | fish                                                                                  |\n",
      "|    5 | tiger donkey                                                                          |\n",
      "|    6 | donkey donkey donkey donkey donkey fly                                                |\n",
      "|    7 | horse horse horse horse horse rabit rabit rabit rabit tiger donkey donkey donkey      |\n",
      "|    8 | dog dog rabit fly fly                                                                 |\n",
      "|    9 | bee bee bee ant ant ant ant                                                           |\n",
      "|   10 | dog dog dog dog dog ostrich tiger tiger donkey donkey bee bee bee fly fly fly fly fly |\n",
      "\n",
      "| term    |   df |   idf | posting                                                                                                                                                                                                                                                                                                                                 |\n",
      "|---------|------|-------|-----------------------------------------------------------------------------------------------------------------------------------------------------------------------------------------------------------------------------------------------------------------------------------------------------------------------------------------|\n",
      "| dog     |   30 |  1.18 | 8 (2.36), 10 (5.91), 11 (4.72), 12 (4.72), 17 (2.36), 18 (1.18), 22 (5.91), 24 (3.54), 25 (4.72), 26 (3.54), 33 (3.54), 39 (3.54), 42 (4.72), 47 (3.54), 51 (4.72), 53 (1.18), 54 (3.54), 55 (5.91), 56 (1.18), 57 (3.54), 58 (3.54), 63 (5.91), 67 (1.18), 69 (3.54), 72 (3.54), 76 (4.72), 77 (1.18), 78 (1.18), 88 (5.91), 90 (5.91) |\n",
      "| cat     |   25 |  1.36 | 1 (4.07), 23 (4.07), 24 (6.79), 26 (2.71), 32 (4.07), 33 (2.71), 37 (1.36), 42 (5.43), 43 (6.79), 44 (1.36), 46 (6.79), 47 (4.07), 49 (4.07), 55 (4.07), 58 (4.07), 60 (2.71), 64 (5.43), 66 (1.36), 70 (4.07), 76 (6.79), 81 (1.36), 89 (1.36), 90 (5.43), 91 (2.71), 94 (1.36)                                                        |\n",
      "| horse   |   22 |  1.48 | 3 (2.96), 7 (7.4), 13 (1.48), 15 (7.4), 19 (1.48), 20 (1.48), 24 (4.44), 28 (7.4), 31 (1.48), 35 (5.92), 36 (4.44), 37 (5.92), 46 (5.92), 60 (7.4), 66 (2.96), 69 (5.92), 71 (1.48), 73 (1.48), 76 (4.44), 81 (4.44), 87 (2.96), 99 (7.4)                                                                                               |\n",
      "| rabit   |   20 |  1.57 | 1 (4.71), 7 (6.28), 8 (1.57), 12 (7.85), 17 (3.14), 24 (1.57), 34 (3.14), 35 (6.28), 36 (1.57), 41 (7.85), 42 (4.71), 55 (4.71), 56 (3.14), 63 (7.85), 67 (3.14), 68 (4.71), 78 (7.85), 84 (6.28), 87 (7.85), 90 (4.71)                                                                                                                 |\n",
      "| ostrich |   18 |  1.67 | 10 (1.67), 14 (8.35), 17 (3.34), 22 (3.34), 36 (3.34), 37 (8.35), 38 (8.35), 39 (5.01), 44 (6.68), 55 (1.67), 58 (3.34), 63 (5.01), 78 (5.01), 80 (6.68), 87 (1.67), 88 (6.68), 93 (6.68), 94 (6.68)                                                                                                                                    |\n",
      "| bear    |   17 |  1.72 | 28 (6.9), 32 (3.45), 33 (5.17), 35 (1.72), 39 (8.62), 51 (5.17), 64 (8.62), 66 (5.17), 67 (6.9), 69 (8.62), 71 (6.9), 74 (8.62), 75 (5.17), 78 (6.9), 81 (1.72), 89 (1.72), 94 (1.72)                                                                                                                                                   |\n",
      "| tiger   |   15 |  1.84 | 5 (1.84), 7 (1.84), 10 (3.69), 16 (3.69), 25 (9.21), 26 (5.53), 30 (7.37), 35 (3.69), 41 (9.21), 52 (5.53), 59 (3.69), 61 (7.37), 69 (9.21), 77 (9.21), 97 (1.84)                                                                                                                                                                       |\n",
      "| bird    |   14 |  1.91 | 3 (1.91), 11 (3.81), 34 (1.91), 36 (7.63), 47 (9.54), 50 (1.91), 60 (1.91), 63 (1.91), 70 (1.91), 72 (5.72), 74 (9.54), 78 (7.63), 92 (1.91), 99 (1.91)                                                                                                                                                                                 |\n",
      "| lion    |   14 |  1.91 | 11 (3.81), 20 (9.54), 23 (7.63), 28 (3.81), 30 (1.91), 32 (1.91), 38 (7.63), 45 (3.81), 46 (3.81), 77 (1.91), 82 (3.81), 83 (7.63), 92 (5.72), 98 (7.63)                                                                                                                                                                                |\n",
      "| donkey  |   13 |  1.98 | 5 (1.98), 6 (9.88), 7 (5.93), 10 (3.95), 21 (5.93), 25 (7.9), 27 (7.9), 29 (5.93), 55 (3.95), 66 (1.98), 92 (3.95), 98 (5.93), 99 (9.88)                                                                                                                                                                                                |\n",
      "| bee     |   12 |  2.05 | 9 (6.15), 10 (6.15), 31 (2.05), 34 (2.05), 37 (2.05), 45 (8.2), 47 (6.15), 73 (6.15), 76 (2.05), 83 (8.2), 88 (2.05), 98 (2.05)                                                                                                                                                                                                         |\n",
      "| ant     |   12 |  2.05 | 9 (8.2), 19 (2.05), 24 (10.25), 28 (4.1), 30 (10.25), 34 (2.05), 35 (6.15), 42 (8.2), 48 (6.15), 79 (6.15), 83 (2.05), 91 (2.05)                                                                                                                                                                                                        |\n",
      "| fly     |   11 |  2.13 | 2 (8.52), 6 (2.13), 8 (4.26), 10 (10.65), 36 (2.13), 46 (8.52), 48 (8.52), 50 (10.65), 55 (10.65), 57 (8.52), 88 (2.13)                                                                                                                                                                                                                 |\n",
      "| wale    |   11 |  2.13 | 2 (8.52), 15 (2.13), 18 (4.26), 23 (10.65), 33 (2.13), 39 (10.65), 42 (10.65), 56 (4.26), 59 (10.65), 73 (2.13), 82 (8.52)                                                                                                                                                                                                              |\n",
      "| snake   |   10 |  2.22 | 14 (8.87), 27 (2.22), 39 (2.22), 50 (6.65), 57 (2.22), 68 (2.22), 73 (4.43), 78 (4.43), 94 (4.43), 99 (4.43)                                                                                                                                                                                                                            |\n",
      "| fish    |    9 |  2.31 | 4 (2.31), 40 (2.31), 62 (2.31), 65 (2.31), 85 (2.31), 86 (2.31), 95 (2.31), 96 (2.31), 100 (2.31)                                                                                                                                                                                                                                       |\n",
      "\n",
      "100 documents in collection\n",
      "16 distinct terms in collection\n",
      "253 postings\n"
     ]
    }
   ],
   "source": [
    "table.print([collection.format(doc) for doc in retriever.documents.values()], collection.headers(), max_rows = 10)\n",
    "table.print(sorted([[term, term_data['df'], round(term_data['idf'], 2), ', '.join([f'{doc_id} ({round(w, 2)})' for doc_id, w in retriever.index[term]])] for term, term_data in retriever.vocabulary.items()], key=lambda x: -x[1]), ['term', 'df', 'idf', 'posting'], max_rows=20)\n",
    "\n",
    "print(f'{len(retriever.documents)} documents in collection')\n",
    "print(f'{len(retriever.vocabulary)} distinct terms in collection')\n",
    "print('{count} postings'.format(count=sum([len(postings) for postings in retriever.index.values()])))"
   ]
  },
  {
   "cell_type": "markdown",
   "metadata": {},
   "source": [
    "### Pretty printing functions"
   ]
  },
  {
   "cell_type": "code",
   "execution_count": 13,
   "metadata": {},
   "outputs": [],
   "source": [
    "def print_topk(topk: TopKList):\n",
    "    list = []\n",
    "    for entry in topk:\n",
    "        list.append(collection.format(retriever.documents[entry['id']], [\n",
    "            entry['rank'],\n",
    "            round(entry['score'], 2)\n",
    "        ]))\n",
    "    table.print(list, collection.headers('rel', 'score'), max_rows=len(list))"
   ]
  },
  {
   "cell_type": "markdown",
   "metadata": {},
   "source": [
    "### Searching with selected data set and similarity measure"
   ]
  },
  {
   "cell_type": "code",
   "execution_count": 14,
   "metadata": {},
   "outputs": [
    {
     "data": {
      "application/vnd.jupyter.widget-view+json": {
       "model_id": "04bad5961b9b4f8bb2845952fb3593a4",
       "version_major": 2,
       "version_minor": 0
      },
      "text/plain": [
       "VBox(children=(HBox(children=(Dropdown(options=('animals', 'imdb movies'), value='animals'), Dropdown(options=…"
      ]
     },
     "metadata": {},
     "output_type": "display_data"
    }
   ],
   "source": [
    "from IPython.display import clear_output\n",
    "from functools import reduce\n",
    "\n",
    "def run_query(query: str, k:int, predicate: str, selection: str):\n",
    "    topk = retriever.search(query, k, measure=opt_measure.value, predicate=predicates.get(predicate, None), selected_docs=selections.get(selection, None))\n",
    "    print_topk(topk)\n",
    "    for term in sorted(topk.weights.keys(), key = lambda term: -topk.weights[term]):\n",
    "        print(term.rjust(16), topk.weights[term])\n",
    "\n",
    "# remove handlers if we re-execute this cell, need to do this before we overwrite function\n",
    "if 'rebuild_dataset' in globals():\n",
    "    opt_measure.unobserve(rebuild_dataset, 'value')\n",
    "    opt_strategy.unobserve(rebuild_dataset, 'value')\n",
    "    opt_dataset.unobserve(rebuild_dataset, 'value')\n",
    "def rebuild_dataset(*args):\n",
    "    build_index_for_selection(opt_dataset.value, opt_measure.value, opt_strategy.value)\n",
    "    f_query.options = list(queries)\n",
    "    f_predicate.options = ['<none>'] + list(predicates.keys())\n",
    "    f_selection.options = ['<none>'] + list(selections.keys())\n",
    "    k = f_k.value\n",
    "    f_k.value = 0\n",
    "    f_k.value = k\n",
    "\n",
    "# build the dataset widgets\n",
    "form_data = widgets.HBox([opt_dataset, opt_measure, opt_strategy], layout = {'margin': '0px 0px 20px'})\n",
    "opt_dataset.observe(rebuild_dataset, 'value')\n",
    "opt_measure.observe(rebuild_dataset, 'value')\n",
    "opt_strategy.observe(rebuild_dataset, 'value')\n",
    "\n",
    "# build query form\n",
    "f_query = widgets.Dropdown(description='query', options=list(queries))\n",
    "f_k = widgets.IntSlider(min=5, max=50, step=5, value=20)\n",
    "f_predicate = widgets.Dropdown(description='predicate',options=['<none>'] + list(predicates.keys()))\n",
    "f_selection = widgets.Dropdown(description='selection',options=['<none>'] + list(selections.keys()))\n",
    "form_query = widgets.interactive(run_query, query=f_query, k=f_k, predicate=f_predicate, selection=f_selection)\n",
    "\n",
    "# display\n",
    "display(widgets.VBox([form_data, form_query]))"
   ]
  },
  {
   "cell_type": "markdown",
   "metadata": {},
   "source": [
    "## What's next?"
   ]
  }
 ],
 "metadata": {
  "kernelspec": {
   "display_name": "Python 3",
   "language": "python",
   "name": "python3"
  },
  "language_info": {
   "codemirror_mode": {
    "name": "ipython",
    "version": 3
   },
   "file_extension": ".py",
   "mimetype": "text/x-python",
   "name": "python",
   "nbconvert_exporter": "python",
   "pygments_lexer": "ipython3",
   "version": "3.10.7"
  },
  "orig_nbformat": 4
 },
 "nbformat": 4,
 "nbformat_minor": 2
}
