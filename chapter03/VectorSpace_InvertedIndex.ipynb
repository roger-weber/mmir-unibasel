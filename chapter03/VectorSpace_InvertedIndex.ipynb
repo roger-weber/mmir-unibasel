{
 "cells": [
  {
   "cell_type": "code",
   "execution_count": 5,
   "metadata": {},
   "outputs": [
    {
     "name": "stdout",
     "output_type": "stream",
     "text": [
      "The autoreload extension is already loaded. To reload it, use:\n",
      "  %reload_ext autoreload\n"
     ]
    }
   ],
   "source": [
    "%load_ext autoreload\n",
    "%autoreload 2\n",
    "\n",
    "import os, sys\n",
    "module_path = os.path.abspath(os.path.join('..'))\n",
    "if module_path not in sys.path:\n",
    "    sys.path.append(module_path)"
   ]
  },
  {
   "attachments": {},
   "cell_type": "markdown",
   "metadata": {},
   "source": [
    "# Vector Space retrieval with inverted files"
   ]
  },
  {
   "cell_type": "markdown",
   "metadata": {},
   "source": [
    "\n",
    "## Helper functions"
   ]
  },
  {
   "cell_type": "markdown",
   "metadata": {},
   "source": [
    "### Globals\n",
    "* `DEBUG = False`: A debug flag for additional output (if needed)\n",
    "* `nDocs: int`: number of documents\n",
    "* `index: dict[term, list[tuple[int, int]]]`: inverted index mapping terms to postings. Postings contain doc_id and term frequency sorted by doc_id\n",
    "* `vocabulary: dict[term, dict{df, idf, idf_bm25}]`: vocabulary with all terms. Values contain objects with document frequency, idf, and idf for BM25\n",
    "* `documents: dict[int, dict{id, vector, len, norm}]`: collection of documents as dictionary with doc_id as key. Entries is a dictionary with the properies of the document (as loaded) and additional properties for the retrieval:\n",
    "  - `id` hold the document id as generated when loading the document; corresponds to the key in documents\n",
    "  - `vector` holds the term freqeuncies as dictionary (key=term, value=term frequency)\n",
    "  - `len` is the number of terms in the document (its length)\n",
    "  - `norm` is the length of the vector with term frequency multiplied by the idf (only needed for cosine measure)"
   ]
  },
  {
   "cell_type": "code",
   "execution_count": 6,
   "metadata": {},
   "outputs": [],
   "source": [
    "import random, math\n",
    "import ipywidgets as widgets\n",
    "from typing import Callable\n",
    "\n",
    "global nDocs, index, vocabulary, documents\n",
    "DEBUG = False"
   ]
  },
  {
   "attachments": {},
   "cell_type": "markdown",
   "metadata": {},
   "source": [
    "### TopKList class"
   ]
  },
  {
   "cell_type": "code",
   "execution_count": 7,
   "metadata": {},
   "outputs": [],
   "source": [
    "from heapq import heappop, heappush\n",
    "\n",
    "class TopKList:\n",
    "    \"\"\"\n",
    "        Maintains a list of top-k documents. Initializer accepts\n",
    "        a list of tuples (term, weight) to provide information about\n",
    "        weights used by retrieval model. Implements the iter() interface.\n",
    "        Takes an optional predicate(doc_id: int) function to filter documents\n",
    "        before returning them. \n",
    "    \"\"\"\n",
    "    def __init__(self, k: int, term_weights: list[tuple[str,float]] = None, predicate: Callable[[int], bool] = None):\n",
    "        self.docs_heap = []\n",
    "        self.k = k\n",
    "        self.predicate = predicate\n",
    "        if term_weights:\n",
    "            self.term_weights = term_weights\n",
    "            self.terms = [term for term, _ in self.term_weights]\n",
    "            self.weights = dict(self.term_weights)\n",
    "    \n",
    "    def add(self, doc_id: int, score: float):\n",
    "        heappush(self.docs_heap, (-score, doc_id, {'id': doc_id, 'score': score}))\n",
    "        # optional (infrequent) pruning if heap grows too large\n",
    "\n",
    "    def __iter__(self):\n",
    "        rank = 0\n",
    "        while rank < self.k and len(self.docs_heap) > 0:\n",
    "            entry = heappop(self.docs_heap)[2]\n",
    "            if self.predicate == None or self.predicate(entry['id']):\n",
    "                rank += 1\n",
    "                entry['rank'] = rank\n",
    "                yield entry"
   ]
  },
  {
   "cell_type": "markdown",
   "metadata": {},
   "source": [
    "### IDF implementations"
   ]
  },
  {
   "cell_type": "code",
   "execution_count": 8,
   "metadata": {},
   "outputs": [],
   "source": [
    "def idf(doc_freq: int, num_docs: int) -> float:\n",
    "    return math.log((num_docs + 1) / (doc_freq + 1))\n",
    "\n",
    "def idf_bm25(doc_freq: int, num_docs: int) -> float:\n",
    "    return math.log((num_docs - doc_freq + 0.5) / (doc_freq + 0.5))"
   ]
  },
  {
   "attachments": {},
   "cell_type": "markdown",
   "metadata": {},
   "source": [
    "### Functions for pretty printing"
   ]
  },
  {
   "cell_type": "code",
   "execution_count": 55,
   "metadata": {},
   "outputs": [],
   "source": [
    "# helper function to display result and get feedback\n",
    "def print_topk(topk, doc_format: Callable[[dict], str] = None):\n",
    "    doc_format = doc_format or (lambda x: str(x))\n",
    "    print(\"\\n    r  id score  document\\n-------------------------------------\")\n",
    "    for entry in topk:\n",
    "        print(\"  {rank: >3d} {id: >3d} ({score:.2f})\".format(**entry), doc_format(documents[entry['id']]))\n",
    "    print()\n",
    "    for term in sorted(topk.weights.keys(), key = lambda term: -topk.weights[term]):\n",
    "        print(term.rjust(16), topk.weights[term])"
   ]
  },
  {
   "attachments": {},
   "cell_type": "markdown",
   "metadata": {},
   "source": [
    "## Vector Space Model Implementation"
   ]
  },
  {
   "cell_type": "markdown",
   "metadata": {},
   "source": [
    "\n",
    "### Scoring functions\n"
   ]
  },
  {
   "cell_type": "code",
   "execution_count": 10,
   "metadata": {},
   "outputs": [],
   "source": [
    "class VSMeasure: pass\n",
    "    \n",
    "# implements the cosine measure\n",
    "class CosineMeasure(VSMeasure):\n",
    "\n",
    "    def __init__(self, query_vector: dict[str, int]):\n",
    "        self.query_vector_normalized = {}\n",
    "        self.term_weights = []\n",
    "        self.query_norm = 0\n",
    "        for term in query_vector.keys():\n",
    "            if term in vocabulary:\n",
    "                idf_2 = vocabulary[term]['idf'] ** 2\n",
    "                self.query_vector_normalized[term] = query_vector[term] * idf_2\n",
    "                self.term_weights.append((term, vocabulary[term]['idf']))\n",
    "                self.query_norm += idf_2 * query_vector[term] ** 2\n",
    "        self.query_norm = self.query_norm ** 0.5\n",
    "        for term in self.query_vector_normalized.keys():\n",
    "            self.query_vector_normalized[term] /= self.query_norm\n",
    "    \n",
    "    def similarity(self, doc_id: int, doc_vector: dict[str, int] = None):\n",
    "        if not doc_vector: \n",
    "            doc_vector = documents[doc_id]['vector']\n",
    "        dot_product = sum([doc_vector.get(term, 0) * q for (term, q) in self.query_vector_normalized.items()])\n",
    "        return dot_product / documents[doc_id]['norm']\n",
    "\n",
    "# implements the dot product\n",
    "class DotProduct(VSMeasure):\n",
    "    def __init__(self, query_vector: dict[str, int]):\n",
    "        self.query_vector_idf2 = {}\n",
    "        self.term_weights = []\n",
    "        for term in query_vector.keys():\n",
    "            if term in vocabulary:\n",
    "                idf = vocabulary[term]['idf']\n",
    "                self.query_vector_idf2[term] = query_vector[term] * idf ** 2\n",
    "                self.term_weights.append((term, idf))\n",
    "    \n",
    "    def similarity(self, doc_id: int, doc_vector: dict[str, int] = None):\n",
    "        if not doc_vector:\n",
    "            doc_vector = documents[doc_id]['vector']\n",
    "        dot_product = sum([doc_vector.get(term, 0) * q for (term, q) in self.query_vector_idf2.items()])\n",
    "        return dot_product"
   ]
  },
  {
   "cell_type": "markdown",
   "metadata": {},
   "source": [
    "### Base class"
   ]
  },
  {
   "cell_type": "code",
   "execution_count": 11,
   "metadata": {},
   "outputs": [],
   "source": [
    "class VSModel:\n",
    "    \"\"\"\n",
    "        Generic class for the evaluation of the Vector Space model, inherited by the document-at-a-time (DAAT) and \n",
    "        term-at-a-time (TAAT) implementation. This superclass defines the idf-weights including filtering the most\n",
    "        important terms.\n",
    "    \"\"\"\n",
    "    @staticmethod\n",
    "    def get_similarity_measure(measure: str, query_vector: dict[str, int]) -> VSMeasure:\n",
    "        return {\n",
    "            'cosine': CosineMeasure(query_vector)\n",
    "        }[measure]"
   ]
  },
  {
   "attachments": {},
   "cell_type": "markdown",
   "metadata": {},
   "source": [
    "### Document-at-a-time for Vector Space Model"
   ]
  },
  {
   "cell_type": "code",
   "execution_count": 116,
   "metadata": {},
   "outputs": [],
   "source": [
    "class VSModel_DAAT(VSModel):\n",
    "    \"\"\"\n",
    "        Implements the DAAT model for the Vector Space model using inverted index method.\n",
    "    \"\"\"\n",
    "    @staticmethod\n",
    "    def query(query_vector: dict[str, int], k: int, measure: str = 'dot', predicate: Callable[[int], bool] = None, selected_docs: set[int] = None):\n",
    "        # determine simialrity measure for this query\n",
    "        sim = VSModel.get_similarity_measure(measure, query_vector)\n",
    "        \n",
    "        # get iterators for each term and fetch first posting; postings have form (term, tf)\n",
    "        iters = [iter(index[term]) for (term, _) in sim.term_weights]\n",
    "        nexts = [next(iter, None) for iter in iters]\n",
    "\n",
    "        # keep track of all retrieved documents and their score; stored as tuples (doc_id, score)\n",
    "        topk = TopKList(k, sim.term_weights, predicate)\n",
    "        while not all(e is None for e in nexts):\n",
    "            # get smallest value from nexts, ignoring None values\n",
    "            smallest = min(nexts, key = lambda x: x[0] if x is not None else float('inf'))[0]\n",
    "            # if selected_docs is given and smallest is not in selected_docs, skip this document\n",
    "            if selected_docs == None or smallest in selected_docs:\n",
    "                # create a document vector with only the query terms for the document with id = smallest\n",
    "                doc_query_terms = {sim.term_weights[i][0]: nexts[i][1] for i in range(len(nexts)) if nexts[i] and nexts[i][0] == smallest}\n",
    "                score = sim.similarity(smallest, doc_query_terms)\n",
    "                # assert score == sim.similarity(smallest)\n",
    "                topk.add(smallest, score)\n",
    "            # for each entry in nexts, fetch next item if entry equals smallest\n",
    "            for i, e in enumerate(nexts):\n",
    "                if e and e[0] is smallest:\n",
    "                    nexts[i] = next(iters[i], None)\n",
    "        \n",
    "        # finsihed, return topk for result iteration\n",
    "        return topk"
   ]
  },
  {
   "attachments": {},
   "cell_type": "markdown",
   "metadata": {},
   "source": [
    "### Term-at-a-time for Vector Space Model"
   ]
  },
  {
   "cell_type": "code",
   "execution_count": null,
   "metadata": {},
   "outputs": [],
   "source": []
  },
  {
   "attachments": {},
   "cell_type": "markdown",
   "metadata": {},
   "source": [
    "## Building the index from document collection"
   ]
  },
  {
   "cell_type": "code",
   "execution_count": 117,
   "metadata": {},
   "outputs": [],
   "source": [
    "from utils import stopwords\n",
    "from itertools import groupby\n",
    "import re\n",
    "\n",
    "def tokenize(text: str) -> list[str]:\n",
    "    text = re.sub(r'[,\\.\\-\\?!\\(\\)\\s:;_\\'\"\\+\\*\\&\\$]', ' ', text.lower())\n",
    "    text = re.sub(r'\\s+', ' ', text).strip()\n",
    "    return filter(lambda t: t not in stopwords.english, text.split(' '))\n",
    "\n",
    "def bag_of_words(tokens: list[str]) -> dict[str, int]:\n",
    "    return dict([(token, len(list(group))) for token, group in groupby(sorted(tokens))])\n",
    "\n",
    "def build_index(collection: list[dict]) -> None:\n",
    "    global nDocs, index, documents, vocabulary\n",
    "    nDocs = 0\n",
    "    index = {}\n",
    "    documents = {}\n",
    "    vocabulary = {}\n",
    "    for doc in collection:\n",
    "        nDocs += 1\n",
    "        # add document to documents dict, with id as key and all properties\n",
    "        doc_id = doc['id'] = nDocs\n",
    "        documents[doc_id] = doc\n",
    "        # get terms from all string properties of doc\n",
    "        text = ' '.join([value for key, value in doc.items() if type(value) == str])\n",
    "        doc['vector'] = bag_of_words(tokenize(text))\n",
    "        doc['len'] = sum([tf for _, tf in doc['vector'].items()])\n",
    "        # update vocabulary (holding df values during this loop) and index (term -> postings)\n",
    "        for term, tf in doc['vector'].items():\n",
    "            vocabulary[term] = vocabulary.get(term, 0) + 1\n",
    "            index[term] = index.get(term, []) + [(doc_id, tf)]\n",
    "    # update vocabulary -> create dict with df, idf, and idf_bm25 values\n",
    "    vocabulary = dict([(term, {'df': df, 'idf': idf(df, nDocs), 'idf_bm25': idf_bm25(df, nDocs)}) for term, df in vocabulary.items()])\n",
    "    # calculate norm of vector for cosine measure\n",
    "    for doc in documents.values():\n",
    "        doc['norm'] = sum([(tf * vocabulary[term]['idf']) ** 2 for term, tf in doc['vector'].items()]) ** 0.5      "
   ]
  },
  {
   "attachments": {},
   "cell_type": "markdown",
   "metadata": {},
   "source": [
    "## IMDB Search Example\n",
    "### Load the data set"
   ]
  },
  {
   "cell_type": "code",
   "execution_count": 118,
   "metadata": {},
   "outputs": [
    {
     "name": "stdout",
     "output_type": "stream",
     "text": [
      "The Shawshank Redemption (1994, 142m, 9.3)         Drama                Two imprisoned men bond over a number of years, finding solace and eventual redemption through acts of common decency. [Tim Robbins Morgan Freeman Bob Gunton William Sadler]\n",
      "The Godfather (1972, 175m, 9.2)                    Crime Drama          An organized crime dynasty's aging patriarch transfers control of his clandestine empire to his reluctant son. [Marlon Brando Al Pacino James Caan Diane Keaton]\n",
      "The Dark Knight (2008, 152m, 9.0)                  Action Crime Drama   When the menace known as the Joker wreaks havoc and chaos on the people of Gotham, Batman must accept one of the greatest psychological and physical tests of his ability to fight injustice. [Christian Bale Heath Ledger Aaron Eckhart Michael Caine]\n",
      "The Godfather: Part II (1974, 202m, 9.0)           Crime Drama          The early life and career of Vito Corleone in 1920s New York City is portrayed, while his son, Michael, expands and tightens his grip on the family crime syndicate. [Al Pacino Robert De Niro Robert Duvall Diane Keaton]\n",
      "12 Angry Men (1957, 96m, 9.0)                      Crime Drama          A jury holdout attempts to prevent a miscarriage of justice by forcing his colleagues to reconsider the evidence. [Henry Fonda Lee J. Cobb Martin Balsam John Fiedler]\n"
     ]
    },
    {
     "data": {
      "text/plain": [
       "{'title': 'The Shawshank Redemption',\n",
       " 'year': 1994,\n",
       " 'runtime': 142,\n",
       " 'rating': 9.3,\n",
       " 'genre': 'Drama',\n",
       " 'actors': 'Tim Robbins Morgan Freeman Bob Gunton William Sadler',\n",
       " 'summary': 'Two imprisoned men bond over a number of years, finding solace and eventual redemption through acts of common decency.'}"
      ]
     },
     "execution_count": 118,
     "metadata": {},
     "output_type": "execute_result"
    }
   ],
   "source": [
    "# loading the imdb data set (1000 movies)\n",
    "from datasets.docs import imdb\n",
    "from utils import stopwords\n",
    "\n",
    "data = imdb.load()\n",
    "def doc_format_imdb(doc: dict) -> str:\n",
    "    trim = lambda s,n: len(s) > n and s[:n] + \"\\u2026\" or s\n",
    "    title_ex = '{title_short} ({year}, {runtime}m, {rating})'.format(title_short=trim(doc['title'], 30), **doc)\n",
    "    return '{title_ex:<50} {genre_short:<20} {summary} [{actors}]'.format(title_ex=title_ex, genre_short=trim(doc['genre'], 18), **doc)\n",
    "\n",
    "for item in data[:5]:\n",
    "    print(doc_format_imdb(item))\n",
    "\n",
    "data[0]"
   ]
  },
  {
   "cell_type": "code",
   "execution_count": 119,
   "metadata": {},
   "outputs": [
    {
     "name": "stdout",
     "output_type": "stream",
     "text": [
      "nDocs = 1000, nTerms = 9900, nPostings\n"
     ]
    }
   ],
   "source": [
    "build_index(data)\n",
    "print('nDocs = {nDocs}, nTerms = {nTerms}, nPostings'.format(nDocs=nDocs, nTerms=len(vocabulary), nPostings=sum([len(postings) for postings in index.values()])))"
   ]
  },
  {
   "cell_type": "markdown",
   "metadata": {},
   "source": [
    "### Looking at top (and some random) terms in the vocabulary including postings from the index"
   ]
  },
  {
   "cell_type": "code",
   "execution_count": 120,
   "metadata": {},
   "outputs": [
    {
     "name": "stdout",
     "output_type": "stream",
     "text": [
      "term               df     idf idf_bm25    postings\n",
      "----------------------------------------------------------------------------------------------------\n",
      "drama             724    0.32    -0.96    [(1, 1), (2, 1), (3, 1), (4, 1), (5, 1), (6, 1), (7, 1), (8, 1), (10, 1), (11, 1), (12, 1), (14, 1), (16, 1), (18, 1), (19, 1), (20, 1), (21, 1), (22, 1), (23, 1), (25, 1), (26, 1), (27, 1), (28, 1), (29, 1), (31, 1), (32, 1), (33, 1), (34, 1), (35, 1), (36, 1), (37, 1), (38, 1), (39, 1), (40, 1), (41, 1), (43, 1), (44, 1), (46, 1), (47, 1), (51, 1), (52, 1), (53, 1), (54, 1), (55, 1), (56, 1), (57, 1), (58, 1), (60, 1), (63, 1), (65, 1), (66, 1), (68, 1), (69, 1), (72, 1), (74, 1), (75, 1), (77, 1), (78, 1), (80, 1), (81, 1), (83, 1), (84, 1), (85, 1), (86, 1), (87, 1), (88, 1), (89, 1), (90, 1), (91, 1), (92, 1), (93, 1), (94, 1), (95, 1), (98, 1), (99, 1), (100, 1), (101, 1), (103, 1), (104, 1), (105, 1), (106, 1), (108, 1), (109, 1), (111, 1), (112, 1), (113, 1), (114, 1), (117, 1), (118, 1), (122, 1), (123, 1), (124, 1), (125, 1), (127, 1), (128, 1), (129, 1), (130, 1), (131, 1), (132, 1), (133, 1), (134, 1), (135, 1), (137, 1), (138, 1), (139, 1), (140, 1), (142, 1), (144, 1), (145, 1), (148, 1), (149, 1), (150, 1), (151, 1), (153, 1), (154, 1), (155, 1), (157, 1), (158, 1), (160, 1), (163, 1), (164, 1), (165, 1), (166, 1), (168, 1), (170, 1), (173, 1), (174, 1), (175, 1), (176, 1), (177, 2), (180, 1), (181, 1), (182, 1), (183, 1), (185, 1), (186, 1), (187, 1), (189, 1), (190, 1), (191, 1), (192, 1), (194, 1), (196, 1), (197, 1), (198, 1), (199, 1), (200, 1), (201, 1), (202, 1), (203, 1), (204, 1), (205, 1), (207, 1), (208, 1), (209, 1), (211, 1), (212, 1), (213, 1), (215, 1), (216, 1), (217, 1), (218, 1), (219, 1), (220, 1), (222, 1), (223, 1), (225, 1), (226, 1), (227, 1), (228, 1), (229, 1), (230, 1), (232, 1), (233, 1), (234, 1), (235, 1), (236, 1), (237, 1), (238, 1), (239, 1), (240, 1), (241, 1), (242, 1), (244, 1), (245, 1), (247, 1), (248, 1), (249, 1), (250, 1), (251, 1), (254, 1), (255, 1), (256, 1), (257, 1), (258, 1), (259, 1), (260, 1), (261, 1), (262, 1), (264, 1), (265, 1), (266, 1), (267, 1), (268, 1), (269, 1), (270, 1), (273, 1), (274, 1), (275, 1), (277, 1), (279, 1), (280, 1), (281, 1), (282, 1), (283, 1), (284, 1), (285, 1), (286, 1), (287, 1), (288, 1), (289, 1), (290, 1), (291, 1), (292, 1), (293, 1), (294, 1), (296, 1), (297, 1), (298, 1), (299, 1), (300, 1), (301, 1), (302, 1), (303, 1), (304, 1), (305, 1), (306, 1), (307, 1), (308, 1), (309, 1), (311, 1), (312, 1), (313, 1), (314, 1), (315, 1), (316, 1), (318, 1), (320, 1), (323, 1), (324, 1), (325, 1), (328, 1), (329, 1), (330, 1), (332, 1), (333, 1), (334, 1), (335, 1), (336, 1), (337, 1), (339, 1), (341, 1), (342, 1), (343, 1), (344, 1), (345, 1), (346, 1), (347, 1), (348, 1), (350, 1), (351, 1), (352, 1), (353, 1), (354, 1), (355, 1), (356, 1), (357, 1), (359, 1), (360, 1), (361, 1), (362, 1), (364, 1), (366, 1), (371, 1), (372, 1), (373, 1), (374, 1), (375, 1), (376, 1), (378, 1), (380, 1), (381, 1), (382, 1), (383, 1), (384, 1), (385, 1), (386, 1), (388, 1), (389, 1), (392, 1), (393, 1), (398, 1), (399, 1), (401, 1), (403, 1), (404, 1), (405, 1), (408, 1), (409, 1), (410, 1), (412, 1), (413, 1), (414, 1), (417, 1), (419, 1), (422, 1), (423, 1), (424, 1), (425, 1), (426, 1), (428, 1), (429, 1), (430, 1), (431, 1), (432, 1), (433, 1), (434, 1), (435, 1), (436, 1), (437, 1), (438, 1), (439, 1), (440, 1), (441, 1), (442, 1), (443, 1), (444, 1), (445, 1), (446, 1), (448, 1), (449, 1), (451, 1), (452, 1), (453, 1), (454, 1), (455, 1), (458, 1), (460, 1), (462, 1), (463, 1), (464, 1), (465, 1), (466, 1), (467, 1), (468, 1), (469, 1), (471, 1), (472, 1), (473, 1), (475, 1), (476, 1), (477, 1), (479, 1), (481, 1), (482, 1), (484, 1), (485, 1), (486, 1), (487, 1), (488, 1), (490, 1), (491, 1), (492, 1), (493, 1), (495, 1), (496, 1), (497, 1), (498, 1), (499, 1), (501, 1), (502, 1), (505, 1), (506, 1), (509, 1), (510, 1), (513, 1), (514, 1), (515, 1), (516, 1), (518, 1), (519, 1), (520, 1), (521, 1), (522, 1), (524, 1), (525, 1), (526, 1), (527, 1), (528, 1), (529, 1), (530, 1), (534, 1), (535, 1), (537, 1), (538, 1), (539, 1), (542, 1), (543, 1), (546, 1), (547, 1), (549, 1), (550, 1), (551, 1), (552, 1), (553, 1), (554, 1), (555, 1), (556, 1), (558, 1), (559, 1), (560, 1), (562, 1), (564, 1), (568, 1), (571, 1), (572, 1), (573, 1), (574, 1), (575, 1), (576, 1), (578, 1), (580, 1), (581, 1), (582, 1), (585, 1), (586, 1), (588, 1), (589, 1), (590, 1), (591, 1), (594, 1), (595, 1), (596, 1), (598, 1), (599, 1), (601, 1), (602, 1), (603, 1), (604, 1), (606, 1), (607, 1), (608, 1), (611, 1), (612, 1), (613, 1), (614, 1), (615, 1), (617, 1), (618, 1), (620, 1), (621, 1), (622, 1), (623, 1), (625, 1), (626, 1), (627, 1), (629, 1), (630, 1), (631, 1), (632, 1), (633, 1), (636, 1), (637, 1), (638, 1), (639, 1), (640, 1), (641, 1), (642, 1), (643, 1), (644, 1), (645, 1), (647, 1), (648, 1), (650, 1), (651, 1), (653, 1), (654, 1), (655, 1), (656, 1), (657, 1), (658, 1), (659, 1), (660, 1), (661, 1), (662, 1), (663, 1), (664, 1), (665, 1), (668, 1), (669, 1), (670, 1), (671, 1), (672, 1), (673, 1), (674, 1), (675, 1), (677, 1), (681, 1), (683, 1), (684, 1), (685, 1), (687, 1), (688, 1), (690, 1), (691, 1), (694, 1), (696, 1), (697, 1), (698, 1), (700, 1), (702, 1), (704, 1), (706, 1), (707, 1), (709, 1), (710, 1), (711, 1), (714, 1), (717, 1), (719, 1), (720, 1), (721, 1), (722, 1), (724, 1), (727, 1), (729, 1), (730, 1), (732, 1), (733, 1), (734, 1), (735, 1), (736, 1), (737, 1), (739, 1), (740, 1), (742, 1), (743, 1), (746, 1), (748, 2), (749, 1), (753, 1), (754, 1), (755, 1), (758, 1), (759, 1), (760, 1), (761, 1), (763, 1), (764, 1), (765, 1), (766, 1), (767, 1), (768, 1), (769, 1), (770, 1), (771, 1), (773, 1), (774, 1), (775, 1), (776, 1), (779, 1), (780, 1), (781, 1), (783, 1), (784, 1), (785, 1), (786, 1), (787, 1), (788, 1), (789, 1), (790, 1), (791, 1), (792, 1), (793, 1), (794, 1), (795, 1), (799, 1), (802, 1), (803, 1), (804, 1), (805, 1), (806, 1), (807, 1), (810, 1), (811, 1), (812, 1), (813, 1), (814, 1), (815, 2), (816, 1), (818, 1), (819, 1), (820, 1), (821, 1), (822, 1), (824, 1), (825, 1), (826, 1), (827, 1), (828, 1), (831, 1), (832, 1), (833, 1), (834, 1), (835, 1), (837, 1), (839, 1), (842, 1), (846, 1), (850, 1), (851, 1), (852, 1), (853, 1), (858, 1), (859, 1), (860, 1), (861, 1), (863, 1), (864, 1), (865, 1), (867, 1), (868, 1), (869, 1), (871, 1), (872, 1), (873, 1), (874, 1), (875, 1), (878, 1), (879, 1), (880, 1), (881, 1), (882, 1), (883, 1), (884, 1), (885, 1), (886, 1), (887, 1), (889, 1), (890, 1), (891, 1), (894, 1), (895, 1), (896, 1), (897, 1), (898, 1), (899, 1), (902, 1), (904, 1), (905, 1), (906, 1), (908, 1), (911, 1), (912, 1), (914, 1), (916, 1), (917, 1), (918, 1), (919, 1), (922, 1), (923, 1), (924, 1), (925, 1), (926, 1), (927, 1), (929, 1), (930, 1), (931, 1), (932, 1), (934, 1), (935, 1), (936, 1), (937, 1), (938, 1), (939, 1), (940, 1), (941, 1), (942, 1), (943, 1), (944, 1), (945, 1), (946, 1), (947, 1), (950, 1), (951, 1), (953, 1), (954, 1), (955, 1), (956, 1), (958, 1), (959, 1), (961, 1), (963, 1), (965, 1), (966, 1), (967, 1), (968, 1), (969, 1), (972, 1), (975, 1), (976, 1), (979, 1), (981, 1), (982, 1), (987, 1), (988, 1), (989, 1), (990, 1), (991, 1), (994, 1), (996, 1), (997, 1), (998, 1), (999, 1)]\n",
      "comedy            233    1.45     1.19    [(20, 1), (27, 1), (36, 1), (48, 1), (52, 1), (53, 1), (65, 1), (79, 1), (84, 1), (96, 1), (97, 1), (102, 1), (113, 1), (118, 1), (121, 1), (128, 1), (129, 1), (132, 1), (133, 1), (136, 1), (138, 1), (141, 1), (147, 1), (152, 1), (154, 1), (161, 1), (162, 1), (167, 1), (170, 1), (178, 1), (179, 1), (184, 1), (193, 1), (194, 1), (195, 1), (205, 1), (206, 1), (208, 1), (209, 1), (210, 1), (214, 1), (215, 1), (222, 1), (230, 1), (234, 1), (239, 1), (241, 1), (243, 1), (246, 1), (251, 1), (252, 1), (253, 1), (257, 1), (262, 1), (267, 1), (278, 1), (285, 1), (295, 1), (312, 1), (314, 1), (317, 1), (319, 1), (321, 1), (323, 1), (326, 1), (328, 1), (331, 1), (340, 1), (349, 1), (367, 1), (368, 1), (375, 1), (380, 1), (382, 1), (391, 1), (393, 1), (397, 1), (400, 1), (404, 1), (414, 1), (415, 1), (418, 1), (428, 1), (436, 1), (446, 1), (447, 1), (450, 1), (456, 1), (460, 1), (461, 1), (464, 1), (465, 1), (467, 1), (470, 1), (471, 1), (472, 1), (473, 1), (474, 1), (476, 1), (482, 1), (491, 1), (495, 1), (500, 1), (501, 1), (504, 1), (510, 1), (515, 1), (517, 1), (527, 1), (529, 1), (531, 1), (532, 1), (533, 1), (534, 1), (539, 1), (540, 1), (542, 1), (548, 1), (558, 1), (559, 1), (563, 1), (564, 1), (566, 1), (570, 1), (575, 1), (577, 1), (588, 1), (592, 1), (594, 1), (595, 1), (597, 1), (599, 1), (601, 1), (614, 1), (627, 1), (628, 1), (631, 1), (634, 1), (641, 1), (652, 1), (658, 1), (661, 1), (663, 1), (668, 1), (676, 1), (679, 1), (680, 1), (681, 1), (682, 1), (684, 1), (686, 1), (688, 2), (702, 1), (705, 1), (712, 1), (716, 1), (718, 1), (723, 1), (727, 1), (728, 1), (731, 1), (733, 1), (734, 1), (740, 1), (741, 1), (744, 1), (751, 1), (753, 1), (755, 2), (757, 1), (761, 1), (762, 1), (772, 1), (777, 1), (781, 1), (787, 1), (790, 1), (795, 1), (798, 1), (799, 1), (800, 1), (801, 1), (802, 1), (804, 1), (806, 1), (807, 1), (809, 1), (815, 1), (816, 1), (817, 1), (818, 1), (820, 1), (823, 1), (827, 1), (829, 1), (831, 1), (836, 1), (837, 1), (838, 1), (843, 1), (847, 1), (849, 1), (856, 1), (870, 1), (871, 1), (872, 1), (880, 1), (885, 1), (888, 1), (893, 1), (898, 1), (907, 1), (908, 2), (909, 1), (913, 1), (936, 1), (938, 1), (946, 1), (954, 1), (958, 1), (968, 1), (970, 1), (971, 1), (973, 2), (974, 1), (976, 1), (978, 1), (979, 1), (985, 1), (990, 1), (992, 1), (995, 1), (996, 1)]\n",
      "crime             215    1.53     1.29    [(2, 2), (3, 1), (4, 2), (5, 1), (7, 1), (16, 2), (23, 1), (26, 1), (28, 1), (29, 1), (34, 2), (38, 1), (42, 1), (43, 1), (54, 1), (56, 1), (72, 1), (78, 1), (80, 1), (87, 2), (88, 2), (97, 1), (104, 1), (109, 1), (112, 1), (113, 1), (114, 1), (124, 1), (126, 1), (133, 1), (134, 1), (137, 2), (141, 1), (143, 1), (148, 2), (154, 1), (156, 1), (161, 1), (162, 1), (163, 1), (164, 1), (165, 1), (166, 1), (170, 2), (181, 1), (187, 2), (188, 1), (190, 1), (197, 1), (199, 1), (202, 1), (210, 1), (219, 1), (223, 1), (225, 1), (233, 1), (240, 1), (242, 1), (244, 1), (252, 1), (253, 1), (256, 2), (258, 1), (262, 1), (264, 1), (285, 1), (288, 1), (289, 1), (295, 1), (299, 1), (300, 2), (306, 1), (309, 1), (327, 1), (333, 1), (336, 1), (338, 1), (346, 1), (357, 1), (364, 1), (365, 1), (370, 1), (376, 1), (381, 1), (385, 1), (387, 1), (391, 1), (395, 1), (398, 1), (417, 1), (419, 1), (425, 1), (438, 1), (439, 1), (442, 1), (443, 1), (445, 1), (450, 1), (451, 2), (452, 1), (456, 1), (461, 1), (464, 1), (466, 1), (475, 2), (481, 1), (485, 1), (486, 1), (488, 1), (495, 1), (506, 1), (511, 1), (513, 1), (520, 1), (521, 1), (524, 1), (528, 1), (547, 1), (557, 1), (561, 1), (570, 1), (578, 1), (585, 1), (587, 1), (598, 1), (603, 1), (604, 1), (605, 1), (606, 1), (608, 1), (609, 1), (612, 1), (621, 1), (622, 1), (623, 1), (631, 1), (640, 1), (649, 1), (654, 1), (664, 1), (665, 1), (666, 1), (667, 1), (670, 1), (675, 1), (677, 1), (681, 1), (688, 1), (696, 1), (697, 1), (703, 2), (709, 1), (711, 1), (719, 1), (724, 1), (760, 1), (763, 1), (764, 1), (768, 1), (769, 2), (775, 1), (776, 1), (783, 1), (792, 1), (796, 1), (798, 1), (803, 1), (810, 1), (812, 1), (815, 2), (824, 1), (828, 2), (834, 1), (837, 1), (848, 1), (850, 1), (851, 1), (853, 1), (854, 1), (870, 1), (883, 1), (886, 1), (889, 2), (894, 1), (896, 1), (897, 1), (902, 1), (907, 1), (909, 1), (910, 1), (919, 1), (922, 1), (923, 1), (927, 1), (932, 1), (939, 1), (940, 1), (950, 1), (952, 1), (954, 1), (955, 1), (959, 1), (961, 1), (969, 1), (971, 1), (973, 1), (975, 2), (978, 1), (980, 1), (981, 1), (984, 1), (986, 1), (988, 1), (990, 1), (1000, 1)]\n",
      "adventure         198    1.62     1.40    [(6, 1), (9, 1), (11, 1), (14, 1), (17, 1), (22, 1), (24, 1), (30, 1), (32, 1), (40, 1), (44, 1), (48, 1), (59, 1), (60, 1), (61, 1), (62, 1), (64, 1), (67, 1), (71, 1), (73, 1), (94, 1), (102, 1), (107, 1), (110, 1), (111, 1), (115, 1), (117, 1), (119, 1), (136, 1), (138, 1), (147, 1), (152, 1), (156, 1), (159, 1), (169, 1), (178, 1), (179, 1), (180, 1), (192, 1), (194, 1), (206, 1), (210, 1), (214, 1), (220, 2), (224, 1), (227, 1), (231, 1), (232, 1), (243, 1), (246, 1), (248, 1), (263, 1), (268, 1), (271, 1), (274, 1), (282, 1), (301, 1), (302, 1), (305, 1), (307, 1), (321, 1), (324, 1), (326, 1), (330, 1), (331, 1), (333, 1), (340, 1), (344, 1), (349, 1), (358, 1), (362, 1), (367, 1), (368, 1), (369, 1), (377, 1), (378, 1), (379, 1), (390, 1), (400, 1), (403, 1), (407, 1), (410, 1), (416, 1), (427, 1), (459, 1), (470, 1), (471, 1), (474, 1), (478, 1), (480, 1), (483, 1), (494, 1), (497, 1), (498, 1), (499, 2), (500, 1), (503, 1), (507, 1), (508, 1), (514, 1), (515, 1), (517, 1), (523, 1), (533, 1), (536, 1), (538, 1), (541, 1), (544, 1), (550, 1), (553, 1), (554, 1), (565, 1), (567, 1), (577, 1), (579, 1), (583, 1), (584, 1), (593, 1), (597, 1), (600, 1), (605, 1), (610, 1), (619, 1), (624, 1), (626, 1), (634, 1), (635, 1), (639, 1), (643, 1), (646, 2), (648, 1), (652, 1), (673, 1), (676, 1), (678, 1), (682, 2), (687, 1), (693, 1), (705, 1), (710, 1), (712, 1), (714, 1), (723, 1), (726, 1), (731, 1), (738, 1), (740, 1), (741, 1), (742, 1), (745, 1), (747, 1), (750, 1), (752, 1), (756, 1), (757, 1), (762, 1), (772, 1), (782, 1), (798, 1), (799, 1), (808, 1), (822, 1), (823, 1), (829, 1), (840, 1), (841, 1), (844, 1), (852, 1), (855, 1), (857, 1), (862, 1), (866, 1), (874, 1), (882, 1), (885, 1), (888, 1), (892, 1), (893, 1), (899, 1), (903, 1), (910, 1), (913, 1), (915, 1), (920, 1), (921, 2), (928, 1), (945, 1), (948, 1), (957, 1), (958, 1), (964, 1), (965, 1), (967, 1), (983, 1), (985, 1), (987, 1), (992, 1), (993, 1)]\n",
      "action            191    1.65     1.44    [(3, 1), (6, 1), (9, 1), (11, 1), (14, 1), (15, 1), (17, 1), (25, 1), (30, 1), (31, 1), (32, 1), (40, 1), (43, 1), (45, 1), (56, 1), (58, 1), (59, 1), (60, 1), (61, 1), (64, 1), (69, 1), (71, 1), (73, 1), (107, 1), (110, 1), (112, 1), (130, 1), (131, 1), (135, 1), (141, 1), (143, 1), (145, 1), (153, 1), (156, 1), (161, 1), (162, 1), (167, 1), (169, 1), (172, 1), (173, 1), (178, 1), (182, 1), (195, 1), (202, 1), (203, 1), (217, 1), (218, 1), (224, 1), (225, 1), (231, 1), (237, 1), (242, 1), (247, 1), (263, 1), (276, 1), (295, 1), (309, 1), (321, 1), (326, 1), (327, 1), (332, 1), (338, 1), (340, 1), (341, 1), (344, 1), (346, 1), (349, 1), (352, 1), (354, 1), (357, 1), (358, 1), (363, 1), (369, 1), (370, 1), (376, 1), (377, 1), (379, 2), (390, 1), (391, 1), (395, 1), (406, 1), (411, 1), (432, 1), (437, 1), (474, 1), (478, 1), (480, 1), (483, 1), (489, 1), (494, 1), (497, 1), (503, 1), (508, 1), (511, 1), (512, 1), (523, 1), (533, 1), (536, 1), (541, 1), (544, 1), (565, 1), (570, 1), (571, 1), (574, 1), (578, 1), (579, 1), (583, 1), (584, 1), (593, 1), (600, 1), (603, 1), (606, 1), (609, 1), (616, 1), (624, 1), (626, 1), (628, 1), (635, 1), (642, 1), (643, 1), (646, 1), (649, 1), (656, 1), (660, 1), (664, 1), (666, 1), (667, 1), (675, 1), (678, 1), (679, 1), (686, 1), (697, 1), (703, 1), (706, 1), (710, 1), (711, 1), (719, 1), (723, 1), (726, 1), (731, 1), (738, 1), (745, 1), (747, 1), (750, 1), (752, 1), (769, 1), (775, 1), (777, 1), (778, 1), (783, 1), (785, 1), (797, 1), (808, 1), (822, 1), (833, 1), (840, 1), (841, 1), (848, 1), (851, 1), (853, 1), (854, 1), (855, 1), (857, 1), (862, 1), (866, 1), (888, 1), (889, 1), (890, 1), (892, 1), (894, 1), (897, 1), (899, 1), (901, 1), (902, 1), (909, 1), (910, 1), (915, 1), (919, 1), (925, 1), (928, 1), (929, 1), (931, 1), (932, 1), (945, 1), (952, 1), (964, 1), (969, 1), (980, 1), (983, 1), (984, 1), (986, 1)]\n",
      "thriller          137    1.98     1.84    [(20, 1), (29, 1), (34, 1), (38, 1), (42, 1), (50, 1), (68, 1), (70, 1), (82, 1), (85, 1), (88, 1), (104, 1), (106, 1), (111, 1), (119, 1), (120, 1), (126, 1), (146, 1), (164, 1), (165, 1), (172, 1), (182, 1), (187, 1), (188, 1), (197, 1), (200, 1), (204, 1), (205, 1), (211, 1), (221, 1), (233, 1), (245, 1), (249, 1), (256, 1), (276, 1), (284, 1), (290, 1), (294, 1), (306, 1), (307, 1), (310, 1), (327, 1), (336, 1), (338, 1), (339, 1), (354, 1), (356, 1), (362, 1), (363, 1), (365, 1), (369, 1), (370, 1), (394, 1), (401, 1), (416, 1), (421, 1), (456, 1), (463, 1), (475, 1), (489, 1), (512, 1), (513, 1), (516, 1), (524, 1), (528, 1), (545, 1), (549, 1), (556, 1), (557, 1), (571, 1), (602, 2), (609, 1), (613, 1), (616, 1), (642, 1), (649, 1), (650, 1), (655, 1), (667, 1), (671, 1), (694, 1), (696, 1), (701, 1), (713, 1), (715, 1), (725, 1), (726, 1), (746, 1), (752, 1), (754, 1), (765, 1), (773, 1), (776, 1), (778, 1), (779, 1), (792, 1), (793, 1), (796, 1), (803, 1), (825, 1), (827, 1), (828, 1), (830, 1), (835, 1), (845, 1), (846, 1), (848, 1), (852, 1), (854, 1), (860, 1), (862, 1), (864, 1), (865, 1), (879, 1), (891, 1), (900, 1), (901, 1), (912, 1), (914, 1), (927, 1), (930, 1), (933, 1), (939, 1), (940, 1), (943, 1), (949, 1), (955, 1), (959, 1), (960, 1), (961, 1), (962, 1), (964, 1), (980, 1), (981, 1), (984, 1), (994, 1), (1000, 1)]\n",
      "young             132    2.02     1.88    [(29, 1), (35, 1), (36, 1), (47, 1), (50, 1), (52, 1), (106, 1), (147, 1), (151, 1), (153, 1), (154, 1), (155, 1), (159, 2), (168, 1), (170, 1), (196, 1), (197, 1), (198, 1), (202, 1), (204, 1), (212, 1), (214, 1), (215, 1), (220, 1), (231, 2), (240, 1), (258, 1), (260, 1), (266, 1), (275, 1), (276, 1), (280, 1), (285, 1), (295, 1), (298, 1), (300, 1), (311, 1), (317, 1), (326, 1), (333, 2), (341, 1), (351, 1), (364, 1), (367, 1), (368, 1), (372, 1), (380, 1), (385, 1), (389, 1), (390, 1), (393, 1), (402, 1), (407, 1), (410, 1), (411, 1), (418, 1), (426, 1), (429, 1), (437, 1), (443, 1), (465, 1), (476, 1), (482, 1), (486, 1), (491, 1), (499, 1), (501, 1), (505, 1), (507, 1), (518, 1), (532, 1), (542, 1), (543, 1), (559, 1), (579, 1), (582, 1), (586, 1), (587, 1), (591, 1), (599, 1), (604, 1), (612, 1), (626, 1), (627, 1), (638, 2), (640, 1), (643, 1), (646, 1), (647, 1), (659, 1), (661, 1), (670, 1), (673, 1), (682, 1), (708, 1), (713, 1), (715, 1), (722, 1), (723, 1), (724, 1), (725, 1), (735, 1), (755, 1), (757, 1), (759, 1), (764, 1), (765, 1), (781, 1), (786, 1), (787, 1), (794, 1), (799, 1), (814, 1), (830, 1), (833, 1), (835, 1), (858, 1), (865, 1), (869, 1), (886, 1), (889, 1), (902, 1), (904, 1), (910, 1), (917, 1), (920, 1), (921, 1), (935, 1), (937, 1), (957, 1), (959, 1), (996, 2)]\n",
      "man               129    2.04     1.91    [(12, 1), (21, 1), (26, 1), (36, 1), (50, 1), (59, 2), (70, 1), (77, 1), (88, 1), (118, 1), (123, 1), (129, 1), (137, 1), (139, 2), (168, 1), (181, 1), (186, 1), (198, 1), (202, 1), (211, 1), (213, 1), (216, 1), (225, 1), (230, 1), (244, 1), (254, 1), (260, 1), (264, 1), (269, 1), (274, 1), (277, 2), (283, 1), (285, 1), (289, 1), (295, 1), (296, 1), (308, 1), (310, 1), (311, 1), (314, 1), (315, 1), (320, 1), (323, 1), (326, 1), (332, 1), (349, 1), (351, 1), (352, 2), (353, 1), (354, 1), (364, 1), (371, 1), (374, 1), (380, 1), (383, 1), (386, 1), (392, 1), (394, 1), (399, 1), (405, 1), (419, 2), (421, 1), (424, 1), (442, 1), (461, 1), (468, 1), (475, 1), (485, 1), (486, 1), (496, 1), (499, 1), (503, 1), (504, 1), (510, 2), (512, 1), (525, 1), (558, 1), (559, 1), (584, 1), (587, 1), (589, 1), (591, 1), (592, 1), (596, 1), (620, 1), (626, 1), (629, 1), (638, 1), (643, 1), (644, 1), (646, 1), (655, 1), (659, 1), (693, 2), (711, 1), (727, 1), (747, 1), (755, 1), (783, 1), (787, 1), (789, 1), (799, 1), (805, 1), (819, 1), (835, 1), (838, 1), (841, 1), (843, 1), (859, 1), (864, 1), (865, 1), (869, 1), (871, 1), (872, 1), (877, 1), (884, 1), (896, 1), (918, 1), (920, 1), (922, 1), (927, 1), (935, 1), (938, 1), (960, 1), (965, 3), (969, 1), (979, 1), (996, 1), (1000, 2)]\n",
      "romance           126    2.06     1.93    [(12, 1), (27, 1), (46, 1), (51, 1), (53, 1), (95, 1), (96, 1), (100, 1), (118, 2), (120, 1), (121, 1), (144, 1), (167, 1), (184, 1), (185, 1), (195, 1), (196, 1), (200, 1), (215, 1), (234, 1), (238, 1), (241, 1), (250, 1), (252, 1), (254, 1), (259, 1), (260, 1), (261, 1), (265, 1), (266, 1), (311, 1), (312, 1), (313, 1), (315, 2), (317, 1), (319, 1), (320, 1), (335, 1), (342, 1), (345, 1), (351, 1), (355, 1), (364, 1), (372, 1), (380, 1), (397, 1), (408, 1), (415, 1), (422, 1), (428, 1), (431, 1), (441, 1), (447, 1), (453, 1), (455, 1), (465, 1), (467, 1), (468, 2), (479, 1), (482, 1), (484, 1), (491, 1), (505, 1), (509, 1), (521, 2), (525, 1), (534, 1), (542, 1), (548, 2), (552, 1), (560, 1), (563, 1), (564, 1), (565, 1), (586, 1), (591, 1), (592, 1), (599, 1), (618, 1), (621, 1), (625, 1), (629, 1), (632, 1), (638, 1), (648, 1), (653, 1), (654, 1), (662, 1), (665, 1), (691, 1), (707, 1), (716, 1), (722, 1), (727, 1), (730, 1), (732, 1), (735, 1), (737, 1), (744, 1), (753, 1), (755, 1), (761, 1), (774, 1), (787, 1), (804, 1), (807, 1), (836, 1), (858, 1), (871, 1), (872, 1), (874, 1), (875, 1), (886, 1), (904, 1), (906, 1), (908, 1), (930, 1), (936, 1), (937, 1), (963, 1), (966, 1), (968, 1), (972, 1), (976, 1), (996, 1), (998, 1)]\n",
      "family            111    2.19     2.08    [(4, 1), (20, 1), (24, 2), (33, 1), (40, 1), (43, 1), (52, 1), (62, 2), (66, 1), (67, 1), (74, 1), (88, 2), (91, 1), (93, 2), (101, 1), (128, 1), (137, 1), (138, 1), (149, 1), (150, 1), (159, 1), (171, 1), (178, 1), (198, 1), (207, 1), (229, 1), (270, 1), (275, 1), (298, 1), (326, 1), (329, 1), (334, 1), (379, 1), (388, 1), (396, 1), (402, 1), (407, 1), (423, 1), (430, 1), (458, 1), (459, 1), (464, 1), (466, 1), (467, 1), (473, 1), (484, 1), (506, 1), (507, 1), (519, 1), (520, 1), (532, 1), (539, 1), (558, 1), (559, 1), (561, 1), (577, 2), (595, 1), (627, 1), (630, 1), (651, 1), (661, 1), (682, 1), (689, 1), (692, 1), (699, 1), (704, 1), (705, 1), (711, 1), (713, 1), (716, 1), (721, 1), (729, 1), (744, 1), (756, 1), (764, 1), (766, 1), (782, 1), (783, 1), (784, 1), (788, 1), (789, 1), (794, 1), (814, 1), (820, 1), (842, 1), (844, 1), (864, 1), (871, 1), (876, 1), (888, 1), (892, 2), (896, 1), (897, 1), (903, 3), (913, 1), (916, 1), (919, 1), (920, 1), (921, 1), (928, 1), (941, 2), (946, 1), (948, 2), (949, 1), (957, 1), (974, 2), (975, 1), (977, 1), (985, 1), (993, 1), (997, 1)]\n",
      "\n",
      "creates             6    4.96     5.03    [(241, 1), (494, 1), (503, 1), (749, 1), (912, 1), (934, 1)]\n",
      "summer              4    5.30     5.40    [(588, 1), (661, 1), (755, 1), (882, 1)]\n",
      "gangs               3    5.52     5.65    [(141, 1), (182, 1), (984, 1)]\n",
      "vijay               2    5.81     5.99    [(56, 1), (335, 2)]\n",
      "northwest           2    5.81     5.99    [(119, 1), (472, 1)]\n",
      "sakshi              1    6.22     6.50    [(58, 1)]\n",
      "stuntman            2    5.81     5.99    [(498, 1), (622, 1)]\n",
      "miki                2    5.81     5.99    [(257, 1), (972, 1)]\n",
      "eyes                1    6.22     6.50    [(617, 1)]\n",
      "botched             2    5.81     5.99    [(162, 1), (955, 1)]\n",
      "rogues              1    6.22     6.50    [(723, 1)]\n",
      "juggles             2    5.81     5.99    [(120, 1), (313, 1)]\n",
      "berlin              6    4.96     5.03    [(68, 1), (158, 1), (408, 1), (698, 1), (795, 1), (886, 1)]\n",
      "directing           1    6.22     6.50    [(734, 1)]\n",
      "anthropomorphic     2    5.81     5.99    [(331, 1), (823, 1)]\n"
     ]
    }
   ],
   "source": [
    "# print vocabulary with df and idf\n",
    "print('term               df     idf idf_bm25    postings')\n",
    "print('-' * 100)\n",
    "for term, item in sorted(vocabulary.items(), key=lambda t: -t[1]['df'])[:10]:\n",
    "    print(\"{term:16} {df:>4d} {idf:>7.2f} {idf_bm25:>8.2f}    {postings}\".format(term=term.ljust(10), df=item['df'], idf=item['idf'], idf_bm25=item['idf_bm25'], postings=index[term]))\n",
    "print()\n",
    "for term, item in random.sample(list(vocabulary.items()), 15):\n",
    "    print(\"{term:16} {df:>4d} {idf:>7.2f} {idf_bm25:>8.2f}    {postings}\".format(term=term.ljust(10), df=item['df'], idf=item['idf'], idf_bm25=item['idf_bm25'], postings=index[term]))"
   ]
  },
  {
   "cell_type": "markdown",
   "metadata": {},
   "source": [
    "### Looking at some random documents"
   ]
  },
  {
   "cell_type": "code",
   "execution_count": 121,
   "metadata": {},
   "outputs": [
    {
     "name": "stdout",
     "output_type": "stream",
     "text": [
      "  id |  len     norm   vector\n",
      "----------------------------------------------------------------------------------------------------\n",
      " 864 |   19    20.91   {'bergen': 1, 'cape': 1, 'drama': 1, 'family': 1, 'fear': 1, 'gregory': 1, 'helped': 1, 'jail': 1, 'lawyer': 1, 'lori': 1, 'man': 1, 'martin': 1, 'mitchum': 1, 'peck': 1, 'polly': 1, 'put': 1, 'robert': 1, 'stalked': 1, 'thriller': 1}\n",
      " 740 |   29    29.40   {'addled': 1, 'adventure': 1, 'aging': 1, 'bob': 1, 'booze': 1, 'bruce': 1, 'claim': 1, 'comedy': 1, 'dern': 1, 'dollar': 1, 'drama': 1, 'estranged': 1, 'father': 1, 'forte': 1, 'june': 1, 'makes': 1, 'marketing': 1, 'mega': 1, 'million': 1, 'montana': 1, 'nebraska': 2, 'odenkirk': 1, 'order': 1, 'prize': 1, 'son': 1, 'squibb': 1, 'sweepstakes': 1, 'trip': 1}\n",
      " 781 |   24    23.11   {'anna': 1, 'bill': 1, 'bond': 1, 'comedy': 1, 'crossing': 1, 'drama': 1, 'faded': 1, 'faris': 1, 'form': 1, 'giovanni': 1, 'johansson': 1, 'lost': 1, 'movie': 1, 'murray': 1, 'neglected': 1, 'paths': 1, 'ribisi': 1, 'scarlett': 1, 'star': 1, 'tokyo': 1, 'translation': 1, 'unlikely': 1, 'woman': 1, 'young': 1}\n",
      " 845 |   30    28.23   {'1963': 1, 'curtis': 1, 'donald': 1, 'escapes': 1, 'fifteen': 1, 'haddonfield': 1, 'halloween': 2, 'horror': 1, 'hospital': 1, 'illinois': 1, 'jamie': 1, 'kill': 1, 'kyes': 1, 'lee': 1, 'mental': 1, 'michael': 1, 'moran': 1, 'murdering': 1, 'myers': 1, 'nancy': 1, 'night': 1, 'pleasence': 1, 'returns': 1, 'sister': 1, 'small': 1, 'thriller': 1, 'tony': 1, 'town': 1, 'years': 1}\n",
      " 545 |   30    28.86   {'barricade': 1, 'coast': 1, 'dea': 1, 'dead': 1, 'duane': 1, 'east': 1, 'eastman': 1, 'eating': 1, 'farmhouse': 1, 'flesh': 1, 'ghouls': 1, 'group': 1, 'hardman': 1, 'horde': 1, 'horror': 1, 'jones': 1, 'judith': 1, 'karl': 1, 'living': 1, 'marilyn': 1, 'night': 1, 'old': 1, 'pennsylvanians': 1, 'ragtag': 1, 'ravaging': 1, 'remain': 1, 'safe': 1, 'states': 1, 'thriller': 1, 'united': 1}\n",
      " 440 |   33    29.53   {'affections': 1, 'alcoholic': 1, 'away': 1, 'brick': 1, 'burl': 1, 'carson': 1, 'cat': 1, 'days': 1, 'drama': 1, 'drinks': 1, 'elizabeth': 1, 'ex': 1, 'father': 2, 'football': 1, 'host': 1, 'hot': 1, 'ives': 1, 'jack': 1, 'jogs': 1, 'memories': 1, 'newman': 1, 'paul': 1, 'player': 1, 'resists': 1, 'reunion': 1, 'revelations': 1, 'roof': 1, 'son': 1, 'taylor': 1, 'terminal': 1, 'tin': 1, 'wife': 1}\n",
      "  15 |   31    28.88   {'action': 1, 'anne': 1, 'beautiful': 1, 'carrie': 1, 'computer': 1, 'cyber': 1, 'deception': 1, 'discovers': 1, 'elaborate': 1, 'evil': 1, 'fi': 1, 'fishburne': 1, 'forbidding': 1, 'hacker': 1, 'intelligence': 1, 'keanu': 1, 'knows': 1, 'laurence': 1, 'leads': 1, 'life': 1, 'lilly': 1, 'matrix': 1, 'moss': 1, 'neo': 1, 'reeves': 1, 'sci': 1, 'shocking': 1, 'stranger': 1, 'truth': 1, 'underworld': 1, 'wachowski': 1}\n",
      " 807 |   27    25.44   {'artist': 2, 'assaulted': 1, 'author': 1, 'comedy': 1, 'cuba': 1, 'drama': 1, 'form': 1, 'friendship': 1, 'gay': 1, 'gets': 1, 'good': 1, 'gooding': 1, 'greg': 1, 'helen': 1, 'hunt': 1, 'jack': 1, 'jr': 1, 'kinnear': 1, 'misanthropic': 1, 'mother': 1, 'nicholson': 1, 'robbery': 1, 'romance': 1, 'single': 1, 'unlikely': 1, 'waitress': 1}\n",
      " 243 |   26    24.88   {'adventure': 1, 'albert': 1, 'alexander': 1, 'animation': 1, 'barrier': 1, 'bring': 1, 'brooks': 1, 'captured': 1, 'clownfish': 1, 'comedy': 1, 'degeneres': 1, 'ellen': 1, 'finding': 1, 'gould': 1, 'great': 1, 'home': 1, 'journey': 1, 'lee': 1, 'nemo': 1, 'reef': 1, 'sets': 1, 'son': 1, 'sydney': 1, 'taken': 1, 'timid': 1, 'unkrich': 1}\n",
      " 645 |   27    24.26   {'african': 1, 'american': 1, 'appointed': 1, 'biography': 1, 'coach': 1, 'denzel': 1, 'drama': 1, 'first': 1, 'harris': 1, 'high': 1, 'hurst': 1, 'integrated': 1, 'newly': 1, 'patton': 1, 'racially': 1, 'remember': 1, 'ryan': 1, 'school': 1, 'season': 1, 'sport': 1, 'story': 1, 'team': 1, 'titans': 1, 'true': 1, 'unit': 1, 'washington': 1, 'wood': 1}\n",
      " 324 |   27    26.94   {'1925': 1, 'adventure': 1, 'biography': 1, 'christopher': 1, 'considered': 1, 'dafoe': 1, 'dog': 1, 'dormer': 1, 'drama': 1, 'heyerdahl': 1, 'intense': 1, 'julianne': 1, 'lead': 1, 'led': 1, 'nicholson': 1, 'race': 1, 'richard': 1, 'run': 1, 'serum': 1, 'sled': 1, 'small': 1, 'story': 1, 'togo': 2, 'weak': 1, 'willem': 1, 'yet': 1}\n",
      "  68 |   28    26.75   {'1984': 1, 'absorbed': 1, 'agent': 1, 'becoming': 1, 'berlin': 1, 'conducting': 1, 'drama': 1, 'east': 1, 'finds': 1, 'gedeck': 1, 'increasingly': 1, 'koch': 1, 'lives': 2, 'lover': 1, 'martina': 1, 'mystery': 1, 'mühe': 1, 'others': 1, 'police': 1, 'sebastian': 1, 'secret': 1, 'surveillance': 1, 'thriller': 1, 'tukur': 1, 'ulrich': 2, 'writer': 1}\n",
      " 775 |   33    30.97   {'10': 1, '3': 1, 'action': 1, 'agrees': 1, 'awaiting': 1, 'bale': 1, 'battle': 1, 'ben': 1, 'captured': 1, 'christian': 1, 'court': 1, 'crime': 1, 'crowe': 1, 'drama': 1, 'ensues': 1, 'foster': 1, 'go': 1, 'hold': 1, 'lerman': 1, 'logan': 1, 'outlaw': 2, 'psych': 1, 'rancher': 2, 'russell': 1, 'small': 1, 'time': 1, 'train': 1, 'tries': 1, 'wills': 1, 'yuma': 2}\n",
      " 445 |   23    23.99   {'alibi': 1, 'believe': 1, 'charles': 1, 'clouzot': 1, 'crime': 1, 'diaboliques': 1, 'drama': 1, 'horror': 1, 'les': 1, 'loathed': 1, 'meurisse': 1, 'mistress': 1, 'murder': 1, 'paul': 1, 'perfect': 1, 'plan': 1, 'principal': 1, 'school': 1, 'signoret': 1, 'simone': 1, 'vanel': 1, 'véra': 1, 'wife': 1}\n",
      " 116 |   23    24.90   {'bounty': 1, 'cleef': 1, 'clint': 1, 'dollaro': 1, 'eastwood': 1, 'gian': 1, 'hunters': 1, 'intentions': 1, 'krupp': 1, 'lee': 1, 'mara': 1, 'maria': 1, 'outlaw': 1, 'per': 1, 'più': 1, 'qualche': 1, 'team': 1, 'track': 1, 'two': 1, 'van': 1, 'volontè': 1, 'western': 2}\n",
      " 748 |   24    24.64   {'abraham': 1, 'adelayitor': 1, 'adote': 1, 'affadzi': 1, 'african': 1, 'agu': 1, 'andrew': 1, 'attah': 1, 'based': 1, 'beasts': 1, 'child': 1, 'civil': 1, 'country': 1, 'drama': 2, 'emmanuel': 1, 'experiences': 1, 'fighting': 1, 'nation': 1, 'ricky': 1, 'soldier': 1, 'unnamed': 1, 'war': 2}\n",
      " 793 |   36    33.21   {'20': 1, 'berkel': 1, 'bleibtreu': 1, 'christian': 1, 'das': 1, 'drama': 1, 'experiment': 1, 'follow': 1, 'guards': 2, 'hired': 1, 'male': 1, 'mild': 1, 'moritz': 1, 'möhring': 1, 'oliver': 1, 'order': 1, 'participants': 1, 'physical': 1, 'play': 1, 'prison': 1, 'prisoners': 2, 'retain': 1, 'rules': 1, 'seemingly': 1, 'stokowski': 1, 'thriller': 1, 'told': 1, 'two': 1, 'using': 1, 'violence': 1, 'weeks': 1, 'wilke': 1, 'without': 1, 'wotan': 1}\n",
      " 101 |   33    31.21   {'adventures': 1, 'amir': 2, 'aseman': 1, 'bacheha': 1, 'bahare': 1, 'boy': 1, 'drama': 1, 'family': 1, 'farrokh': 1, 'find': 1, 'goes': 1, 'hashemian': 1, 'jafar': 1, 'loses': 1, 'mohammad': 1, 'mohammadi': 1, 'nafise': 1, 'naji': 1, 'new': 2, 'order': 1, 'pair': 2, 'seddiqi': 1, 'series': 1, 'shoes': 1, 'sister': 1, 'sport': 1, 'tries': 1, 'way': 1, 'win': 1, 'ye': 1}\n",
      " 311 |   23    24.70   {'anton': 1, 'ballerina': 1, 'ballet': 1, 'become': 1, 'dancer': 1, 'drama': 1, 'emeric': 1, 'goring': 1, 'loves': 1, 'man': 1, 'marius': 1, 'moira': 1, 'music': 1, 'pressburger': 1, 'prima': 1, 'pursuit': 1, 'red': 1, 'romance': 1, 'shearer': 1, 'shoes': 1, 'torn': 1, 'walbrook': 1, 'young': 1}\n",
      " 394 |   31    26.33   {'back': 1, 'brad': 1, 'bruce': 1, 'convict': 1, 'devastated': 1, 'disease': 1, 'fi': 1, 'future': 1, 'gather': 1, 'human': 1, 'information': 1, 'joseph': 1, 'made': 1, 'madeleine': 1, 'man': 1, 'melito': 1, 'monkeys': 1, 'mystery': 1, 'pitt': 1, 'planet': 1, 'population': 1, 'sci': 1, 'sent': 1, 'stowe': 1, 'thriller': 1, 'time': 1, 'twelve': 1, 'virus': 1, 'willis': 1, 'wiped': 1, 'world': 1}\n",
      " 590 |   35    35.66   {'65th': 1, 'absurd': 1, 'beauty': 1, 'bellezza': 1, 'birthday': 1, 'buccirosso': 1, 'carlo': 2, 'decades': 1, 'drama': 1, 'exquisite': 1, 'ferilli': 1, 'find': 1, 'gambardella': 1, 'grande': 1, 'jep': 2, 'la': 1, 'landscape': 1, 'lavish': 1, 'looks': 1, 'nightclubs': 1, 'nightlife': 1, 'parties': 1, 'past': 2, 'rome': 1, 'sabrina': 1, 'seduced': 1, 'servillo': 1, 'shock': 1, 'timeless': 1, 'toni': 1, 'verdone': 1, 'way': 1}\n",
      " 861 |   20    24.08   {'baker': 1, 'battle': 1, 'booth': 1, 'british': 1, 'drama': 1, 'drift': 1, 'hawkins': 1, 'history': 1, 'jack': 1, 'jacobsson': 1, 'james': 1, 'outnumbered': 1, 'rorke': 1, 'soldiers': 1, 'stanley': 1, 'ulla': 1, 'war': 1, 'warriors': 1, 'zulu': 2}\n",
      "  67 |   26    25.74   {'adventure': 1, 'animation': 1, 'ben': 1, 'burtt': 1, 'collecting': 1, 'decide': 1, 'distant': 1, 'elissa': 1, 'embarks': 1, 'family': 1, 'fate': 1, 'fred': 1, 'future': 1, 'garlin': 1, 'inadvertently': 1, 'jeff': 1, 'journey': 1, 'knight': 1, 'mankind': 1, 'robot': 1, 'small': 1, 'space': 1, 'ultimately': 1, 'wall·e': 1, 'waste': 1, 'willard': 1}\n",
      " 975 |   25    23.54   {'60s': 1, 'al': 1, 'andy': 1, 'corleone': 1, 'crime': 2, 'diane': 1, 'drama': 1, 'empire': 1, 'family': 1, 'find': 1, 'follows': 1, 'free': 1, 'garcia': 1, 'godfather': 1, 'iii': 1, 'keaton': 1, 'michael': 1, 'pacino': 1, 'part': 1, 'seeks': 1, 'shire': 1, 'successor': 1, 'suitable': 1, 'talia': 1}\n",
      " 460 |   27    26.40   {'bourgeois': 1, 'chateau': 1, 'comedy': 1, 'dalio': 1, 'drama': 1, 'du': 1, 'dubost': 1, 'france': 1, 'french': 1, 'gregor': 1, 'ii': 1, 'jeu': 1, 'la': 1, 'life': 1, 'marcel': 1, 'meet': 1, 'mila': 1, 'nora': 1, 'onset': 1, 'parély': 1, 'paulette': 1, 'poor': 1, 'rich': 1, 'règle': 1, 'servants': 1, 'war': 1, 'world': 1}\n"
     ]
    }
   ],
   "source": [
    "# print a few documents\n",
    "print('  id |  len     norm   vector')\n",
    "print('-' * 100)\n",
    "for doc_id in random.sample(range(1, len(documents) + 1), 25):\n",
    "    print(\"{id:>4} | {len:>4d} {norm:>8.2f}   {vector}\".format(id=doc_id, len=documents[doc_id]['len'], norm=documents[doc_id]['norm'], vector=str(documents[doc_id]['vector'])))"
   ]
  },
  {
   "attachments": {},
   "cell_type": "markdown",
   "metadata": {},
   "source": [
    "### Queries"
   ]
  },
  {
   "cell_type": "code",
   "execution_count": 127,
   "metadata": {},
   "outputs": [
    {
     "data": {
      "application/vnd.jupyter.widget-view+json": {
       "model_id": "c230e829f5434c959e9ba477d67cffac",
       "version_major": 2,
       "version_minor": 0
      },
      "text/plain": [
       "interactive(children=(Dropdown(description='query', options=('star wars', 'drama morgan freeman', 'comedy'), v…"
      ]
     },
     "metadata": {},
     "output_type": "display_data"
    }
   ],
   "source": [
    "from typing import Callable\n",
    "def search(query: str, k: int, measure: str, predicate: str, algorithm: str) -> TopKList:\n",
    "    query_vector = bag_of_words(tokenize(query))\n",
    "    vsmodel = {'ddat': VSModel_DAAT}.get(algorithm.lower(), VSModel_DAAT)\n",
    "    predicate_func = {\n",
    "        'year > 1990 (predicate)': lambda doc_id: documents[doc_id]['year'] > 1990, \n",
    "        'year <= 1990 (predicate)': lambda doc_id: documents[doc_id]['year'] <= 1990, \n",
    "    }.get(predicate, None)\n",
    "    selected_docs = {\n",
    "        'top-100 (selection)': set(range(1,101))\n",
    "    }.get(predicate, None)\n",
    "    topk = vsmodel.query(query_vector, k, measure, predicate=predicate_func, selected_docs=selected_docs)\n",
    "    print_topk(topk, doc_format_imdb)\n",
    "\n",
    "# options for the dialog\n",
    "queries = ['star wars', 'drama morgan freeman', 'comedy']\n",
    "measures = ['cosine', 'dot', 'bm25']\n",
    "predicates = ['<none>', 'year > 1990 (predicate)', 'year <= 1990 (predicate)', 'top-100 (selection)']\n",
    "algorithm = ['ddat', 'taat']\n",
    "\n",
    "# interactive selection of scenario\n",
    "widgets.interact(search, \n",
    "    query=widgets.Dropdown(options=queries), \n",
    "    k=widgets.IntSlider(min=5, max=50, step=5, value=20),\n",
    "    measure=widgets.Dropdown(options=measures),\n",
    "    predicate=widgets.Dropdown(options=predicates),\n",
    "    algorithm=widgets.Dropdown(options=algorithm),\n",
    ");\n"
   ]
  },
  {
   "cell_type": "code",
   "execution_count": 36,
   "metadata": {},
   "outputs": [
    {
     "name": "stdout",
     "output_type": "stream",
     "text": [
      "[(0, 'star wars'), (1, 'drama morgan freeman'), (2, 'comedy')]\n"
     ]
    }
   ],
   "source": [
    "queries = ['star wars', 'drama morgan freeman', 'comedy']\n",
    "print(list(enumerate(queries)))\n",
    "q_dropdown = widgets.Dropdown(\n",
    "    options=[('One', 1), ('Two', 2), ('Three', 3)],\n",
    "    value=2,\n",
    "    description='Number:',\n",
    ")"
   ]
  },
  {
   "cell_type": "code",
   "execution_count": 34,
   "metadata": {},
   "outputs": [
    {
     "name": "stdout",
     "output_type": "stream",
     "text": [
      "{'bird': 2, 'horse': 1}\n",
      "\n",
      "    r  id score  document\n",
      "-------------------------------------\n",
      "    1  19 (0.81) {'id': 19, 'vector': {'horse': 1, 'bear': 7, 'bird': 9}, 'len': 17, 'norm': 12.929646825221669}\n",
      "    2  36 (0.80) {'id': 36, 'vector': {'cat': 4, 'bird': 6}, 'len': 10, 'norm': 8.277286265141177}\n",
      "    3  10 (0.69) {'id': 10, 'vector': {'ostrich': 5, 'tiger': 5, 'bird': 9}, 'len': 19, 'norm': 14.319172933962935}\n",
      "    4  40 (0.67) {'id': 40, 'vector': {'cat': 8, 'bird': 7}, 'len': 15, 'norm': 11.42978978465472}\n",
      "    5   3 (0.53) {'id': 3, 'vector': {'cat': 7, 'bird': 4}, 'len': 11, 'norm': 8.218329050423852}\n",
      "    6  13 (0.50) {'id': 13, 'vector': {'cat': 1, 'tiger': 6, 'bird': 5}, 'len': 12, 'norm': 11.018215228846154}\n",
      "    7  11 (0.45) {'id': 11, 'vector': {'horse': 8}, 'len': 8, 'norm': 9.829323335330459}\n",
      "    8  35 (0.45) {'id': 35, 'vector': {'horse': 10}, 'len': 10, 'norm': 12.286654169163073}\n",
      "    9  37 (0.45) {'id': 37, 'vector': {'horse': 6, 'ostrich': 2, 'tiger': 4, 'bird': 1}, 'len': 13, 'norm': 9.833063834527302}\n",
      "   10  27 (0.41) {'id': 27, 'vector': {'horse': 9, 'ostrich': 4, 'lion': 2}, 'len': 15, 'norm': 11.988896501047607}\n",
      "\n",
      "            bird 1.2286654169163074\n",
      "           horse 1.2286654169163074\n"
     ]
    }
   ],
   "source": [
    "DEBUG = False\n",
    "\n",
    "# initial step for \"bird(2) horse\"\n",
    "query = {'bird': 2, 'horse':1}\n",
    "k = 10\n",
    "print(query)\n",
    "\n",
    "# (optional) enable a predicate for the filtering step\n",
    "predicate = None\n",
    "# predicate = lambda doc_id: doc_id % 2 == 0\n",
    "# predicate = lambda doc_id: doc_id % 2 == 1\n",
    "selected_docs = None\n",
    "# selected_docs = list(range(10))\n",
    "\n",
    "# run query, display result, and get feedback\n",
    "topk = VSModel_DAAT.query(query, k, 'cosine', predicate)\n",
    "print_topk(topk)"
   ]
  },
  {
   "cell_type": "code",
   "execution_count": null,
   "metadata": {},
   "outputs": [],
   "source": []
  }
 ],
 "metadata": {
  "kernelspec": {
   "display_name": "Python 3",
   "language": "python",
   "name": "python3"
  },
  "language_info": {
   "codemirror_mode": {
    "name": "ipython",
    "version": 3
   },
   "file_extension": ".py",
   "mimetype": "text/x-python",
   "name": "python",
   "nbconvert_exporter": "python",
   "pygments_lexer": "ipython3",
   "version": "3.11.4"
  },
  "orig_nbformat": 4
 },
 "nbformat": 4,
 "nbformat_minor": 2
}
