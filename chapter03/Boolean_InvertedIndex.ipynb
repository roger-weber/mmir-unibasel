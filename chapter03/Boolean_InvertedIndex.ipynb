{
 "cells": [
  {
   "attachments": {},
   "cell_type": "markdown",
   "metadata": {},
   "source": [
    "# Boolean retrieval with inverted files\n",
    "\n",
    "Let's begin by setting up a straightforward scenario involving a handful of terms and assigning random document references to them. Our focus here is to demonstrate the use of inverted files for Boolean retrieval. We will explore two aspects: 1) employing set operators for query evaluation, and 2) utilizing streaming interfaces to efficiently retrieve postings. It's important to note that in this scenario, we are using document IDs instead of actual documents to keep things simple.\n",
    "\n",
    "## Create inverted index\n",
    "The next section generates random inverted index postings for a set of terms. It simulates the indexing process for Boolean retrieval by associating random document IDs with each term. The `vocabulary` dictionary defines terms and their desired document frequencies (as a %-figure). The generated postings are stored in the `index` dictionary, with each term mapped to a set of corresponding document IDs.\n",
    "\n",
    "* `nDocs = 100`: Defines the total number of documents (document IDs) as 100.\n",
    "* `index = {}`: Initializes an empty dictionary to store the postings for each term.\n",
    "* `DEBUG = False`: A debug flag (we use it later to illustrate code execution).\n",
    "* `vocabulary`: Defines a dictionary where each term is associated with its desired document frequency (expressed as a percentage).\n",
    "\n",
    "`createPostings(term: str, docFreq: int = None)` takes a term (string) and an optional document frequency (docFreq, integer) as arguments. It generates random postings for the term by creating a set of document IDs. If docFreq is not provided, it generates a random document frequency between 1 and nDocs. The for-loop iterates through each term in the vocabulary dictionary and calls the createPostings function. For each term, it fetches the desired document frequency from the vocabulary (values are percentages) and passes it to createPostings."
   ]
  },
  {
   "cell_type": "code",
   "execution_count": 101,
   "metadata": {},
   "outputs": [],
   "source": [
    "import random\n",
    "\n",
    "DEBUG = False\n",
    "nDocs = 100\n",
    "index = {}\n",
    "\n",
    "def createPostings(term: str, docFreq: int = None):\n",
    "    # create random postings for the term for ids between 1 and nDocs\n",
    "    if docFreq is None:\n",
    "        docFreq = random.randint(1, nDocs)\n",
    "    # create sets with random ids\n",
    "    index[term] = set(random.sample(range(1, nDocs + 1), docFreq))\n",
    "\n",
    "# define vocabulary and create random postings with given document frequency (in percents)\n",
    "vocabulary = {\n",
    "    'dog':       33,\n",
    "    'cat':       28,\n",
    "    'horse':     12,\n",
    "    'rabit':     9,\n",
    "    'ostrich':   5,\n",
    "    'bear':      4,\n",
    "    'tiger':     7,\n",
    "    'lion':      5,\n",
    "    'bird':      18\n",
    "}\n",
    "\n",
    "# call createPostings for each entry in vocabulary to create the inverted index\n",
    "for word in vocabulary:\n",
    "    createPostings(word, vocabulary[word] * nDocs // 100)"
   ]
  },
  {
   "attachments": {},
   "cell_type": "markdown",
   "metadata": {
    "tags": [
     "parameters"
    ]
   },
   "source": [
    "Let's have a look at the postings for each term:"
   ]
  },
  {
   "cell_type": "code",
   "execution_count": 102,
   "metadata": {},
   "outputs": [
    {
     "name": "stdout",
     "output_type": "stream",
     "text": [
      "dog        [1, 2, 6, 10, 11, 14, 15, 16, 23, 24, 26, 28, 30, 34, 35, 39, 41, 43, 46, 51, 55, 58, 66, 67, 73, 79, 80, 82, 87, 91, 92, 93, 99]\n",
      "cat        [1, 4, 7, 9, 16, 20, 26, 28, 30, 35, 41, 42, 43, 47, 58, 65, 66, 70, 72, 76, 82, 84, 88, 90, 91, 92, 94, 98]\n",
      "horse      [1, 7, 14, 36, 61, 65, 67, 84, 87, 88, 89, 91]\n",
      "rabit      [7, 8, 34, 45, 56, 60, 76, 78, 86]\n",
      "ostrich    [13, 21, 23, 32, 56]\n",
      "bear       [31, 38, 82, 100]\n",
      "tiger      [18, 21, 32, 34, 36, 64, 69]\n",
      "lion       [15, 31, 33, 47, 56]\n",
      "bird       [1, 7, 21, 22, 31, 33, 34, 37, 43, 48, 62, 68, 71, 72, 73, 90, 91, 97]\n"
     ]
    }
   ],
   "source": [
    "# print postings with term and list of documents\n",
    "for term, posting in index.items():\n",
    "    # format: term + doc_list as array; padd term to 15 characters\n",
    "    print(term.ljust(10), sorted(posting))"
   ]
  },
  {
   "attachments": {},
   "cell_type": "markdown",
   "metadata": {},
   "source": [
    "## Perform set operations to answer boolean queries\n",
    "The next section demonstrates how to perform Boolean queries using the inverted index with set operations. It showcases simple queries, AND, OR, AND-NOT operations, complex queries in disjunctive normal form, and arbitrary queries with NOT operations. The results of these operations on the posting sets are printed for each query scenario.\n",
    "\n",
    "| Boolean Operator | Set Operator for Postings |\n",
    "| :--- | :--- |\n",
    "| cat AND dog | `index['cat'] & index['dog']` |\n",
    "| cat OR dog | `index['cat'] \\| index['dog']` |\n",
    "| cat AND NOT dog | `index['cat'] - index['dog']` |\n",
    "\n",
    "Using these rules, we can evaluate a wide range of Boolean queries. However, there are some limitations:\n",
    "- We cannot evaluate OR-queries when one sub-expression is of the form NOT(expr). While it's technically possible to construct NOT(expr) by using all documents except those returned by expr, this approach becomes inefficient for large collections.\n",
    "- In AND-queries, NOT(expr)-parts need to be re-ordered to the end to apply the `-` set operator. Additionally, at least one element of the AND-query must not be in the form NOT(expr).\n",
    "\n",
    "Indeed, while these limitations may be viewed as constraints in our implementation, they have minimal impact on practical querying scenarios. Queries like \"cat OR NOT dog\" don't often align with typical search intentions, as they essentially select all documents except those with the condition \"dog but not cat\", i.e., it can be rephrased as \"NOT(dog AND NOT cat)\". \n",
    "\n",
    "**Extra challenge: add a parser for Boolean expression and evaluate queries dynamically**"
   ]
  },
  {
   "cell_type": "code",
   "execution_count": 103,
   "metadata": {},
   "outputs": [
    {
     "name": "stdout",
     "output_type": "stream",
     "text": [
      "                                          cat [1, 4, 7, 9, 16, 20, 26, 28, 30, 35, 41, 42, 43, 47, 58, 65, 66, 70, 72, 76, 82, 84, 88, 90, 91, 92, 94, 98]\n",
      "                                          dog [1, 2, 6, 10, 11, 14, 15, 16, 23, 24, 26, 28, 30, 34, 35, 39, 41, 43, 46, 51, 55, 58, 66, 67, 73, 79, 80, 82, 87, 91, 92, 93, 99]\n",
      "                                        horse [1, 7, 14, 36, 61, 65, 67, 84, 87, 88, 89, 91]\n",
      "                                         bird [1, 7, 21, 22, 31, 33, 34, 37, 43, 48, 62, 68, 71, 72, 73, 90, 91, 97]\n",
      "\n",
      "                                  cat AND dog [1, 16, 26, 28, 30, 35, 41, 43, 58, 66, 82, 91, 92]\n",
      "                                   cat OR dog [1, 2, 4, 6, 7, 9, 10, 11, 14, 15, 16, 20, 23, 24, 26, 28, 30, 34, 35, 39, 41, 42, 43, 46, 47, 51, 55, 58, 65, 66, 67, 70, 72, 73, 76, 79, 80, 82, 84, 87, 88, 90, 91, 92, 93, 94, 98, 99]\n",
      "                                horse OR bird [1, 7, 14, 21, 22, 31, 33, 34, 36, 37, 43, 48, 61, 62, 65, 67, 68, 71, 72, 73, 84, 87, 88, 89, 90, 91, 97]\n",
      "                             cat AND  NOT dog [4, 7, 9, 20, 42, 47, 65, 70, 72, 76, 84, 88, 90, 94, 98]\n",
      "                   horse AND cat AND NOT bird [65, 84, 88]\n",
      "\n",
      "(cat AND dog) OR (horse AND cat AND NOT bird) [1, 16, 26, 28, 30, 35, 41, 43, 58, 65, 66, 82, 84, 88, 91, 92]\n",
      "             (cat OR dog) AND (horse OR bird) [1, 7, 14, 34, 43, 65, 67, 72, 73, 84, 87, 88, 90, 91]\n",
      "          (cat OR dog) AND NOT(horse OR bird) [2, 4, 6, 9, 10, 11, 15, 16, 20, 23, 24, 26, 28, 30, 35, 39, 41, 42, 46, 47, 51, 55, 58, 66, 70, 76, 79, 80, 82, 92, 93, 94, 98, 99]\n"
     ]
    }
   ],
   "source": [
    "# lets do simple queries by hand for cats, dogs, horses, and birds\n",
    "cat = index['cat']\n",
    "dog = index['dog']\n",
    "horse = index['horse']\n",
    "bird = index['bird']\n",
    "for term in ['cat', 'dog', 'horse', 'bird']:\n",
    "    print(term.rjust(45), sorted(index[term]))\n",
    "print()\n",
    "\n",
    "# AND operator\n",
    "query = 'cat AND dog'\n",
    "result = cat & dog\n",
    "print(query.rjust(45),sorted(result))\n",
    "\n",
    "# OR operator\n",
    "query = 'cat OR dog'\n",
    "result = cat | dog\n",
    "print(query.rjust(45),sorted(result))\n",
    "\n",
    "query = 'horse OR bird'\n",
    "result = horse | bird\n",
    "print(query.rjust(45),sorted(result))\n",
    "\n",
    "# AND-NOT operator\n",
    "query = 'cat AND  NOT dog'\n",
    "result = cat - dog\n",
    "print(query.rjust(45),sorted(result))\n",
    "\n",
    "query = 'horse AND cat AND NOT bird'\n",
    "result = horse & cat - bird\n",
    "print(query.rjust(45),sorted(result))\n",
    "\n",
    "# disjunctive normal form\n",
    "print()\n",
    "query = '(cat AND dog) OR (horse AND cat AND NOT bird)'\n",
    "result = (cat & dog) | (horse & cat - bird)\n",
    "print(query.rjust(45),sorted(result))\n",
    "\n",
    "# arbitrary queries\n",
    "query = '(cat OR dog) AND (horse OR bird)'\n",
    "result = (cat | dog) & (horse | bird)\n",
    "print(query.rjust(45),sorted(result))\n",
    "\n",
    "query = '(cat OR dog) AND NOT(horse OR bird)'\n",
    "result = (cat | dog) - (horse | bird)\n",
    "print(query.rjust(45),sorted(result))"
   ]
  },
  {
   "attachments": {},
   "cell_type": "markdown",
   "metadata": {},
   "source": [
    "## Illustration of efficient, stream based evaluation\n",
    "\n",
    "The set-based evaluation from above does not scale well with the number of documents. In cases with millions of billions of postings for a term, we want to fetch data from an external storage device (which is also a good idea for peristence). But instead of reading all postings into main memory, we read them as streams sorted by the document IDs. Take the postings of cat and dog as an example:\n",
    "|term | postings|\n",
    "|:-- | :-- |\n",
    "| cat | `[1, 4, 8, 10]` |\n",
    "| dog | `[3, 4, 10, 12]` |\n",
    "\n",
    "To evaluate a query like \"cat AND dog\", we fetch the first entry for each term, that is `1` for cat and `3` for dog. If they are the same, we know that the corresponding document fulfills the predicate. If not, then we read the next entry for the term currently having the smallest doc ID. In our example, we read the next cat posting which is `4`. Again, we have no match, so we progress now postings of dog as it currently has the smallest value. The next psoting for dog is `4`which matches with the one of cat; hence, we found our first document and return it (in Python we use generators with `yield` as we also do not want to return all results at once but in batches as the user browses through pages). If we need more results to return, we now fetch the next posting for both terms and repeat. Finally, we find `10` and return it as a secon answer. If we need more results, we again fetch the next posting for both terms. But since cat does not have more postings, we can terminate the evaluation and stop iteration (dog still has `12` but we already know from the empty cat postings that it cannot match the query). The following visualizes the approach:\n",
    "\n",
    "|step|cat (next) |dog (next) | action|\n",
    "|:-- |:-- |:-- |:-- |\n",
    "| 1 | `1` | `3` | no match, progress cat |\n",
    "| 2 | `4` | `3` | no match, progress dog |\n",
    "| 3 | `4` | `4` | match, return `4` as result, wait to provide next result, and progress both cat and dog |\n",
    "| 4 | `8` | `10` | no match, progress cat |\n",
    "| 5 | `10` | `10` | match, return `10` as result, wait to provide next result, and progress both cat and dog |\n",
    "| 6 | - | `12` | stop iteration as all cat postings are visited; remaining postings in dog cannot fulfill predicate |\n",
    "\n",
    "The OR-operator is implemented similarly, but the iteration returns every time the smallest entry from a sub-expression. For the example above, the OR-operator would first return `1`, progress cat, return `3`, progress dog, return `4`, progress both cat and dog, return `8`, progress cat, return `10`, progress both cat and dog, and finally return `12`. The evaluation stops when all postings are consumed.\n",
    "\n",
    "The \"cat AND NOT dog\" evaluation progress is the same as with the AND flow but results are different (match if cat != dog):\n",
    "|step|cat (next) |dog (next) | action|\n",
    "|:-- |:-- |:-- |:-- |\n",
    "| 1 | `1` | `3` | match, return `1` as result, wait to provide next result, and progress cat |\n",
    "| 2 | `4` | `3` | match but cat is not smallest, so we progress dog |\n",
    "| 3 | `4` | `4` | no match as both have the same value, so we progress both cat and dog |\n",
    "| 4 | `8` | `10` | no match, return `8` as result, wait to provide next result, and progress cat  |\n",
    "| 5 | `10` | `10` | no match as both have the same value, so we progress both cat and dog |\n",
    "| 6 | - | `12` | stop iteration as all cat postings are visited; remaining postings in dog cannot fulfill predicate |\n",
    "\n"
   ]
  },
  {
   "attachments": {},
   "cell_type": "markdown",
   "metadata": {},
   "source": [
    "### Class Term\n",
    "\n",
    "This class implements a retriever for an atomic term query:\n",
    "- `__iter__(self)`: provides an iterator interface for Term to simplify enumeration of results; we use the `retrieve`-generator for that\n",
    "- `retrieve(self)`: implements the generator function enumerating all postings for the term from the index. If `DEBUG = True`, it prints the next posting so we can observe the evaluation later on\n",
    "\n",
    "Note: This class is intentionally kept basic for illustrative purposes. It doesn't involve file reading; rather, it relies on the global `index` object. If needed, we can effortlessly replace the for-loop with file reading operations. However, this change introduces complexities because terms may appear multiple times in a Boolean query (e.g., \"cat AND dog OR cat AND horse\"). Preventing duplicate file reads demands additional buffering logic. Furthermore, for data efficiency, it's advisable to apply compression techniques to reduce the data volume."
   ]
  },
  {
   "cell_type": "code",
   "execution_count": 104,
   "metadata": {},
   "outputs": [],
   "source": [
    "class Term:\n",
    "    \"\"\"\n",
    "        Retriever class for atomic term queries\n",
    "    \"\"\"\n",
    "    def __init__(self, term: str):\n",
    "        self.term = term\n",
    "\n",
    "    def __iter__(self):\n",
    "        return self.retrieve()\n",
    "\n",
    "    def retrieve(self):\n",
    "        for posting in sorted(index[self.term]):\n",
    "            if DEBUG:\n",
    "                print(self.term, posting)\n",
    "            yield posting"
   ]
  },
  {
   "attachments": {},
   "cell_type": "markdown",
   "metadata": {},
   "source": [
    "### Class Not\n",
    "\n",
    "This is a simple marker class that the And/Or classes are using to implement (or reject) NOT-expressions. Both iterator and generator functions raise an error when invoked to prevent top-level query evaluation of NOT-expressions."
   ]
  },
  {
   "cell_type": "code",
   "execution_count": 105,
   "metadata": {},
   "outputs": [],
   "source": [
    "class Not:\n",
    "    \"\"\"\n",
    "        Marker class for NOT operator on sub-expression. The retrieve method raises an exception.\n",
    "        When used during AND operation, the retrieve method of the sub-expression is called.\n",
    "    \"\"\"\n",
    "    def __init__(self, expression):\n",
    "        self.expression = expression\n",
    "    \n",
    "    def __iter__(self):\n",
    "        return self.retrieve()\n",
    "\n",
    "    def retrieve(self):\n",
    "        raise Exception(\"NOT operator not allowed at top-level of query\")"
   ]
  },
  {
   "attachments": {},
   "cell_type": "markdown",
   "metadata": {},
   "source": [
    "### Class And\n",
    "This class implements (arbitrary) AND-expression with multiple sub-expressions (can be of any type). This class can handle NOT(expr)-type         subexpressions and implements the correct '-' semantics of \"cat AND NOT dog\":\n",
    "- `__iter__(self)`: provides an iterator interface for AND -expression to simplify enumeration of results; we use the `retrieve`-generator for that\n",
    "- `retrieve(self)`: implements the generator function enumerating all postings for the term from the index\n",
    "\n",
    "The implementation is kept simple to illustrate the algorithm, and further optimizations are feasible. The implementation first differentiates between positive and negative expressions (for lack of better words). Positive means sub-expressions without top-level NOT-operator, and negative means sub-expressions with a top-level NOT-operator. The `pos_next` and `neg_next` lists contain the next posting for each of the corresponding sub-expressions. Values are `yield`-ed if all 'positive' expressions equal the smallest value over all sub-expressions, and if none of the 'negative' sub-expressions equals that smallest value. The final 2 for-loops progress sub-expressions that have the smallest value as their next value."
   ]
  },
  {
   "cell_type": "code",
   "execution_count": 106,
   "metadata": {},
   "outputs": [],
   "source": [
    "class And:\n",
    "    \"\"\"\n",
    "        AND-expression with multiple sub-expressions. This operator can handle NOT(expr)-type \n",
    "        subexpressions and implements the correct '-' semantics of \"cat AND NOT dog\".\n",
    "    \"\"\"\n",
    "    def __init__(self, *expressions):\n",
    "        # select expressison that are not Term or that have x._not = False\n",
    "        self.pos = [e for e in expressions if not isinstance(e, Not)]\n",
    "        self.neg = [e for e in expressions if isinstance(e, Not)]\n",
    "\n",
    "    def __iter__(self):\n",
    "        return self.retrieve()\n",
    "\n",
    "    def retrieve(self):\n",
    "        pos_stream = [e.retrieve() for e in self.pos]\n",
    "        pos_next = [next(e) for e in pos_stream]\n",
    "        neg_stream = [iter(e.expression.retrieve()) for e in self.neg]\n",
    "        neg_next = [next(e, None) for e in neg_stream]\n",
    "\n",
    "        # iterate until one pos_next element is None\n",
    "        while None not in pos_next:\n",
    "            # get smallest value from pos_next and neg_next, ignoring None values in neg_next\n",
    "            smallest = min(pos_next + neg_next, key=lambda x: x if x is not None else float('inf'))\n",
    "            # check if all entries of pos_next equal smallest, and no entry in neg_next equals smallest\n",
    "            if all(e is smallest for e in pos_next) and smallest not in neg_next:\n",
    "                yield smallest\n",
    "            # for each entry in pos_next and neg_next, fetch next item if entry equals smallest\n",
    "            for i, e in enumerate(pos_next):\n",
    "                if e is smallest:\n",
    "                    pos_next[i] = next(pos_stream[i], None)\n",
    "            for i, e in enumerate(neg_next):\n",
    "                if e is smallest:\n",
    "                    neg_next[i] = next(neg_stream[i], None)"
   ]
  },
  {
   "attachments": {},
   "cell_type": "markdown",
   "metadata": {},
   "source": [
    "### Class Or\n",
    "This class implements (arbitrary) OR-expression with multiple sub-expressions (can be of any type). This class **cannot** handle NOT(expr)-type         subexpressions and raises an error if a sub-expression has a top-level NOT-operator:\n",
    "- `__iter__(self)`: provides an iterator interface for OR-expression to simplify enumeration of results; we use the `retrieve`-generator for that\n",
    "- `retrieve(self)`: implements the generator function enumerating all postings for the term from the index\n",
    "\n",
    "The implementation is kept simple to illustrate the algorithm, and further optimizations are feasible. The implementation `yield`s the smallest values found as next posting in its sub-expressions. Then it progresses sub-expressions with that smallest value as their next element. The iteration stops once all sub-expressions are exhausted."
   ]
  },
  {
   "cell_type": "code",
   "execution_count": 107,
   "metadata": {},
   "outputs": [],
   "source": [
    "class Or:\n",
    "    \"\"\"\n",
    "        OR-expression with multiple sub-expressions. This operator cannot handle NOT(expr)-type subexpressions\n",
    "    \"\"\"\n",
    "    def __init__(self, *expressions):\n",
    "        # check that there are no NOT(expr)-type subexpressions\n",
    "        if any(isinstance(e, Not) for e in expressions):\n",
    "            raise Exception(\"OR-expression cannot handle NOT(expr)-type subexpressions\")\n",
    "        self.expressions = expressions\n",
    "    \n",
    "    def __iter__(self):\n",
    "        return self.retrieve()\n",
    "\n",
    "    def retrieve(self):\n",
    "        iters = [iter(e) for e in self.expressions]\n",
    "        nexts = [next(e, None) for e in iters]\n",
    "\n",
    "        while not all(e is None for e in nexts):\n",
    "            # get smallest value from nexts, ignoring None values\n",
    "            smallest = min(nexts, key=lambda x: x if x is not None else float('inf'))\n",
    "            yield smallest\n",
    "            # for each entry in pos_next and neg_next, fetch next item if entry equals smallest\n",
    "            for i, e in enumerate(nexts):\n",
    "                if e is smallest:\n",
    "                    nexts[i] = next(iters[i], None)"
   ]
  },
  {
   "attachments": {},
   "cell_type": "markdown",
   "metadata": {},
   "source": [
    "### Sample queries and comparison with set-based implementation\n",
    "\n",
    "We compute the same queries as above, but this time constructing them with the classes defined above. Using iterators and generators greatly simplifies the evaluation queries. Although, in all the examples below we fetch all results, we will see in the next section that we truly generate results with minimal efforts.\n",
    "\n",
    "Assertion verify that we have correctly implemented operator evaluations. Do we still have bugs in the implementation?"
   ]
  },
  {
   "cell_type": "code",
   "execution_count": 108,
   "metadata": {},
   "outputs": [
    {
     "name": "stdout",
     "output_type": "stream",
     "text": [
      "                                  cat AND dog [1, 16, 26, 28, 30, 35, 41, 43, 58, 66, 82, 91, 92]\n",
      "                                   cat OR dog [1, 2, 4, 6, 7, 9, 10, 11, 14, 15, 16, 20, 23, 24, 26, 28, 30, 34, 35, 39, 41, 42, 43, 46, 47, 51, 55, 58, 65, 66, 67, 70, 72, 73, 76, 79, 80, 82, 84, 87, 88, 90, 91, 92, 93, 94, 98, 99]\n",
      "                                horse OR bird [1, 7, 14, 21, 22, 31, 33, 34, 36, 37, 43, 48, 61, 62, 65, 67, 68, 71, 72, 73, 84, 87, 88, 89, 90, 91, 97]\n",
      "                              cat AND NOT dog [4, 7, 9, 20, 42, 47, 65, 70, 72, 76, 84, 88, 90, 94, 98]\n",
      "                   horse AND cat AND NOT bird [65, 84, 88]\n",
      "\n",
      "(cat AND dog) OR (horse AND cat AND NOT bird) [1, 16, 26, 28, 30, 35, 41, 43, 58, 65, 66, 82, 84, 88, 91, 92]\n",
      "             (cat OR dog) AND (horse OR bird) [1, 7, 14, 34, 43, 65, 67, 72, 73, 84, 87, 88, 90, 91]\n",
      "          (cat OR dog) AND NOT(horse OR bird) [2, 4, 6, 9, 10, 11, 15, 16, 20, 23, 24, 26, 28, 30, 35, 39, 41, 42, 46, 47, 51, 55, 58, 66, 70, 76, 79, 80, 82, 92, 93, 94, 98, 99]\n"
     ]
    }
   ],
   "source": [
    "DEBUG = False\n",
    "\n",
    "# AND operator\n",
    "query = 'cat AND dog'\n",
    "expr = And(Term('cat'), Term('dog'))\n",
    "print(query.rjust(45), sorted(expr))\n",
    "assert sorted(expr) == sorted(cat & dog)\n",
    "\n",
    "# OR operator\n",
    "query = 'cat OR dog'\n",
    "expr =  Or(Term('cat'), Term('dog'))\n",
    "print(query.rjust(45),sorted(expr))\n",
    "assert sorted(expr) == sorted(cat | dog)\n",
    "\n",
    "query = 'horse OR bird'\n",
    "expr = horse | bird\n",
    "print(query.rjust(45),sorted(expr))\n",
    "assert sorted(expr) == sorted(horse | bird)\n",
    "\n",
    "# AND-NOT operator\n",
    "query = 'cat AND NOT dog'\n",
    "expr = And(Term('cat'), Not(Term('dog')))\n",
    "print(query.rjust(45),sorted(expr))\n",
    "assert sorted(expr) == sorted(cat - dog)\n",
    "\n",
    "query = 'horse AND cat AND NOT bird'\n",
    "expr = And(Term('horse'), Term('cat'), Not(Term('bird')))\n",
    "print(query.rjust(45),sorted(expr))\n",
    "assert sorted(expr) == sorted(horse & cat - bird)\n",
    "\n",
    "# disjunctive normal form\n",
    "print()\n",
    "query = '(cat AND dog) OR (horse AND cat AND NOT bird)'\n",
    "expr = Or(And(Term('cat'), Term('dog')), And(Term('horse'), Term('cat'), Not(Term('bird'))))\n",
    "print(query.rjust(45),sorted(expr))\n",
    "assert sorted(expr) == sorted((cat & dog) | (horse & cat - bird))\n",
    "\n",
    "# arbitrary queries\n",
    "query = '(cat OR dog) AND (horse OR bird)'\n",
    "expr = And(Or(Term('cat'), Term('dog')), Or(Term('horse'), Term('bird')))\n",
    "print(query.rjust(45),sorted(expr))\n",
    "assert sorted(expr) == sorted((cat | dog) & (horse | bird))\n",
    "\n",
    "query = '(cat OR dog) AND NOT(horse OR bird)'\n",
    "expr = And(Or(Term('cat'), Term('dog')), Not(Or(Term('horse'), Term('bird'))))\n",
    "print(query.rjust(45),sorted(expr))\n",
    "assert sorted(expr) == sorted((cat | dog) - (horse | bird))"
   ]
  },
  {
   "attachments": {},
   "cell_type": "markdown",
   "metadata": {},
   "source": [
    "### Magic generators\n",
    "\n",
    "Generators are great to prevent evaluation of results that are not needed. Assume the user is querying with \"(cat OR dog) AND NOT(horse OR bird)\" which generates a lot of results. Rather than returning hundreds of results at once, a user may want to browse through results page-by-page. Our generates exactly do this; even more, we only read postings that we need to produce the results for each batch returned to the users as they browse through results.\n",
    "\n",
    "Let's verify this and set `DEBUG = True`. Every time we fetch a posting, the class Term is printing a line with the term and the next posting. The code below first fetches 5 results, and then, as we imagine that the user moves to the next page, fetches the next 5 results. From the produced output, we see that the evaluation indeed only reads postings as needed."
   ]
  },
  {
   "cell_type": "code",
   "execution_count": 109,
   "metadata": {},
   "outputs": [
    {
     "name": "stdout",
     "output_type": "stream",
     "text": [
      "retrieving first 5 documents for (cat OR dog) AND NOT(horse OR bird)\n",
      "cat 1\n",
      "dog 1\n",
      "horse 1\n",
      "bird 1\n",
      "cat 4\n",
      "dog 2\n",
      "horse 7\n",
      "bird 7\n",
      "dog 6\n",
      "cat 7\n",
      "dog 10\n",
      "cat 9\n",
      "horse 14\n",
      "bird 21\n",
      "cat 16\n",
      "[2, 4, 6, 9, 10]\n",
      "\n",
      "retrieving next 5 documents\n",
      "dog 11\n",
      "dog 14\n",
      "dog 15\n",
      "horse 36\n",
      "dog 16\n",
      "cat 20\n",
      "dog 23\n",
      "cat 26\n",
      "bird 22\n",
      "bird 31\n",
      "[11, 15, 16, 20, 23]\n"
     ]
    }
   ],
   "source": [
    "from itertools import islice\n",
    "DEBUG = True\n",
    "\n",
    "expr = And(Or(Term('cat'), Term('dog')), Not(Or(Term('horse'), Term('bird'))))\n",
    "result = expr.retrieve()\n",
    "\n",
    "print(\"retrieving first 5 documents for (cat OR dog) AND NOT(horse OR bird)\")\n",
    "print(list(islice(result, 5)))\n",
    "\n",
    "print(\"\\nretrieving next 5 documents\")\n",
    "print(list(islice(result, 5)))\n",
    "    "
   ]
  },
  {
   "attachments": {},
   "cell_type": "markdown",
   "metadata": {},
   "source": [
    "### What's next\n",
    "We could extend the code to parse query strings and produce the expressions necessary for the evaluation. We could process real documents, create a document and index dictionary to show real text retrieval. "
   ]
  }
 ],
 "metadata": {
  "kernelspec": {
   "display_name": "Python 3",
   "language": "python",
   "name": "python3"
  },
  "language_info": {
   "codemirror_mode": {
    "name": "ipython",
    "version": 3
   },
   "file_extension": ".py",
   "mimetype": "text/x-python",
   "name": "python",
   "nbconvert_exporter": "python",
   "pygments_lexer": "ipython3",
   "version": "3.10.10"
  },
  "orig_nbformat": 4
 },
 "nbformat": 4,
 "nbformat_minor": 2
}
