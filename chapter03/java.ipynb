{
 "cells": [
  {
   "cell_type": "code",
   "execution_count": null,
   "metadata": {
    "vscode": {
     "languageId": "ruby"
    }
   },
   "outputs": [],
   "source": [
    "%%java\n",
    "import java.util.stream.Stream;\n",
    "\n",
    "import static java.util.stream.Collectors.toList;\n",
    "\n",
    "var fib =\n",
    "    Stream.iterate(new int[] { 0, 1 }, t -> new int[] { t[1], t[0] + t[1] })\n",
    "    .mapToInt(t -> t[0])\n",
    "    .limit(10)\n",
    "    .boxed()\n",
    "    .collect(toList());"
   ]
  },
  {
   "cell_type": "code",
   "execution_count": null,
   "metadata": {
    "vscode": {
     "languageId": "ruby"
    }
   },
   "outputs": [],
   "source": []
  }
 ],
 "metadata": {
  "kernelspec": {
   "display_name": "Python 3",
   "language": "python",
   "name": "python3"
  },
  "language_info": {
   "name": "python",
   "version": "3.10.10"
  },
  "orig_nbformat": 4
 },
 "nbformat": 4,
 "nbformat_minor": 2
}
