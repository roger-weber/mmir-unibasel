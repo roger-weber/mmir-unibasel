{
 "cells": [
  {
   "cell_type": "markdown",
   "metadata": {},
   "source": [
    "# Notes: this Java notebook requires Ganymede \n",
    "* [Installation and documentation](https://github.com/allen-ball/ganymede)\n",
    "* We need additional "
   ]
  },
  {
   "cell_type": "code",
   "execution_count": 25,
   "metadata": {},
   "outputs": [],
   "source": [
    "import org.apache.lucene.analysis.standard.StandardAnalyzer;\n",
    "import org.apache.lucene.document.Document;\n",
    "import org.apache.lucene.document.Field;\n",
    "import org.apache.lucene.document.StringField;\n",
    "import org.apache.lucene.document.TextField;"
   ]
  },
  {
   "cell_type": "code",
   "execution_count": 19,
   "metadata": {},
   "outputs": [
    {
     "data": {
      "text/plain": [
       "null"
      ]
     },
     "execution_count": 19,
     "metadata": {},
     "output_type": "execute_result"
    }
   ],
   "source": []
  },
  {
   "cell_type": "code",
   "execution_count": 27,
   "metadata": {},
   "outputs": [],
   "source": [
    "%%pom\n",
    "dependencies:\n",
    "- org.apache.lucene:lucene-core:4.0.0\n",
    "- org.apache.lucene:lucene-analyzers-common:4.0.0\n",
    "- org.apache.lucene:lucene-queryparser:4.0.0"
   ]
  },
  {
   "cell_type": "code",
   "execution_count": 5,
   "metadata": {},
   "outputs": [
    {
     "name": "stderr",
     "output_type": "stream",
     "text": [
      "REJECTED ERRONEOUS\n",
      "\n",
      "\n",
      "print(xchart)\n",
      "cannot find symbol\n",
      "  symbol:   method print(org.knowm.xchart.XYChart)\n",
      "  location: class \n"
     ]
    }
   ],
   "source": [
    "import org.knowm.xchart.XYChart;\n",
    "import org.knowm.xchart.XYChartBuilder;\n",
    "\n",
    "var xchart = new XYChartBuilder().title(\"Trig\").build();\n",
    "\n",
    "xchart.addSeries(\"sin\", x, sinx);\n",
    "xchart.addSeries(\"cos\", x, cosx);\n",
    "\n",
    "print(xchart)"
   ]
  }
 ],
 "metadata": {
  "kernelspec": {
   "display_name": "Ganymede 2.1.1 (Java 18)",
   "language": "java",
   "name": "ganymede-2.1.1-java-18"
  },
  "language_info": {
   "file_extension": ".java",
   "mimetype": "text/x-java",
   "name": "java",
   "version": "11"
  },
  "orig_nbformat": 4
 },
 "nbformat": 4,
 "nbformat_minor": 2
}
