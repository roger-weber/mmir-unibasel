{
 "cells": [
  {
   "cell_type": "code",
   "execution_count": 1,
   "metadata": {},
   "outputs": [],
   "source": [
    "import sqlite3"
   ]
  },
  {
   "cell_type": "code",
   "execution_count": 4,
   "metadata": {},
   "outputs": [
    {
     "name": "stdout",
     "output_type": "stream",
     "text": [
      "[('C', 1972)]\n"
     ]
    }
   ],
   "source": [
    "con = sqlite3.connect(\":memory:\")\n",
    "cur = con.execute(\"CREATE TABLE lang(name, first_appeared)\")\n",
    "\n",
    "# This is the named style used with executemany():\n",
    "data = (\n",
    "    {\"name\": \"C\", \"year\": 1972},\n",
    "    {\"name\": \"Fortran\", \"year\": 1957},\n",
    "    {\"name\": \"Python\", \"year\": 1991},\n",
    "    {\"name\": \"Go\", \"year\": 2009},\n",
    ")\n",
    "cur.executemany(\"INSERT INTO lang VALUES(:name, :year)\", data)\n",
    "cur.execute(\"CREATE INDEX year ON lang(first_appeared)\")\n",
    "# This is the qmark style used in a SELECT query:\n",
    "params = (1972,)\n",
    "cur.execute(\"SELECT * FROM lang WHERE first_appeared = ?\", params)\n",
    "print(cur.fetchall())"
   ]
  },
  {
   "cell_type": "markdown",
   "metadata": {},
   "source": [
    "```\n",
    "SELECT a.DocID\n",
    "  FROM Index a,Index b,Index c  \n",
    " WHERE a.Term=‘vehicle‘ AND\n",
    "       b.Term=‘sales‘ AND\n",
    "       c.Term=‘italy‘ AND\n",
    "       a.DocID=b.DocID AND\n",
    "       a.DocID=c.DocID;\n",
    "\n",
    "DELETE FROM Query;\n",
    "INSERT INTO Query    VALUES(‘vehicle‘,1);\n",
    "INSERT INTO Query    VALUES(‘sales‘,1);\n",
    "INSERT INTO Query    VALUES(‘italy‘,1);\n",
    "\n",
    "SELECT i.DocID\n",
    "  FROM Index i, Query q\n",
    " WHERE i.Term=q.Term\n",
    " GROUP BY i.DocID\n",
    "HAVING COUNT(i.Term)=\n",
    "    (SELECT COUNT(*) FROM QUERY)\n",
    "\n",
    "\n",
    "\tDELETE FROM Query;\n",
    "\tINSERT INTO Query\t    VALUES(‘vehicle‘,1);\n",
    "\tINSERT INTO Query     VALUES(‘sales‘,1);\n",
    "\tINSERT INTO Query\t    VALUES(‘italy‘,1);\n",
    "\n",
    "\n",
    "\tSELECT i.DocID, SUM(q.tf * t.idf * i.tf * t.idf)\n",
    "\t  FROM Query q, Index i, Term t\n",
    "\t WHERE q.Term=t.Term AND\n",
    "\t       i.Term=t.Term\n",
    "\t GROUP BY i.DocID\n",
    "\t ORDER BY 2 DESC;\n",
    "\n",
    "```"
   ]
  },
  {
   "cell_type": "markdown",
   "metadata": {},
   "source": []
  }
 ],
 "metadata": {
  "kernelspec": {
   "display_name": "Python 3",
   "language": "python",
   "name": "python3"
  },
  "language_info": {
   "codemirror_mode": {
    "name": "ipython",
    "version": 3
   },
   "file_extension": ".py",
   "mimetype": "text/x-python",
   "name": "python",
   "nbconvert_exporter": "python",
   "pygments_lexer": "ipython3",
   "version": "3.10.10"
  },
  "orig_nbformat": 4
 },
 "nbformat": 4,
 "nbformat_minor": 2
}
