{
 "cells": [
  {
   "cell_type": "code",
   "execution_count": 1,
   "metadata": {},
   "outputs": [],
   "source": [
    "%load_ext autoreload\n",
    "%autoreload 2\n",
    "\n",
    "import os, sys\n",
    "module_path = os.path.abspath(os.path.join('..'))\n",
    "if module_path not in sys.path:\n",
    "    sys.path.append(module_path)"
   ]
  },
  {
   "cell_type": "markdown",
   "metadata": {},
   "source": [
    "# Classic Text Retrieval with SQL"
   ]
  },
  {
   "cell_type": "code",
   "execution_count": 2,
   "metadata": {},
   "outputs": [],
   "source": [
    "import ipywidgets as widgets\n",
    "from typing import Callable\n",
    "\n",
    "global nDocs, index, vocabulary, documents\n",
    "DEBUG = False"
   ]
  },
  {
   "cell_type": "code",
   "execution_count": 4,
   "metadata": {},
   "outputs": [
    {
     "data": {
      "text/plain": [
       "<sqlite3.Cursor at 0x2211dff6740>"
      ]
     },
     "execution_count": 4,
     "metadata": {},
     "output_type": "execute_result"
    }
   ],
   "source": [
    "import sqlite3\n",
    "\n",
    "db = sqlite3.connect(\":memory:\")\n",
    "db.execute(\"CREATE TABLE document(docID INTEGER PRIMARY KEY AUTOINCREMENT, title, year, runtime, rating, genre, actors, summary)\")\n",
    "db.execute(\"CREATE TABLE term(term TEXT, df INTEGER, idf REAL)\")\n",
    "db.execute(\"CREATE TABLE posting(term TEXT, docID INTEGER, tf INTEGER)\")\n",
    "db.execute(\"CREATE INDEX inverted_list ON posting(term, docID)\")"
   ]
  },
  {
   "cell_type": "code",
   "execution_count": 10,
   "metadata": {},
   "outputs": [
    {
     "data": {
      "text/plain": [
       "{'title': 'The Godfather',\n",
       " 'year': 1972,\n",
       " 'runtime': 175,\n",
       " 'rating': 9.2,\n",
       " 'genre': 'Crime Drama',\n",
       " 'actors': 'Marlon Brando Al Pacino James Caan Diane Keaton',\n",
       " 'summary': \"An organized crime dynasty's aging patriarch transfers control of his clandestine empire to his reluctant son.\"}"
      ]
     },
     "execution_count": 10,
     "metadata": {},
     "output_type": "execute_result"
    }
   ],
   "source": [
    "data[1]"
   ]
  },
  {
   "cell_type": "code",
   "execution_count": null,
   "metadata": {},
   "outputs": [],
   "source": [
    "from utils import stopwords\n",
    "from itertools import groupby\n",
    "import re\n",
    "\n",
    "def tokenize(text: str) -> list[str]:\n",
    "    text = re.sub(r'[,\\.\\-\\?!\\(\\)\\s:;_\\'\"\\+\\*\\&\\$]', ' ', text.lower())\n",
    "    text = re.sub(r'\\s+', ' ', text).strip()\n",
    "    return filter(lambda t: t not in stopwords.english, text.split(' '))\n",
    "\n",
    "def bag_of_words(tokens: list[str]) -> dict[str, int]:\n",
    "    return dict([(token, len(list(group))) for token, group in groupby(sorted(tokens))])\n",
    "\n",
    "def build_index_vsm(collection: list[dict]) -> None:\n",
    "    global nDocs, index, documents, vocabulary\n",
    "    nDocs = 0\n",
    "    index = {}\n",
    "    documents = {}\n",
    "    vocabulary = {}\n",
    "    for doc in collection:\n",
    "        nDocs += 1\n",
    "        # add document to documents dict, with id as key and all properties\n",
    "        doc_id = doc['id'] = nDocs\n",
    "        documents[doc_id] = doc\n",
    "        # get terms from all string properties of doc\n",
    "        text = ' '.join([value for key, value in doc.items() if type(value) == str])\n",
    "        doc['vector'] = bag_of_words(tokenize(text))\n",
    "        doc['len'] = sum([tf for _, tf in doc['vector'].items()])\n",
    "        # update vocabulary (holding df values during this loop) and index (term -> postings)\n",
    "        for term, tf in doc['vector'].items():\n",
    "            vocabulary[term] = vocabulary.get(term, 0) + 1\n",
    "            index[term] = index.get(term, []) + [(doc_id, tf)]\n",
    "    # update vocabulary -> create dict with df, idf, and idf_bm25 values\n",
    "    vocabulary = dict([(term, {'df': df, 'idf': idf(df, nDocs), 'idf_bm25': idf_bm25(df, nDocs)}) for term, df in vocabulary.items()])\n",
    "    # calculate norm of vector for cosine measure\n",
    "    for doc in documents.values():\n",
    "        doc['norm'] = sum([(tf * vocabulary[term]['idf']) ** 2 for term, tf in doc['vector'].items()]) ** 0.5      "
   ]
  },
  {
   "cell_type": "code",
   "execution_count": 8,
   "metadata": {},
   "outputs": [
    {
     "name": "stdout",
     "output_type": "stream",
     "text": [
      "The Shawshank Redemption (1994, 142m, 9.3)         Drama                Two imprisoned men bond over a number of years, finding solace and eventual redemption through acts of common decency. [Tim Robbins Morgan Freeman Bob Gunton William Sadler]\n",
      "The Godfather (1972, 175m, 9.2)                    Crime Drama          An organized crime dynasty's aging patriarch transfers control of his clandestine empire to his reluctant son. [Marlon Brando Al Pacino James Caan Diane Keaton]\n",
      "The Dark Knight (2008, 152m, 9.0)                  Action Crime Drama   When the menace known as the Joker wreaks havoc and chaos on the people of Gotham, Batman must accept one of the greatest psychological and physical tests of his ability to fight injustice. [Christian Bale Heath Ledger Aaron Eckhart Michael Caine]\n",
      "The Godfather: Part II (1974, 202m, 9.0)           Crime Drama          The early life and career of Vito Corleone in 1920s New York City is portrayed, while his son, Michael, expands and tightens his grip on the family crime syndicate. [Al Pacino Robert De Niro Robert Duvall Diane Keaton]\n",
      "12 Angry Men (1957, 96m, 9.0)                      Crime Drama          A jury holdout attempts to prevent a miscarriage of justice by forcing his colleagues to reconsider the evidence. [Henry Fonda Lee J. Cobb Martin Balsam John Fiedler]\n"
     ]
    },
    {
     "data": {
      "text/plain": [
       "{'title': 'The Shawshank Redemption',\n",
       " 'year': 1994,\n",
       " 'runtime': 142,\n",
       " 'rating': 9.3,\n",
       " 'genre': 'Drama',\n",
       " 'actors': 'Tim Robbins Morgan Freeman Bob Gunton William Sadler',\n",
       " 'summary': 'Two imprisoned men bond over a number of years, finding solace and eventual redemption through acts of common decency.'}"
      ]
     },
     "execution_count": 8,
     "metadata": {},
     "output_type": "execute_result"
    }
   ],
   "source": [
    "# loading the imdb data set (1000 movies)\n",
    "from datasets.docs import imdb\n",
    "from utils import stopwords\n",
    "\n",
    "data = imdb.load()\n",
    "def doc_format_imdb(doc: dict) -> str:\n",
    "    trim = lambda s,n: len(s) > n and s[:n] + \"\\u2026\" or s\n",
    "    title_ex = '{title_short} ({year}, {runtime}m, {rating})'.format(title_short=trim(doc['title'], 30), **doc)\n",
    "    return '{title_ex:<50} {genre_short:<20} {summary} [{actors}]'.format(title_ex=title_ex, genre_short=trim(doc['genre'], 18), **doc)\n",
    "\n",
    "for item in data[:5]:\n",
    "    print(doc_format_imdb(item))\n",
    "\n",
    "data[0]"
   ]
  },
  {
   "cell_type": "code",
   "execution_count": null,
   "metadata": {},
   "outputs": [],
   "source": [
    "build_index(data)\n",
    "print('nDocs = {nDocs}, nTerms = {nTerms}, nPostings'.format(nDocs=nDocs, nTerms=len(vocabulary), nPostings=sum([len(postings) for postings in index.values()])))"
   ]
  },
  {
   "cell_type": "code",
   "execution_count": null,
   "metadata": {},
   "outputs": [],
   "source": [
    "# print vocabulary with df and idf\n",
    "print('term               df     idf idf_bm25    postings')\n",
    "print('-' * 100)\n",
    "for term, item in sorted(vocabulary.items(), key=lambda t: -t[1]['df'])[:10]:\n",
    "    print(\"{term:16} {df:>4d} {idf:>7.2f} {idf_bm25:>8.2f}    {postings}\".format(term=term.ljust(10), df=item['df'], idf=item['idf'], idf_bm25=item['idf_bm25'], postings=index[term]))\n",
    "print()\n",
    "for term, item in random.sample(list(vocabulary.items()), 15):\n",
    "    print(\"{term:16} {df:>4d} {idf:>7.2f} {idf_bm25:>8.2f}    {postings}\".format(term=term.ljust(10), df=item['df'], idf=item['idf'], idf_bm25=item['idf_bm25'], postings=index[term]))"
   ]
  },
  {
   "cell_type": "code",
   "execution_count": null,
   "metadata": {},
   "outputs": [],
   "source": [
    "# print a few documents\n",
    "print('  id |  len     norm   vector')\n",
    "print('-' * 100)\n",
    "for doc_id in random.sample(range(1, len(documents) + 1), 25):\n",
    "    print(\"{id:>4} | {len:>4d} {norm:>8.2f}   {vector}\".format(id=doc_id, len=documents[doc_id]['len'], norm=documents[doc_id]['norm'], vector=str(documents[doc_id]['vector'])))"
   ]
  },
  {
   "cell_type": "code",
   "execution_count": null,
   "metadata": {},
   "outputs": [],
   "source": [
    "from typing import Callable\n",
    "def search(query: str, k: int, measure: str, predicate: str, algorithm: str) -> TopKList:\n",
    "    query_vector = bag_of_words(tokenize(query))\n",
    "    vsmodel = {'ddat': VSModel_DAAT}.get(algorithm.lower(), VSModel_DAAT)\n",
    "    predicate_func = {\n",
    "        'year > 1990 (predicate)': lambda doc_id: documents[doc_id]['year'] > 1990, \n",
    "        'year <= 1990 (predicate)': lambda doc_id: documents[doc_id]['year'] <= 1990, \n",
    "    }.get(predicate, None)\n",
    "    selected_docs = {\n",
    "        'top-100 (selection)': set(range(1,101))\n",
    "    }.get(predicate, None)\n",
    "    topk = vsmodel.query(query_vector, k, measure, predicate=predicate_func, selected_docs=selected_docs)\n",
    "    print_topk(topk, doc_format_imdb)\n",
    "\n",
    "# options for the dialog\n",
    "queries = ['star wars', 'drama morgan freeman', 'comedy']\n",
    "measures = ['cosine', 'dot', 'bm25']\n",
    "predicates = ['<none>', 'year > 1990 (predicate)', 'year <= 1990 (predicate)', 'top-100 (selection)']\n",
    "algorithm = ['ddat', 'taat']\n",
    "\n",
    "# interactive selection of scenario\n",
    "widgets.interact(search, \n",
    "    query=widgets.Dropdown(options=queries), \n",
    "    k=widgets.IntSlider(min=5, max=50, step=5, value=20),\n",
    "    measure=widgets.Dropdown(options=measures),\n",
    "    predicate=widgets.Dropdown(options=predicates),\n",
    "    algorithm=widgets.Dropdown(options=algorithm),\n",
    ");\n"
   ]
  },
  {
   "cell_type": "code",
   "execution_count": 4,
   "metadata": {},
   "outputs": [
    {
     "name": "stdout",
     "output_type": "stream",
     "text": [
      "[('C', 1972)]\n"
     ]
    }
   ],
   "source": [
    "con = sqlite3.connect(\":memory:\")\n",
    "cur = con.execute(\"CREATE TABLE lang(name, first_appeared)\")\n",
    "\n",
    "# This is the named style used with executemany():\n",
    "data = (\n",
    "    {\"name\": \"C\", \"year\": 1972},\n",
    "    {\"name\": \"Fortran\", \"year\": 1957},\n",
    "    {\"name\": \"Python\", \"year\": 1991},\n",
    "    {\"name\": \"Go\", \"year\": 2009},\n",
    ")\n",
    "cur.executemany(\"INSERT INTO lang VALUES(:name, :year)\", data)\n",
    "cur.execute(\"CREATE INDEX year ON lang(first_appeared)\")\n",
    "# This is the qmark style used in a SELECT query:\n",
    "params = (1972,)\n",
    "cur.execute(\"SELECT * FROM lang WHERE first_appeared = ?\", params)\n",
    "print(cur.fetchall())"
   ]
  },
  {
   "cell_type": "markdown",
   "metadata": {},
   "source": [
    "```\n",
    "SELECT a.DocID\n",
    "  FROM Index a,Index b,Index c  \n",
    " WHERE a.Term=‘vehicle‘ AND\n",
    "       b.Term=‘sales‘ AND\n",
    "       c.Term=‘italy‘ AND\n",
    "       a.DocID=b.DocID AND\n",
    "       a.DocID=c.DocID;\n",
    "\n",
    "DELETE FROM Query;\n",
    "INSERT INTO Query    VALUES(‘vehicle‘,1);\n",
    "INSERT INTO Query    VALUES(‘sales‘,1);\n",
    "INSERT INTO Query    VALUES(‘italy‘,1);\n",
    "\n",
    "SELECT i.DocID\n",
    "  FROM Index i, Query q\n",
    " WHERE i.Term=q.Term\n",
    " GROUP BY i.DocID\n",
    "HAVING COUNT(i.Term)=\n",
    "    (SELECT COUNT(*) FROM QUERY)\n",
    "\n",
    "\n",
    "\tDELETE FROM Query;\n",
    "\tINSERT INTO Query\t    VALUES(‘vehicle‘,1);\n",
    "\tINSERT INTO Query     VALUES(‘sales‘,1);\n",
    "\tINSERT INTO Query\t    VALUES(‘italy‘,1);\n",
    "\n",
    "\n",
    "\tSELECT i.DocID, SUM(q.tf * t.idf * i.tf * t.idf)\n",
    "\t  FROM Query q, Index i, Term t\n",
    "\t WHERE q.Term=t.Term AND\n",
    "\t       i.Term=t.Term\n",
    "\t GROUP BY i.DocID\n",
    "\t ORDER BY 2 DESC;\n",
    "\n",
    "```"
   ]
  },
  {
   "cell_type": "markdown",
   "metadata": {},
   "source": []
  }
 ],
 "metadata": {
  "kernelspec": {
   "display_name": "Python 3",
   "language": "python",
   "name": "python3"
  },
  "language_info": {
   "codemirror_mode": {
    "name": "ipython",
    "version": 3
   },
   "file_extension": ".py",
   "mimetype": "text/x-python",
   "name": "python",
   "nbconvert_exporter": "python",
   "pygments_lexer": "ipython3",
   "version": "3.10.7"
  },
  "orig_nbformat": 4
 },
 "nbformat": 4,
 "nbformat_minor": 2
}
