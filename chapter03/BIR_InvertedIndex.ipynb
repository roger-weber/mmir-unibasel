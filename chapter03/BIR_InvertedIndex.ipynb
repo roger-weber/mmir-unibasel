{
 "cells": [
  {
   "cell_type": "code",
   "execution_count": 1,
   "metadata": {},
   "outputs": [],
   "source": [
    "%load_ext autoreload\n",
    "%autoreload 2"
   ]
  },
  {
   "attachments": {},
   "cell_type": "markdown",
   "metadata": {},
   "source": [
    "# BIR retrieval with inverted files"
   ]
  },
  {
   "cell_type": "markdown",
   "metadata": {},
   "source": [
    "## Helper functions for the BIRModel"
   ]
  },
  {
   "cell_type": "markdown",
   "metadata": {},
   "source": [
    "### Tokenizer & Set of Words"
   ]
  },
  {
   "cell_type": "code",
   "execution_count": 2,
   "metadata": {},
   "outputs": [
    {
     "name": "stdout",
     "output_type": "stream",
     "text": [
      "{'test', 'simple', 'function'}\n",
      "{'for', 'test', 'is', 'simple', 'this', 'function', 'a'}\n"
     ]
    }
   ],
   "source": [
    "from utils import analyzer\n",
    "\n",
    "print(analyzer.set_of_words(\"this is a simple test for this function\", remove_stopwords = True))\n",
    "print(analyzer.set_of_words(\"this is a simple test for this function\", remove_stopwords = False))"
   ]
  },
  {
   "cell_type": "markdown",
   "metadata": {},
   "source": [
    "### Feedback class"
   ]
  },
  {
   "cell_type": "code",
   "execution_count": 3,
   "metadata": {},
   "outputs": [],
   "source": [
    "from typing import Callable\n",
    "\n",
    "class Feedback:\n",
    "    \"\"\"\n",
    "        Collects feedback for documents and provides functions to check if \n",
    "        document is assessed, relevant or not relevant.\n",
    "    \"\"\"\n",
    "    def __init__(self, assessment_func: Callable[[int], bool] = None):\n",
    "        self.assessment_func = assessment_func\n",
    "        self.clear()\n",
    "\n",
    "    def clear(self):\n",
    "        self.assessed = set()\n",
    "        self.relevant = set()\n",
    "    \n",
    "    def is_initial_step(self) -> bool:\n",
    "        return len(self.assessed) == 0\n",
    "\n",
    "    def assess(self, doc_id: int) -> None:\n",
    "        self.assessed.add(doc_id)\n",
    "        if not self.assessment_func or self.assessment_func(doc_id):\n",
    "            self.relevant.add(doc_id)\n",
    "        \n",
    "    def is_relevant(self, doc_id: int) -> bool:\n",
    "        return doc_id in self.relevant\n",
    "    \n",
    "    def is_assessed(self, doc_id: int) -> bool:\n",
    "        return doc_id in self.assessed\n",
    "    \n",
    "    def is_not_relevant(self, doc_id: int) -> bool:\n",
    "        return (doc_id in self.assessed) and (doc_id not in self.relevant)"
   ]
  },
  {
   "attachments": {},
   "cell_type": "markdown",
   "metadata": {},
   "source": [
    "### TopKList class"
   ]
  },
  {
   "cell_type": "code",
   "execution_count": 4,
   "metadata": {},
   "outputs": [],
   "source": [
    "from heapq import heappop, heappush\n",
    "\n",
    "class TopKList:\n",
    "    \"\"\"\n",
    "        Maintains a list of top-k documents. Initializer accepts\n",
    "        a list of tuples (term, weight) to provide information about\n",
    "        weights used by retrieval model. Implements the iter() interface.\n",
    "        Takes an optional predicate(doc_id: int) function to filter documents\n",
    "        before returning them. \n",
    "    \"\"\"\n",
    "    def __init__(self, k: int, term_weights: list[tuple[str,float]] = None, predicate: Callable[[int], bool] = None):\n",
    "        self.docs_heap = []\n",
    "        self.k = k\n",
    "        self.predicate = predicate\n",
    "        self.results = []\n",
    "        if term_weights:\n",
    "            self.term_weights = term_weights\n",
    "            self.terms = [term for term, _ in self.term_weights]\n",
    "            self.weights = dict(self.term_weights)\n",
    "    \n",
    "    def add(self, doc_id: int, score: float):\n",
    "        heappush(self.docs_heap, (-score, doc_id, {'id': doc_id, 'score': score}))\n",
    "        # optional (infrequent) pruning if heap grows too large\n",
    "\n",
    "    def __iter__(self):\n",
    "        # do we already have the results?\n",
    "        for entry in self.results:\n",
    "            yield entry\n",
    "        # produce more results (if necessary and available)\n",
    "        rank = len(self.results)\n",
    "        while rank < self.k and len(self.docs_heap) > 0:\n",
    "            entry = heappop(self.docs_heap)[2]\n",
    "            if self.predicate == None or self.predicate(entry['id']):\n",
    "                rank += 1\n",
    "                entry['rank'] = rank\n",
    "                self.results.append(entry)\n",
    "                yield entry"
   ]
  },
  {
   "attachments": {},
   "cell_type": "markdown",
   "metadata": {},
   "source": [
    "## BIR Model Implementation"
   ]
  },
  {
   "cell_type": "markdown",
   "metadata": {},
   "source": [
    "### The Base Retriever Class\n",
    "\n",
    "* `n_docs: int`: number of documents added to index\n",
    "* `documents dict[int, dict{id, vector}]`: collection of documents as dictionary with doc_id as key. Each document is a dictionary with the properties from the dataset and additional properties for the retrieval:\n",
    "  - `id` hold the document id as generated when loading the document; corresponds to the key in documents\n",
    "  - `vector` holds the term freqeuncies as dictionary (key=term, value=term frequency)\n",
    "* `vocabulary: dict[term, int]`: vocabularoy of collection with term as keys and document frequency as values\n",
    "* `index: dict[term, list[int]]`: inverted index mapping terms to postings. Postings contain doc_id sorted by doc_id"
   ]
  },
  {
   "cell_type": "code",
   "execution_count": 5,
   "metadata": {},
   "outputs": [],
   "source": [
    "class BIRModel:\n",
    "    \"\"\"\n",
    "        Generic class for the evaluation of the BIR model, inherited by the document-at-a-time (DAAT) and \n",
    "        term-at-a-time (TAAT) models. \n",
    "    \"\"\"\n",
    "    def __init__(self, collection: list[dict] = None, remove_stopwords: bool = True):\n",
    "        self.remove_stopwords = remove_stopwords\n",
    "        self.build_index(collection or [])\n",
    "    \n",
    "    def add_document(self, doc: dict):\n",
    "        self.n_docs += 1\n",
    "        doc_id = doc['id'] = self.n_docs\n",
    "        self.documents[doc_id] = doc\n",
    "        # create vector from str-properties\n",
    "        text = ' '.join([value for key, value in doc.items() if type(value) == str])\n",
    "        vector = doc['vector'] = analyzer.set_of_words(text, remove_stopwords = self.remove_stopwords)\n",
    "        # add to vocabulary and postings\n",
    "        for term in vector:\n",
    "            self.vocabulary[term] = self.vocabulary.get(term, 0) + 1\n",
    "            self.index.setdefault(term, []).append(doc_id)\n",
    "    \n",
    "    def build_index(self, collection: list[dict]):\n",
    "        self.n_docs = 0\n",
    "        self.documents = {}\n",
    "        self.index = {}\n",
    "        self.vocabulary = {}\n",
    "        # load all documents\n",
    "        for doc in collection:\n",
    "            self.add_document(doc)"
   ]
  },
  {
   "cell_type": "markdown",
   "metadata": {},
   "source": [
    "### Calculation of c_j-weights\n",
    "Two variants for initial step and feedback step."
   ]
  },
  {
   "cell_type": "code",
   "execution_count": 6,
   "metadata": {},
   "outputs": [],
   "source": [
    "import math\n",
    "\n",
    "class BIRModel(BIRModel):\n",
    "    def cj_weight(self, term: str, feedback: Feedback):\n",
    "        doc_freq = len(self.index[term])\n",
    "        if feedback.is_initial_step():\n",
    "            rj = 0.5\n",
    "            nj = (doc_freq + 0.5) / (len(self.documents) + 1)\n",
    "        else:\n",
    "            # get postings as set to siplify calculations in Python\n",
    "            docs = set(self.index[term])\n",
    "            # number of assessed relevant documents which have the term\n",
    "            lj, L = len(feedback.relevant & docs), len(feedback.relevant)\n",
    "            # number of assessed documents which have the term\n",
    "            kj, K = len(feedback.assessed & docs), len(feedback.assessed)\n",
    "            # calculate rj and nj\n",
    "            rj = (lj + 0.5) / (L + 1)\n",
    "            nj = (kj - lj + 0.5) / (K - L + 1)\n",
    "        return math.log(rj / (1 - rj) * (1 - nj) / nj)"
   ]
  },
  {
   "cell_type": "markdown",
   "metadata": {},
   "source": [
    "### Term & document filtering with options\n",
    "Pruning of terms and documents based on the following settings:\n",
    "- `PRUNE_NEGATIVE_WEIGHTS: bool = False`, set this property to True to remove terms with negative weights\n",
    "- `PRUNE_WEIGHT_THRESHOLD: bool  = False`, set this property to remove terms with absolute weights smaller than this value\n",
    "- `PRUNE_TOPK: bool | int = False`, set this property to select top-k weights based on absolute values\n",
    "- `PRUNE_NON_RELEVANT: bool = False`, set this property to true to prune non-relevant documents from result list"
   ]
  },
  {
   "cell_type": "code",
   "execution_count": 7,
   "metadata": {},
   "outputs": [],
   "source": [
    "class BIRModel(BIRModel):\n",
    "    # set this property to True to remove terms with negative weights\n",
    "    PRUNE_NEGATIVE_WEIGHTS = False\n",
    "\n",
    "    # set this property to remove terms with absolute weights smaller than this value\n",
    "    PRUNE_WEIGHT_THRESHOLD  = False\n",
    "\n",
    "    # set this property to select top-k weights based on absolute values\n",
    "    PRUNE_TOPK = False\n",
    "\n",
    "    # set this property to true to prune non-relevant documents from result list\n",
    "    PRUNE_NON_RELEVANT = False\n",
    "\n",
    "    def filter_terms(self, terms: set[str], feedback: Feedback) -> list[tuple[str,float]]:\n",
    "        # remove terms not in vocabulary\n",
    "        terms = list(filter(lambda t: t in self.vocabulary, terms))\n",
    "        # calculate weigths and produce tuples (term, weight)\n",
    "        term_weights = list(map(lambda t: (t, self.cj_weight(t, feedback)), terms))\n",
    "        # filter terms with negative weights\n",
    "        if self.PRUNE_NEGATIVE_WEIGHTS:\n",
    "            term_weights = list(filter(lambda t: t[1] >= 0, term_weights))\n",
    "        # filter terms with small absolute weights\n",
    "        if self.PRUNE_WEIGHT_THRESHOLD:\n",
    "            term_weights = list(filter(lambda t: abs(t[1]) > self.PRUNE_WEIGHT_THRESHOLD, term_weights))\n",
    "        # select top-k terms based on absolute values\n",
    "        if self.PRUNE_TOPK:\n",
    "            term_weights = sorted(term_weights, key = lambda t: (-abs(t[1]),len(self.index[t[0]]),t[0]))[:self.PRUNE_TOPK]\n",
    "        return term_weights"
   ]
  },
  {
   "attachments": {},
   "cell_type": "markdown",
   "metadata": {},
   "source": [
    "### Document-at-a-time (DAAT) for BIR Model\n",
    "The implementation of DAAT for the BIR model uses sorted postings and processes postings in ascending order of the document IDs (see Or-implementation of Boolean model)."
   ]
  },
  {
   "cell_type": "code",
   "execution_count": 8,
   "metadata": {},
   "outputs": [],
   "source": [
    "class BIRModel_DAAT(BIRModel):\n",
    "    \"\"\"\n",
    "        Implements the DAAT model for the BIR model using inverted index method.\n",
    "    \"\"\"\n",
    "    def search(self, query: str, k: int, feedback: Feedback, predicate: Callable[[int], bool] = None, selected_docs: set[int] = None) -> TopKList:\n",
    "        query_vector = analyzer.set_of_words(query)\n",
    "\n",
    "        # filter terms and obtain c_j-weights for terms in order of their importance \n",
    "        term_weights = self.filter_terms(query_vector, feedback)\n",
    "        \n",
    "        # get iterators for each term and fetch first posting\n",
    "        iters = [iter(self.index[term]) for (term, _) in term_weights]\n",
    "        nexts = [next(iter, None) for iter in iters]\n",
    "\n",
    "        # keep track of all retrieved documents and their score; stored as tuples (doc_id, score)\n",
    "        topk = TopKList(k, term_weights, predicate)\n",
    "\n",
    "        # iterate through all streams and calculate score for smallest doc id\n",
    "        while not all(e is None for e in nexts):\n",
    "            # get smallest value from nexts, ignoring None values\n",
    "            smallest = min(nexts, key = lambda x: x or math.inf)\n",
    "            # if we have feedback, make sure document is either relevant or not assessed so far; if we have selected_docs, make sure document is in it\n",
    "            if not(self.PRUNE_NON_RELEVANT and feedback.is_not_relevant(smallest)) and (selected_docs == None or smallest in selected_docs):\n",
    "                # if so, add it to topk\n",
    "                score = sum([term_weights[i][1] for i in range(len(nexts)) if nexts[i] == smallest])\n",
    "                topk.add(smallest, score)\n",
    "            # for each entry in nexts, fetch next item if entry equals smallest\n",
    "            for i, e in enumerate(nexts):\n",
    "                if e is smallest:\n",
    "                    nexts[i] = next(iters[i], None)\n",
    "        \n",
    "        # finished, return topk for result iteration\n",
    "        return topk"
   ]
  },
  {
   "attachments": {},
   "cell_type": "markdown",
   "metadata": {},
   "source": [
    "### Term-at-a-time for BIR Model"
   ]
  },
  {
   "cell_type": "code",
   "execution_count": 9,
   "metadata": {},
   "outputs": [],
   "source": [
    "class BIRModel_TAAT(BIRModel):\n",
    "    \"\"\"\n",
    "        Implements the TAAT model for the BIR model using inverted index method.\n",
    "    \"\"\"\n",
    "    def search(self, query: str, k: int, feedback: Feedback, predicate: Callable[[int], bool] = None, selected_docs: set[int] = None) -> TopKList:\n",
    "        query_vector = analyzer.set_of_words(query)\n",
    "\n",
    "        # filter terms and obtain c_j-weights for terms in order of their importance \n",
    "        term_weights = self.filter_terms(query_vector, feedback)\n",
    "        doc_scores = {}\n",
    "\n",
    "        # iterate over terms and fetch postings\n",
    "        for (term, weight) in term_weights:\n",
    "            for posting in self.index[term]:\n",
    "                # check if it is either not assessed or relevant; check if posting is selected_docs (if given)\n",
    "                if not(self.PRUNE_NON_RELEVANT and feedback.is_not_relevant(posting)) and (selected_docs == None or posting in selected_docs):\n",
    "                    doc_scores[posting] = doc_scores.get(posting, 0) + weight\n",
    "\n",
    "        # we do not need a full sort of doc_scores, but can use the heap in TopKList\n",
    "        topk = TopKList(k, term_weights, predicate)\n",
    "        for doc_id, score in doc_scores.items():\n",
    "                topk.add(doc_id, score)\n",
    "        \n",
    "        # finisheds, return topk for result iteration\n",
    "        return topk"
   ]
  },
  {
   "cell_type": "code",
   "execution_count": null,
   "metadata": {},
   "outputs": [],
   "source": [
    "def search_TAAT(query, k, feedback):\n",
    "    query_vector = analyzer.set_of_words(query)\n",
    "\n",
    "    # filter terms and obtain c_j-weights \n",
    "    term_weights = filter_terms(query_vector, feedback)\n",
    "    doc_scores = {}\n",
    "\n",
    "    # iterate over terms and fetch postings\n",
    "    for (term, weight) in term_weights:\n",
    "        for posting in index[term]:\n",
    "            # check feedback, omit if assessed and not relevant\n",
    "            if feedback.is_assessed(smallest) and \\\n",
    "               not feedback.is_relevant(smallest): continue\n",
    "            # add weight to score of document\n",
    "            doc_scores[posting] = doc_scores.get(posting, 0) + weight\n",
    "\n",
    "    # we do not need a full sort of doc_scores, but can use the heap in TopKList\n",
    "    topk = TopKList(k, term_weights, predicate)\n",
    "    for doc_id, score in doc_scores.items():\n",
    "            topk.add(doc_id, score)\n",
    "    \n",
    "    # finished, return topk for result iteration\n",
    "    return topk"
   ]
  },
  {
   "attachments": {},
   "cell_type": "markdown",
   "metadata": {},
   "source": [
    "### Loading the data"
   ]
  },
  {
   "cell_type": "code",
   "execution_count": 10,
   "metadata": {},
   "outputs": [
    {
     "data": {
      "application/vnd.jupyter.widget-view+json": {
       "model_id": "acc2cccdd518437cab67d73ff1548f23",
       "version_major": 2,
       "version_minor": 0
      },
      "text/plain": [
       "Dropdown(options=('document-at-a-time', 'term-at-a-time'), value='document-at-a-time')"
      ]
     },
     "metadata": {},
     "output_type": "display_data"
    },
    {
     "data": {
      "application/vnd.jupyter.widget-view+json": {
       "model_id": "8a654c69a2714ee4af9e500cbf300ecb",
       "version_major": 2,
       "version_minor": 0
      },
      "text/plain": [
       "Dropdown(options=('random', 'imdb movies'), value='random')"
      ]
     },
     "metadata": {},
     "output_type": "display_data"
    }
   ],
   "source": [
    "import ipywidgets as widgets\n",
    "opt_implementation = widgets.Dropdown(options=['document-at-a-time', 'term-at-a-time'])\n",
    "opt_dataset = widgets.Dropdown(options=['random', 'imdb movies'])\n",
    "display(opt_implementation)\n",
    "display(opt_dataset)"
   ]
  },
  {
   "cell_type": "code",
   "execution_count": 11,
   "metadata": {},
   "outputs": [],
   "source": [
    "from utils import table\n",
    "from datasets import random as random_docs, imdb as imdb_docs\n",
    "import random\n",
    "\n",
    "# select the implementation of the retrieval model\n",
    "if opt_implementation.value == 'document-at-a-time':\n",
    "    retriever = BIRModel_DAAT()\n",
    "else:\n",
    "    retriever = BIRModel_TAAT()\n",
    "\n",
    "# select the dataset and define feedback function, queries, predicates, and selections\n",
    "if opt_dataset.value == 'random':\n",
    "    collection = random_docs\n",
    "    assessments = {\n",
    "        'random': lambda id: random.random() < 0.8,\n",
    "        'id < 20': lambda id: id < 20,\n",
    "    }\n",
    "    queries = [\n",
    "        'cat dog',\n",
    "        'horse bird',\n",
    "        'cat dog horse bird'\n",
    "    ]\n",
    "    predicates = {\n",
    "        'even doc ids': lambda id: id % 2 == 0,\n",
    "        'odd doc ids': lambda id: id % 2 == 1,\n",
    "    }\n",
    "    selections = {\n",
    "        'doc<10': list(range(10)),\n",
    "    }\n",
    "elif opt_dataset.value == 'imdb movies':\n",
    "    collection = imdb_docs\n",
    "    assessments = {\n",
    "        'top-100': lambda id: id < 100,\n",
    "        'star in title': lambda id: 'star' in retriever.documents[id]['title'].lower(),\n",
    "        'morgan in actor': lambda id: 'morgan' in retriever.documents[id]['actors'].lower(),\n",
    "        'comedy in genre': lambda id: 'comedy' in retriever.documents[id]['genre'].lower(),\n",
    "    }\n",
    "    queries = [\n",
    "        'star wars', \n",
    "        'drama morgan freeman', \n",
    "        'comedy'\n",
    "    ]\n",
    "    predicates = {\n",
    "        'year < 1990': lambda id: retriever.documents[id]['year'] < 1990,\n",
    "        'year >= 1990': lambda id: retriever.documents[id]['year'] >= 1990,\n",
    "    }\n",
    "    selections = {\n",
    "        'top-100': list(range(100)),\n",
    "        'top-250': list(range(250)),\n",
    "    }\n",
    "else:\n",
    "    raise ValueError(\"to be implemented\")\n",
    "\n",
    "# build index\n",
    "retriever.build_index(collection.load())"
   ]
  },
  {
   "cell_type": "code",
   "execution_count": 12,
   "metadata": {},
   "outputs": [
    {
     "name": "stdout",
     "output_type": "stream",
     "text": [
      "|   id | title                           |   year |   runtime |   rating | genre                 | actors                          | summary                                                                                               |\n",
      "|------|---------------------------------|--------|-----------|----------|-----------------------|---------------------------------|-------------------------------------------------------------------------------------------------------|\n",
      "|    1 | The Shawshank Redemption        |   1994 |       142 |      9.3 | Drama                 | Tim Robbins Morgan Freeman Bob… | Two imprisoned men bond over a number of years, finding solace and eventual redemption through acts … |\n",
      "|    2 | The Godfather                   |   1972 |       175 |      9.2 | Crime Drama           | Marlon Brando Al Pacino James … | An organized crime dynasty's aging patriarch transfers control of his clandestine empire to his relu… |\n",
      "|    3 | The Dark Knight                 |   2008 |       152 |      9   | Action Crime Drama    | Christian Bale Heath Ledger Aa… | When the menace known as the Joker wreaks havoc and chaos on the people of Gotham, Batman must accep… |\n",
      "|    4 | The Godfather: Part II          |   1974 |       202 |      9   | Crime Drama           | Al Pacino Robert De Niro Rober… | The early life and career of Vito Corleone in 1920s New York City is portrayed, while his son, Micha… |\n",
      "|    5 | 12 Angry Men                    |   1957 |        96 |      9   | Crime Drama           | Henry Fonda Lee J. Cobb Martin… | A jury holdout attempts to prevent a miscarriage of justice by forcing his colleagues to reconsider … |\n",
      "|    6 | The Lord of the Rings: The Ret… |   2003 |       201 |      8.9 | Action Adventure Dra… | Elijah Wood Viggo Mortensen Ia… | Gandalf and Aragorn lead the World of Men against Sauron's army to draw his gaze from Frodo and Sam … |\n",
      "|    7 | Pulp Fiction                    |   1994 |       154 |      8.9 | Crime Drama           | John Travolta Uma Thurman Samu… | The lives of two mob hitmen, a boxer, a gangster and his wife, and a pair of diner bandits intertwin… |\n",
      "|    8 | Schindler's List                |   1993 |       195 |      8.9 | Biography Drama Hist… | Liam Neeson Ralph Fiennes Ben … | In German-occupied Poland during World War II, industrialist Oskar Schindler gradually becomes conce… |\n",
      "|    9 | Inception                       |   2010 |       148 |      8.8 | Action Adventure Sci… | Leonardo DiCaprio Joseph Gordo… | A thief who steals corporate secrets through the use of dream-sharing technology is given the invers… |\n",
      "|   10 | Fight Club                      |   1999 |       139 |      8.8 | Drama                 | Brad Pitt Edward Norton Meat L… | An insomniac office worker and a devil-may-care soapmaker form an underground fight club that evolve… |\n",
      "\n",
      "| term      |   df | posting                                                                                                                                                                                                                                                                                                                                                                                                                                                                                                                                                                                                                                                                                                                                                                                                                                                                                                                                                                                                                                                                                                                                                                                                                                                                                                                                                                                                                                                                                                                                                                                                                                                                                                                                                                                                                                                                                                                                                                                                                                                                                                                                                                                                                                                                                                                                                                                                                                                                                                                                                                                                                                                                                                                                                                                                                                                                                                                                                                                                                                                                                                                                                                                                                                                                                                                                                                                                                                                                                                                                                                                                                                                                           |\n",
      "|-----------|------|-----------------------------------------------------------------------------------------------------------------------------------------------------------------------------------------------------------------------------------------------------------------------------------------------------------------------------------------------------------------------------------------------------------------------------------------------------------------------------------------------------------------------------------------------------------------------------------------------------------------------------------------------------------------------------------------------------------------------------------------------------------------------------------------------------------------------------------------------------------------------------------------------------------------------------------------------------------------------------------------------------------------------------------------------------------------------------------------------------------------------------------------------------------------------------------------------------------------------------------------------------------------------------------------------------------------------------------------------------------------------------------------------------------------------------------------------------------------------------------------------------------------------------------------------------------------------------------------------------------------------------------------------------------------------------------------------------------------------------------------------------------------------------------------------------------------------------------------------------------------------------------------------------------------------------------------------------------------------------------------------------------------------------------------------------------------------------------------------------------------------------------------------------------------------------------------------------------------------------------------------------------------------------------------------------------------------------------------------------------------------------------------------------------------------------------------------------------------------------------------------------------------------------------------------------------------------------------------------------------------------------------------------------------------------------------------------------------------------------------------------------------------------------------------------------------------------------------------------------------------------------------------------------------------------------------------------------------------------------------------------------------------------------------------------------------------------------------------------------------------------------------------------------------------------------------------------------------------------------------------------------------------------------------------------------------------------------------------------------------------------------------------------------------------------------------------------------------------------------------------------------------------------------------------------------------------------------------------------------------------------------------------------------------------------------------|\n",
      "| drama     |  724 | [1, 2, 3, 4, 5, 6, 7, 8, 10, 11, 12, 14, 16, 18, 19, 20, 21, 22, 23, 25, 26, 27, 28, 29, 31, 32, 33, 34, 35, 36, 37, 38, 39, 40, 41, 43, 44, 46, 47, 51, 52, 53, 54, 55, 56, 57, 58, 60, 63, 65, 66, 68, 69, 72, 74, 75, 77, 78, 80, 81, 83, 84, 85, 86, 87, 88, 89, 90, 91, 92, 93, 94, 95, 98, 99, 100, 101, 103, 104, 105, 106, 108, 109, 111, 112, 113, 114, 117, 118, 122, 123, 124, 125, 127, 128, 129, 130, 131, 132, 133, 134, 135, 137, 138, 139, 140, 142, 144, 145, 148, 149, 150, 151, 153, 154, 155, 157, 158, 160, 163, 164, 165, 166, 168, 170, 173, 174, 175, 176, 177, 180, 181, 182, 183, 185, 186, 187, 189, 190, 191, 192, 194, 196, 197, 198, 199, 200, 201, 202, 203, 204, 205, 207, 208, 209, 211, 212, 213, 215, 216, 217, 218, 219, 220, 222, 223, 225, 226, 227, 228, 229, 230, 232, 233, 234, 235, 236, 237, 238, 239, 240, 241, 242, 244, 245, 247, 248, 249, 250, 251, 254, 255, 256, 257, 258, 259, 260, 261, 262, 264, 265, 266, 267, 268, 269, 270, 273, 274, 275, 277, 279, 280, 281, 282, 283, 284, 285, 286, 287, 288, 289, 290, 291, 292, 293, 294, 296, 297, 298, 299, 300, 301, 302, 303, 304, 305, 306, 307, 308, 309, 311, 312, 313, 314, 315, 316, 318, 320, 323, 324, 325, 328, 329, 330, 332, 333, 334, 335, 336, 337, 339, 341, 342, 343, 344, 345, 346, 347, 348, 350, 351, 352, 353, 354, 355, 356, 357, 359, 360, 361, 362, 364, 366, 371, 372, 373, 374, 375, 376, 378, 380, 381, 382, 383, 384, 385, 386, 388, 389, 392, 393, 398, 399, 401, 403, 404, 405, 408, 409, 410, 412, 413, 414, 417, 419, 422, 423, 424, 425, 426, 428, 429, 430, 431, 432, 433, 434, 435, 436, 437, 438, 439, 440, 441, 442, 443, 444, 445, 446, 448, 449, 451, 452, 453, 454, 455, 458, 460, 462, 463, 464, 465, 466, 467, 468, 469, 471, 472, 473, 475, 476, 477, 479, 481, 482, 484, 485, 486, 487, 488, 490, 491, 492, 493, 495, 496, 497, 498, 499, 501, 502, 505, 506, 509, 510, 513, 514, 515, 516, 518, 519, 520, 521, 522, 524, 525, 526, 527, 528, 529, 530, 534, 535, 537, 538, 539, 542, 543, 546, 547, 549, 550, 551, 552, 553, 554, 555, 556, 558, 559, 560, 562, 564, 568, 571, 572, 573, 574, 575, 576, 578, 580, 581, 582, 585, 586, 588, 589, 590, 591, 594, 595, 596, 598, 599, 601, 602, 603, 604, 606, 607, 608, 611, 612, 613, 614, 615, 617, 618, 620, 621, 622, 623, 625, 626, 627, 629, 630, 631, 632, 633, 636, 637, 638, 639, 640, 641, 642, 643, 644, 645, 647, 648, 650, 651, 653, 654, 655, 656, 657, 658, 659, 660, 661, 662, 663, 664, 665, 668, 669, 670, 671, 672, 673, 674, 675, 677, 681, 683, 684, 685, 687, 688, 690, 691, 694, 696, 697, 698, 700, 702, 704, 706, 707, 709, 710, 711, 714, 717, 719, 720, 721, 722, 724, 727, 729, 730, 732, 733, 734, 735, 736, 737, 739, 740, 742, 743, 746, 748, 749, 753, 754, 755, 758, 759, 760, 761, 763, 764, 765, 766, 767, 768, 769, 770, 771, 773, 774, 775, 776, 779, 780, 781, 783, 784, 785, 786, 787, 788, 789, 790, 791, 792, 793, 794, 795, 799, 802, 803, 804, 805, 806, 807, 810, 811, 812, 813, 814, 815, 816, 818, 819, 820, 821, 822, 824, 825, 826, 827, 828, 831, 832, 833, 834, 835, 837, 839, 842, 846, 850, 851, 852, 853, 858, 859, 860, 861, 863, 864, 865, 867, 868, 869, 871, 872, 873, 874, 875, 878, 879, 880, 881, 882, 883, 884, 885, 886, 887, 889, 890, 891, 894, 895, 896, 897, 898, 899, 902, 904, 905, 906, 908, 911, 912, 914, 916, 917, 918, 919, 922, 923, 924, 925, 926, 927, 929, 930, 931, 932, 934, 935, 936, 937, 938, 939, 940, 941, 942, 943, 944, 945, 946, 947, 950, 951, 953, 954, 955, 956, 958, 959, 961, 963, 965, 966, 967, 968, 969, 972, 975, 976, 979, 981, 982, 987, 988, 989, 990, 991, 994, 996, 997, 998, 999] |\n",
      "| comedy    |  233 | [20, 27, 36, 48, 52, 53, 65, 79, 84, 96, 97, 102, 113, 118, 121, 128, 129, 132, 133, 136, 138, 141, 147, 152, 154, 161, 162, 167, 170, 178, 179, 184, 193, 194, 195, 205, 206, 208, 209, 210, 214, 215, 222, 230, 234, 239, 241, 243, 246, 251, 252, 253, 257, 262, 267, 278, 285, 295, 312, 314, 317, 319, 321, 323, 326, 328, 331, 340, 349, 367, 368, 375, 380, 382, 391, 393, 397, 400, 404, 414, 415, 418, 428, 436, 446, 447, 450, 456, 460, 461, 464, 465, 467, 470, 471, 472, 473, 474, 476, 482, 491, 495, 500, 501, 504, 510, 515, 517, 527, 529, 531, 532, 533, 534, 539, 540, 542, 548, 558, 559, 563, 564, 566, 570, 575, 577, 588, 592, 594, 595, 597, 599, 601, 614, 627, 628, 631, 634, 641, 652, 658, 661, 663, 668, 676, 679, 680, 681, 682, 684, 686, 688, 702, 705, 712, 716, 718, 723, 727, 728, 731, 733, 734, 740, 741, 744, 751, 753, 755, 757, 761, 762, 772, 777, 781, 787, 790, 795, 798, 799, 800, 801, 802, 804, 806, 807, 809, 815, 816, 817, 818, 820, 823, 827, 829, 831, 836, 837, 838, 843, 847, 849, 856, 870, 871, 872, 880, 885, 888, 893, 898, 907, 908, 909, 913, 936, 938, 946, 954, 958, 968, 970, 971, 973, 974, 976, 978, 979, 985, 990, 992, 995, 996]                                                                                                                                                                                                                                                                                                                                                                                                                                                                                                                                                                                                                                                                                                                                                                                                                                                                                                                                                                                                                                                                                                                                                                                                                                                                                                                                                                                                                                                                                                                                                                                                                                                                                                                                                                                                                                                                                                                                                                                                                                                                                                                                                                                                                                                                                                                                                                                                                                                                                |\n",
      "| crime     |  215 | [2, 3, 4, 5, 7, 16, 23, 26, 28, 29, 34, 38, 42, 43, 54, 56, 72, 78, 80, 87, 88, 97, 104, 109, 112, 113, 114, 124, 126, 133, 134, 137, 141, 143, 148, 154, 156, 161, 162, 163, 164, 165, 166, 170, 181, 187, 188, 190, 197, 199, 202, 210, 219, 223, 225, 233, 240, 242, 244, 252, 253, 256, 258, 262, 264, 285, 288, 289, 295, 299, 300, 306, 309, 327, 333, 336, 338, 346, 357, 364, 365, 370, 376, 381, 385, 387, 391, 395, 398, 417, 419, 425, 438, 439, 442, 443, 445, 450, 451, 452, 456, 461, 464, 466, 475, 481, 485, 486, 488, 495, 506, 511, 513, 520, 521, 524, 528, 547, 557, 561, 570, 578, 585, 587, 598, 603, 604, 605, 606, 608, 609, 612, 621, 622, 623, 631, 640, 649, 654, 664, 665, 666, 667, 670, 675, 677, 681, 688, 696, 697, 703, 709, 711, 719, 724, 760, 763, 764, 768, 769, 775, 776, 783, 792, 796, 798, 803, 810, 812, 815, 824, 828, 834, 837, 848, 850, 851, 853, 854, 870, 883, 886, 889, 894, 896, 897, 902, 907, 909, 910, 919, 922, 923, 927, 932, 939, 940, 950, 952, 954, 955, 959, 961, 969, 971, 973, 975, 978, 980, 981, 984, 986, 988, 990, 1000]                                                                                                                                                                                                                                                                                                                                                                                                                                                                                                                                                                                                                                                                                                                                                                                                                                                                                                                                                                                                                                                                                                                                                                                                                                                                                                                                                                                                                                                                                                                                                                                                                                                                                                                                                                                                                                                                                                                                                                                                                                                                                                                                                                                                                                                                                                                                                                                                                                                                                                                                                                                         |\n",
      "| adventure |  198 | [6, 9, 11, 14, 17, 22, 24, 30, 32, 40, 44, 48, 59, 60, 61, 62, 64, 67, 71, 73, 94, 102, 107, 110, 111, 115, 117, 119, 136, 138, 147, 152, 156, 159, 169, 178, 179, 180, 192, 194, 206, 210, 214, 220, 224, 227, 231, 232, 243, 246, 248, 263, 268, 271, 274, 282, 301, 302, 305, 307, 321, 324, 326, 330, 331, 333, 340, 344, 349, 358, 362, 367, 368, 369, 377, 378, 379, 390, 400, 403, 407, 410, 416, 427, 459, 470, 471, 474, 478, 480, 483, 494, 497, 498, 499, 500, 503, 507, 508, 514, 515, 517, 523, 533, 536, 538, 541, 544, 550, 553, 554, 565, 567, 577, 579, 583, 584, 593, 597, 600, 605, 610, 619, 624, 626, 634, 635, 639, 643, 646, 648, 652, 673, 676, 678, 682, 687, 693, 705, 710, 712, 714, 723, 726, 731, 738, 740, 741, 742, 745, 747, 750, 752, 756, 757, 762, 772, 782, 798, 799, 808, 822, 823, 829, 840, 841, 844, 852, 855, 857, 862, 866, 874, 882, 885, 888, 892, 893, 899, 903, 910, 913, 915, 920, 921, 928, 945, 948, 957, 958, 964, 965, 967, 983, 985, 987, 992, 993]                                                                                                                                                                                                                                                                                                                                                                                                                                                                                                                                                                                                                                                                                                                                                                                                                                                                                                                                                                                                                                                                                                                                                                                                                                                                                                                                                                                                                                                                                                                                                                                                                                                                                                                                                                                                                                                                                                                                                                                                                                                                                                                                                                                                                                                                                                                                                                                                                                                                                                                                                                                                                                                                           |\n",
      "| action    |  191 | [3, 6, 9, 11, 14, 15, 17, 25, 30, 31, 32, 40, 43, 45, 56, 58, 59, 60, 61, 64, 69, 71, 73, 107, 110, 112, 130, 131, 135, 141, 143, 145, 153, 156, 161, 162, 167, 169, 172, 173, 178, 182, 195, 202, 203, 217, 218, 224, 225, 231, 237, 242, 247, 263, 276, 295, 309, 321, 326, 327, 332, 338, 340, 341, 344, 346, 349, 352, 354, 357, 358, 363, 369, 370, 376, 377, 379, 390, 391, 395, 406, 411, 432, 437, 474, 478, 480, 483, 489, 494, 497, 503, 508, 511, 512, 523, 533, 536, 541, 544, 565, 570, 571, 574, 578, 579, 583, 584, 593, 600, 603, 606, 609, 616, 624, 626, 628, 635, 642, 643, 646, 649, 656, 660, 664, 666, 667, 675, 678, 679, 686, 697, 703, 706, 710, 711, 719, 723, 726, 731, 738, 745, 747, 750, 752, 769, 775, 777, 778, 783, 785, 797, 808, 822, 833, 840, 841, 848, 851, 853, 854, 855, 857, 862, 866, 888, 889, 890, 892, 894, 897, 899, 901, 902, 909, 910, 915, 919, 925, 928, 929, 931, 932, 945, 952, 964, 969, 980, 983, 984, 986]                                                                                                                                                                                                                                                                                                                                                                                                                                                                                                                                                                                                                                                                                                                                                                                                                                                                                                                                                                                                                                                                                                                                                                                                                                                                                                                                                                                                                                                                                                                                                                                                                                                                                                                                                                                                                                                                                                                                                                                                                                                                                                                                                                                                                                                                                                                                                                                                                                                                                                                                                                                                                                                                                                                 |\n",
      "| thriller  |  137 | [20, 29, 34, 38, 42, 50, 68, 70, 82, 85, 88, 104, 106, 111, 119, 120, 126, 146, 164, 165, 172, 182, 187, 188, 197, 200, 204, 205, 211, 221, 233, 245, 249, 256, 276, 284, 290, 294, 306, 307, 310, 327, 336, 338, 339, 354, 356, 362, 363, 365, 369, 370, 394, 401, 416, 421, 456, 463, 475, 489, 512, 513, 516, 524, 528, 545, 549, 556, 557, 571, 602, 609, 613, 616, 642, 649, 650, 655, 667, 671, 694, 696, 701, 713, 715, 725, 726, 746, 752, 754, 765, 773, 776, 778, 779, 792, 793, 796, 803, 825, 827, 828, 830, 835, 845, 846, 848, 852, 854, 860, 862, 864, 865, 879, 891, 900, 901, 912, 914, 927, 930, 933, 939, 940, 943, 949, 955, 959, 960, 961, 962, 964, 980, 981, 984, 994, 1000]                                                                                                                                                                                                                                                                                                                                                                                                                                                                                                                                                                                                                                                                                                                                                                                                                                                                                                                                                                                                                                                                                                                                                                                                                                                                                                                                                                                                                                                                                                                                                                                                                                                                                                                                                                                                                                                                                                                                                                                                                                                                                                                                                                                                                                                                                                                                                                                                                                                                                                                                                                                                                                                                                                                                                                                                                                                                                                                                                                               |\n",
      "| young     |  132 | [29, 35, 36, 47, 50, 52, 106, 147, 151, 153, 154, 155, 159, 168, 170, 196, 197, 198, 202, 204, 212, 214, 215, 220, 231, 240, 258, 260, 266, 275, 276, 280, 285, 295, 298, 300, 311, 317, 326, 333, 341, 351, 364, 367, 368, 372, 380, 385, 389, 390, 393, 402, 407, 410, 411, 418, 426, 429, 437, 443, 465, 476, 482, 486, 491, 499, 501, 505, 507, 518, 532, 542, 543, 559, 579, 582, 586, 587, 591, 599, 604, 612, 626, 627, 638, 640, 643, 646, 647, 659, 661, 670, 673, 682, 708, 713, 715, 722, 723, 724, 725, 735, 755, 757, 759, 764, 765, 781, 786, 787, 794, 799, 814, 830, 833, 835, 858, 865, 869, 886, 889, 902, 904, 910, 917, 920, 921, 935, 937, 957, 959, 996]                                                                                                                                                                                                                                                                                                                                                                                                                                                                                                                                                                                                                                                                                                                                                                                                                                                                                                                                                                                                                                                                                                                                                                                                                                                                                                                                                                                                                                                                                                                                                                                                                                                                                                                                                                                                                                                                                                                                                                                                                                                                                                                                                                                                                                                                                                                                                                                                                                                                                                                                                                                                                                                                                                                                                                                                                                                                                                                                                                                                    |\n",
      "| man       |  129 | [12, 21, 26, 36, 50, 59, 70, 77, 88, 118, 123, 129, 137, 139, 168, 181, 186, 198, 202, 211, 213, 216, 225, 230, 244, 254, 260, 264, 269, 274, 277, 283, 285, 289, 295, 296, 308, 310, 311, 314, 315, 320, 323, 326, 332, 349, 351, 352, 353, 354, 364, 371, 374, 380, 383, 386, 392, 394, 399, 405, 419, 421, 424, 442, 461, 468, 475, 485, 486, 496, 499, 503, 504, 510, 512, 525, 558, 559, 584, 587, 589, 591, 592, 596, 620, 626, 629, 638, 643, 644, 646, 655, 659, 693, 711, 727, 747, 755, 783, 787, 789, 799, 805, 819, 835, 838, 841, 843, 859, 864, 865, 869, 871, 872, 877, 884, 896, 918, 920, 922, 927, 935, 938, 960, 965, 969, 979, 996, 1000]                                                                                                                                                                                                                                                                                                                                                                                                                                                                                                                                                                                                                                                                                                                                                                                                                                                                                                                                                                                                                                                                                                                                                                                                                                                                                                                                                                                                                                                                                                                                                                                                                                                                                                                                                                                                                                                                                                                                                                                                                                                                                                                                                                                                                                                                                                                                                                                                                                                                                                                                                                                                                                                                                                                                                                                                                                                                                                                                                                                                                     |\n",
      "| romance   |  126 | [12, 27, 46, 51, 53, 95, 96, 100, 118, 120, 121, 144, 167, 184, 185, 195, 196, 200, 215, 234, 238, 241, 250, 252, 254, 259, 260, 261, 265, 266, 311, 312, 313, 315, 317, 319, 320, 335, 342, 345, 351, 355, 364, 372, 380, 397, 408, 415, 422, 428, 431, 441, 447, 453, 455, 465, 467, 468, 479, 482, 484, 491, 505, 509, 521, 525, 534, 542, 548, 552, 560, 563, 564, 565, 586, 591, 592, 599, 618, 621, 625, 629, 632, 638, 648, 653, 654, 662, 665, 691, 707, 716, 722, 727, 730, 732, 735, 737, 744, 753, 755, 761, 774, 787, 804, 807, 836, 858, 871, 872, 874, 875, 886, 904, 906, 908, 930, 936, 937, 963, 966, 968, 972, 976, 996, 998]                                                                                                                                                                                                                                                                                                                                                                                                                                                                                                                                                                                                                                                                                                                                                                                                                                                                                                                                                                                                                                                                                                                                                                                                                                                                                                                                                                                                                                                                                                                                                                                                                                                                                                                                                                                                                                                                                                                                                                                                                                                                                                                                                                                                                                                                                                                                                                                                                                                                                                                                                                                                                                                                                                                                                                                                                                                                                                                                                                                                                                   |\n",
      "| family    |  111 | [4, 20, 24, 33, 40, 43, 52, 62, 66, 67, 74, 88, 91, 93, 101, 128, 137, 138, 149, 150, 159, 171, 178, 198, 207, 229, 270, 275, 298, 326, 329, 334, 379, 388, 396, 402, 407, 423, 430, 458, 459, 464, 466, 467, 473, 484, 506, 507, 519, 520, 532, 539, 558, 559, 561, 577, 595, 627, 630, 651, 661, 682, 689, 692, 699, 704, 705, 711, 713, 716, 721, 729, 744, 756, 764, 766, 782, 783, 784, 788, 789, 794, 814, 820, 842, 844, 864, 871, 876, 888, 892, 896, 897, 903, 913, 916, 919, 920, 921, 928, 941, 946, 948, 949, 957, 974, 975, 977, 985, 993, 997]                                                                                                                                                                                                                                                                                                                                                                                                                                                                                                                                                                                                                                                                                                                                                                                                                                                                                                                                                                                                                                                                                                                                                                                                                                                                                                                                                                                                                                                                                                                                                                                                                                                                                                                                                                                                                                                                                                                                                                                                                                                                                                                                                                                                                                                                                                                                                                                                                                                                                                                                                                                                                                                                                                                                                                                                                                                                                                                                                                                                                                                                                                                      |\n",
      "| biography |  109 | [8, 16, 19, 36, 39, 55, 58, 103, 108, 117, 132, 140, 143, 148, 158, 160, 174, 177, 213, 216, 217, 218, 219, 229, 232, 236, 244, 264, 277, 283, 291, 299, 318, 324, 329, 339, 343, 347, 352, 359, 360, 361, 366, 373, 374, 386, 412, 417, 419, 425, 430, 485, 526, 537, 541, 543, 546, 550, 576, 580, 587, 588, 596, 601, 605, 607, 615, 623, 633, 636, 639, 645, 650, 651, 658, 660, 672, 674, 685, 687, 703, 730, 749, 754, 758, 760, 767, 771, 780, 810, 811, 816, 821, 832, 850, 859, 878, 883, 890, 898, 911, 916, 924, 925, 941, 950, 953, 986, 988]                                                                                                                                                                                                                                                                                                                                                                                                                                                                                                                                                                                                                                                                                                                                                                                                                                                                                                                                                                                                                                                                                                                                                                                                                                                                                                                                                                                                                                                                                                                                                                                                                                                                                                                                                                                                                                                                                                                                                                                                                                                                                                                                                                                                                                                                                                                                                                                                                                                                                                                                                                                                                                                                                                                                                                                                                                                                                                                                                                                                                                                                                                                         |\n",
      "| life      |  105 | [4, 15, 16, 19, 33, 56, 72, 76, 77, 87, 89, 90, 99, 100, 108, 122, 148, 160, 174, 177, 185, 186, 203, 214, 232, 245, 251, 270, 278, 291, 299, 300, 355, 361, 363, 375, 378, 379, 392, 398, 412, 431, 434, 436, 460, 473, 490, 491, 492, 499, 504, 522, 524, 525, 534, 535, 562, 572, 586, 591, 594, 596, 607, 623, 636, 639, 640, 644, 656, 663, 673, 720, 721, 727, 728, 732, 735, 750, 766, 770, 772, 778, 780, 788, 795, 805, 810, 821, 826, 837, 840, 903, 914, 924, 930, 934, 938, 942, 943, 947, 966, 989, 991, 995, 997]                                                                                                                                                                                                                                                                                                                                                                                                                                                                                                                                                                                                                                                                                                                                                                                                                                                                                                                                                                                                                                                                                                                                                                                                                                                                                                                                                                                                                                                                                                                                                                                                                                                                                                                                                                                                                                                                                                                                                                                                                                                                                                                                                                                                                                                                                                                                                                                                                                                                                                                                                                                                                                                                                                                                                                                                                                                                                                                                                                                                                                                                                                                                                   |\n",
      "| two       |  102 | [1, 7, 13, 14, 23, 28, 30, 37, 57, 58, 65, 85, 113, 116, 162, 166, 167, 171, 175, 178, 182, 184, 192, 230, 233, 237, 240, 254, 262, 265, 269, 271, 275, 285, 286, 289, 299, 302, 312, 316, 320, 332, 345, 371, 391, 406, 419, 420, 432, 446, 451, 465, 479, 509, 510, 513, 529, 536, 555, 557, 566, 579, 589, 600, 605, 649, 663, 669, 677, 681, 685, 693, 698, 705, 707, 708, 711, 732, 746, 761, 763, 769, 774, 791, 793, 817, 831, 848, 856, 902, 906, 910, 923, 933, 947, 949, 959, 963, 971, 980, 994, 995]                                                                                                                                                                                                                                                                                                                                                                                                                                                                                                                                                                                                                                                                                                                                                                                                                                                                                                                                                                                                                                                                                                                                                                                                                                                                                                                                                                                                                                                                                                                                                                                                                                                                                                                                                                                                                                                                                                                                                                                                                                                                                                                                                                                                                                                                                                                                                                                                                                                                                                                                                                                                                                                                                                                                                                                                                                                                                                                                                                                                                                                                                                                                                                  |\n",
      "| mystery   |  100 | [28, 31, 37, 42, 50, 68, 69, 70, 75, 78, 80, 82, 91, 119, 120, 125, 126, 134, 137, 144, 146, 163, 190, 199, 211, 221, 223, 240, 249, 261, 272, 284, 287, 288, 310, 313, 322, 341, 350, 363, 383, 387, 394, 421, 438, 449, 451, 454, 457, 461, 487, 496, 506, 507, 509, 512, 516, 522, 547, 548, 551, 561, 585, 589, 598, 604, 608, 611, 612, 621, 628, 656, 694, 715, 724, 725, 768, 778, 805, 812, 824, 830, 834, 835, 863, 879, 900, 915, 922, 923, 926, 931, 933, 937, 949, 952, 960, 962, 994, 1000]                                                                                                                                                                                                                                                                                                                                                                                                                                                                                                                                                                                                                                                                                                                                                                                                                                                                                                                                                                                                                                                                                                                                                                                                                                                                                                                                                                                                                                                                                                                                                                                                                                                                                                                                                                                                                                                                                                                                                                                                                                                                                                                                                                                                                                                                                                                                                                                                                                                                                                                                                                                                                                                                                                                                                                                                                                                                                                                                                                                                                                                                                                                                                                          |\n",
      "| war       |   94 | [8, 25, 39, 47, 51, 55, 60, 61, 71, 75, 79, 81, 84, 85, 91, 94, 105, 106, 117, 123, 130, 139, 151, 173, 180, 183, 193, 213, 226, 237, 257, 269, 279, 283, 292, 297, 304, 305, 315, 316, 339, 403, 409, 413, 431, 446, 455, 460, 462, 476, 497, 510, 543, 549, 552, 554, 571, 574, 582, 584, 596, 611, 617, 662, 674, 693, 711, 712, 718, 747, 748, 769, 770, 773, 791, 813, 822, 823, 833, 841, 847, 855, 857, 861, 891, 894, 932, 937, 951, 956, 991, 992, 998, 999]                                                                                                                                                                                                                                                                                                                                                                                                                                                                                                                                                                                                                                                                                                                                                                                                                                                                                                                                                                                                                                                                                                                                                                                                                                                                                                                                                                                                                                                                                                                                                                                                                                                                                                                                                                                                                                                                                                                                                                                                                                                                                                                                                                                                                                                                                                                                                                                                                                                                                                                                                                                                                                                                                                                                                                                                                                                                                                                                                                                                                                                                                                                                                                                                             |\n",
      "| john      |   82 | [5, 7, 45, 50, 73, 76, 147, 160, 179, 181, 188, 246, 253, 267, 277, 278, 279, 284, 285, 296, 337, 392, 400, 403, 412, 417, 421, 426, 437, 451, 458, 462, 478, 482, 496, 524, 533, 546, 554, 559, 561, 565, 662, 681, 685, 694, 700, 710, 714, 720, 741, 754, 779, 784, 795, 797, 798, 806, 812, 827, 828, 832, 833, 838, 850, 851, 856, 857, 860, 872, 879, 893, 962, 964, 974, 977, 979, 981, 987, 994, 995, 999]                                                                                                                                                                                                                                                                                                                                                                                                                                                                                                                                                                                                                                                                                                                                                                                                                                                                                                                                                                                                                                                                                                                                                                                                                                                                                                                                                                                                                                                                                                                                                                                                                                                                                                                                                                                                                                                                                                                                                                                                                                                                                                                                                                                                                                                                                                                                                                                                                                                                                                                                                                                                                                                                                                                                                                                                                                                                                                                                                                                                                                                                                                                                                                                                                                                                |\n",
      "| world     |   82 | [6, 8, 21, 24, 30, 39, 47, 65, 94, 106, 111, 117, 151, 155, 170, 180, 204, 213, 220, 337, 339, 345, 351, 379, 394, 409, 431, 446, 452, 455, 460, 462, 472, 474, 475, 477, 495, 497, 514, 525, 538, 543, 574, 580, 582, 591, 594, 596, 597, 611, 624, 626, 633, 646, 662, 689, 712, 738, 742, 747, 756, 763, 770, 772, 773, 784, 823, 833, 836, 857, 882, 883, 892, 895, 898, 937, 948, 956, 960, 965, 986, 999]                                                                                                                                                                                                                                                                                                                                                                                                                                                                                                                                                                                                                                                                                                                                                                                                                                                                                                                                                                                                                                                                                                                                                                                                                                                                                                                                                                                                                                                                                                                                                                                                                                                                                                                                                                                                                                                                                                                                                                                                                                                                                                                                                                                                                                                                                                                                                                                                                                                                                                                                                                                                                                                                                                                                                                                                                                                                                                                                                                                                                                                                                                                                                                                                                                                                   |\n",
      "| animation |   82 | [24, 44, 47, 57, 59, 62, 67, 71, 102, 136, 147, 152, 159, 171, 198, 206, 212, 214, 220, 230, 231, 243, 246, 247, 271, 331, 333, 359, 368, 379, 387, 390, 395, 396, 400, 402, 406, 410, 470, 500, 511, 517, 519, 523, 579, 587, 593, 596, 597, 600, 634, 641, 644, 652, 666, 673, 695, 729, 741, 742, 745, 757, 759, 762, 772, 784, 797, 800, 823, 829, 844, 876, 892, 893, 903, 907, 921, 957, 972, 977, 987, 993]                                                                                                                                                                                                                                                                                                                                                                                                                                                                                                                                                                                                                                                                                                                                                                                                                                                                                                                                                                                                                                                                                                                                                                                                                                                                                                                                                                                                                                                                                                                                                                                                                                                                                                                                                                                                                                                                                                                                                                                                                                                                                                                                                                                                                                                                                                                                                                                                                                                                                                                                                                                                                                                                                                                                                                                                                                                                                                                                                                                                                                                                                                                                                                                                                                                                |\n",
      "| story     |   72 | [16, 77, 86, 92, 102, 117, 135, 143, 148, 150, 152, 154, 219, 274, 296, 308, 324, 334, 335, 343, 347, 354, 365, 366, 373, 374, 376, 386, 401, 407, 439, 467, 475, 497, 498, 515, 517, 519, 526, 532, 535, 563, 576, 578, 580, 586, 587, 597, 605, 613, 615, 618, 629, 630, 633, 645, 651, 687, 774, 780, 795, 832, 859, 890, 898, 908, 910, 916, 937, 941, 950, 953]                                                                                                                                                                                                                                                                                                                                                                                                                                                                                                                                                                                                                                                                                                                                                                                                                                                                                                                                                                                                                                                                                                                                                                                                                                                                                                                                                                                                                                                                                                                                                                                                                                                                                                                                                                                                                                                                                                                                                                                                                                                                                                                                                                                                                                                                                                                                                                                                                                                                                                                                                                                                                                                                                                                                                                                                                                                                                                                                                                                                                                                                                                                                                                                                                                                                                                              |\n",
      "| new       |   69 | [4, 14, 66, 89, 101, 102, 112, 119, 136, 173, 201, 206, 214, 216, 230, 267, 313, 317, 334, 363, 371, 392, 401, 409, 415, 448, 459, 471, 478, 490, 502, 567, 569, 573, 589, 597, 599, 600, 623, 633, 640, 661, 666, 672, 673, 700, 722, 727, 738, 827, 836, 848, 850, 867, 869, 875, 892, 911, 917, 934, 938, 942, 954, 964, 971, 982, 984, 987, 996]                                                                                                                                                                                                                                                                                                                                                                                                                                                                                                                                                                                                                                                                                                                                                                                                                                                                                                                                                                                                                                                                                                                                                                                                                                                                                                                                                                                                                                                                                                                                                                                                                                                                                                                                                                                                                                                                                                                                                                                                                                                                                                                                                                                                                                                                                                                                                                                                                                                                                                                                                                                                                                                                                                                                                                                                                                                                                                                                                                                                                                                                                                                                                                                                                                                                                                                              |\n",
      "\n",
      "1000 documents in collection\n",
      "9900 distinct terms in collection\n",
      "27026 postings\n"
     ]
    }
   ],
   "source": [
    "table.print([collection.format(doc) for doc in retriever.documents.values()], collection.headers(), max_rows = 10)\n",
    "table.print(sorted([[term, df, retriever.index[term]] for term, df in retriever.vocabulary.items()], key=lambda x: -x[1]), ['term', 'df', 'posting'], max_rows=20)\n",
    "\n",
    "print(f'{len(retriever.documents)} documents in collection')\n",
    "print(f'{len(retriever.vocabulary)} distinct terms in collection')\n",
    "print('{count} postings'.format(count=sum([len(postings) for postings in retriever.index.values()])))"
   ]
  },
  {
   "cell_type": "markdown",
   "metadata": {},
   "source": [
    "### Pretty printing functions"
   ]
  },
  {
   "cell_type": "code",
   "execution_count": 13,
   "metadata": {},
   "outputs": [],
   "source": [
    "def print_feedback(feedback: Feedback, func: str, text: str = 'feedback'):\n",
    "    info = \", \".join([('+' if feedback.is_relevant(doc_id) else '-') + str(doc_id) for doc_id in sorted(feedback.assessed, key=lambda doc_id: (not feedback.is_relevant(doc_id), doc_id))])\n",
    "    print(f'{text} ({func}): {info}')\n",
    "\n",
    "def print_topk(topk: TopKList, feedback: Feedback, k: int):\n",
    "    list = []\n",
    "    for entry in topk:\n",
    "        if len(list) >= k: break\n",
    "        list.append(collection.format(retriever.documents[entry['id']], [\n",
    "            '+' if feedback.is_relevant(entry['id']) else '-' if feedback.is_assessed(entry['id']) else ' ',\n",
    "            entry['rank'],\n",
    "            round(entry['score'], 2)\n",
    "        ]))\n",
    "    table.print(list, collection.headers('rel', 'rank', 'score'), max_rows=k)"
   ]
  },
  {
   "cell_type": "markdown",
   "metadata": {},
   "source": [
    "### Provide feedback"
   ]
  },
  {
   "cell_type": "code",
   "execution_count": 14,
   "metadata": {},
   "outputs": [],
   "source": [
    "def add_feedback(feedback, topk, n_feedback):\n",
    "    for entry in topk:\n",
    "        if n_feedback <= 0: return\n",
    "        if feedback.is_assessed(entry['id']): continue\n",
    "        feedback.assess(entry['id'])\n",
    "        n_feedback -= 1\n",
    "    for doc_id in filter(lambda doc_id: not feedback.is_assessed(doc_id), retriever.documents.keys()):\n",
    "        if n_feedback <= 0: return\n",
    "        if feedback.is_assessed(doc_id): continue\n",
    "        feedback.assess(doc_id)\n",
    "        n_feedback -= 1"
   ]
  },
  {
   "attachments": {},
   "cell_type": "markdown",
   "metadata": {},
   "source": [
    "### Search with feedback iterations"
   ]
  },
  {
   "cell_type": "code",
   "execution_count": 15,
   "metadata": {},
   "outputs": [
    {
     "data": {
      "application/vnd.jupyter.widget-view+json": {
       "model_id": "3f502a81bd214099a1c453f4b5aadabf",
       "version_major": 2,
       "version_minor": 0
      },
      "text/plain": [
       "VBox(children=(HBox(children=(Button(description=' start', icon='play', style=ButtonStyle()), Button(descripti…"
      ]
     },
     "metadata": {},
     "output_type": "display_data"
    },
    {
     "data": {
      "application/vnd.jupyter.widget-view+json": {
       "model_id": "0c0344d1912447589eef9092e691c52c",
       "version_major": 2,
       "version_minor": 0
      },
      "text/plain": [
       "Output(layout=Layout(border_bottom='1px solid #eeeeee', border_left='1px solid #eeeeee', border_right='1px sol…"
      ]
     },
     "metadata": {},
     "output_type": "display_data"
    }
   ],
   "source": [
    "from IPython.display import clear_output\n",
    "from functools import reduce\n",
    "\n",
    "feedback = Feedback()\n",
    "\n",
    "def run_query(query: str, k: int, assessment: str, predicate: str, selection: str, n_feedback: int):\n",
    "    global topk\n",
    "    feedback.assessment_func = assessments.get(assessment, None)\n",
    "    print_feedback(feedback, assessment)\n",
    "    print()\n",
    "    topk = retriever.search(query, k, feedback=feedback, predicate=predicates.get(predicate, None), selected_docs=selections.get(selection, None))\n",
    "    add_feedback(feedback, topk, n_feedback)\n",
    "    print_topk(topk, feedback, k)\n",
    "    for term in sorted(topk.weights.keys(), key = lambda term: -topk.weights[term]):\n",
    "        print(term.rjust(16), topk.weights[term])\n",
    "    print_feedback(feedback, assessment, \"\\nnext feedback\")\n",
    "\n",
    "def on_next(btn):\n",
    "    retriever.PRUNE_NEGATIVE_WEIGHTS = opt_neg.value\n",
    "    retriever.PRUNE_WEIGHT_THRESHOLD = opt_small.value and 0.5\n",
    "    retriever.PRUNE_TOPK = opt_topk.value and 10\n",
    "    retriever.PRUNE_NON_RELEVANT = opt_nonrel.value\n",
    "    if opt_expand.value:\n",
    "        query_text = query.value + ' ' + ' '.join(reduce(lambda terms, doc_id: terms | retriever.documents[doc_id]['vector'], feedback.relevant, set()))\n",
    "    else:\n",
    "        query_text = query.value\n",
    "    with out:\n",
    "        clear_output()\n",
    "        print(query_text)\n",
    "        run_query(query_text, 20, assessment.value, predicate.value, selection.value, n_feedback.value)\n",
    "\n",
    "def on_start(btn):\n",
    "    feedback.clear()\n",
    "    on_next(btn)\n",
    "\n",
    "# buttons\n",
    "btn_start = widgets.Button(description=' start', icon='play')\n",
    "btn_start.on_click(on_start)\n",
    "btn_next = widgets.Button(description=' next', icon='step-forward')\n",
    "btn_next.on_click(on_next)\n",
    "buttons = widgets.HBox([btn_start, btn_next])\n",
    "\n",
    "# query left side\n",
    "query=widgets.Dropdown(description='query',options=list(queries))\n",
    "assessment=widgets.Dropdown(description='assessment',options=['<none>'] + list(assessments.keys()))\n",
    "n_feedback=widgets.IntSlider(description='feedback', min=5, max=50, step=5, value=5)\n",
    "predicate=widgets.Dropdown(description='predicate',options=['<none>'] + list(predicates.keys()))\n",
    "selection=widgets.Dropdown(description='selection',options=['<none>'] + list(selections.keys()))\n",
    "left = widgets.VBox([query, assessment, n_feedback, predicate, selection])\n",
    "\n",
    "# options right side\n",
    "opt_neg = widgets.Checkbox(value=False, description='prune negative weights')\n",
    "opt_small = widgets.Checkbox(value=False, description='prune small weights (abs < 0.5)')\n",
    "opt_topk = widgets.Checkbox(value=False, description='keep top 10 weights')\n",
    "opt_nonrel = widgets.Checkbox(value=False, description='prune non relevant documents')\n",
    "opt_expand = widgets.Checkbox(value=False, description='expand query with feedback')\n",
    "right = widgets.VBox([opt_neg, opt_small, opt_topk, opt_nonrel, opt_expand])\n",
    "\n",
    "# display the dialog object\n",
    "display(widgets.VBox([buttons, widgets.HBox([left, right], layout={'margin': '20px'})]))\n",
    "\n",
    "# capture output with this widget\n",
    "out = widgets.Output(layout={'border': '1px solid #eeeeee', 'height': '500px', 'overflow': 'auto', 'padding': '0px 0px 0px 10px'})\n",
    "display(out)"
   ]
  },
  {
   "cell_type": "markdown",
   "metadata": {},
   "source": [
    "### What's next?"
   ]
  }
 ],
 "metadata": {
  "kernelspec": {
   "display_name": "Python 3",
   "language": "python",
   "name": "python3"
  },
  "language_info": {
   "codemirror_mode": {
    "name": "ipython",
    "version": 3
   },
   "file_extension": ".py",
   "mimetype": "text/x-python",
   "name": "python",
   "nbconvert_exporter": "python",
   "pygments_lexer": "ipython3",
   "version": "3.10.10"
  },
  "orig_nbformat": 4
 },
 "nbformat": 4,
 "nbformat_minor": 2
}
