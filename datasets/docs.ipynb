{
 "cells": [
  {
   "cell_type": "markdown",
   "metadata": {},
   "source": [
    "## Random animal data set"
   ]
  },
  {
   "cell_type": "code",
   "execution_count": 24,
   "metadata": {},
   "outputs": [
    {
     "data": {
      "text/plain": [
       "[{'id': 1, 'text': 'dog ostrich bear lion bird'},\n",
       " {'id': 2, 'text': 'dog horse rabit ostrich tiger bird'},\n",
       " {'id': 3, 'text': 'rabit lion'},\n",
       " {'id': 4, 'text': 'bear'},\n",
       " {'id': 5, 'text': 'dog cat bear lion'},\n",
       " {'id': 6, 'text': 'ostrich bear lion'},\n",
       " {'id': 7, 'text': 'dog cat ostrich bear'},\n",
       " {'id': 8, 'text': 'dog horse rabit ostrich'},\n",
       " {'id': 9, 'text': 'bear tiger lion bird'},\n",
       " {'id': 10, 'text': 'cat horse rabit bird'},\n",
       " {'id': 11, 'text': 'cat ostrich'},\n",
       " {'id': 12, 'text': 'cat'},\n",
       " {'id': 13, 'text': 'dog cat horse rabit bird'},\n",
       " {'id': 14, 'text': 'cat tiger bird'},\n",
       " {'id': 15, 'text': 'dog horse rabit'},\n",
       " {'id': 16, 'text': 'cat horse rabit ostrich'},\n",
       " {'id': 17, 'text': 'dog cat tiger'},\n",
       " {'id': 18, 'text': 'dog horse rabit'},\n",
       " {'id': 19, 'text': 'dog bear tiger'},\n",
       " {'id': 20, 'text': 'dog cat horse tiger lion'}]"
      ]
     },
     "execution_count": 24,
     "metadata": {},
     "output_type": "execute_result"
    }
   ],
   "source": [
    "import random\n",
    "\n",
    "nDocs = 20\n",
    "\n",
    "# create a set of documents with random number of terms\n",
    "terms = ['dog', 'cat', 'horse', 'rabit', 'ostrich', 'bear', 'tiger', 'lion', 'bird']\n",
    "dfs = [nDocs * max(int(100 // (i + 3) ** 0.5), 1) // 100 for i, _ in enumerate(terms)]\n",
    "index = [[] for _ in range(nDocs)]\n",
    "for term, df in zip(terms, dfs):\n",
    "    for i in sorted(random.sample(range(nDocs), df)):\n",
    "        tf = random.randint(1, 1)\n",
    "        index[i].extend([term] * tf)\n",
    "documents = [{'id': doc_id, 'text': ' '.join(index[doc_id - 1])} for doc_id in range(1, nDocs + 1)]\n",
    "\n",
    "documents"
   ]
  },
  {
   "cell_type": "markdown",
   "metadata": {},
   "source": [
    "## IMDB Movies data set\n",
    "\n",
    "[Link to source](https://www.kaggle.com/datasets/harshitshankhdhar/imdb-dataset-of-top-1000-movies-and-tv-shows)\n",
    "\n",
    "##### **Usage**\n",
    "```\n",
    "from datasets.docs import imdb\n",
    "data = imdb.load()\n",
    "```\n",
    "\n",
    "##### **Format**\n",
    "```\n",
    "Document = TypedDict('Document', {'id': int, 'title': str, 'year': int, 'runtime': int, 'rating': float, 'genre': str, 'actors': str, 'summary': str})\n",
    "DocumentCollection = dict[int, Document]\n",
    "```\n",
    "The data set contains 1000 movie titles with the document ids as keys and the following properties for `MovieDoc`.\n",
    "| name | example|\n",
    "|----|----|\n",
    "| id        | 1 |\n",
    "| title     | The Shawshank Redemption |\n",
    "| year      | 1994 |\n",
    "| runtime   | 142 |\n",
    "| rating    | 9.3 |\n",
    "| genre     | Drama |\n",
    "| actors    | Tim Robbins Morgan Freeman Bob Gunton William Sadler |\n",
    "| summary   | Two imprisoned men bond over a number of years finding solace and eventual redemption through acts of common decency |\n"
   ]
  },
  {
   "cell_type": "code",
   "execution_count": 37,
   "metadata": {},
   "outputs": [
    {
     "name": "stdout",
     "output_type": "stream",
     "text": [
      "<class 'pandas.core.frame.DataFrame'>\n",
      "RangeIndex: 1000 entries, 0 to 999\n",
      "Data columns (total 8 columns):\n",
      " #   Column   Non-Null Count  Dtype  \n",
      "---  ------   --------------  -----  \n",
      " 0   id       1000 non-null   int64  \n",
      " 1   title    1000 non-null   object \n",
      " 2   year     1000 non-null   int64  \n",
      " 3   runtime  1000 non-null   int32  \n",
      " 4   rating   1000 non-null   float64\n",
      " 5   genre    1000 non-null   object \n",
      " 6   actors   1000 non-null   object \n",
      " 7   summary  1000 non-null   object \n",
      "dtypes: float64(1), int32(1), int64(2), object(4)\n",
      "memory usage: 58.7+ KB\n"
     ]
    },
    {
     "data": {
      "text/plain": [
       "[{'id': 1,\n",
       "  'title': 'The Shawshank Redemption',\n",
       "  'year': 1994,\n",
       "  'runtime': 142,\n",
       "  'rating': 9.3,\n",
       "  'genre': 'Drama',\n",
       "  'actors': 'Tim Robbins Morgan Freeman Bob Gunton William Sadler',\n",
       "  'summary': 'Two imprisoned men bond over a number of years, finding solace and eventual redemption through acts of common decency.'},\n",
       " {'id': 2,\n",
       "  'title': 'The Godfather',\n",
       "  'year': 1972,\n",
       "  'runtime': 175,\n",
       "  'rating': 9.2,\n",
       "  'genre': 'Crime Drama',\n",
       "  'actors': 'Marlon Brando Al Pacino James Caan Diane Keaton',\n",
       "  'summary': \"An organized crime dynasty's aging patriarch transfers control of his clandestine empire to his reluctant son.\"},\n",
       " {'id': 3,\n",
       "  'title': 'The Dark Knight',\n",
       "  'year': 2008,\n",
       "  'runtime': 152,\n",
       "  'rating': 9.0,\n",
       "  'genre': 'Action Crime Drama',\n",
       "  'actors': 'Christian Bale Heath Ledger Aaron Eckhart Michael Caine',\n",
       "  'summary': 'When the menace known as the Joker wreaks havoc and chaos on the people of Gotham, Batman must accept one of the greatest psychological and physical tests of his ability to fight injustice.'}]"
      ]
     },
     "execution_count": 37,
     "metadata": {},
     "output_type": "execute_result"
    }
   ],
   "source": [
    "import pandas as pd\n",
    "\n",
    "df = pd.read_csv('docs/imdb_top_1000.csv')\n",
    "df.drop(['Poster_Link', 'Certificate', 'Meta_score', 'Director', 'No_of_Votes', 'Gross'], axis=1, inplace=True)\n",
    "\n",
    "# rename columns to produce dictionary\n",
    "df.rename(columns={'Series_Title': 'title'}, inplace=True)\n",
    "df.rename(columns={'Released_Year': 'year'}, inplace=True)\n",
    "df.rename(columns={'Runtime': 'runtime'}, inplace=True)\n",
    "df.rename(columns={'Genre': 'genre'}, inplace=True)\n",
    "df.rename(columns={'IMDB_Rating': 'rating'}, inplace=True)\n",
    "df.rename(columns={'Overview': 'summary'}, inplace=True)\n",
    "\n",
    "# replace content\n",
    "df['runtime'].replace(to_replace=r'(\\d*) min', value=r'\\1', regex=True, inplace=True)\n",
    "df['genre'].replace(r',', '', regex=True, inplace=True)\n",
    "df['actors'] = df[['Star1', 'Star2', 'Star3', 'Star4']].apply(lambda x: ' '.join(x), axis=1)\n",
    "\n",
    "# convert to target type\n",
    "df['runtime'] = df['runtime'].astype(int)\n",
    "df.drop(['Star1', 'Star2', 'Star3', 'Star4'], axis=1, inplace=True)\n",
    "\n",
    "# reorder columns\n",
    "df = df[['title', 'year', 'runtime', 'rating', 'genre', 'actors', 'summary']]\n",
    "\n",
    "# show result\n",
    "df.info()\n",
    "df.to_dict('records')[:3]\n"
   ]
  }
 ],
 "metadata": {
  "kernelspec": {
   "display_name": "Python 3",
   "language": "python",
   "name": "python3"
  },
  "language_info": {
   "codemirror_mode": {
    "name": "ipython",
    "version": 3
   },
   "file_extension": ".py",
   "mimetype": "text/x-python",
   "name": "python",
   "nbconvert_exporter": "python",
   "pygments_lexer": "ipython3",
   "version": "3.10.10"
  },
  "orig_nbformat": 4
 },
 "nbformat": 4,
 "nbformat_minor": 2
}
